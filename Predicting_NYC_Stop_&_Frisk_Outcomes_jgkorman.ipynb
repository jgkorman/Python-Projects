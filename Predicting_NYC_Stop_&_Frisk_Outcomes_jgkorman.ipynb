{
  "nbformat": 4,
  "nbformat_minor": 0,
  "metadata": {
    "colab": {
      "name": "mlpp22_assignment_05_jgkorman.ipynb",
      "provenance": [],
      "collapsed_sections": [],
      "include_colab_link": true
    },
    "kernelspec": {
      "name": "python3",
      "display_name": "Python 3"
    }
  },
  "cells": [
    {
      "cell_type": "markdown",
      "metadata": {
        "id": "view-in-github",
        "colab_type": "text"
      },
      "source": [
        "<a href=\"https://colab.research.google.com/github/jgkorman/Python-Projects/blob/main/Predicting_NYC_Stop_%26_Frisk_Outcomes_jgkorman.ipynb\" target=\"_parent\"><img src=\"https://colab.research.google.com/assets/colab-badge.svg\" alt=\"Open In Colab\"/></a>"
      ]
    },
    {
      "cell_type": "markdown",
      "metadata": {
        "id": "gdimg1zpzbzB"
      },
      "source": [
        "# **MLPP22 // Assignment #5**\n",
        "\n",
        "assigned : **Apr 20, 2022**\n",
        "\n",
        "DUE : **Apr 27, 2022 11:59pm**\n",
        "\n",
        "## NYC Stop and Frisk: predictors of outcomes\n",
        "\n",
        "<img src=\"https://i1.wp.com/www.nationalreview.com/wp-content/uploads/2018/01/new-york-city-stop-and-frisk-crime-decline-conservatives-wrong-1.jpg?fit=789%2C460&ssl=1\" width=500x>\n",
        "\n",
        "---"
      ]
    },
    {
      "cell_type": "markdown",
      "metadata": {
        "id": "mgdZJmYA0Frh"
      },
      "source": [
        "NYC's *Stop, Question, and Frisk* is a program/practice by the New York Police Department in which officers approach, temporarily detain, and (in some cases) frisk civilians on the street for weapons or contraband.  The program's implementation has been highly controversial with accusations of racial profiling and bias, and in 2013 a US federal judge found that the program had been carried out in a way that violated the US Constitution.  Using publicly available Stop and Frisk [data](https://www1.nyc.gov/site/nypd/stats/reports-analysis/stopfrisk.page), in this assignment you will expore the ability of Random Forest models to predict whether, for those stops in which a suspect was suspected of having a weapon, a weapon is likely to have been found (an analysis related to the one carried out in [Goel, Rao, & Shroff, 2016](https://projecteuclid.org/journals/annals-of-applied-statistics/volume-10/issue-1/Precinct-or-prejudice-Understanding-racial-disparities-in-New-York-Citys/10.1214/15-AOAS897.full)).\n",
        "\n",
        "<u>**Instructions for tasks that will be graded are in bold below.**</u>"
      ]
    },
    {
      "cell_type": "markdown",
      "metadata": {
        "id": "mjduiFSrLBRt"
      },
      "source": [
        "---"
      ]
    },
    {
      "cell_type": "markdown",
      "metadata": {
        "id": "tAHDE3ZLLELR"
      },
      "source": [
        "**Please list the names of the other students with whom you worked for this assignment (if none, put \"None\").**"
      ]
    },
    {
      "cell_type": "markdown",
      "metadata": {
        "id": "MKozmli0LBI-"
      },
      "source": [
        "None "
      ]
    },
    {
      "cell_type": "markdown",
      "metadata": {
        "id": "H_GEyPg6LA3c"
      },
      "source": [
        "---"
      ]
    },
    {
      "cell_type": "markdown",
      "metadata": {
        "id": "GL6_27VX0HY1"
      },
      "source": [
        "### **Part 1 - Background**\n",
        "\n",
        "**<u>In your own words</u>, provide a brief (~400-500 words) descriptive overview of the NYC Stop and Frisk program, its implementation, and its reception.  Please include *references* within the description via weblinks.**"
      ]
    },
    {
      "cell_type": "markdown",
      "metadata": {
        "id": "j3uVa_kT0qUR"
      },
      "source": [
        "[In general, stop annd frisk programs are programs and policing tactics employed to temporarily detain, question, and frisk individuals in search of weapons and or illicit substances](https://bridge.georgetown.edu/research/factsheet-nypd-stop-and-frisk-policy/). For NYC, the city first employed the tactic under Mayor Rudi Giuliani from 1994 through 2001 all the ways through then Mayor Michael Bloomberg's term from 2002-2013. The stop and frisk strategy was able to develop and flourish during this time as it coincided with the adoption of a data driven [Compstat management system](https://www.nytimes.com/2019/11/17/nyregion/bloomberg-stop-and-frisk-new-york.html) in the 1990s that enabled the police to track and respond to crime trends in real time. \n",
        "\n",
        "\n",
        "The program during its time in operation in NYC has [known bias](https://bridge.georgetown.edu/research/factsheet-nypd-stop-and-frisk-policy/) as it disproportionately impacted Black & Latino communities while at the same time causing fear to spike amongst these very same communities as the people within these communities were known targets. [To give a concrete example, in 1999, Blacks & Latinos made up nearly 50% of NYC's population but accounted for almost 84% of the city's stop and frisk stops. ](https://civilrights.org/edfund/resource/nypds-infamous-stop-and-frisk-policy-found-unconstitutional/). \n",
        "\n",
        "When the program was at its peak in NYC, there were over 685,000 people stopped while almost 88% of those stopped were ultimately found to be innocent. As a result, NYPD nonetheless faced accusations of bias and the program was ultimately found [unconstitutional](https://bridge.georgetown.edu/research/factsheet-nypd-stop-and-frisk-policy/) 2013 due to racial profiling. [Judge Shira A. Scheindlin](https://civilrights.org/edfund/resource/nypds-infamous-stop-and-frisk-policy-found-unconstitutional/) was the judge who handed down the verdict while claiming that NYPD's stop and firsk program violated the US Constitution's 4th Amendment prohibition of unreasonable search & seizure. \n",
        "\n",
        "The [New York Times](https://www.nytimes.com/2019/11/17/nyregion/bloomberg-stop-and-frisk-new-york.html) in an article written in 2019 claimed that former Mayor Michael Bloomberg apologized for his role in overseeing the expanion of the program as Mayor. He did this in the context to rectify his actions in hopes to attain the Democratic Presidential Primary Bid for the 2020 election. Mayor Bloomberg ultimately noted as well that his actions contributed to the erosion of trust in the police in black and Latino neighborhoods. To put it shortly, for folks living in these communities, reception towards the program was not warm at all. It put these individuals in a heightened state of fear. To contextualize this, Jenn Borchetta -- the director of impact litigation at the Bronx Defenders was quoted as saying [\"the temperature in the city at the time was that police were at war with black and brown people on the streets\". ](https://www.nytimes.com/2019/11/17/nyregion/bloomberg-stop-and-frisk-new-york.html). \n",
        "\n",
        "In conclusion, for NYC and its Black and Latino residents, it appears that although the measure was ruled unconstiutional -- [newly elected Mayor Eric Adams defended the procedure after two police officers were shot while questioning a suspect.](https://www.police1.com/patrol-issues/articles/nyc-mayor-elect-eric-adams-why-we-need-stop-and-frisk-policing-iLoqr9ga4eeJYE3b/) He also quotes that he know's how personally dangerous NYC streets can be as a former NYPD cop himself. It remains to be determined the continual impact of stop and frisk measures on NYC and its population, even after being ruled unconstitutional it appears prominent actors still want to make use of the policy in some respects.  \n"
      ]
    },
    {
      "cell_type": "markdown",
      "metadata": {
        "id": "p6VBIzMl0rUX"
      },
      "source": [
        "### **Part 2 - Loading and Cleaning data**"
      ]
    },
    {
      "cell_type": "code",
      "source": [
        "from google.colab import drive\n",
        "drive.mount('/content/drive')"
      ],
      "metadata": {
        "colab": {
          "base_uri": "https://localhost:8080/"
        },
        "id": "oJN-g4Aolvdi",
        "outputId": "247aadcd-67a4-4e6d-84d6-7a04fff1630b"
      },
      "execution_count": null,
      "outputs": [
        {
          "output_type": "stream",
          "name": "stdout",
          "text": [
            "Drive already mounted at /content/drive; to attempt to forcibly remount, call drive.mount(\"/content/drive\", force_remount=True).\n"
          ]
        }
      ]
    },
    {
      "cell_type": "code",
      "source": [
        "import pandas as pd\n",
        "import matplotlib.pyplot as plt\n",
        "import numpy as np\n"
      ],
      "metadata": {
        "id": "v3H-uiHsl30E"
      },
      "execution_count": null,
      "outputs": []
    },
    {
      "cell_type": "markdown",
      "metadata": {
        "id": "nw67TR2-4i-Y"
      },
      "source": [
        "**Read in the 2010 stop and frisk data from  `mlpp22/data/stop_and_frisk/` into a DataFrame called `sqf` setting `low_memory=False` in `pd.read_csv`.**"
      ]
    },
    {
      "cell_type": "code",
      "metadata": {
        "id": "hOEtY54gEItH"
      },
      "source": [
        "fname = \"/content/drive/MyDrive/mlpp22/data/stop_and_frisk/2010.csv\"\n",
        "sqf = pd.read_csv(fname, low_memory=False)\n"
      ],
      "execution_count": null,
      "outputs": []
    },
    {
      "cell_type": "markdown",
      "metadata": {
        "id": "YXQ9zdQkh3CD"
      },
      "source": [
        "**Looking at the \"Data Dictionary\" in the link above (i.e., the SQF file documentation found** [here](https://www1.nyc.gov/assets/nypd/downloads/zip/analysis_and_planning/stop-question-frisk/SQF-File-Documentation.zip)**) drop all columns except:**\n",
        "\n",
        "<b>\n",
        "\n",
        "1. the period of observation\n",
        "2. whether the stop was made inside or outside\n",
        "3. columns that indicate that a weapon was found on the subject\n",
        "4. columns related to whether the subject was suspected of carrying a weapon\n",
        "5. the subject's sex\n",
        "6. the subject's age\n",
        "7. the subject's race\n",
        "\n",
        "</b>"
      ]
    },
    {
      "cell_type": "markdown",
      "source": [
        "**Data Dictionary:** \n",
        "\n",
        "**VARIABLE NAME | & DSCRIPTION\n",
        "\n",
        "*   datestop | the date of the stop and frisk\n",
        "*   inout | was stop inside or outside?\n",
        "*  perobs | period of observation\n",
        "*  pistol | was a pistol found on suspect? \n",
        "*  riflshot | was a rifle found on suspect? \n",
        "* asltweap | was assault weapon found on suspect?\n",
        "* knifcuti | was a knife or cutting instrument found on subject?\n",
        "* machgun | was a machine gune found on suspect?\n",
        "* otherweap | was another type of weapon found on suspect?\n",
        "* cs_objcs | Reason for stop -- Carrying a suspicious object\n",
        "* sb_outln | Basis of search -- outline of weapon\n",
        "* rf_othsw | reason for frisk -- other suspicion of weapons\n",
        "* sex | the sex of suspect\n",
        "* age | age of suspect\n",
        "* race | race of suspect \n",
        "\n"
      ],
      "metadata": {
        "id": "K0beznuQ2KIw"
      }
    },
    {
      "cell_type": "code",
      "metadata": {
        "id": "R9rJ9ABy2k2O"
      },
      "source": [
        "\n",
        "sqf = sqf[['inout', 'perobs', 'pistol', 'riflshot', 'asltweap', 'knifcuti', 'machgun', 'othrweap', 'cs_objcs', 'sb_outln', 'rf_othsw', 'sex', 'age', 'race']]\n"
      ],
      "execution_count": null,
      "outputs": []
    },
    {
      "cell_type": "markdown",
      "metadata": {
        "id": "bKS8UuEKjbMr"
      },
      "source": [
        "**Convert all binary columns (i.e., columns with categories that only have two possible values) to 1s and 0s.**"
      ]
    },
    {
      "cell_type": "code",
      "metadata": {
        "id": "6TCrtgvOB2I_",
        "colab": {
          "base_uri": "https://localhost:8080/"
        },
        "outputId": "3fb56c55-8f8f-4d82-962c-25f2f9439f77"
      },
      "source": [
        "print(sqf['inout'].unique())\n",
        "print(sqf['pistol'].unique())\n",
        "print(sqf['riflshot'].unique())\n",
        "print(sqf['asltweap'].unique())\n",
        "print(sqf['knifcuti'].unique())\n",
        "print(sqf['machgun'].unique())\n",
        "print(sqf['othrweap'].unique())\n",
        "print(sqf['cs_objcs'].unique())\n",
        "print(sqf['sb_outln'].unique())\n",
        "print(sqf['rf_othsw'].unique())\n",
        "print(sqf['sex'].unique())\n",
        "\n",
        "binary = ['inout', 'pistol', 'riflshot', 'asltweap', 'knifcuti', 'machgun', 'othrweap', 'cs_objcs', 'sb_outln', 'rf_othsw']\n",
        "\n",
        "sqf = pd.get_dummies(sqf, columns=binary)\n"
      ],
      "execution_count": null,
      "outputs": [
        {
          "output_type": "stream",
          "name": "stdout",
          "text": [
            "['O' 'I']\n",
            "['N' 'Y']\n",
            "['N' 'Y']\n",
            "['N' 'Y']\n",
            "['N' 'Y']\n",
            "['N' 'Y']\n",
            "['N' 'Y']\n",
            "['N' 'Y']\n",
            "['N' 'Y']\n",
            "['N' 'Y']\n",
            "['M' 'F' 'Z']\n"
          ]
        }
      ]
    },
    {
      "cell_type": "markdown",
      "metadata": {
        "id": "a__6Gh8_kBs6"
      },
      "source": [
        "**Only keep rows that indicate that a suspect might have been suspected of carrying a weapon.**"
      ]
    },
    {
      "cell_type": "code",
      "metadata": {
        "id": "WmD9d718Dqdr",
        "colab": {
          "base_uri": "https://localhost:8080/",
          "height": 487
        },
        "outputId": "9430d260-5eb7-49c7-abe1-d43b60d0c745"
      },
      "source": [
        "# creating boolean index values for various columns that indicated if a suspect may be carrying a weapon \n",
        "weap_other = sqf['rf_othsw_Y'] == 1 \n",
        "weap_outline = sqf['sb_outln_Y'] == 1\n",
        "weap_suspicious = sqf['cs_objcs_Y'] == 1\n",
        "\n",
        "# combining the boolean index values with OR logic to get only rows where there was a possibility of suspect carrying a weapon of somesort\n",
        "suspected_weapon = weap_other | weap_outline | weap_suspicious\n",
        "sqf = sqf[suspected_weapon]\n",
        "sqf"
      ],
      "execution_count": null,
      "outputs": [
        {
          "output_type": "execute_result",
          "data": {
            "text/plain": [
              "        perobs sex  age race  inout_I  inout_O  pistol_N  pistol_Y  \\\n",
              "2            1   M   55    Q        1        0         1         0   \n",
              "5            5   M   57    Q        1        0         1         0   \n",
              "13           4   M   63    B        1        0         1         0   \n",
              "59           4   M   20    B        0        1         1         0   \n",
              "93          20   F   30    Q        0        1         1         0   \n",
              "...        ...  ..  ...  ...      ...      ...       ...       ...   \n",
              "601205       5   M   17    B        1        0         1         0   \n",
              "601227       5   M   42    Z        0        1         1         0   \n",
              "601228       5   M   60    Z        0        1         1         0   \n",
              "601234       1   M   52    B        0        1         1         0   \n",
              "601278       1   M   17    Q        1        0         1         0   \n",
              "\n",
              "        riflshot_N  riflshot_Y  ...  machgun_N  machgun_Y  othrweap_N  \\\n",
              "2                1           0  ...          1          0           1   \n",
              "5                1           0  ...          1          0           1   \n",
              "13               1           0  ...          1          0           1   \n",
              "59               1           0  ...          1          0           1   \n",
              "93               1           0  ...          1          0           1   \n",
              "...            ...         ...  ...        ...        ...         ...   \n",
              "601205           1           0  ...          1          0           1   \n",
              "601227           1           0  ...          1          0           1   \n",
              "601228           1           0  ...          1          0           1   \n",
              "601234           1           0  ...          1          0           1   \n",
              "601278           1           0  ...          1          0           1   \n",
              "\n",
              "        othrweap_Y  cs_objcs_N  cs_objcs_Y  sb_outln_N  sb_outln_Y  \\\n",
              "2                0           1           0           1           0   \n",
              "5                0           0           1           1           0   \n",
              "13               0           0           1           1           0   \n",
              "59               0           1           0           1           0   \n",
              "93               0           1           0           1           0   \n",
              "...            ...         ...         ...         ...         ...   \n",
              "601205           0           1           0           0           1   \n",
              "601227           0           1           0           1           0   \n",
              "601228           0           1           0           1           0   \n",
              "601234           0           1           0           1           0   \n",
              "601278           0           1           0           0           1   \n",
              "\n",
              "        rf_othsw_N  rf_othsw_Y  \n",
              "2                0           1  \n",
              "5                1           0  \n",
              "13               1           0  \n",
              "59               0           1  \n",
              "93               0           1  \n",
              "...            ...         ...  \n",
              "601205           0           1  \n",
              "601227           0           1  \n",
              "601228           0           1  \n",
              "601234           0           1  \n",
              "601278           1           0  \n",
              "\n",
              "[37956 rows x 24 columns]"
            ],
            "text/html": [
              "\n",
              "  <div id=\"df-6506b837-b4a8-4b24-aef9-f59e46d11cbf\">\n",
              "    <div class=\"colab-df-container\">\n",
              "      <div>\n",
              "<style scoped>\n",
              "    .dataframe tbody tr th:only-of-type {\n",
              "        vertical-align: middle;\n",
              "    }\n",
              "\n",
              "    .dataframe tbody tr th {\n",
              "        vertical-align: top;\n",
              "    }\n",
              "\n",
              "    .dataframe thead th {\n",
              "        text-align: right;\n",
              "    }\n",
              "</style>\n",
              "<table border=\"1\" class=\"dataframe\">\n",
              "  <thead>\n",
              "    <tr style=\"text-align: right;\">\n",
              "      <th></th>\n",
              "      <th>perobs</th>\n",
              "      <th>sex</th>\n",
              "      <th>age</th>\n",
              "      <th>race</th>\n",
              "      <th>inout_I</th>\n",
              "      <th>inout_O</th>\n",
              "      <th>pistol_N</th>\n",
              "      <th>pistol_Y</th>\n",
              "      <th>riflshot_N</th>\n",
              "      <th>riflshot_Y</th>\n",
              "      <th>...</th>\n",
              "      <th>machgun_N</th>\n",
              "      <th>machgun_Y</th>\n",
              "      <th>othrweap_N</th>\n",
              "      <th>othrweap_Y</th>\n",
              "      <th>cs_objcs_N</th>\n",
              "      <th>cs_objcs_Y</th>\n",
              "      <th>sb_outln_N</th>\n",
              "      <th>sb_outln_Y</th>\n",
              "      <th>rf_othsw_N</th>\n",
              "      <th>rf_othsw_Y</th>\n",
              "    </tr>\n",
              "  </thead>\n",
              "  <tbody>\n",
              "    <tr>\n",
              "      <th>2</th>\n",
              "      <td>1</td>\n",
              "      <td>M</td>\n",
              "      <td>55</td>\n",
              "      <td>Q</td>\n",
              "      <td>1</td>\n",
              "      <td>0</td>\n",
              "      <td>1</td>\n",
              "      <td>0</td>\n",
              "      <td>1</td>\n",
              "      <td>0</td>\n",
              "      <td>...</td>\n",
              "      <td>1</td>\n",
              "      <td>0</td>\n",
              "      <td>1</td>\n",
              "      <td>0</td>\n",
              "      <td>1</td>\n",
              "      <td>0</td>\n",
              "      <td>1</td>\n",
              "      <td>0</td>\n",
              "      <td>0</td>\n",
              "      <td>1</td>\n",
              "    </tr>\n",
              "    <tr>\n",
              "      <th>5</th>\n",
              "      <td>5</td>\n",
              "      <td>M</td>\n",
              "      <td>57</td>\n",
              "      <td>Q</td>\n",
              "      <td>1</td>\n",
              "      <td>0</td>\n",
              "      <td>1</td>\n",
              "      <td>0</td>\n",
              "      <td>1</td>\n",
              "      <td>0</td>\n",
              "      <td>...</td>\n",
              "      <td>1</td>\n",
              "      <td>0</td>\n",
              "      <td>1</td>\n",
              "      <td>0</td>\n",
              "      <td>0</td>\n",
              "      <td>1</td>\n",
              "      <td>1</td>\n",
              "      <td>0</td>\n",
              "      <td>1</td>\n",
              "      <td>0</td>\n",
              "    </tr>\n",
              "    <tr>\n",
              "      <th>13</th>\n",
              "      <td>4</td>\n",
              "      <td>M</td>\n",
              "      <td>63</td>\n",
              "      <td>B</td>\n",
              "      <td>1</td>\n",
              "      <td>0</td>\n",
              "      <td>1</td>\n",
              "      <td>0</td>\n",
              "      <td>1</td>\n",
              "      <td>0</td>\n",
              "      <td>...</td>\n",
              "      <td>1</td>\n",
              "      <td>0</td>\n",
              "      <td>1</td>\n",
              "      <td>0</td>\n",
              "      <td>0</td>\n",
              "      <td>1</td>\n",
              "      <td>1</td>\n",
              "      <td>0</td>\n",
              "      <td>1</td>\n",
              "      <td>0</td>\n",
              "    </tr>\n",
              "    <tr>\n",
              "      <th>59</th>\n",
              "      <td>4</td>\n",
              "      <td>M</td>\n",
              "      <td>20</td>\n",
              "      <td>B</td>\n",
              "      <td>0</td>\n",
              "      <td>1</td>\n",
              "      <td>1</td>\n",
              "      <td>0</td>\n",
              "      <td>1</td>\n",
              "      <td>0</td>\n",
              "      <td>...</td>\n",
              "      <td>1</td>\n",
              "      <td>0</td>\n",
              "      <td>1</td>\n",
              "      <td>0</td>\n",
              "      <td>1</td>\n",
              "      <td>0</td>\n",
              "      <td>1</td>\n",
              "      <td>0</td>\n",
              "      <td>0</td>\n",
              "      <td>1</td>\n",
              "    </tr>\n",
              "    <tr>\n",
              "      <th>93</th>\n",
              "      <td>20</td>\n",
              "      <td>F</td>\n",
              "      <td>30</td>\n",
              "      <td>Q</td>\n",
              "      <td>0</td>\n",
              "      <td>1</td>\n",
              "      <td>1</td>\n",
              "      <td>0</td>\n",
              "      <td>1</td>\n",
              "      <td>0</td>\n",
              "      <td>...</td>\n",
              "      <td>1</td>\n",
              "      <td>0</td>\n",
              "      <td>1</td>\n",
              "      <td>0</td>\n",
              "      <td>1</td>\n",
              "      <td>0</td>\n",
              "      <td>1</td>\n",
              "      <td>0</td>\n",
              "      <td>0</td>\n",
              "      <td>1</td>\n",
              "    </tr>\n",
              "    <tr>\n",
              "      <th>...</th>\n",
              "      <td>...</td>\n",
              "      <td>...</td>\n",
              "      <td>...</td>\n",
              "      <td>...</td>\n",
              "      <td>...</td>\n",
              "      <td>...</td>\n",
              "      <td>...</td>\n",
              "      <td>...</td>\n",
              "      <td>...</td>\n",
              "      <td>...</td>\n",
              "      <td>...</td>\n",
              "      <td>...</td>\n",
              "      <td>...</td>\n",
              "      <td>...</td>\n",
              "      <td>...</td>\n",
              "      <td>...</td>\n",
              "      <td>...</td>\n",
              "      <td>...</td>\n",
              "      <td>...</td>\n",
              "      <td>...</td>\n",
              "      <td>...</td>\n",
              "    </tr>\n",
              "    <tr>\n",
              "      <th>601205</th>\n",
              "      <td>5</td>\n",
              "      <td>M</td>\n",
              "      <td>17</td>\n",
              "      <td>B</td>\n",
              "      <td>1</td>\n",
              "      <td>0</td>\n",
              "      <td>1</td>\n",
              "      <td>0</td>\n",
              "      <td>1</td>\n",
              "      <td>0</td>\n",
              "      <td>...</td>\n",
              "      <td>1</td>\n",
              "      <td>0</td>\n",
              "      <td>1</td>\n",
              "      <td>0</td>\n",
              "      <td>1</td>\n",
              "      <td>0</td>\n",
              "      <td>0</td>\n",
              "      <td>1</td>\n",
              "      <td>0</td>\n",
              "      <td>1</td>\n",
              "    </tr>\n",
              "    <tr>\n",
              "      <th>601227</th>\n",
              "      <td>5</td>\n",
              "      <td>M</td>\n",
              "      <td>42</td>\n",
              "      <td>Z</td>\n",
              "      <td>0</td>\n",
              "      <td>1</td>\n",
              "      <td>1</td>\n",
              "      <td>0</td>\n",
              "      <td>1</td>\n",
              "      <td>0</td>\n",
              "      <td>...</td>\n",
              "      <td>1</td>\n",
              "      <td>0</td>\n",
              "      <td>1</td>\n",
              "      <td>0</td>\n",
              "      <td>1</td>\n",
              "      <td>0</td>\n",
              "      <td>1</td>\n",
              "      <td>0</td>\n",
              "      <td>0</td>\n",
              "      <td>1</td>\n",
              "    </tr>\n",
              "    <tr>\n",
              "      <th>601228</th>\n",
              "      <td>5</td>\n",
              "      <td>M</td>\n",
              "      <td>60</td>\n",
              "      <td>Z</td>\n",
              "      <td>0</td>\n",
              "      <td>1</td>\n",
              "      <td>1</td>\n",
              "      <td>0</td>\n",
              "      <td>1</td>\n",
              "      <td>0</td>\n",
              "      <td>...</td>\n",
              "      <td>1</td>\n",
              "      <td>0</td>\n",
              "      <td>1</td>\n",
              "      <td>0</td>\n",
              "      <td>1</td>\n",
              "      <td>0</td>\n",
              "      <td>1</td>\n",
              "      <td>0</td>\n",
              "      <td>0</td>\n",
              "      <td>1</td>\n",
              "    </tr>\n",
              "    <tr>\n",
              "      <th>601234</th>\n",
              "      <td>1</td>\n",
              "      <td>M</td>\n",
              "      <td>52</td>\n",
              "      <td>B</td>\n",
              "      <td>0</td>\n",
              "      <td>1</td>\n",
              "      <td>1</td>\n",
              "      <td>0</td>\n",
              "      <td>1</td>\n",
              "      <td>0</td>\n",
              "      <td>...</td>\n",
              "      <td>1</td>\n",
              "      <td>0</td>\n",
              "      <td>1</td>\n",
              "      <td>0</td>\n",
              "      <td>1</td>\n",
              "      <td>0</td>\n",
              "      <td>1</td>\n",
              "      <td>0</td>\n",
              "      <td>0</td>\n",
              "      <td>1</td>\n",
              "    </tr>\n",
              "    <tr>\n",
              "      <th>601278</th>\n",
              "      <td>1</td>\n",
              "      <td>M</td>\n",
              "      <td>17</td>\n",
              "      <td>Q</td>\n",
              "      <td>1</td>\n",
              "      <td>0</td>\n",
              "      <td>1</td>\n",
              "      <td>0</td>\n",
              "      <td>1</td>\n",
              "      <td>0</td>\n",
              "      <td>...</td>\n",
              "      <td>1</td>\n",
              "      <td>0</td>\n",
              "      <td>1</td>\n",
              "      <td>0</td>\n",
              "      <td>1</td>\n",
              "      <td>0</td>\n",
              "      <td>0</td>\n",
              "      <td>1</td>\n",
              "      <td>1</td>\n",
              "      <td>0</td>\n",
              "    </tr>\n",
              "  </tbody>\n",
              "</table>\n",
              "<p>37956 rows × 24 columns</p>\n",
              "</div>\n",
              "      <button class=\"colab-df-convert\" onclick=\"convertToInteractive('df-6506b837-b4a8-4b24-aef9-f59e46d11cbf')\"\n",
              "              title=\"Convert this dataframe to an interactive table.\"\n",
              "              style=\"display:none;\">\n",
              "        \n",
              "  <svg xmlns=\"http://www.w3.org/2000/svg\" height=\"24px\"viewBox=\"0 0 24 24\"\n",
              "       width=\"24px\">\n",
              "    <path d=\"M0 0h24v24H0V0z\" fill=\"none\"/>\n",
              "    <path d=\"M18.56 5.44l.94 2.06.94-2.06 2.06-.94-2.06-.94-.94-2.06-.94 2.06-2.06.94zm-11 1L8.5 8.5l.94-2.06 2.06-.94-2.06-.94L8.5 2.5l-.94 2.06-2.06.94zm10 10l.94 2.06.94-2.06 2.06-.94-2.06-.94-.94-2.06-.94 2.06-2.06.94z\"/><path d=\"M17.41 7.96l-1.37-1.37c-.4-.4-.92-.59-1.43-.59-.52 0-1.04.2-1.43.59L10.3 9.45l-7.72 7.72c-.78.78-.78 2.05 0 2.83L4 21.41c.39.39.9.59 1.41.59.51 0 1.02-.2 1.41-.59l7.78-7.78 2.81-2.81c.8-.78.8-2.07 0-2.86zM5.41 20L4 18.59l7.72-7.72 1.47 1.35L5.41 20z\"/>\n",
              "  </svg>\n",
              "      </button>\n",
              "      \n",
              "  <style>\n",
              "    .colab-df-container {\n",
              "      display:flex;\n",
              "      flex-wrap:wrap;\n",
              "      gap: 12px;\n",
              "    }\n",
              "\n",
              "    .colab-df-convert {\n",
              "      background-color: #E8F0FE;\n",
              "      border: none;\n",
              "      border-radius: 50%;\n",
              "      cursor: pointer;\n",
              "      display: none;\n",
              "      fill: #1967D2;\n",
              "      height: 32px;\n",
              "      padding: 0 0 0 0;\n",
              "      width: 32px;\n",
              "    }\n",
              "\n",
              "    .colab-df-convert:hover {\n",
              "      background-color: #E2EBFA;\n",
              "      box-shadow: 0px 1px 2px rgba(60, 64, 67, 0.3), 0px 1px 3px 1px rgba(60, 64, 67, 0.15);\n",
              "      fill: #174EA6;\n",
              "    }\n",
              "\n",
              "    [theme=dark] .colab-df-convert {\n",
              "      background-color: #3B4455;\n",
              "      fill: #D2E3FC;\n",
              "    }\n",
              "\n",
              "    [theme=dark] .colab-df-convert:hover {\n",
              "      background-color: #434B5C;\n",
              "      box-shadow: 0px 1px 3px 1px rgba(0, 0, 0, 0.15);\n",
              "      filter: drop-shadow(0px 1px 2px rgba(0, 0, 0, 0.3));\n",
              "      fill: #FFFFFF;\n",
              "    }\n",
              "  </style>\n",
              "\n",
              "      <script>\n",
              "        const buttonEl =\n",
              "          document.querySelector('#df-6506b837-b4a8-4b24-aef9-f59e46d11cbf button.colab-df-convert');\n",
              "        buttonEl.style.display =\n",
              "          google.colab.kernel.accessAllowed ? 'block' : 'none';\n",
              "\n",
              "        async function convertToInteractive(key) {\n",
              "          const element = document.querySelector('#df-6506b837-b4a8-4b24-aef9-f59e46d11cbf');\n",
              "          const dataTable =\n",
              "            await google.colab.kernel.invokeFunction('convertToInteractive',\n",
              "                                                     [key], {});\n",
              "          if (!dataTable) return;\n",
              "\n",
              "          const docLinkHtml = 'Like what you see? Visit the ' +\n",
              "            '<a target=\"_blank\" href=https://colab.research.google.com/notebooks/data_table.ipynb>data table notebook</a>'\n",
              "            + ' to learn more about interactive tables.';\n",
              "          element.innerHTML = '';\n",
              "          dataTable['output_type'] = 'display_data';\n",
              "          await google.colab.output.renderOutput(dataTable, element);\n",
              "          const docLink = document.createElement('div');\n",
              "          docLink.innerHTML = docLinkHtml;\n",
              "          element.appendChild(docLink);\n",
              "        }\n",
              "      </script>\n",
              "    </div>\n",
              "  </div>\n",
              "  "
            ]
          },
          "metadata": {},
          "execution_count": 66
        }
      ]
    },
    {
      "cell_type": "markdown",
      "metadata": {
        "id": "M45DKDuRk_47"
      },
      "source": [
        "**Create a column `\"weapon_fnd\"` to indicate whether a weapon (of any type) was found or not (1 or 0).**"
      ]
    },
    {
      "cell_type": "code",
      "metadata": {
        "id": "0Gxz_puXl_AE"
      },
      "source": [
        "\n",
        "# summing across all columns to create a new column to weapon_fnd to indicate if there was any 1 or greater values to indicate presence of weapon found\n",
        "weapon = ['pistol_Y', 'riflshot_Y', 'asltweap_Y', 'knifcuti_Y', 'machgun_Y', 'othrweap_Y']\n",
        "sqf['weapon_fnd'] = sqf[weapon].sum(axis=1)\n",
        "\n",
        "\n",
        "\n",
        "# depending on how many wepons were found -- if weapons were found greater than or equal to 1 time (ie more than one occasion for different weaons) -- give them a value of 1 otherwise give them a value of 0\n",
        "sqf['weapon_fnd'].replace((0, 1, 2, 3), (0, 1, 1, 1), inplace=True)\n",
        "\n",
        "  \n",
        "  \n"
      ],
      "execution_count": null,
      "outputs": []
    },
    {
      "cell_type": "markdown",
      "metadata": {
        "id": "Upnwah8llQ3R"
      },
      "source": [
        "**How many times was a weapon found on the suspect?  How many times was a weapon not found on the suspect?**"
      ]
    },
    {
      "cell_type": "code",
      "source": [
        "print(\"A Weapon was found on the suspect {0} times\".format((sqf['weapon_fnd'] == 1).sum()))\n",
        "print(\"A Weapon was not found on the suspect {0} times\".format((sqf['weapon_fnd'] == 0).sum()))\n"
      ],
      "metadata": {
        "colab": {
          "base_uri": "https://localhost:8080/"
        },
        "id": "P51nX56oRRO5",
        "outputId": "d40fb03d-fa90-4136-ea1b-12103916926e"
      },
      "execution_count": null,
      "outputs": [
        {
          "output_type": "stream",
          "name": "stdout",
          "text": [
            "A Weapon was found on the suspect 3500 times\n",
            "A Weapon was not found on the suspect 34456 times\n"
          ]
        }
      ]
    },
    {
      "cell_type": "markdown",
      "metadata": {
        "id": "ysgz6Dovl_dW"
      },
      "source": [
        "**In the next part, `\"weapon_fnd\"` will be your target variable, and note from your answer above that the data set is not balanced.  Create a balanced data set <small>(see `week10/04.14.2022/mlpp22_decision_tree_example_part4.ipynb`)</small>.**"
      ]
    },
    {
      "cell_type": "code",
      "metadata": {
        "id": "MV31GywXE7GO",
        "colab": {
          "base_uri": "https://localhost:8080/",
          "height": 487
        },
        "outputId": "20ab556a-b0a6-4b80-ea43-de22b406c83b"
      },
      "source": [
        "sqf_0 = sqf[sqf['weapon_fnd'] == 0]\n",
        "sqf_1 = sqf[sqf['weapon_fnd'] == 1]\n",
        "\n",
        "sqf_0_sampled = sqf_0.sample(len(sqf_1), random_state=22)\n",
        "\n",
        "# -- concatenate the two (equally sized) sub-sets\n",
        "sqf_bal = pd.concat((sqf_0_sampled, sqf_1))\n",
        "sqf_bal\n"
      ],
      "execution_count": null,
      "outputs": [
        {
          "output_type": "execute_result",
          "data": {
            "text/plain": [
              "        perobs sex  age race  inout_I  inout_O  pistol_N  pistol_Y  \\\n",
              "134374       1   M   29    B        0        1         1         0   \n",
              "407752       1   M   18    B        0        1         1         0   \n",
              "480262       3   M   35    B        1        0         1         0   \n",
              "172773       5   M   33    B        0        1         1         0   \n",
              "62778       10   M   25    W        0        1         1         0   \n",
              "...        ...  ..  ...  ...      ...      ...       ...       ...   \n",
              "600871       5   M   69    B        1        0         1         0   \n",
              "600975       1   M   16    Q        0        1         1         0   \n",
              "600976       1   M   19    Q        0        1         1         0   \n",
              "601036       2   M   22    Q        0        1         1         0   \n",
              "601205       5   M   17    B        1        0         1         0   \n",
              "\n",
              "        riflshot_N  riflshot_Y  ...  machgun_Y  othrweap_N  othrweap_Y  \\\n",
              "134374           1           0  ...          0           1           0   \n",
              "407752           1           0  ...          0           1           0   \n",
              "480262           1           0  ...          0           1           0   \n",
              "172773           1           0  ...          0           1           0   \n",
              "62778            1           0  ...          0           1           0   \n",
              "...            ...         ...  ...        ...         ...         ...   \n",
              "600871           1           0  ...          0           0           1   \n",
              "600975           1           0  ...          0           1           0   \n",
              "600976           1           0  ...          0           1           0   \n",
              "601036           1           0  ...          0           0           1   \n",
              "601205           1           0  ...          0           1           0   \n",
              "\n",
              "        cs_objcs_N  cs_objcs_Y  sb_outln_N  sb_outln_Y  rf_othsw_N  \\\n",
              "134374           1           0           1           0           0   \n",
              "407752           1           0           1           0           0   \n",
              "480262           0           1           1           0           1   \n",
              "172773           1           0           1           0           0   \n",
              "62778            1           0           1           0           0   \n",
              "...            ...         ...         ...         ...         ...   \n",
              "600871           1           0           0           1           1   \n",
              "600975           1           0           1           0           0   \n",
              "600976           0           1           1           0           0   \n",
              "601036           0           1           1           0           1   \n",
              "601205           1           0           0           1           0   \n",
              "\n",
              "        rf_othsw_Y  weapon_fnd  \n",
              "134374           1           0  \n",
              "407752           1           0  \n",
              "480262           0           0  \n",
              "172773           1           0  \n",
              "62778            1           0  \n",
              "...            ...         ...  \n",
              "600871           0           1  \n",
              "600975           1           1  \n",
              "600976           1           1  \n",
              "601036           0           1  \n",
              "601205           1           1  \n",
              "\n",
              "[7000 rows x 25 columns]"
            ],
            "text/html": [
              "\n",
              "  <div id=\"df-98550537-61c2-4793-88e8-f2c72da1ef08\">\n",
              "    <div class=\"colab-df-container\">\n",
              "      <div>\n",
              "<style scoped>\n",
              "    .dataframe tbody tr th:only-of-type {\n",
              "        vertical-align: middle;\n",
              "    }\n",
              "\n",
              "    .dataframe tbody tr th {\n",
              "        vertical-align: top;\n",
              "    }\n",
              "\n",
              "    .dataframe thead th {\n",
              "        text-align: right;\n",
              "    }\n",
              "</style>\n",
              "<table border=\"1\" class=\"dataframe\">\n",
              "  <thead>\n",
              "    <tr style=\"text-align: right;\">\n",
              "      <th></th>\n",
              "      <th>perobs</th>\n",
              "      <th>sex</th>\n",
              "      <th>age</th>\n",
              "      <th>race</th>\n",
              "      <th>inout_I</th>\n",
              "      <th>inout_O</th>\n",
              "      <th>pistol_N</th>\n",
              "      <th>pistol_Y</th>\n",
              "      <th>riflshot_N</th>\n",
              "      <th>riflshot_Y</th>\n",
              "      <th>...</th>\n",
              "      <th>machgun_Y</th>\n",
              "      <th>othrweap_N</th>\n",
              "      <th>othrweap_Y</th>\n",
              "      <th>cs_objcs_N</th>\n",
              "      <th>cs_objcs_Y</th>\n",
              "      <th>sb_outln_N</th>\n",
              "      <th>sb_outln_Y</th>\n",
              "      <th>rf_othsw_N</th>\n",
              "      <th>rf_othsw_Y</th>\n",
              "      <th>weapon_fnd</th>\n",
              "    </tr>\n",
              "  </thead>\n",
              "  <tbody>\n",
              "    <tr>\n",
              "      <th>134374</th>\n",
              "      <td>1</td>\n",
              "      <td>M</td>\n",
              "      <td>29</td>\n",
              "      <td>B</td>\n",
              "      <td>0</td>\n",
              "      <td>1</td>\n",
              "      <td>1</td>\n",
              "      <td>0</td>\n",
              "      <td>1</td>\n",
              "      <td>0</td>\n",
              "      <td>...</td>\n",
              "      <td>0</td>\n",
              "      <td>1</td>\n",
              "      <td>0</td>\n",
              "      <td>1</td>\n",
              "      <td>0</td>\n",
              "      <td>1</td>\n",
              "      <td>0</td>\n",
              "      <td>0</td>\n",
              "      <td>1</td>\n",
              "      <td>0</td>\n",
              "    </tr>\n",
              "    <tr>\n",
              "      <th>407752</th>\n",
              "      <td>1</td>\n",
              "      <td>M</td>\n",
              "      <td>18</td>\n",
              "      <td>B</td>\n",
              "      <td>0</td>\n",
              "      <td>1</td>\n",
              "      <td>1</td>\n",
              "      <td>0</td>\n",
              "      <td>1</td>\n",
              "      <td>0</td>\n",
              "      <td>...</td>\n",
              "      <td>0</td>\n",
              "      <td>1</td>\n",
              "      <td>0</td>\n",
              "      <td>1</td>\n",
              "      <td>0</td>\n",
              "      <td>1</td>\n",
              "      <td>0</td>\n",
              "      <td>0</td>\n",
              "      <td>1</td>\n",
              "      <td>0</td>\n",
              "    </tr>\n",
              "    <tr>\n",
              "      <th>480262</th>\n",
              "      <td>3</td>\n",
              "      <td>M</td>\n",
              "      <td>35</td>\n",
              "      <td>B</td>\n",
              "      <td>1</td>\n",
              "      <td>0</td>\n",
              "      <td>1</td>\n",
              "      <td>0</td>\n",
              "      <td>1</td>\n",
              "      <td>0</td>\n",
              "      <td>...</td>\n",
              "      <td>0</td>\n",
              "      <td>1</td>\n",
              "      <td>0</td>\n",
              "      <td>0</td>\n",
              "      <td>1</td>\n",
              "      <td>1</td>\n",
              "      <td>0</td>\n",
              "      <td>1</td>\n",
              "      <td>0</td>\n",
              "      <td>0</td>\n",
              "    </tr>\n",
              "    <tr>\n",
              "      <th>172773</th>\n",
              "      <td>5</td>\n",
              "      <td>M</td>\n",
              "      <td>33</td>\n",
              "      <td>B</td>\n",
              "      <td>0</td>\n",
              "      <td>1</td>\n",
              "      <td>1</td>\n",
              "      <td>0</td>\n",
              "      <td>1</td>\n",
              "      <td>0</td>\n",
              "      <td>...</td>\n",
              "      <td>0</td>\n",
              "      <td>1</td>\n",
              "      <td>0</td>\n",
              "      <td>1</td>\n",
              "      <td>0</td>\n",
              "      <td>1</td>\n",
              "      <td>0</td>\n",
              "      <td>0</td>\n",
              "      <td>1</td>\n",
              "      <td>0</td>\n",
              "    </tr>\n",
              "    <tr>\n",
              "      <th>62778</th>\n",
              "      <td>10</td>\n",
              "      <td>M</td>\n",
              "      <td>25</td>\n",
              "      <td>W</td>\n",
              "      <td>0</td>\n",
              "      <td>1</td>\n",
              "      <td>1</td>\n",
              "      <td>0</td>\n",
              "      <td>1</td>\n",
              "      <td>0</td>\n",
              "      <td>...</td>\n",
              "      <td>0</td>\n",
              "      <td>1</td>\n",
              "      <td>0</td>\n",
              "      <td>1</td>\n",
              "      <td>0</td>\n",
              "      <td>1</td>\n",
              "      <td>0</td>\n",
              "      <td>0</td>\n",
              "      <td>1</td>\n",
              "      <td>0</td>\n",
              "    </tr>\n",
              "    <tr>\n",
              "      <th>...</th>\n",
              "      <td>...</td>\n",
              "      <td>...</td>\n",
              "      <td>...</td>\n",
              "      <td>...</td>\n",
              "      <td>...</td>\n",
              "      <td>...</td>\n",
              "      <td>...</td>\n",
              "      <td>...</td>\n",
              "      <td>...</td>\n",
              "      <td>...</td>\n",
              "      <td>...</td>\n",
              "      <td>...</td>\n",
              "      <td>...</td>\n",
              "      <td>...</td>\n",
              "      <td>...</td>\n",
              "      <td>...</td>\n",
              "      <td>...</td>\n",
              "      <td>...</td>\n",
              "      <td>...</td>\n",
              "      <td>...</td>\n",
              "      <td>...</td>\n",
              "    </tr>\n",
              "    <tr>\n",
              "      <th>600871</th>\n",
              "      <td>5</td>\n",
              "      <td>M</td>\n",
              "      <td>69</td>\n",
              "      <td>B</td>\n",
              "      <td>1</td>\n",
              "      <td>0</td>\n",
              "      <td>1</td>\n",
              "      <td>0</td>\n",
              "      <td>1</td>\n",
              "      <td>0</td>\n",
              "      <td>...</td>\n",
              "      <td>0</td>\n",
              "      <td>0</td>\n",
              "      <td>1</td>\n",
              "      <td>1</td>\n",
              "      <td>0</td>\n",
              "      <td>0</td>\n",
              "      <td>1</td>\n",
              "      <td>1</td>\n",
              "      <td>0</td>\n",
              "      <td>1</td>\n",
              "    </tr>\n",
              "    <tr>\n",
              "      <th>600975</th>\n",
              "      <td>1</td>\n",
              "      <td>M</td>\n",
              "      <td>16</td>\n",
              "      <td>Q</td>\n",
              "      <td>0</td>\n",
              "      <td>1</td>\n",
              "      <td>1</td>\n",
              "      <td>0</td>\n",
              "      <td>1</td>\n",
              "      <td>0</td>\n",
              "      <td>...</td>\n",
              "      <td>0</td>\n",
              "      <td>1</td>\n",
              "      <td>0</td>\n",
              "      <td>1</td>\n",
              "      <td>0</td>\n",
              "      <td>1</td>\n",
              "      <td>0</td>\n",
              "      <td>0</td>\n",
              "      <td>1</td>\n",
              "      <td>1</td>\n",
              "    </tr>\n",
              "    <tr>\n",
              "      <th>600976</th>\n",
              "      <td>1</td>\n",
              "      <td>M</td>\n",
              "      <td>19</td>\n",
              "      <td>Q</td>\n",
              "      <td>0</td>\n",
              "      <td>1</td>\n",
              "      <td>1</td>\n",
              "      <td>0</td>\n",
              "      <td>1</td>\n",
              "      <td>0</td>\n",
              "      <td>...</td>\n",
              "      <td>0</td>\n",
              "      <td>1</td>\n",
              "      <td>0</td>\n",
              "      <td>0</td>\n",
              "      <td>1</td>\n",
              "      <td>1</td>\n",
              "      <td>0</td>\n",
              "      <td>0</td>\n",
              "      <td>1</td>\n",
              "      <td>1</td>\n",
              "    </tr>\n",
              "    <tr>\n",
              "      <th>601036</th>\n",
              "      <td>2</td>\n",
              "      <td>M</td>\n",
              "      <td>22</td>\n",
              "      <td>Q</td>\n",
              "      <td>0</td>\n",
              "      <td>1</td>\n",
              "      <td>1</td>\n",
              "      <td>0</td>\n",
              "      <td>1</td>\n",
              "      <td>0</td>\n",
              "      <td>...</td>\n",
              "      <td>0</td>\n",
              "      <td>0</td>\n",
              "      <td>1</td>\n",
              "      <td>0</td>\n",
              "      <td>1</td>\n",
              "      <td>1</td>\n",
              "      <td>0</td>\n",
              "      <td>1</td>\n",
              "      <td>0</td>\n",
              "      <td>1</td>\n",
              "    </tr>\n",
              "    <tr>\n",
              "      <th>601205</th>\n",
              "      <td>5</td>\n",
              "      <td>M</td>\n",
              "      <td>17</td>\n",
              "      <td>B</td>\n",
              "      <td>1</td>\n",
              "      <td>0</td>\n",
              "      <td>1</td>\n",
              "      <td>0</td>\n",
              "      <td>1</td>\n",
              "      <td>0</td>\n",
              "      <td>...</td>\n",
              "      <td>0</td>\n",
              "      <td>1</td>\n",
              "      <td>0</td>\n",
              "      <td>1</td>\n",
              "      <td>0</td>\n",
              "      <td>0</td>\n",
              "      <td>1</td>\n",
              "      <td>0</td>\n",
              "      <td>1</td>\n",
              "      <td>1</td>\n",
              "    </tr>\n",
              "  </tbody>\n",
              "</table>\n",
              "<p>7000 rows × 25 columns</p>\n",
              "</div>\n",
              "      <button class=\"colab-df-convert\" onclick=\"convertToInteractive('df-98550537-61c2-4793-88e8-f2c72da1ef08')\"\n",
              "              title=\"Convert this dataframe to an interactive table.\"\n",
              "              style=\"display:none;\">\n",
              "        \n",
              "  <svg xmlns=\"http://www.w3.org/2000/svg\" height=\"24px\"viewBox=\"0 0 24 24\"\n",
              "       width=\"24px\">\n",
              "    <path d=\"M0 0h24v24H0V0z\" fill=\"none\"/>\n",
              "    <path d=\"M18.56 5.44l.94 2.06.94-2.06 2.06-.94-2.06-.94-.94-2.06-.94 2.06-2.06.94zm-11 1L8.5 8.5l.94-2.06 2.06-.94-2.06-.94L8.5 2.5l-.94 2.06-2.06.94zm10 10l.94 2.06.94-2.06 2.06-.94-2.06-.94-.94-2.06-.94 2.06-2.06.94z\"/><path d=\"M17.41 7.96l-1.37-1.37c-.4-.4-.92-.59-1.43-.59-.52 0-1.04.2-1.43.59L10.3 9.45l-7.72 7.72c-.78.78-.78 2.05 0 2.83L4 21.41c.39.39.9.59 1.41.59.51 0 1.02-.2 1.41-.59l7.78-7.78 2.81-2.81c.8-.78.8-2.07 0-2.86zM5.41 20L4 18.59l7.72-7.72 1.47 1.35L5.41 20z\"/>\n",
              "  </svg>\n",
              "      </button>\n",
              "      \n",
              "  <style>\n",
              "    .colab-df-container {\n",
              "      display:flex;\n",
              "      flex-wrap:wrap;\n",
              "      gap: 12px;\n",
              "    }\n",
              "\n",
              "    .colab-df-convert {\n",
              "      background-color: #E8F0FE;\n",
              "      border: none;\n",
              "      border-radius: 50%;\n",
              "      cursor: pointer;\n",
              "      display: none;\n",
              "      fill: #1967D2;\n",
              "      height: 32px;\n",
              "      padding: 0 0 0 0;\n",
              "      width: 32px;\n",
              "    }\n",
              "\n",
              "    .colab-df-convert:hover {\n",
              "      background-color: #E2EBFA;\n",
              "      box-shadow: 0px 1px 2px rgba(60, 64, 67, 0.3), 0px 1px 3px 1px rgba(60, 64, 67, 0.15);\n",
              "      fill: #174EA6;\n",
              "    }\n",
              "\n",
              "    [theme=dark] .colab-df-convert {\n",
              "      background-color: #3B4455;\n",
              "      fill: #D2E3FC;\n",
              "    }\n",
              "\n",
              "    [theme=dark] .colab-df-convert:hover {\n",
              "      background-color: #434B5C;\n",
              "      box-shadow: 0px 1px 3px 1px rgba(0, 0, 0, 0.15);\n",
              "      filter: drop-shadow(0px 1px 2px rgba(0, 0, 0, 0.3));\n",
              "      fill: #FFFFFF;\n",
              "    }\n",
              "  </style>\n",
              "\n",
              "      <script>\n",
              "        const buttonEl =\n",
              "          document.querySelector('#df-98550537-61c2-4793-88e8-f2c72da1ef08 button.colab-df-convert');\n",
              "        buttonEl.style.display =\n",
              "          google.colab.kernel.accessAllowed ? 'block' : 'none';\n",
              "\n",
              "        async function convertToInteractive(key) {\n",
              "          const element = document.querySelector('#df-98550537-61c2-4793-88e8-f2c72da1ef08');\n",
              "          const dataTable =\n",
              "            await google.colab.kernel.invokeFunction('convertToInteractive',\n",
              "                                                     [key], {});\n",
              "          if (!dataTable) return;\n",
              "\n",
              "          const docLinkHtml = 'Like what you see? Visit the ' +\n",
              "            '<a target=\"_blank\" href=https://colab.research.google.com/notebooks/data_table.ipynb>data table notebook</a>'\n",
              "            + ' to learn more about interactive tables.';\n",
              "          element.innerHTML = '';\n",
              "          dataTable['output_type'] = 'display_data';\n",
              "          await google.colab.output.renderOutput(dataTable, element);\n",
              "          const docLink = document.createElement('div');\n",
              "          docLink.innerHTML = docLinkHtml;\n",
              "          element.appendChild(docLink);\n",
              "        }\n",
              "      </script>\n",
              "    </div>\n",
              "  </div>\n",
              "  "
            ]
          },
          "metadata": {},
          "execution_count": 69
        }
      ]
    },
    {
      "cell_type": "markdown",
      "metadata": {
        "id": "EcAOyZ3qmbi8"
      },
      "source": [
        "### **Part 3 - Fitting Tree-based Classifier Models**"
      ]
    },
    {
      "cell_type": "markdown",
      "metadata": {
        "id": "lAKBgiXYEUzq"
      },
      "source": [
        "The goal of this part of the assignment is to build a model that uses several features of the stops in which the subject was suspected of carrying a weapon to predict whether a weapon was actually found."
      ]
    },
    {
      "cell_type": "markdown",
      "metadata": {
        "id": "51cM33zSmnSP"
      },
      "source": [
        "**Create your features from your balanced data set using the period of observation, whether the stop was inside or outside, the sex of the subject, the age of the subject, and the race of the subject as features (make sure to One Hot Encode categorical features).  Set the `\"weapon_fnd\"` column to be your target.**"
      ]
    },
    {
      "cell_type": "code",
      "source": [
        "# first creating an object ID to extract out a well and keep track of the data & making sure they are the same length with boolean logic\n",
        "ID = np.arange(0, 7000, 1)\n",
        "print((len(ID) == len(sqf_bal)))\n",
        "# adding the object ID back into the main balanced dataframe \n",
        "sqf_bal['subject_ID'] = ID\n",
        "sqf_bal.head(1)\n",
        "\n",
        "\n"
      ],
      "metadata": {
        "colab": {
          "base_uri": "https://localhost:8080/",
          "height": 191
        },
        "id": "iI5WkioBHV7a",
        "outputId": "58da9355-4f36-44b6-d655-7e909a5b6374"
      },
      "execution_count": null,
      "outputs": [
        {
          "output_type": "stream",
          "name": "stdout",
          "text": [
            "True\n"
          ]
        },
        {
          "output_type": "execute_result",
          "data": {
            "text/plain": [
              "        perobs sex  age race  inout_I  inout_O  pistol_N  pistol_Y  \\\n",
              "134374       1   M   29    B        0        1         1         0   \n",
              "\n",
              "        riflshot_N  riflshot_Y  ...  othrweap_N  othrweap_Y  cs_objcs_N  \\\n",
              "134374           1           0  ...           1           0           1   \n",
              "\n",
              "        cs_objcs_Y  sb_outln_N  sb_outln_Y  rf_othsw_N  rf_othsw_Y  \\\n",
              "134374           0           1           0           0           1   \n",
              "\n",
              "        weapon_fnd  subject_ID  \n",
              "134374           0           0  \n",
              "\n",
              "[1 rows x 26 columns]"
            ],
            "text/html": [
              "\n",
              "  <div id=\"df-89007731-3e12-4206-b7ea-8a3280d7bb16\">\n",
              "    <div class=\"colab-df-container\">\n",
              "      <div>\n",
              "<style scoped>\n",
              "    .dataframe tbody tr th:only-of-type {\n",
              "        vertical-align: middle;\n",
              "    }\n",
              "\n",
              "    .dataframe tbody tr th {\n",
              "        vertical-align: top;\n",
              "    }\n",
              "\n",
              "    .dataframe thead th {\n",
              "        text-align: right;\n",
              "    }\n",
              "</style>\n",
              "<table border=\"1\" class=\"dataframe\">\n",
              "  <thead>\n",
              "    <tr style=\"text-align: right;\">\n",
              "      <th></th>\n",
              "      <th>perobs</th>\n",
              "      <th>sex</th>\n",
              "      <th>age</th>\n",
              "      <th>race</th>\n",
              "      <th>inout_I</th>\n",
              "      <th>inout_O</th>\n",
              "      <th>pistol_N</th>\n",
              "      <th>pistol_Y</th>\n",
              "      <th>riflshot_N</th>\n",
              "      <th>riflshot_Y</th>\n",
              "      <th>...</th>\n",
              "      <th>othrweap_N</th>\n",
              "      <th>othrweap_Y</th>\n",
              "      <th>cs_objcs_N</th>\n",
              "      <th>cs_objcs_Y</th>\n",
              "      <th>sb_outln_N</th>\n",
              "      <th>sb_outln_Y</th>\n",
              "      <th>rf_othsw_N</th>\n",
              "      <th>rf_othsw_Y</th>\n",
              "      <th>weapon_fnd</th>\n",
              "      <th>subject_ID</th>\n",
              "    </tr>\n",
              "  </thead>\n",
              "  <tbody>\n",
              "    <tr>\n",
              "      <th>134374</th>\n",
              "      <td>1</td>\n",
              "      <td>M</td>\n",
              "      <td>29</td>\n",
              "      <td>B</td>\n",
              "      <td>0</td>\n",
              "      <td>1</td>\n",
              "      <td>1</td>\n",
              "      <td>0</td>\n",
              "      <td>1</td>\n",
              "      <td>0</td>\n",
              "      <td>...</td>\n",
              "      <td>1</td>\n",
              "      <td>0</td>\n",
              "      <td>1</td>\n",
              "      <td>0</td>\n",
              "      <td>1</td>\n",
              "      <td>0</td>\n",
              "      <td>0</td>\n",
              "      <td>1</td>\n",
              "      <td>0</td>\n",
              "      <td>0</td>\n",
              "    </tr>\n",
              "  </tbody>\n",
              "</table>\n",
              "<p>1 rows × 26 columns</p>\n",
              "</div>\n",
              "      <button class=\"colab-df-convert\" onclick=\"convertToInteractive('df-89007731-3e12-4206-b7ea-8a3280d7bb16')\"\n",
              "              title=\"Convert this dataframe to an interactive table.\"\n",
              "              style=\"display:none;\">\n",
              "        \n",
              "  <svg xmlns=\"http://www.w3.org/2000/svg\" height=\"24px\"viewBox=\"0 0 24 24\"\n",
              "       width=\"24px\">\n",
              "    <path d=\"M0 0h24v24H0V0z\" fill=\"none\"/>\n",
              "    <path d=\"M18.56 5.44l.94 2.06.94-2.06 2.06-.94-2.06-.94-.94-2.06-.94 2.06-2.06.94zm-11 1L8.5 8.5l.94-2.06 2.06-.94-2.06-.94L8.5 2.5l-.94 2.06-2.06.94zm10 10l.94 2.06.94-2.06 2.06-.94-2.06-.94-.94-2.06-.94 2.06-2.06.94z\"/><path d=\"M17.41 7.96l-1.37-1.37c-.4-.4-.92-.59-1.43-.59-.52 0-1.04.2-1.43.59L10.3 9.45l-7.72 7.72c-.78.78-.78 2.05 0 2.83L4 21.41c.39.39.9.59 1.41.59.51 0 1.02-.2 1.41-.59l7.78-7.78 2.81-2.81c.8-.78.8-2.07 0-2.86zM5.41 20L4 18.59l7.72-7.72 1.47 1.35L5.41 20z\"/>\n",
              "  </svg>\n",
              "      </button>\n",
              "      \n",
              "  <style>\n",
              "    .colab-df-container {\n",
              "      display:flex;\n",
              "      flex-wrap:wrap;\n",
              "      gap: 12px;\n",
              "    }\n",
              "\n",
              "    .colab-df-convert {\n",
              "      background-color: #E8F0FE;\n",
              "      border: none;\n",
              "      border-radius: 50%;\n",
              "      cursor: pointer;\n",
              "      display: none;\n",
              "      fill: #1967D2;\n",
              "      height: 32px;\n",
              "      padding: 0 0 0 0;\n",
              "      width: 32px;\n",
              "    }\n",
              "\n",
              "    .colab-df-convert:hover {\n",
              "      background-color: #E2EBFA;\n",
              "      box-shadow: 0px 1px 2px rgba(60, 64, 67, 0.3), 0px 1px 3px 1px rgba(60, 64, 67, 0.15);\n",
              "      fill: #174EA6;\n",
              "    }\n",
              "\n",
              "    [theme=dark] .colab-df-convert {\n",
              "      background-color: #3B4455;\n",
              "      fill: #D2E3FC;\n",
              "    }\n",
              "\n",
              "    [theme=dark] .colab-df-convert:hover {\n",
              "      background-color: #434B5C;\n",
              "      box-shadow: 0px 1px 3px 1px rgba(0, 0, 0, 0.15);\n",
              "      filter: drop-shadow(0px 1px 2px rgba(0, 0, 0, 0.3));\n",
              "      fill: #FFFFFF;\n",
              "    }\n",
              "  </style>\n",
              "\n",
              "      <script>\n",
              "        const buttonEl =\n",
              "          document.querySelector('#df-89007731-3e12-4206-b7ea-8a3280d7bb16 button.colab-df-convert');\n",
              "        buttonEl.style.display =\n",
              "          google.colab.kernel.accessAllowed ? 'block' : 'none';\n",
              "\n",
              "        async function convertToInteractive(key) {\n",
              "          const element = document.querySelector('#df-89007731-3e12-4206-b7ea-8a3280d7bb16');\n",
              "          const dataTable =\n",
              "            await google.colab.kernel.invokeFunction('convertToInteractive',\n",
              "                                                     [key], {});\n",
              "          if (!dataTable) return;\n",
              "\n",
              "          const docLinkHtml = 'Like what you see? Visit the ' +\n",
              "            '<a target=\"_blank\" href=https://colab.research.google.com/notebooks/data_table.ipynb>data table notebook</a>'\n",
              "            + ' to learn more about interactive tables.';\n",
              "          element.innerHTML = '';\n",
              "          dataTable['output_type'] = 'display_data';\n",
              "          await google.colab.output.renderOutput(dataTable, element);\n",
              "          const docLink = document.createElement('div');\n",
              "          docLink.innerHTML = docLinkHtml;\n",
              "          element.appendChild(docLink);\n",
              "        }\n",
              "      </script>\n",
              "    </div>\n",
              "  </div>\n",
              "  "
            ]
          },
          "metadata": {},
          "execution_count": 70
        }
      ]
    },
    {
      "cell_type": "markdown",
      "source": [
        "Ensuring we have no NaNs or outliers in any of our variables before constructing our features and target dataframes "
      ],
      "metadata": {
        "id": "eFaSJep8O0Cc"
      }
    },
    {
      "cell_type": "code",
      "source": [
        "sqf_bal.isna().sum()"
      ],
      "metadata": {
        "colab": {
          "base_uri": "https://localhost:8080/"
        },
        "id": "f6JJieWWO6ax",
        "outputId": "fd756f51-6b1c-44d9-97ff-43e5e2906f6d"
      },
      "execution_count": null,
      "outputs": [
        {
          "output_type": "execute_result",
          "data": {
            "text/plain": [
              "perobs        0\n",
              "sex           0\n",
              "age           0\n",
              "race          0\n",
              "inout_I       0\n",
              "inout_O       0\n",
              "pistol_N      0\n",
              "pistol_Y      0\n",
              "riflshot_N    0\n",
              "riflshot_Y    0\n",
              "asltweap_N    0\n",
              "asltweap_Y    0\n",
              "knifcuti_N    0\n",
              "knifcuti_Y    0\n",
              "machgun_N     0\n",
              "machgun_Y     0\n",
              "othrweap_N    0\n",
              "othrweap_Y    0\n",
              "cs_objcs_N    0\n",
              "cs_objcs_Y    0\n",
              "sb_outln_N    0\n",
              "sb_outln_Y    0\n",
              "rf_othsw_N    0\n",
              "rf_othsw_Y    0\n",
              "weapon_fnd    0\n",
              "subject_ID    0\n",
              "dtype: int64"
            ]
          },
          "metadata": {},
          "execution_count": 71
        }
      ]
    },
    {
      "cell_type": "markdown",
      "source": [
        "**A Closer look at the feature 'age' given its continous values**"
      ],
      "metadata": {
        "id": "MZN1bA04NjSp"
      }
    },
    {
      "cell_type": "code",
      "source": [
        "sqf_bal['age'].describe()"
      ],
      "metadata": {
        "colab": {
          "base_uri": "https://localhost:8080/"
        },
        "id": "1JpbI47qOv1Z",
        "outputId": "7933f250-76a8-4247-bbab-773cbbc820f5"
      },
      "execution_count": null,
      "outputs": [
        {
          "output_type": "execute_result",
          "data": {
            "text/plain": [
              "count    7000.000000\n",
              "mean       30.434429\n",
              "std        23.720782\n",
              "min         1.000000\n",
              "25%        20.000000\n",
              "50%        26.000000\n",
              "75%        38.000000\n",
              "max       999.000000\n",
              "Name: age, dtype: float64"
            ]
          },
          "metadata": {},
          "execution_count": 72
        }
      ]
    },
    {
      "cell_type": "markdown",
      "source": [
        "We see that when printing the summary statistics of our feature age, some values appear problematic. In our dataset, it looks as if the average age of suspects is roughly 30 years old while the median age is 26 years old suggesting to us that there may be some outliers on the upper end of the distribution skewing the distribution to the right. Moreover, if we look at the range, we have a minimum age of 1 and a maximum age of 999. Both of these age values are unrealistic. No one lives to 999 and and anyone under than age 13 let alone 1 years old more than likely aren't going to be suspects being stopped and frisked as these are kids."
      ],
      "metadata": {
        "id": "Z_mYxJMXNpE3"
      }
    },
    {
      "cell_type": "code",
      "source": [
        "sqf_bal['age'].hist()"
      ],
      "metadata": {
        "colab": {
          "base_uri": "https://localhost:8080/",
          "height": 283
        },
        "id": "m80eVPu9QCvH",
        "outputId": "ed7716be-b2ed-428b-b157-af3bf3eda89f"
      },
      "execution_count": null,
      "outputs": [
        {
          "output_type": "execute_result",
          "data": {
            "text/plain": [
              "<matplotlib.axes._subplots.AxesSubplot at 0x7fe28efc11d0>"
            ]
          },
          "metadata": {},
          "execution_count": 73
        },
        {
          "output_type": "display_data",
          "data": {
            "text/plain": [
              "<Figure size 432x288 with 1 Axes>"
            ],
            "image/png": "[encoded data removed]"
          },
          "metadata": {
            "needs_background": "light"
          }
        }
      ]
    },
    {
      "cell_type": "markdown",
      "source": [
        "**Figure 1** plots a histogram of the feature 'age' distribution in order to visualize it aside from examining the pure summary statistics. It is clear that our feature 'age' has some abnormal values on it for both the lower bounds and upper bounds ||| So let us take only age range from 13 to 80 which more approximates our true values of people's current lifespan while also accounting for the fact that juveniles also can engage in potential crimes by lowering the lower bound range down to 13 rather than standard adulthood of 18 while limiting the upper bound range of the variable to 80 years old."
      ],
      "metadata": {
        "id": "ZdpXrKgoPI9x"
      }
    },
    {
      "cell_type": "code",
      "source": [
        "sqf_bal_13 = sqf_bal['age'] >= 13\n",
        "sqf_bal_80 = sqf_bal['age'] <= 80\n",
        "sqf_age_proper = sqf_bal_13 & sqf_bal_80\n",
        "sqf_bal = sqf_bal[sqf_age_proper]\n",
        "print(\"the total n of the current dataset is\")\n",
        "print(len(sqf_bal))\n",
        "print(\" the total weapons found = 1 is:\")\n",
        "print((sqf_bal['weapon_fnd'] == 1).sum())\n",
        "print(\" the total weapons found = 0 is\")\n",
        "print((sqf_bal['weapon_fnd'] == 0).sum())"
      ],
      "metadata": {
        "colab": {
          "base_uri": "https://localhost:8080/"
        },
        "id": "O8__JT69QH_E",
        "outputId": "832ca07d-e193-4289-c2d3-3c65ee072777"
      },
      "execution_count": null,
      "outputs": [
        {
          "output_type": "stream",
          "name": "stdout",
          "text": [
            "the total n of the current dataset is\n",
            "6962\n",
            " the total weapons found = 1 is:\n",
            "3482\n",
            " the total weapons found = 0 is\n",
            "3480\n"
          ]
        }
      ]
    },
    {
      "cell_type": "markdown",
      "source": [
        "In the above code, we re-configured the balanced dataset to account for only individuals with ages 13 through 80. Overall, the dataset is still balanced as a total of 38 observations were dropped from the oringinal balanced dataframe that accounted for rows of data where age was either above 80 or below 13 -- thereby helping us to eliminate the presence of outliers so our model can provide a better fit. "
      ],
      "metadata": {
        "id": "rAA0u_QZQgT_"
      }
    },
    {
      "cell_type": "code",
      "source": [
        "# re-examine the descriptive statistics of the age feature\n",
        "sqf_bal['age'].describe()"
      ],
      "metadata": {
        "colab": {
          "base_uri": "https://localhost:8080/"
        },
        "id": "rMJp37mJZEzM",
        "outputId": "8f348a88-16d4-41ab-cb4c-df04aee34c0d"
      },
      "execution_count": null,
      "outputs": [
        {
          "output_type": "execute_result",
          "data": {
            "text/plain": [
              "count    6962.000000\n",
              "mean       29.962511\n",
              "std        12.002605\n",
              "min        13.000000\n",
              "25%        20.000000\n",
              "50%        27.000000\n",
              "75%        38.000000\n",
              "max        80.000000\n",
              "Name: age, dtype: float64"
            ]
          },
          "metadata": {},
          "execution_count": 75
        }
      ]
    },
    {
      "cell_type": "markdown",
      "source": [
        "In looking at our new descriptive statistics of 'age' feature -- we see the range is a much better approximation of reality ranging from age ranges to 13 to 80. Moreover, the spread between the mean and median has narrowed as well."
      ],
      "metadata": {
        "id": "MIsjL4D0RN3_"
      }
    },
    {
      "cell_type": "code",
      "source": [
        "# replotting the feature age to see its distrbituon \n",
        "sqf_bal['age'].hist()"
      ],
      "metadata": {
        "colab": {
          "base_uri": "https://localhost:8080/",
          "height": 283
        },
        "id": "cxBOrxbEY5p4",
        "outputId": "202ccf77-c7aa-466c-f554-023ab686f4ec"
      },
      "execution_count": null,
      "outputs": [
        {
          "output_type": "execute_result",
          "data": {
            "text/plain": [
              "<matplotlib.axes._subplots.AxesSubplot at 0x7fe28ec491d0>"
            ]
          },
          "metadata": {},
          "execution_count": 76
        },
        {
          "output_type": "display_data",
          "data": {
            "text/plain": [
              "<Figure size 432x288 with 1 Axes>"
            ],
            "image/png": "[encoded data removed]"
          },
          "metadata": {
            "needs_background": "light"
          }
        }
      ]
    },
    {
      "cell_type": "markdown",
      "source": [
        "**Figure 2** plots a histogram of our feature 'age' once corrected for outliers. Now as shown above, our balanced datset went from 7000 observations to 6,962 after accounting for the abnormalities in age -- Moreover, there are only 2 more 1's than there are zeroes now, **therefore -- the assumption for the rest of the analysis is that this dataset is now balanced along with having accounted for outliers in age.**"
      ],
      "metadata": {
        "id": "LXAEWrw8YnMz"
      }
    },
    {
      "cell_type": "markdown",
      "source": [
        "**Now we can create our features array and target array**"
      ],
      "metadata": {
        "id": "SkxVMzIYR_vg"
      }
    },
    {
      "cell_type": "code",
      "metadata": {
        "id": "S2H9_O--GUO5",
        "colab": {
          "base_uri": "https://localhost:8080/",
          "height": 423
        },
        "outputId": "27cf0f65-dc46-4609-802e-7372942ae2a0"
      },
      "source": [
        "\n",
        "\n",
        "# extracting out our features from the balanced dataframe \n",
        "feat = sqf_bal[['perobs', 'sex', 'age', 'race', 'inout_I', 'inout_O']]\n",
        "# one hot eoncding for our cateogrical variables race and sex \n",
        "feat = pd.get_dummies(feat)\n",
        "\n",
        "# extracing out our object ID \n",
        "obj = sqf_bal['subject_ID']\n",
        "\n",
        "# getting out our target \n",
        "targ = sqf_bal['weapon_fnd']\n",
        "\n",
        "feat"
      ],
      "execution_count": null,
      "outputs": [
        {
          "output_type": "execute_result",
          "data": {
            "text/plain": [
              "        perobs  age  inout_I  inout_O  sex_F  sex_M  sex_Z  race_A  race_B  \\\n",
              "134374       1   29        0        1      0      1      0       0       1   \n",
              "407752       1   18        0        1      0      1      0       0       1   \n",
              "480262       3   35        1        0      0      1      0       0       1   \n",
              "172773       5   33        0        1      0      1      0       0       1   \n",
              "62778       10   25        0        1      0      1      0       0       0   \n",
              "...        ...  ...      ...      ...    ...    ...    ...     ...     ...   \n",
              "600871       5   69        1        0      0      1      0       0       1   \n",
              "600975       1   16        0        1      0      1      0       0       0   \n",
              "600976       1   19        0        1      0      1      0       0       0   \n",
              "601036       2   22        0        1      0      1      0       0       0   \n",
              "601205       5   17        1        0      0      1      0       0       1   \n",
              "\n",
              "        race_I  race_P  race_Q  race_U  race_W  race_Z  \n",
              "134374       0       0       0       0       0       0  \n",
              "407752       0       0       0       0       0       0  \n",
              "480262       0       0       0       0       0       0  \n",
              "172773       0       0       0       0       0       0  \n",
              "62778        0       0       0       0       1       0  \n",
              "...        ...     ...     ...     ...     ...     ...  \n",
              "600871       0       0       0       0       0       0  \n",
              "600975       0       0       1       0       0       0  \n",
              "600976       0       0       1       0       0       0  \n",
              "601036       0       0       1       0       0       0  \n",
              "601205       0       0       0       0       0       0  \n",
              "\n",
              "[6962 rows x 15 columns]"
            ],
            "text/html": [
              "\n",
              "  <div id=\"df-d34880b2-033c-4bdf-9050-4e5e38e63615\">\n",
              "    <div class=\"colab-df-container\">\n",
              "      <div>\n",
              "<style scoped>\n",
              "    .dataframe tbody tr th:only-of-type {\n",
              "        vertical-align: middle;\n",
              "    }\n",
              "\n",
              "    .dataframe tbody tr th {\n",
              "        vertical-align: top;\n",
              "    }\n",
              "\n",
              "    .dataframe thead th {\n",
              "        text-align: right;\n",
              "    }\n",
              "</style>\n",
              "<table border=\"1\" class=\"dataframe\">\n",
              "  <thead>\n",
              "    <tr style=\"text-align: right;\">\n",
              "      <th></th>\n",
              "      <th>perobs</th>\n",
              "      <th>age</th>\n",
              "      <th>inout_I</th>\n",
              "      <th>inout_O</th>\n",
              "      <th>sex_F</th>\n",
              "      <th>sex_M</th>\n",
              "      <th>sex_Z</th>\n",
              "      <th>race_A</th>\n",
              "      <th>race_B</th>\n",
              "      <th>race_I</th>\n",
              "      <th>race_P</th>\n",
              "      <th>race_Q</th>\n",
              "      <th>race_U</th>\n",
              "      <th>race_W</th>\n",
              "      <th>race_Z</th>\n",
              "    </tr>\n",
              "  </thead>\n",
              "  <tbody>\n",
              "    <tr>\n",
              "      <th>134374</th>\n",
              "      <td>1</td>\n",
              "      <td>29</td>\n",
              "      <td>0</td>\n",
              "      <td>1</td>\n",
              "      <td>0</td>\n",
              "      <td>1</td>\n",
              "      <td>0</td>\n",
              "      <td>0</td>\n",
              "      <td>1</td>\n",
              "      <td>0</td>\n",
              "      <td>0</td>\n",
              "      <td>0</td>\n",
              "      <td>0</td>\n",
              "      <td>0</td>\n",
              "      <td>0</td>\n",
              "    </tr>\n",
              "    <tr>\n",
              "      <th>407752</th>\n",
              "      <td>1</td>\n",
              "      <td>18</td>\n",
              "      <td>0</td>\n",
              "      <td>1</td>\n",
              "      <td>0</td>\n",
              "      <td>1</td>\n",
              "      <td>0</td>\n",
              "      <td>0</td>\n",
              "      <td>1</td>\n",
              "      <td>0</td>\n",
              "      <td>0</td>\n",
              "      <td>0</td>\n",
              "      <td>0</td>\n",
              "      <td>0</td>\n",
              "      <td>0</td>\n",
              "    </tr>\n",
              "    <tr>\n",
              "      <th>480262</th>\n",
              "      <td>3</td>\n",
              "      <td>35</td>\n",
              "      <td>1</td>\n",
              "      <td>0</td>\n",
              "      <td>0</td>\n",
              "      <td>1</td>\n",
              "      <td>0</td>\n",
              "      <td>0</td>\n",
              "      <td>1</td>\n",
              "      <td>0</td>\n",
              "      <td>0</td>\n",
              "      <td>0</td>\n",
              "      <td>0</td>\n",
              "      <td>0</td>\n",
              "      <td>0</td>\n",
              "    </tr>\n",
              "    <tr>\n",
              "      <th>172773</th>\n",
              "      <td>5</td>\n",
              "      <td>33</td>\n",
              "      <td>0</td>\n",
              "      <td>1</td>\n",
              "      <td>0</td>\n",
              "      <td>1</td>\n",
              "      <td>0</td>\n",
              "      <td>0</td>\n",
              "      <td>1</td>\n",
              "      <td>0</td>\n",
              "      <td>0</td>\n",
              "      <td>0</td>\n",
              "      <td>0</td>\n",
              "      <td>0</td>\n",
              "      <td>0</td>\n",
              "    </tr>\n",
              "    <tr>\n",
              "      <th>62778</th>\n",
              "      <td>10</td>\n",
              "      <td>25</td>\n",
              "      <td>0</td>\n",
              "      <td>1</td>\n",
              "      <td>0</td>\n",
              "      <td>1</td>\n",
              "      <td>0</td>\n",
              "      <td>0</td>\n",
              "      <td>0</td>\n",
              "      <td>0</td>\n",
              "      <td>0</td>\n",
              "      <td>0</td>\n",
              "      <td>0</td>\n",
              "      <td>1</td>\n",
              "      <td>0</td>\n",
              "    </tr>\n",
              "    <tr>\n",
              "      <th>...</th>\n",
              "      <td>...</td>\n",
              "      <td>...</td>\n",
              "      <td>...</td>\n",
              "      <td>...</td>\n",
              "      <td>...</td>\n",
              "      <td>...</td>\n",
              "      <td>...</td>\n",
              "      <td>...</td>\n",
              "      <td>...</td>\n",
              "      <td>...</td>\n",
              "      <td>...</td>\n",
              "      <td>...</td>\n",
              "      <td>...</td>\n",
              "      <td>...</td>\n",
              "      <td>...</td>\n",
              "    </tr>\n",
              "    <tr>\n",
              "      <th>600871</th>\n",
              "      <td>5</td>\n",
              "      <td>69</td>\n",
              "      <td>1</td>\n",
              "      <td>0</td>\n",
              "      <td>0</td>\n",
              "      <td>1</td>\n",
              "      <td>0</td>\n",
              "      <td>0</td>\n",
              "      <td>1</td>\n",
              "      <td>0</td>\n",
              "      <td>0</td>\n",
              "      <td>0</td>\n",
              "      <td>0</td>\n",
              "      <td>0</td>\n",
              "      <td>0</td>\n",
              "    </tr>\n",
              "    <tr>\n",
              "      <th>600975</th>\n",
              "      <td>1</td>\n",
              "      <td>16</td>\n",
              "      <td>0</td>\n",
              "      <td>1</td>\n",
              "      <td>0</td>\n",
              "      <td>1</td>\n",
              "      <td>0</td>\n",
              "      <td>0</td>\n",
              "      <td>0</td>\n",
              "      <td>0</td>\n",
              "      <td>0</td>\n",
              "      <td>1</td>\n",
              "      <td>0</td>\n",
              "      <td>0</td>\n",
              "      <td>0</td>\n",
              "    </tr>\n",
              "    <tr>\n",
              "      <th>600976</th>\n",
              "      <td>1</td>\n",
              "      <td>19</td>\n",
              "      <td>0</td>\n",
              "      <td>1</td>\n",
              "      <td>0</td>\n",
              "      <td>1</td>\n",
              "      <td>0</td>\n",
              "      <td>0</td>\n",
              "      <td>0</td>\n",
              "      <td>0</td>\n",
              "      <td>0</td>\n",
              "      <td>1</td>\n",
              "      <td>0</td>\n",
              "      <td>0</td>\n",
              "      <td>0</td>\n",
              "    </tr>\n",
              "    <tr>\n",
              "      <th>601036</th>\n",
              "      <td>2</td>\n",
              "      <td>22</td>\n",
              "      <td>0</td>\n",
              "      <td>1</td>\n",
              "      <td>0</td>\n",
              "      <td>1</td>\n",
              "      <td>0</td>\n",
              "      <td>0</td>\n",
              "      <td>0</td>\n",
              "      <td>0</td>\n",
              "      <td>0</td>\n",
              "      <td>1</td>\n",
              "      <td>0</td>\n",
              "      <td>0</td>\n",
              "      <td>0</td>\n",
              "    </tr>\n",
              "    <tr>\n",
              "      <th>601205</th>\n",
              "      <td>5</td>\n",
              "      <td>17</td>\n",
              "      <td>1</td>\n",
              "      <td>0</td>\n",
              "      <td>0</td>\n",
              "      <td>1</td>\n",
              "      <td>0</td>\n",
              "      <td>0</td>\n",
              "      <td>1</td>\n",
              "      <td>0</td>\n",
              "      <td>0</td>\n",
              "      <td>0</td>\n",
              "      <td>0</td>\n",
              "      <td>0</td>\n",
              "      <td>0</td>\n",
              "    </tr>\n",
              "  </tbody>\n",
              "</table>\n",
              "<p>6962 rows × 15 columns</p>\n",
              "</div>\n",
              "      <button class=\"colab-df-convert\" onclick=\"convertToInteractive('df-d34880b2-033c-4bdf-9050-4e5e38e63615')\"\n",
              "              title=\"Convert this dataframe to an interactive table.\"\n",
              "              style=\"display:none;\">\n",
              "        \n",
              "  <svg xmlns=\"http://www.w3.org/2000/svg\" height=\"24px\"viewBox=\"0 0 24 24\"\n",
              "       width=\"24px\">\n",
              "    <path d=\"M0 0h24v24H0V0z\" fill=\"none\"/>\n",
              "    <path d=\"M18.56 5.44l.94 2.06.94-2.06 2.06-.94-2.06-.94-.94-2.06-.94 2.06-2.06.94zm-11 1L8.5 8.5l.94-2.06 2.06-.94-2.06-.94L8.5 2.5l-.94 2.06-2.06.94zm10 10l.94 2.06.94-2.06 2.06-.94-2.06-.94-.94-2.06-.94 2.06-2.06.94z\"/><path d=\"M17.41 7.96l-1.37-1.37c-.4-.4-.92-.59-1.43-.59-.52 0-1.04.2-1.43.59L10.3 9.45l-7.72 7.72c-.78.78-.78 2.05 0 2.83L4 21.41c.39.39.9.59 1.41.59.51 0 1.02-.2 1.41-.59l7.78-7.78 2.81-2.81c.8-.78.8-2.07 0-2.86zM5.41 20L4 18.59l7.72-7.72 1.47 1.35L5.41 20z\"/>\n",
              "  </svg>\n",
              "      </button>\n",
              "      \n",
              "  <style>\n",
              "    .colab-df-container {\n",
              "      display:flex;\n",
              "      flex-wrap:wrap;\n",
              "      gap: 12px;\n",
              "    }\n",
              "\n",
              "    .colab-df-convert {\n",
              "      background-color: #E8F0FE;\n",
              "      border: none;\n",
              "      border-radius: 50%;\n",
              "      cursor: pointer;\n",
              "      display: none;\n",
              "      fill: #1967D2;\n",
              "      height: 32px;\n",
              "      padding: 0 0 0 0;\n",
              "      width: 32px;\n",
              "    }\n",
              "\n",
              "    .colab-df-convert:hover {\n",
              "      background-color: #E2EBFA;\n",
              "      box-shadow: 0px 1px 2px rgba(60, 64, 67, 0.3), 0px 1px 3px 1px rgba(60, 64, 67, 0.15);\n",
              "      fill: #174EA6;\n",
              "    }\n",
              "\n",
              "    [theme=dark] .colab-df-convert {\n",
              "      background-color: #3B4455;\n",
              "      fill: #D2E3FC;\n",
              "    }\n",
              "\n",
              "    [theme=dark] .colab-df-convert:hover {\n",
              "      background-color: #434B5C;\n",
              "      box-shadow: 0px 1px 3px 1px rgba(0, 0, 0, 0.15);\n",
              "      filter: drop-shadow(0px 1px 2px rgba(0, 0, 0, 0.3));\n",
              "      fill: #FFFFFF;\n",
              "    }\n",
              "  </style>\n",
              "\n",
              "      <script>\n",
              "        const buttonEl =\n",
              "          document.querySelector('#df-d34880b2-033c-4bdf-9050-4e5e38e63615 button.colab-df-convert');\n",
              "        buttonEl.style.display =\n",
              "          google.colab.kernel.accessAllowed ? 'block' : 'none';\n",
              "\n",
              "        async function convertToInteractive(key) {\n",
              "          const element = document.querySelector('#df-d34880b2-033c-4bdf-9050-4e5e38e63615');\n",
              "          const dataTable =\n",
              "            await google.colab.kernel.invokeFunction('convertToInteractive',\n",
              "                                                     [key], {});\n",
              "          if (!dataTable) return;\n",
              "\n",
              "          const docLinkHtml = 'Like what you see? Visit the ' +\n",
              "            '<a target=\"_blank\" href=https://colab.research.google.com/notebooks/data_table.ipynb>data table notebook</a>'\n",
              "            + ' to learn more about interactive tables.';\n",
              "          element.innerHTML = '';\n",
              "          dataTable['output_type'] = 'display_data';\n",
              "          await google.colab.output.renderOutput(dataTable, element);\n",
              "          const docLink = document.createElement('div');\n",
              "          docLink.innerHTML = docLinkHtml;\n",
              "          element.appendChild(docLink);\n",
              "        }\n",
              "      </script>\n",
              "    </div>\n",
              "  </div>\n",
              "  "
            ]
          },
          "metadata": {},
          "execution_count": 77
        }
      ]
    },
    {
      "cell_type": "markdown",
      "metadata": {
        "id": "PgIFtgXVne_W"
      },
      "source": [
        "**Split your features and target into a training and testing set using an 80/20 split, setting `random_state` to `302`.**"
      ]
    },
    {
      "cell_type": "markdown",
      "source": [
        "Loading in our necessary libraries"
      ],
      "metadata": {
        "id": "JDRqp38JLZrr"
      }
    },
    {
      "cell_type": "code",
      "metadata": {
        "id": "dcmHxVvfGuat"
      },
      "source": [
        "# importing the machine learning models \n",
        "from sklearn.ensemble import RandomForestClassifier\n",
        "from sklearn.ensemble import RandomForestRegressor\n",
        "# graphics/visualizations/model metrics\n",
        "from sklearn.metrics import confusion_matrix, ConfusionMatrixDisplay\n",
        "from sklearn.metrics import classification_report\n",
        "from sklearn import tree\n",
        "import graphviz\n",
        "# train test split library to split into test and train\n",
        "from sklearn.model_selection import train_test_split\n",
        "# accuracy score library\n",
        "from sklearn.metrics import accuracy_score\n"
      ],
      "execution_count": null,
      "outputs": []
    },
    {
      "cell_type": "code",
      "source": [
        "# -- create a random training and testing set\n",
        "feat_tr, feat_te, targ_tr, targ_te = train_test_split(feat, targ, test_size=0.2, random_state=302)"
      ],
      "metadata": {
        "id": "o7cwvxS9asY7"
      },
      "execution_count": null,
      "outputs": []
    },
    {
      "cell_type": "markdown",
      "metadata": {
        "id": "nuNQi-YknqU4"
      },
      "source": [
        "**Fit a `RandomForestClassifier` to your data with default hyperparameters and comment on its accuracy <small>(see `week10/04.14.2022/mlpp22_decision_tree_example_part4.ipynb`)</small>.**"
      ]
    },
    {
      "cell_type": "code",
      "metadata": {
        "id": "azzHij0IHC27",
        "colab": {
          "base_uri": "https://localhost:8080/",
          "height": 648
        },
        "outputId": "23042d3d-ba0a-4125-a934-6c3c9630abbd"
      },
      "source": [
        "#########################################################\n",
        "####### INSTANTIATE FIT AND PREDICT THE MODEL ############\n",
        "#########################################################\n",
        "\n",
        "# -- fit a decision tree classifier on the TRAINING data\n",
        "rfc = RandomForestClassifier(random_state=302)\n",
        "rfc.fit(feat_tr, targ_tr)\n",
        "\n",
        "print(\"TRAINING AND TESTING ACCURACIES:\")\n",
        "print(\"\")\n",
        "# -- assess the accuracy on the TRAINING data\n",
        "pred_tr = rfc.predict(feat_tr)\n",
        "acc_tr = accuracy_score(targ_tr, pred_tr)\n",
        "print(\"training accuracy = {0:.3f}\".format(acc_tr))\n",
        "\n",
        "\n",
        "# -- assess the accuracy on the TESTING data\n",
        "pred_te = rfc.predict(feat_te)\n",
        "acc_te = accuracy_score(targ_te, pred_te)\n",
        "print(\"testing accuracy = {0:.3f}\".format(acc_te))\n",
        "\n",
        "#################################################\n",
        "##########   MODEL METRICS    ####################\n",
        "#################################################\n",
        "\n",
        "# -- plot the confusion matrix for the test data\n",
        "fig, ax = plt.subplots(figsize=(6, 6))\n",
        "ConfusionMatrixDisplay.from_estimator(rfc, feat_te, targ_te, cmap=\"Blues\", colorbar=False, ax=ax)\n",
        "fig.show()\n",
        "\n",
        "# -- print the full classification report\n",
        "print(\"\")\n",
        "print(\"CLASSIFICATION REPORT:\")\n",
        "print(classification_report(targ_te, pred_te))"
      ],
      "execution_count": null,
      "outputs": [
        {
          "output_type": "stream",
          "name": "stdout",
          "text": [
            "TRAINING AND TESTING ACCURACIES:\n",
            "\n",
            "training accuracy = 0.728\n",
            "testing accuracy = 0.570\n",
            "\n",
            "CLASSIFICATION REPORT:\n",
            "              precision    recall  f1-score   support\n",
            "\n",
            "           0       0.58      0.60      0.59       710\n",
            "           1       0.56      0.54      0.55       683\n",
            "\n",
            "    accuracy                           0.57      1393\n",
            "   macro avg       0.57      0.57      0.57      1393\n",
            "weighted avg       0.57      0.57      0.57      1393\n",
            "\n"
          ]
        },
        {
          "output_type": "display_data",
          "data": {
            "text/plain": [
              "<Figure size 432x432 with 1 Axes>"
            ],
            "image/png": "[encoded data removed]"
          },
          "metadata": {
            "needs_background": "light"
          }
        }
      ]
    },
    {
      "cell_type": "code",
      "source": [
        "print(\" A quick look at our class balance:\")\n",
        "print(\"True 0 = {0}\".format(424 + 286))\n",
        "print(\"True 1 = {0}\".format(313 + 370))\n"
      ],
      "metadata": {
        "colab": {
          "base_uri": "https://localhost:8080/"
        },
        "id": "yPQLAo2ytlIx",
        "outputId": "4f641d9d-7219-4272-e525-5aaacf5b6707"
      },
      "execution_count": null,
      "outputs": [
        {
          "output_type": "stream",
          "name": "stdout",
          "text": [
            " A quick look at our class balance:\n",
            "True 0 = 710\n",
            "True 1 = 683\n"
          ]
        }
      ]
    },
    {
      "cell_type": "markdown",
      "source": [
        "* **Training & Testing Accuracies Interpretation:** Overall, our baseline model performs fairly well at predicting whether not an individual who was stopped by the police via stop & frisk was found to actually be in posession of a weapon. Our accuracy for our training data with a 80/20 test/split ratio was found to be about 73% which is pretty good. Our accuracy for our testing data was found to be 57% however, which is better than chance -- but not the most robust number. Moreover, from examining our accuracies between our train and test predictions, it does appear that our random forest classification model done here is suffering from overfitting given the gap between the training and testing accuracies where our model is doing a relatively good job at predicting the training data, but is fairing so-so at predciting the testing data and is lacking in terms of generalizability to to say. \n",
        "\n",
        "* **Confusion Matrix Interpretation:**\n",
        "\n",
        "\n",
        "> A quick look at our confusion matrix above for our initial random forest classification model, we have a fairly equal class balance of True 0's being predicted at 710 and True 1' being predicted at 683. So overall, when fitting the model, the model has roughly equal class balance to find the optimal parameters. \n",
        "\n",
        "> In examining the confusion matrix above, we also find that the model did a better job at predicting 0s (that no weapon was found) rather than 1s (that a weapon was found) as the misclassifications ratio of predicted 0s versus true 0s is smaller than that of predicted 1s versus true 1s suggesting to us our model overall performed better at classifying correctly when a weapon wasn't found (0s) relative to when a weapon was found (1s).\n",
        "\n",
        "* **Clasification Report Interpretation:**\n",
        "\n",
        "> Our classification report presented above for the baseline model tells us the same story as the confusion matrix --> However, the recall for 0s (no weapon found) is higher at .60 than the recall for 1s (weapon found) which sits at a value of .54 suggesting to us that our model overall for all values that were true 0s, it predicted correctly these values more for 0s (weapon not found) relative to 1s (weapon found) again suggesting to us that our model has performed better at predicting 0s relative to 1s. To interpret this another way -- we can say that when our model predicted 0s (no weapon found) it only missed 40% of 0s relative to missing 47% of 1s. (It is important to note that there are overall slightly more 0s relative to 1s (710 to 683 overall) in our model. \n",
        "\n",
        "> In looking at the precision in the classification report in detail --  our model at predicting both 0s (no weapon found) & 1s (weapon found) performed roughly the same. What the figure of .58 (0s) and .56 (1s) signify in greater detail is: when a model predicts either a 0 (weapon not found) or 1 (weapon found) it is predicting both classes correct between 56% to 58% of the time. \n",
        "\n",
        "* **Overall**:\n",
        "\n",
        "> Overall, our baseline model in totality appears to predict 0s (weapon not found) better than 1s (weapon found) as although the model is doing roughly the same job at predicting either class (weapon not found or weapon found) for when it does predict weapon not found (0s) -- it is having a higher accuracy overall relative to when the model does predict weapon found (1s) as it is not misclassifying 0s to the extent it is misclassifying 1s as it is only missing 40 % of all 0s relative to 46% of all 1s.\n",
        "\n",
        "\n",
        "\n",
        "\n",
        "\n",
        "\n",
        "\n",
        "\n",
        "\n",
        "\n",
        "\n",
        "\n",
        "\n",
        "\n",
        "\n",
        "\n",
        "\n"
      ],
      "metadata": {
        "id": "tSWm2mpKqg9y"
      }
    },
    {
      "cell_type": "markdown",
      "metadata": {
        "id": "lkEmrNYTn2po"
      },
      "source": [
        "**Tune the `min_samples_leaf` hyperparameter using Grid Search with Cross Validation and comment on the resultant model accuracy <small>(see `week10/04.14.2022/mlpp22_decision_tree_example_part4.ipynb`)</small>.**"
      ]
    },
    {
      "cell_type": "markdown",
      "source": [
        "1. **First tuning the parameters with grid search & then run that model in full with the optimal hyper-parameter value found** "
      ],
      "metadata": {
        "id": "wS-zwo4DBuAf"
      }
    },
    {
      "cell_type": "code",
      "metadata": {
        "id": "-MtV8qHgHiAt",
        "colab": {
          "base_uri": "https://localhost:8080/"
        },
        "outputId": "e5e5c75f-0533-4ec5-c658-894b608372c1"
      },
      "source": [
        "# -- import helper tools from sklearn\n",
        "from sklearn.model_selection import GridSearchCV\n",
        "\n",
        "# -- select the parameter(s) to tune and the values to try\n",
        "tuned_parameters = [{\"min_samples_leaf\" : [1, 2, 5, 10, 20, 50, 100, 200, 500]}]\n",
        "\n",
        "# -- perform Grid Search\n",
        "rfc_tune = RandomForestClassifier(random_state=302)\n",
        "cv_tune = GridSearchCV(rfc_tune, tuned_parameters)\n",
        "cv_tune.fit(feat_tr, targ_tr)\n",
        "\n",
        "# -- print out the params with the highest \"score\"\n",
        "print(cv_tune.best_params_)\n",
        "print(cv_tune.best_score_)"
      ],
      "execution_count": null,
      "outputs": [
        {
          "output_type": "stream",
          "name": "stdout",
          "text": [
            "{'min_samples_leaf': 20}\n",
            "0.5934655072014918\n"
          ]
        }
      ]
    },
    {
      "cell_type": "markdown",
      "source": [
        "**The grid search found that the optimal hyperparameter was to set min_samples_leaf to 20 --> Below we run that model**"
      ],
      "metadata": {
        "id": "uj9X_bSGD0LB"
      }
    },
    {
      "cell_type": "code",
      "source": [
        "#########################################################\n",
        "####### INSTANTIATE FIT AND PREDICT THE MODEL ############\n",
        "#########################################################\n",
        "\n",
        "# -- fit a decision tree classifier on the TRAINING data\n",
        "rfc_tune = RandomForestClassifier(random_state=302, min_samples_leaf=20)\n",
        "rfc_tune.fit(feat_tr, targ_tr)\n",
        "\n",
        "print(\"TRAINING AND TESTING ACCURACIES:\")\n",
        "print(\"\")\n",
        "# -- assess the accuracy on the TRAINING data\n",
        "pred_tr = rfc_tune.predict(feat_tr)\n",
        "acc_tr = accuracy_score(targ_tr, pred_tr)\n",
        "print(\"training accuracy = {0:.3f}\".format(acc_tr))\n",
        "\n",
        "\n",
        "# -- assess the accuracy on the TESTING data\n",
        "pred_te = rfc_tune.predict(feat_te)\n",
        "acc_te = accuracy_score(targ_te, pred_te)\n",
        "print(\"testing accuracy = {0:.3f}\".format(acc_te))\n",
        "\n",
        "#################################################\n",
        "##########   MODEL METRICS    ####################\n",
        "#################################################\n",
        "\n",
        "# -- plot the confusion matrix for the test data\n",
        "fig, ax = plt.subplots(figsize=(6, 6))\n",
        "ConfusionMatrixDisplay.from_estimator(rfc_tune, feat_te, targ_te, cmap=\"Blues\", colorbar=False, ax=ax)\n",
        "fig.show()\n",
        "\n",
        "# -- print the full classification report\n",
        "print(\"\")\n",
        "print(\"CLASSIFICATION REPORT:\")\n",
        "print(classification_report(targ_te, pred_te))"
      ],
      "metadata": {
        "colab": {
          "base_uri": "https://localhost:8080/",
          "height": 648
        },
        "id": "tFIYrxOwDl6h",
        "outputId": "9542d370-04d7-4e96-de45-12eb8d051201"
      },
      "execution_count": null,
      "outputs": [
        {
          "output_type": "stream",
          "name": "stdout",
          "text": [
            "TRAINING AND TESTING ACCURACIES:\n",
            "\n",
            "training accuracy = 0.606\n",
            "testing accuracy = 0.589\n",
            "\n",
            "CLASSIFICATION REPORT:\n",
            "              precision    recall  f1-score   support\n",
            "\n",
            "           0       0.58      0.72      0.64       710\n",
            "           1       0.61      0.45      0.52       683\n",
            "\n",
            "    accuracy                           0.59      1393\n",
            "   macro avg       0.59      0.59      0.58      1393\n",
            "weighted avg       0.59      0.59      0.58      1393\n",
            "\n"
          ]
        },
        {
          "output_type": "display_data",
          "data": {
            "text/plain": [
              "<Figure size 432x432 with 1 Axes>"
            ],
            "image/png": "[encoded data removed]"
          },
          "metadata": {
            "needs_background": "light"
          }
        }
      ]
    },
    {
      "cell_type": "code",
      "source": [
        "print(\"A quick look at our class balance:\")\n",
        "print(\"True 0 = {0}\".format(513 + 197))\n",
        "print(\"True 1 = {0}\".format(375 + 308))\n"
      ],
      "metadata": {
        "colab": {
          "base_uri": "https://localhost:8080/"
        },
        "id": "EqRb8dTo1A8B",
        "outputId": "73782c39-2289-4a7d-932e-c46121c88334"
      },
      "execution_count": null,
      "outputs": [
        {
          "output_type": "stream",
          "name": "stdout",
          "text": [
            "A quick look at our class balance:\n",
            "True 0 = 710\n",
            "True 1 = 683\n"
          ]
        }
      ]
    },
    {
      "cell_type": "markdown",
      "source": [
        "**Tuned Model Interpretation:**\n",
        "\n",
        "* Beginning with an examination of our testing and accuracy scores, we can see that our tuned model that our gridSearchCV had found where the hyperparameter we sought to optimze was min_samples_leaf = 20 resulted in a much tighter spread between our training and testing accuracies. Although the training accuracy was lowered from about 73% accurate to about 61% accurate, the accuracy on the testing set improved from 57% in the base model to nearly 59% in the tuned model. Therefore, although our training accuracy became lowered with the tuned model, our model has actually performed better as the accuracy on the testing set in the tuned model increased. Moreover, the spead between the training and testing accuracies alike is very close in the tuned model suggesting that our model is not being subject to overfitting where it is learning much better on the training data and performing worse on the testing data as it had done in the base model. In the tuned model, what we see is the training and testing accuracies are pretty close suggesting to us that our model learned well(deccent) from the training set but was also able to better generalize said learning to the testing set in our tuned model. \n",
        "\n",
        "* **Interpretation for CLASSIFICATION REPORT**\n",
        "\n",
        "> In looking at the precision scores for both 0s (weapon not found) & 1s (weapon found) --> we have an increase in precision for both of these meaures in our tuned model relative to our un-tuned model. However, this time, the precision is higher for 1s in the tuned model than 0s and this was the oppsoite case for the un-tuned model. With that said, our model has a 61% accuracy at predicting a weapon being found on a suspect (1) and a 58 % accuracy at predicting a weapon not being found on a suspect (0) for when it does predict these respective classes. \n",
        "\n",
        "> In examining the recall for the tuned model, what we see for 0s (no weapon found) is that when our random forest model is predicting 0s -- it only missed 28% of 0s relative to when it predicted 1s (weapon found) it missed a whopping 55% of all 1s. \n",
        "\n",
        "Overall, what this tells us is that even though the precision is slightly higher for predicting 1s relative to 0s in our tuned model, the recall for 1s (weapon found) is significantly worse off. For policymaking, this is problematic as this high recall if there is a prediciton that a weapon is found (1) signifies there will be a lot of misclassification and this can have significant ramifcations for relations between members of the police and members of the community who are subject to stop & frisk measures. Moreover, at the end of the day, our tuned random forest classification model has also demonstrably performed better than our un-tuned model as well in almost all associated metrics providing evidence for the robustness that we should go with the more constrained model (tuned model) relative to the unconstrained (base model).\n",
        "\n",
        "\n",
        "\n",
        "\n"
      ],
      "metadata": {
        "id": "ab1zxlqaPir1"
      }
    },
    {
      "cell_type": "markdown",
      "source": [
        "2. **Perform K-folds cross-validation**"
      ],
      "metadata": {
        "id": "kIk9NDyoDObp"
      }
    },
    {
      "cell_type": "code",
      "source": [
        "# -- import helper tools from sklearn\n",
        "from sklearn.model_selection import cross_validate\n",
        "\n",
        "# -- run K-folds cross validation on our TRAINING set\n",
        "cv_res = cross_validate(rfc_tune, feat_tr, targ_tr, cv=10, return_estimator=True)\n",
        "\n",
        "cv_res['test_score']\n",
        "\n"
      ],
      "metadata": {
        "colab": {
          "base_uri": "https://localhost:8080/"
        },
        "id": "lTgPSpyHDRoD",
        "outputId": "0d12fd14-0931-4242-c3fa-492ce7ca8534"
      },
      "execution_count": null,
      "outputs": [
        {
          "output_type": "execute_result",
          "data": {
            "text/plain": [
              "array([0.57989228, 0.58886894, 0.58886894, 0.59066427, 0.59245961,\n",
              "       0.64631957, 0.57271095, 0.58707361, 0.57630162, 0.63669065])"
            ]
          },
          "metadata": {},
          "execution_count": 85
        }
      ]
    },
    {
      "cell_type": "markdown",
      "source": [
        "Looking at the testing accuracies above after performing k-fold cross-validation for 10 folds on our tuned random forest classification model -- we also see that compared to our main tuned model testing accuracy of **59%** -- that in our various K fold validation models, we are generally getting around 59% accuracy as well with some slight margin of error suggesting to us that our chosen tuned (constrained) model is a robust model. "
      ],
      "metadata": {
        "id": "FecXDEAQ6LUg"
      }
    },
    {
      "cell_type": "code",
      "source": [
        "## Plotting the feature importances for both the un-tuned and tuned model## \n",
        "\n",
        "############# dataframe creation\n",
        "############ For Un-tuned model #################\n",
        "###################################\n",
        "\n",
        "# -- create importances DataFrame\n",
        "imp_untuned = pd.DataFrame()\n",
        "imp_untuned['feature'] = feat.columns\n",
        "imp_untuned['importances'] = rfc.feature_importances_\n",
        "\n",
        "# -- sort the values \n",
        "importances_untuned = imp_untuned.sort_values('importances', ascending=False)\n",
        "\n",
        "\n",
        "\n",
        "\n",
        "\n",
        "###################\n",
        "###################\n",
        "## For tuned model\n",
        "###################\n",
        "#################\n",
        "# -- create importances DataFrame\n",
        "imp = pd.DataFrame()\n",
        "imp['feature'] = feat.columns\n",
        "imp['importances'] = rfc_tune.feature_importances_\n",
        "\n",
        "# -- sort the values \n",
        "importances = imp.sort_values('importances', ascending=False)\n",
        "\n",
        "# -- make the plot\n",
        "fig, ax = plt.subplots(2, 1, figsize=(15, 8))\n",
        "# for untuned model\n",
        "importances_untuned.plot('feature', 'importances', kind='bar', xlabel='', ylabel='feature importance', legend=False, ax=ax[0], label='Un-tuned model', color='red')\n",
        "ax[0].legend()\n",
        "\n",
        "# for tuned model\n",
        "importances.plot('feature', 'importances', kind='bar', xlabel='', ylabel='feature importance', legend=False, ax=ax[1], label='Tuned Model')\n",
        "ax[1].legend()\n",
        "fig.show()"
      ],
      "metadata": {
        "colab": {
          "base_uri": "https://localhost:8080/",
          "height": 511
        },
        "id": "LO4pjR8J8R3J",
        "outputId": "43f2a105-105c-437c-b48a-b34bec20e6de"
      },
      "execution_count": null,
      "outputs": [
        {
          "output_type": "display_data",
          "data": {
            "text/plain": [
              "<Figure size 1080x576 with 2 Axes>"
            ],
            "image/png": "[encoded data removed]"
          },
          "metadata": {
            "needs_background": "light"
          }
        }
      ]
    },
    {
      "cell_type": "markdown",
      "source": [
        "**Figure 3** plots a bar chart of the feature importances for our untuned model shown in red in the top panel and for our tuned model shown in blue in the bottom panel. For both the untuned and tuned model, the feature that carries the most weight in terms of correctly predicting whether a suspect who was stopped and frisked was found to have a weapon is age. However, the feature importances begin to diverge thereafter with the stop and frisk taking place outside found to be the 2nd most important feature for the tuned model versus period of observation as the 2nd most important feature for the un-tuned model. Also, it is important to notice that in the tuned model shown in blue in the bottom panel, this model picked up better the importance of other features as well relative to the un-tuned model shown in red that pretty much only showed that the top 2 features mattered only for when it came to predicting whether or not a suspect had a weapon. We also see in the tuned model as well that our various 'race' features have done a more robust job and carry more weight for predcting whether or not as suspect stopped and frisked had a weapon on them with noticeably both white and black race features being important predictors for our target. Thus, it is clear that race does matter. "
      ],
      "metadata": {
        "id": "NQFuObtEa2tV"
      }
    },
    {
      "cell_type": "markdown",
      "source": [
        "### **Part 4 - Fitting Tree-based Regression Models**"
      ],
      "metadata": {
        "id": "XKA-dOVAGxv-"
      }
    },
    {
      "cell_type": "markdown",
      "source": [
        "In this part of the assignment, you'll be extending your modeling to include predictions of *probabilities* that a weapon was found given your features using tree-based regression models."
      ],
      "metadata": {
        "id": "BBXnQip9ZXsL"
      }
    },
    {
      "cell_type": "markdown",
      "metadata": {
        "id": "U24ZcN0-oT1s"
      },
      "source": [
        "**Fit a Random Forest *Regressor* to the data (being sure to tune `min_samples_leaf` with Grid Search).**"
      ]
    },
    {
      "cell_type": "markdown",
      "source": [
        "1. **First tuning the model w/ grid search**"
      ],
      "metadata": {
        "id": "Cf1YdbtjFCUt"
      }
    },
    {
      "cell_type": "code",
      "source": [
        "# mean square error and model metric libraries\n",
        "from sklearn.metrics import mean_squared_error\n",
        "from sklearn.metrics import r2_score"
      ],
      "metadata": {
        "id": "wHMly4N8FtS6"
      },
      "execution_count": null,
      "outputs": []
    },
    {
      "cell_type": "code",
      "source": [
        "# -- import helper tools from sklearn\n",
        "from sklearn.model_selection import GridSearchCV\n",
        "\n",
        "# -- select the parameter(s) to tune and the values to try\n",
        "tuned_parameters = [{\"min_samples_leaf\" : [1, 2, 5, 10, 15, 20, 25, 50, 100, 200, 500]}]\n",
        "\n",
        "# -- perform Grid Search\n",
        "rfr_tune = RandomForestRegressor(random_state=302)\n",
        "cv_tune = GridSearchCV(rfr_tune, tuned_parameters)\n",
        "cv_tune.fit(feat_tr, targ_tr)\n",
        "\n",
        "# -- print out the params with the highest \"score\"\n",
        "print(cv_tune.best_params_)\n",
        "print(cv_tune.best_score_)"
      ],
      "metadata": {
        "colab": {
          "base_uri": "https://localhost:8080/"
        },
        "id": "txv_gmvDFBUl",
        "outputId": "aaa3ced7-053f-4cb7-db4c-e686cdfe9da2"
      },
      "execution_count": null,
      "outputs": [
        {
          "output_type": "stream",
          "name": "stdout",
          "text": [
            "{'min_samples_leaf': 50}\n",
            "0.05719068693411951\n"
          ]
        }
      ]
    },
    {
      "cell_type": "markdown",
      "source": [
        "**Our gridsearchCV found that optimal value with min_samples_leaf hyperparameter = 50. Now let us run our random forest regression model with this hyperparameter optimized**"
      ],
      "metadata": {
        "id": "kYHOFu5ZGx9u"
      }
    },
    {
      "cell_type": "code",
      "metadata": {
        "id": "iCmsupnrpHXQ",
        "colab": {
          "base_uri": "https://localhost:8080/"
        },
        "outputId": "543515aa-27d2-4677-f4e3-e5c56fdaa159"
      },
      "source": [
        "rfr = RandomForestRegressor(random_state=302, min_samples_leaf=50)\n",
        "rfr.fit(feat_tr, targ_tr)\n",
        "\n",
        "# -- assess the accuracy on the TRAINING data\n",
        "pred_tr = rfr.predict(feat_tr)\n",
        "R_square_train = r2_score(targ_tr, pred_tr)\n",
        "MSE_train = mean_squared_error(targ_tr, pred_tr)\n",
        "print(\"R^2 train = {0:.3f}\".format(R_square_train))\n",
        "print(\"Mean Squared Error train = {0:.3f}\".format(MSE_train))\n",
        "\n",
        "\n",
        "# -- assess the accuracy on the TESTING data\n",
        "pred_te = rfr.predict(feat_te)\n",
        "R_square_test = r2_score(targ_te, pred_te)\n",
        "MSE_test = mean_squared_error(targ_te, pred_te)\n",
        "print(\"\")\n",
        "print(\"R^2 test = {0:.3f}\".format(R_square_test))\n",
        "print(\"Mean Squared Error test = {0:.3f}\".format(MSE_test))"
      ],
      "execution_count": null,
      "outputs": [
        {
          "output_type": "stream",
          "name": "stdout",
          "text": [
            "R^2 train = 0.093\n",
            "Mean Squared Error train = 0.227\n",
            "\n",
            "R^2 test = 0.062\n",
            "Mean Squared Error test = 0.234\n"
          ]
        }
      ]
    },
    {
      "cell_type": "markdown",
      "source": [
        "Overall, we see that our model hasn't necessarily fit the data the best as our R^2 for both train and test sets are very low suggesting to us that our features explained little variation in our target. However, we won't worry about the \"fit\" right now so to say as we are more worried about the predictions and insights that the random forest regression model can provide us. More on this below. "
      ],
      "metadata": {
        "id": "NmoNh25GjG7-"
      }
    },
    {
      "cell_type": "markdown",
      "metadata": {
        "id": "8h8R24DKpHKB"
      },
      "source": [
        "**With this Random Forest Regressor, we can interpret the prediction of the model as the probability that a weapon would be found given the features.  Make a histogram (`range` of 0 to 1 and 30 bins) of the predictions of this model using the subset of the testing data for which the subject's race was white and another histogram using the subset of the testing data for which the subject's race was black.**"
      ]
    },
    {
      "cell_type": "code",
      "source": [
        "whites = feat_te.copy()\n",
        "whites['predictions'] = pred_te\n",
        "whites_only = whites['race_W'] == 1\n",
        "whites = whites[whites_only]\n",
        "\n",
        "\n",
        "blacks = feat_te.copy()\n",
        "blacks['predictions'] = pred_te\n",
        "blacks_only = blacks['race_B'] == 1\n",
        "blacks = blacks[blacks_only]\n"
      ],
      "metadata": {
        "id": "uB34LALNQDvL"
      },
      "execution_count": null,
      "outputs": []
    },
    {
      "cell_type": "code",
      "source": [
        "## getting the mean and medians of these 2 subsets for plotting\n",
        "white_mean = whites['predictions'].mean()\n",
        "white_median = whites['predictions'].median()\n",
        "\n",
        "black_mean = blacks['predictions'].mean()\n",
        "black_median = blacks['predictions'].median()"
      ],
      "metadata": {
        "id": "7qmRiG17n2_U"
      },
      "execution_count": null,
      "outputs": []
    },
    {
      "cell_type": "code",
      "metadata": {
        "id": "_OJ48EjfaUoW",
        "colab": {
          "base_uri": "https://localhost:8080/",
          "height": 299
        },
        "outputId": "6819d598-1e80-47da-9932-7ccd505797ef"
      },
      "source": [
        "\n",
        "\n",
        "\n",
        "# histogram for whites \n",
        "fig, ax = plt.subplots(1, 2, figsize=(16, 4))\n",
        "whites.hist(\"predictions\", bins=30, ax=ax[0], label = \"\", alpha=.6)\n",
        "ax[0].set_title(\"Panel 1: Pr White Suspect Weapon Found\")\n",
        "ax[0].axvline(white_mean, color='red', label = 'Mean')\n",
        "ax[0].axvline(white_median, color='purple', label='Median')\n",
        "ax[0].legend()\n",
        "\n",
        "# histogram for blacks \n",
        "blacks.hist(\"predictions\", bins=30, ax=ax[1], label = \"Predictions\", alpha=.6)\n",
        "ax[1].set_title(\"Panel 2: Pr Black Suspect Weapon Found\")\n",
        "ax[1].axvline(black_mean, color='red', label = 'Mean')\n",
        "ax[1].axvline(black_median, color='purple', label='Median')\n",
        "ax[1].legend()"
      ],
      "execution_count": null,
      "outputs": [
        {
          "output_type": "execute_result",
          "data": {
            "text/plain": [
              "<matplotlib.legend.Legend at 0x7fe28f036310>"
            ]
          },
          "metadata": {},
          "execution_count": 92
        },
        {
          "output_type": "display_data",
          "data": {
            "text/plain": [
              "<Figure size 1152x288 with 2 Axes>"
            ],
            "image/png": "[encoded data removed]"
          },
          "metadata": {
            "needs_background": "light"
          }
        }
      ]
    },
    {
      "cell_type": "markdown",
      "metadata": {
        "id": "eklSAsShpwJo"
      },
      "source": [
        "**Figure 1:** plots histograms of our predictions from our random forest regression model for white and black suspects and their probabilities that they were found in possession of a weapon. The mean and median for each series respectively is shown in red and purple Figure 1 plots in panel 1 on the left-hand side, the \"probabilities\" that a white suspect was found in possession of a weapon given our features. Panel 2 on the right-hand side plots the \"probabilities\" that a black suspect was found with a weapon given our features. Overall, figure 1 carries with it several implications:\n",
        "\n",
        "1. For one, in panel 2 -- the density of the histogram is much greater towards the center of the distribution for blacks relative to panel 1 for whites. This implies that in panel 2 which plots the probabilities that a black suspect was found with a weapon after stop and frisk, really have no deterministic outcome to them and is pretty much left to random chance. This is further demonstrated by the mean and median plotted in red and purple vertial lines that show that for black suspects that were stopped and frisked, there was even less of a probability than random chance on average that they would have been found to be in posession of a weapon suggesting that black suspects were being stopped and frisked more than the majority of the time for no viable reason as less than half the time they were stopped and frisked -- they were found to be in posession of a weapon. \n",
        "\n",
        "2. Second, in panel 1 which plots the probabilities that a white suspect was stopped and frisked and found to be in posession of a weapon show a much different story. The mean and median plotted in red and purple respectively demonstrate that when whites were stopped and frisked and found to be in posession of a weapon, that this probability was nearly 70% on average suggesting that when officers from NYPD stopped and frisked whites, they had actually better reasons to as more of the time they actually did find a weapon relative to officers stopping and frisking black suspects. Moreover, if we look at the upper end of the distribution of panel 1 -- we see a significant spike in this distribution towards the 80-90% range that a white suspect was found to be in possession of a weapon which once again suggests to us that officers were targeting white suspects for good reasons while they were targeting black suspects more or less indiscriminately. "
      ]
    },
    {
      "cell_type": "markdown",
      "metadata": {
        "id": "he_13Kg9p8_A"
      },
      "source": [
        "**Repeat the above (fit a Random Forest Regressor and plot histograms of the predictions of the subsets of the test data for which the subject was white and black) but *removing the subject's race as a feature on which the model is fit*.**"
      ]
    },
    {
      "cell_type": "code",
      "source": [
        "# features engineering -- creating a copy of the dataframe\n",
        "feat_wo_race = feat.copy()\n",
        "\n",
        "# extracting our object ID's (race)\n",
        "obj_blacks = feat_wo_race['race_B']\n",
        "obj_whites = feat_wo_race['race_W']\n",
        "\n",
        "# getting only the columns we want for our features dataframe (keeping the same target variable as created above)\n",
        "feat_wo_race = feat_wo_race[['perobs', 'age', 'inout_I', 'inout_O', 'sex_F', 'sex_M', 'sex_Z']]\n",
        "\n",
        "# -- create a random training and testing set\n",
        "feat_tr, feat_te, targ_tr, targ_te = train_test_split(feat_wo_race, targ, test_size=0.2, random_state=302)\n"
      ],
      "metadata": {
        "id": "GHzs5XJys158"
      },
      "execution_count": null,
      "outputs": []
    },
    {
      "cell_type": "markdown",
      "source": [
        "Run the Model"
      ],
      "metadata": {
        "id": "3hplfbKwwNwx"
      }
    },
    {
      "cell_type": "code",
      "source": [
        "rfr_wo_race = RandomForestRegressor(random_state=302, min_samples_leaf=50)\n",
        "rfr_wo_race.fit(feat_tr, targ_tr)\n",
        "\n",
        "# -- assess the accuracy on the TRAINING data\n",
        "pred_tr_wo_race = rfr_wo_race.predict(feat_tr)\n",
        "R_square_train_wo_race = r2_score(targ_tr, pred_tr_wo_race)\n",
        "MSE_train_wo_race = mean_squared_error(targ_tr, pred_tr_wo_race)\n",
        "print(\"R^2 train = {0:.3f}\".format(R_square_train_wo_race))\n",
        "print(\"Mean Squared Error train = {0:.3f}\".format(MSE_train_wo_race))\n",
        "\n",
        "\n",
        "# -- assess the accuracy on the TESTING data\n",
        "pred_te_wo_race = rfr_wo_race.predict(feat_te)\n",
        "R_square_test_wo_race = r2_score(targ_te, pred_te_wo_race)\n",
        "MSE_test_wo_race = mean_squared_error(targ_te, pred_te_wo_race)\n",
        "print(\"\")\n",
        "print(\"R^2 test = {0:.3f}\".format(R_square_test_wo_race))\n",
        "print(\"Mean Squared Error test = {0:.3f}\".format(MSE_test_wo_race))"
      ],
      "metadata": {
        "colab": {
          "base_uri": "https://localhost:8080/"
        },
        "id": "yHVvmZzWwNPU",
        "outputId": "98ea690b-929a-469f-f604-a283229785f0"
      },
      "execution_count": null,
      "outputs": [
        {
          "output_type": "stream",
          "name": "stdout",
          "text": [
            "R^2 train = 0.069\n",
            "Mean Squared Error train = 0.233\n",
            "\n",
            "R^2 test = 0.046\n",
            "Mean Squared Error test = 0.238\n"
          ]
        }
      ]
    },
    {
      "cell_type": "markdown",
      "source": [
        "Overall, for our model performance and fit when removing all race features from the main features dataset to predict our target, we see a slight decrease in performance overall with our current set of model metrics. Again, however, this is not the main crux of the analysis and what matters to us is the insights and visualizations that our random forest regression model has derived as it pertains to model predictions. "
      ],
      "metadata": {
        "id": "RyQtMmetlq05"
      }
    },
    {
      "cell_type": "code",
      "source": [
        "len(pred_te_wo_race)"
      ],
      "metadata": {
        "colab": {
          "base_uri": "https://localhost:8080/"
        },
        "id": "AHV7e20X7aSO",
        "outputId": "0f93eeba-47e5-451d-96f4-1dbf2d6480c8"
      },
      "execution_count": null,
      "outputs": [
        {
          "output_type": "execute_result",
          "data": {
            "text/plain": [
              "1393"
            ]
          },
          "metadata": {},
          "execution_count": 95
        }
      ]
    },
    {
      "cell_type": "code",
      "source": [
        "# creating dataframe for whites removed predictions from ML model but white object IDs added back in \n",
        "whites_removed = pd.merge(obj_whites, feat_te, right_index=True, left_index=True)\n",
        "whites_removed['predictions'] = pred_te_wo_race\n",
        "whites_removed_sub = whites_removed['race_W'] == 1\n",
        "whites_removed = whites_removed[whites_removed_sub]\n",
        "whites_removed\n",
        "\n",
        "# creating dataframe for blacks removed predictions from ML model but black object IDs added back in \n",
        "blacks_removed = pd.merge(obj_blacks, feat_te, right_index=True, left_index=True)\n",
        "blacks_removed['predictions'] = pred_te_wo_race\n",
        "blacks_removed_sub = blacks_removed['race_B'] == 1\n",
        "blacks_removed = blacks_removed[blacks_removed_sub]\n",
        "blacks_removed"
      ],
      "metadata": {
        "colab": {
          "base_uri": "https://localhost:8080/",
          "height": 423
        },
        "id": "Hlc4zI3f6KvY",
        "outputId": "970fe4cd-16b0-4b72-97aa-9cc5a8c18a0d"
      },
      "execution_count": null,
      "outputs": [
        {
          "output_type": "execute_result",
          "data": {
            "text/plain": [
              "        race_B  perobs  age  inout_I  inout_O  sex_F  sex_M  sex_Z  \\\n",
              "379377       1       1   24        0        1      0      1      0   \n",
              "276607       1       1   17        0        1      0      1      0   \n",
              "285220       1       5   24        0        1      0      1      0   \n",
              "270182       1       5   41        0        1      1      0      0   \n",
              "390417       1       4   20        1        0      0      1      0   \n",
              "...        ...     ...  ...      ...      ...    ...    ...    ...   \n",
              "588066       1      10   18        0        1      0      1      0   \n",
              "598824       1       1   32        1        0      0      1      0   \n",
              "599146       1       1   32        0        1      0      1      0   \n",
              "599901       1       2   47        0        1      0      1      0   \n",
              "600351       1       1   16        0        1      0      1      0   \n",
              "\n",
              "        predictions  \n",
              "379377     0.542528  \n",
              "276607     0.508225  \n",
              "285220     0.441940  \n",
              "270182     0.455218  \n",
              "390417     0.460852  \n",
              "...             ...  \n",
              "588066     0.443638  \n",
              "598824     0.506263  \n",
              "599146     0.427393  \n",
              "599901     0.777388  \n",
              "600351     0.508359  \n",
              "\n",
              "[629 rows x 9 columns]"
            ],
            "text/html": [
              "\n",
              "  <div id=\"df-993a1458-c468-4a93-a3e9-a0be612576f9\">\n",
              "    <div class=\"colab-df-container\">\n",
              "      <div>\n",
              "<style scoped>\n",
              "    .dataframe tbody tr th:only-of-type {\n",
              "        vertical-align: middle;\n",
              "    }\n",
              "\n",
              "    .dataframe tbody tr th {\n",
              "        vertical-align: top;\n",
              "    }\n",
              "\n",
              "    .dataframe thead th {\n",
              "        text-align: right;\n",
              "    }\n",
              "</style>\n",
              "<table border=\"1\" class=\"dataframe\">\n",
              "  <thead>\n",
              "    <tr style=\"text-align: right;\">\n",
              "      <th></th>\n",
              "      <th>race_B</th>\n",
              "      <th>perobs</th>\n",
              "      <th>age</th>\n",
              "      <th>inout_I</th>\n",
              "      <th>inout_O</th>\n",
              "      <th>sex_F</th>\n",
              "      <th>sex_M</th>\n",
              "      <th>sex_Z</th>\n",
              "      <th>predictions</th>\n",
              "    </tr>\n",
              "  </thead>\n",
              "  <tbody>\n",
              "    <tr>\n",
              "      <th>379377</th>\n",
              "      <td>1</td>\n",
              "      <td>1</td>\n",
              "      <td>24</td>\n",
              "      <td>0</td>\n",
              "      <td>1</td>\n",
              "      <td>0</td>\n",
              "      <td>1</td>\n",
              "      <td>0</td>\n",
              "      <td>0.542528</td>\n",
              "    </tr>\n",
              "    <tr>\n",
              "      <th>276607</th>\n",
              "      <td>1</td>\n",
              "      <td>1</td>\n",
              "      <td>17</td>\n",
              "      <td>0</td>\n",
              "      <td>1</td>\n",
              "      <td>0</td>\n",
              "      <td>1</td>\n",
              "      <td>0</td>\n",
              "      <td>0.508225</td>\n",
              "    </tr>\n",
              "    <tr>\n",
              "      <th>285220</th>\n",
              "      <td>1</td>\n",
              "      <td>5</td>\n",
              "      <td>24</td>\n",
              "      <td>0</td>\n",
              "      <td>1</td>\n",
              "      <td>0</td>\n",
              "      <td>1</td>\n",
              "      <td>0</td>\n",
              "      <td>0.441940</td>\n",
              "    </tr>\n",
              "    <tr>\n",
              "      <th>270182</th>\n",
              "      <td>1</td>\n",
              "      <td>5</td>\n",
              "      <td>41</td>\n",
              "      <td>0</td>\n",
              "      <td>1</td>\n",
              "      <td>1</td>\n",
              "      <td>0</td>\n",
              "      <td>0</td>\n",
              "      <td>0.455218</td>\n",
              "    </tr>\n",
              "    <tr>\n",
              "      <th>390417</th>\n",
              "      <td>1</td>\n",
              "      <td>4</td>\n",
              "      <td>20</td>\n",
              "      <td>1</td>\n",
              "      <td>0</td>\n",
              "      <td>0</td>\n",
              "      <td>1</td>\n",
              "      <td>0</td>\n",
              "      <td>0.460852</td>\n",
              "    </tr>\n",
              "    <tr>\n",
              "      <th>...</th>\n",
              "      <td>...</td>\n",
              "      <td>...</td>\n",
              "      <td>...</td>\n",
              "      <td>...</td>\n",
              "      <td>...</td>\n",
              "      <td>...</td>\n",
              "      <td>...</td>\n",
              "      <td>...</td>\n",
              "      <td>...</td>\n",
              "    </tr>\n",
              "    <tr>\n",
              "      <th>588066</th>\n",
              "      <td>1</td>\n",
              "      <td>10</td>\n",
              "      <td>18</td>\n",
              "      <td>0</td>\n",
              "      <td>1</td>\n",
              "      <td>0</td>\n",
              "      <td>1</td>\n",
              "      <td>0</td>\n",
              "      <td>0.443638</td>\n",
              "    </tr>\n",
              "    <tr>\n",
              "      <th>598824</th>\n",
              "      <td>1</td>\n",
              "      <td>1</td>\n",
              "      <td>32</td>\n",
              "      <td>1</td>\n",
              "      <td>0</td>\n",
              "      <td>0</td>\n",
              "      <td>1</td>\n",
              "      <td>0</td>\n",
              "      <td>0.506263</td>\n",
              "    </tr>\n",
              "    <tr>\n",
              "      <th>599146</th>\n",
              "      <td>1</td>\n",
              "      <td>1</td>\n",
              "      <td>32</td>\n",
              "      <td>0</td>\n",
              "      <td>1</td>\n",
              "      <td>0</td>\n",
              "      <td>1</td>\n",
              "      <td>0</td>\n",
              "      <td>0.427393</td>\n",
              "    </tr>\n",
              "    <tr>\n",
              "      <th>599901</th>\n",
              "      <td>1</td>\n",
              "      <td>2</td>\n",
              "      <td>47</td>\n",
              "      <td>0</td>\n",
              "      <td>1</td>\n",
              "      <td>0</td>\n",
              "      <td>1</td>\n",
              "      <td>0</td>\n",
              "      <td>0.777388</td>\n",
              "    </tr>\n",
              "    <tr>\n",
              "      <th>600351</th>\n",
              "      <td>1</td>\n",
              "      <td>1</td>\n",
              "      <td>16</td>\n",
              "      <td>0</td>\n",
              "      <td>1</td>\n",
              "      <td>0</td>\n",
              "      <td>1</td>\n",
              "      <td>0</td>\n",
              "      <td>0.508359</td>\n",
              "    </tr>\n",
              "  </tbody>\n",
              "</table>\n",
              "<p>629 rows × 9 columns</p>\n",
              "</div>\n",
              "      <button class=\"colab-df-convert\" onclick=\"convertToInteractive('df-993a1458-c468-4a93-a3e9-a0be612576f9')\"\n",
              "              title=\"Convert this dataframe to an interactive table.\"\n",
              "              style=\"display:none;\">\n",
              "        \n",
              "  <svg xmlns=\"http://www.w3.org/2000/svg\" height=\"24px\"viewBox=\"0 0 24 24\"\n",
              "       width=\"24px\">\n",
              "    <path d=\"M0 0h24v24H0V0z\" fill=\"none\"/>\n",
              "    <path d=\"M18.56 5.44l.94 2.06.94-2.06 2.06-.94-2.06-.94-.94-2.06-.94 2.06-2.06.94zm-11 1L8.5 8.5l.94-2.06 2.06-.94-2.06-.94L8.5 2.5l-.94 2.06-2.06.94zm10 10l.94 2.06.94-2.06 2.06-.94-2.06-.94-.94-2.06-.94 2.06-2.06.94z\"/><path d=\"M17.41 7.96l-1.37-1.37c-.4-.4-.92-.59-1.43-.59-.52 0-1.04.2-1.43.59L10.3 9.45l-7.72 7.72c-.78.78-.78 2.05 0 2.83L4 21.41c.39.39.9.59 1.41.59.51 0 1.02-.2 1.41-.59l7.78-7.78 2.81-2.81c.8-.78.8-2.07 0-2.86zM5.41 20L4 18.59l7.72-7.72 1.47 1.35L5.41 20z\"/>\n",
              "  </svg>\n",
              "      </button>\n",
              "      \n",
              "  <style>\n",
              "    .colab-df-container {\n",
              "      display:flex;\n",
              "      flex-wrap:wrap;\n",
              "      gap: 12px;\n",
              "    }\n",
              "\n",
              "    .colab-df-convert {\n",
              "      background-color: #E8F0FE;\n",
              "      border: none;\n",
              "      border-radius: 50%;\n",
              "      cursor: pointer;\n",
              "      display: none;\n",
              "      fill: #1967D2;\n",
              "      height: 32px;\n",
              "      padding: 0 0 0 0;\n",
              "      width: 32px;\n",
              "    }\n",
              "\n",
              "    .colab-df-convert:hover {\n",
              "      background-color: #E2EBFA;\n",
              "      box-shadow: 0px 1px 2px rgba(60, 64, 67, 0.3), 0px 1px 3px 1px rgba(60, 64, 67, 0.15);\n",
              "      fill: #174EA6;\n",
              "    }\n",
              "\n",
              "    [theme=dark] .colab-df-convert {\n",
              "      background-color: #3B4455;\n",
              "      fill: #D2E3FC;\n",
              "    }\n",
              "\n",
              "    [theme=dark] .colab-df-convert:hover {\n",
              "      background-color: #434B5C;\n",
              "      box-shadow: 0px 1px 3px 1px rgba(0, 0, 0, 0.15);\n",
              "      filter: drop-shadow(0px 1px 2px rgba(0, 0, 0, 0.3));\n",
              "      fill: #FFFFFF;\n",
              "    }\n",
              "  </style>\n",
              "\n",
              "      <script>\n",
              "        const buttonEl =\n",
              "          document.querySelector('#df-993a1458-c468-4a93-a3e9-a0be612576f9 button.colab-df-convert');\n",
              "        buttonEl.style.display =\n",
              "          google.colab.kernel.accessAllowed ? 'block' : 'none';\n",
              "\n",
              "        async function convertToInteractive(key) {\n",
              "          const element = document.querySelector('#df-993a1458-c468-4a93-a3e9-a0be612576f9');\n",
              "          const dataTable =\n",
              "            await google.colab.kernel.invokeFunction('convertToInteractive',\n",
              "                                                     [key], {});\n",
              "          if (!dataTable) return;\n",
              "\n",
              "          const docLinkHtml = 'Like what you see? Visit the ' +\n",
              "            '<a target=\"_blank\" href=https://colab.research.google.com/notebooks/data_table.ipynb>data table notebook</a>'\n",
              "            + ' to learn more about interactive tables.';\n",
              "          element.innerHTML = '';\n",
              "          dataTable['output_type'] = 'display_data';\n",
              "          await google.colab.output.renderOutput(dataTable, element);\n",
              "          const docLink = document.createElement('div');\n",
              "          docLink.innerHTML = docLinkHtml;\n",
              "          element.appendChild(docLink);\n",
              "        }\n",
              "      </script>\n",
              "    </div>\n",
              "  </div>\n",
              "  "
            ]
          },
          "metadata": {},
          "execution_count": 96
        }
      ]
    },
    {
      "cell_type": "markdown",
      "metadata": {
        "id": "Ffdn6BxIqx3a"
      },
      "source": [
        "**Comment on these histograms in comparison to the previous histograms in which the subjects race was used to predict the outcome.**"
      ]
    },
    {
      "cell_type": "code",
      "source": [
        "## getting the mean and medians of these 2 subsets for plotting\n",
        "white_removed_mean = whites_removed['predictions'].mean()\n",
        "white_removed_median = whites_removed['predictions'].median()\n",
        "\n",
        "black_removed_mean = blacks_removed['predictions'].mean()\n",
        "black_removed_median = blacks_removed['predictions'].median()\n",
        "\n",
        "\n",
        "# histogram for whites \n",
        "fig, ax = plt.subplots(1, 2, figsize=(16, 4))\n",
        "whites_removed.hist(\"predictions\", bins=30, ax=ax[0], label = \"Predictions\", alpha=.6)\n",
        "ax[0].set_title(\"Panel 1: Pr White Suspect Weapon Found\")\n",
        "ax[0].axvline(white_removed_mean, color='red', label = 'Mean')\n",
        "ax[0].axvline(white_removed_median, color='purple', label='Median')\n",
        "ax[0].legend()\n",
        "\n",
        "# histogram for blacks \n",
        "blacks_removed.hist(\"predictions\", bins=30, ax=ax[1], label = \"Predictions\", alpha=.6)\n",
        "ax[1].set_title(\"Panel 2: Pr Black Suspect Weapon Found\")\n",
        "ax[1].axvline(black_removed_mean, color='red', label = 'Mean')\n",
        "ax[1].axvline(black_removed_median, color='purple', label='Median')\n",
        "ax[1].legend()"
      ],
      "metadata": {
        "colab": {
          "base_uri": "https://localhost:8080/",
          "height": 299
        },
        "id": "bALSOaR19ePA",
        "outputId": "e1941d06-bc58-47b3-d7e6-8820e3fe1023"
      },
      "execution_count": null,
      "outputs": [
        {
          "output_type": "execute_result",
          "data": {
            "text/plain": [
              "<matplotlib.legend.Legend at 0x7fe28e71fe50>"
            ]
          },
          "metadata": {},
          "execution_count": 97
        },
        {
          "output_type": "display_data",
          "data": {
            "text/plain": [
              "<Figure size 1152x288 with 2 Axes>"
            ],
            "image/png": "[encoded data removed]"
          },
          "metadata": {
            "needs_background": "light"
          }
        }
      ]
    },
    {
      "cell_type": "markdown",
      "source": [
        "**Figure 2**: Overall, there is a stark difference between figure 2 presented here which plots the probabilities that a white supsect had a weapon found in panel 1 (without race being a feature) & panel 2 which presented here plots the probabilities that a black suspect had a weapon found on them (without race being a feature in the random forest regression model relative to these same two panel plots in figure 1 where race was a feature. The object ID's for both white and black races were added back into the main dataframes to be able to identify whites and blacks even though race as a feature identifying whites and blacks was not employed in the random forest regression model. \n",
        "\n",
        "* In comparing these two histograms in figure 2 with the two histograms presented in figure 1 above earlier, there is stark differences. Looking at the data where whites were identifiable as having found a weapon on them but their feature as being 'white' was not included in the model in terms of their race, we see pretty much random chance happening that a white suspect who was stopped and frisked was found to have a weapon as is evident by the vertical red line plotting the mean. This is vastly different than the same histogram panel 1 plotted in figure 1 earlier that showed that the mean for whites stopped and frisked was nearly 70% suggesting that when police stopped and frisked whites, they often had good reason too. When we remove white race as a feature however, it appears that there is nothing more than random chance. \n",
        "\n",
        "* The same story goes for panel 2 that plots our black suspect predictions of having a weapon found on them without black 'race' being included as a feature in the model. In examining panel 2, there is nothing more than pure random chance again for the most part as is evident by the red vertical line that plots the mean for the series of a black suspect being stopped and frisked and is found to have a weapon on them. This is different than figure 1 panel 2 which showed that blacks who stopped and frisked were only found to have a weapon on them less than 'half of the time'. \n",
        "\n"
      ],
      "metadata": {
        "id": "1J4UcHzQ_yVo"
      }
    },
    {
      "cell_type": "markdown",
      "metadata": {
        "id": "6N082XLnafbi"
      },
      "source": [
        "**Assuming that a probability over `0.5` indicates that the model predicts that a weapon will be found on the suspect, is the model that uses the race of a subject as a feature more or less accurate than the model that does not?**"
      ]
    },
    {
      "cell_type": "markdown",
      "source": [
        "With assuming that a pr over 0.5 indicates that the model predicts that a weapon will be found on the suspet - the models that use race of a subject as a feature are more accurate than models that do not. When we employed race as a feature to account for both white and black races (plus more) we saw that for our subsets for whites and blacks respectively, there was either more of a random chance of being stopped and frisked and having a weapon found (if suspect was white); or less of a random chance of being stopped and frisked and having a weapon found (if suspet was black) which once again suggested to us that police often stopped and frisked white individuals for good reason as more likely than not they had a weapon found on them while police that often stopped and frisked black individuals often did so for poor reasons and or **in a discriminatory manner** as less than half of all of those blacks stopped and frisked were actually predicted in probabilistic terms to have been found with a weapon on them.\n",
        "\n",
        "Thus, the models that did not use race as a subject and plotted above in figure 2 that masked the racial identity (white or black) of a suspect), it is clear that these models do not do a good job either way at predicting whether or not a suspect is found to have a weapon on them. Therefore, **in conclusion** we can state here that race does matter as a feature and predictor for predicting whether or not a suspect who is stopped and frisked will be found to have a weapon on them. Moreover, we have also shown in this analysis that blacks are being stopped and frisked in a far more discriminatory manner as the majority of blacks who are stopped and frisked are found not to have weapons on them versus the majority of whites who were stopped and frisked were actually found to have weapons on them. This has grave implications for understanding the inherent prejudices and biases of stop and frisk policing and NYPD should take immediate notice to stop all measures as they pertain to stop and frisk or if they do choose to implement it again in the future in one form or another -- to make sure that their stop and frisk policing actions are not discriminatory. "
      ],
      "metadata": {
        "id": "b9DrFiIzCWBO"
      }
    }
  ]
}