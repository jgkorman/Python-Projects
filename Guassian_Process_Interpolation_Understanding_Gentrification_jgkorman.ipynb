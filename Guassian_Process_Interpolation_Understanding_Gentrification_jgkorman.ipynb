{
  "nbformat": 4,
  "nbformat_minor": 0,
  "metadata": {
    "colab": {
      "name": "mlpp22_assignment_04_jgkorman.ipynb",
      "provenance": [],
      "collapsed_sections": [],
      "include_colab_link": true
    },
    "kernelspec": {
      "name": "python3",
      "display_name": "Python 3"
    }
  },
  "cells": [
    {
      "cell_type": "markdown",
      "metadata": {
        "id": "view-in-github",
        "colab_type": "text"
      },
      "source": [
        "<a href=\"https://colab.research.google.com/github/jgkorman/Python-Projects/blob/main/Guassian_Process_Interpolation_Understanding_Gentrification_jgkorman.ipynb\" target=\"_parent\"><img src=\"https://colab.research.google.com/assets/colab-badge.svg\" alt=\"Open In Colab\"/></a>"
      ]
    },
    {
      "cell_type": "markdown",
      "metadata": {
        "id": "ugGDuuAUpZEQ"
      },
      "source": [
        "# **MLPP22 // Assignment #4**\n",
        "\n",
        "assigned : **Apr 4, 2022**\n",
        "\n",
        "DUE : **Apr 10, 2022 11:59pm**\n",
        "\n",
        "## Outcomes of gentrification: local changes to median income\n",
        "\n",
        "<img src=\"https://cdn.theatlantic.com/assets/media/img/mt/2015/08/20720085886_db5d1f89e8_o/lead_720_405.jpg?mod=1533691764\" width=500>\n",
        "\n",
        "---"
      ]
    },
    {
      "cell_type": "markdown",
      "metadata": {
        "id": "rQgC1Td2qSkW"
      },
      "source": [
        "In class we discussed the definition of gentrification and the outcomes associated with that process.  Our specific example was the changing demographic makeup of Philadelphia over the period of 2000 to 2016.  In this assignment, we'll be doing an identical comparison, but considering local changes to median income.\n",
        "\n",
        "<u>**Instructions for tasks that will be graded are in bold below.**</u>"
      ]
    },
    {
      "cell_type": "markdown",
      "metadata": {
        "id": "9TwAO2d_wKQ6"
      },
      "source": [
        "---"
      ]
    },
    {
      "cell_type": "markdown",
      "metadata": {
        "id": "lLCF0L1pwLKG"
      },
      "source": [
        "**Please list the names of the other students with whom you worked for this assignment (if none, put \"None\").**"
      ]
    },
    {
      "cell_type": "markdown",
      "metadata": {
        "id": "NNqbLdWQwNFb"
      },
      "source": [
        "None"
      ]
    },
    {
      "cell_type": "markdown",
      "metadata": {
        "id": "vJ1-4OjvwOEa"
      },
      "source": [
        "---"
      ]
    },
    {
      "cell_type": "markdown",
      "metadata": {
        "id": "hhWeyBMYvnEL"
      },
      "source": [
        "### **PART 1 - Background**\n",
        "\n",
        "<b>\n",
        "\n",
        "  <u>In your own words</u>, provide a brief (~400-500 words) descriptive overview of the effects of gentrification on displacement as well as the use of census data by researchers to quantify these outcomes. Please include *references* within the description via weblinks.\n",
        "\n",
        "</b>"
      ]
    },
    {
      "cell_type": "markdown",
      "metadata": {
        "id": "xrQBgZoRvmXD"
      },
      "source": [
        "[Gentrification can be formally defined as a process where there is an influx of middle and upper class people that move into poorer areas and attempt to renovate homes and build businesses which leads to increased property values along with the displacement of residents who once lived in the areas being gentrified.](https://www.merriam-webster.com/dictionary/gentrification). With this definition in place -- one may think that this is possibly a good outcome for a given community, however, it has been shown that gentrifcation often leads to negative outcomes with regards to displacement while fostering [discriminatory practices](https://www.law.georgetown.edu/poverty-journal/blog/examining-the-negative-impacts-of-gentrification/#:~:text=Gentrification%20usually%20leads%20to%20negative,individuals%20and%20people%20of%20color.) and behaviors that often exclude those with low incomes and people of color. \n",
        "\n",
        "[The reason that gentrification's impact on displacement is often negative happens for a multitude of reasons.](https://www.law.georgetown.edu/poverty-journal/blog/examining-the-negative-impacts-of-gentrification/#:~:text=Gentrification%20usually%20leads%20to%20negative,individuals%20and%20people%20of%20color.) For one, as areas become renovated and rents/home prices naturally rise, it forces out low income households. Moreover, the process of gentrification also helps investors at the expense of residents as they continue to earn more profits in building new and renovated buildings securing greater investments and returns on their capital -- which further reinforces the powerful position of the investor and owners at the expense of the prior residents living in an area that is becoming gentrified. \n",
        "\n",
        "It has been noted as well that gentrification often leads to[ cultural displacement](https://ncrc.org/gentrification/) too. Albeit gentrification raises the value of properties and areas that have long suffered from a lack of investment, the existing residents living in these areas, often hispanic and or black, become displaced which prevents them from obtaining the benefits of economic rejuvenation in the area along with better quality of life and services. Interestingly enough but not surprising, the severe effects of gentrification are often felt most accutely in the nation's [largest cities](https://ncrc.org/gentrification/) while being rare in most other locales of the country. The same report cited above also found that 7 cities accounted for almost half of the gentrification taking place nationally, two of them were Philadelphia and Baltimore, cities that are very close to us here in Newark, DE. To that end, any resident local to Newark, DE that happens to drive through Wilmington, DE, about 20 minutes away, can't help but notice the excessive gentrfication in that city as well. \n",
        "\n",
        "Overall, gentrification poses a serious policy problem. By using [census data](https://www.urban.org/sites/default/files/publication/100135/guide_to_measuring_neighborhood_change_to_understand_and_prevent_displacement.pdf), researchers are able to quantify gentrification outcomes helping us to understand the problem gentrification poses and its effects over time. Census data is a great choice to study the impacts of gentrification due to the geographic information the census data carries with it. This geographic information is very robust because they are standard geographies with baseline datasets. The census data also helps researchers to understand the effects of gentrification by enabling researchers to look at changes over time. Overall, census data is a great choice for researchers to use to better understand gentrification and its impact on displacement. "
      ]
    },
    {
      "cell_type": "markdown",
      "metadata": {
        "id": "UBL4OBtWzv7O"
      },
      "source": [
        "### **PART 2 - Loading and Working With the Census Data**\n"
      ]
    },
    {
      "cell_type": "markdown",
      "metadata": {
        "id": "MB_Vx2NoV3aF"
      },
      "source": [
        "<b> Link your google drive and install geopandas. </b>"
      ]
    },
    {
      "cell_type": "code",
      "source": [
        "from google.colab import drive\n",
        "drive.mount('/content/drive')"
      ],
      "metadata": {
        "colab": {
          "base_uri": "https://localhost:8080/"
        },
        "id": "5_Lz1N080Vaz",
        "outputId": "7c35ed91-2bbc-463f-a275-995b01481b39"
      },
      "execution_count": null,
      "outputs": [
        {
          "output_type": "stream",
          "name": "stdout",
          "text": [
            "Drive already mounted at /content/drive; to attempt to forcibly remount, call drive.mount(\"/content/drive\", force_remount=True).\n"
          ]
        }
      ]
    },
    {
      "cell_type": "code",
      "source": [
        "!pip install geopandas\n",
        "!pip install censusdata"
      ],
      "metadata": {
        "colab": {
          "base_uri": "https://localhost:8080/"
        },
        "id": "GT_wNJUD0nXg",
        "outputId": "e6e5316d-8722-458f-e4dc-9b2707b8603c"
      },
      "execution_count": null,
      "outputs": [
        {
          "output_type": "stream",
          "name": "stdout",
          "text": [
            "Requirement already satisfied: geopandas in /usr/local/lib/python3.7/dist-packages (0.10.2)\n",
            "Requirement already satisfied: fiona>=1.8 in /usr/local/lib/python3.7/dist-packages (from geopandas) (1.8.21)\n",
            "Requirement already satisfied: shapely>=1.6 in /usr/local/lib/python3.7/dist-packages (from geopandas) (1.8.1.post1)\n",
            "Requirement already satisfied: pyproj>=2.2.0 in /usr/local/lib/python3.7/dist-packages (from geopandas) (3.2.1)\n",
            "Requirement already satisfied: pandas>=0.25.0 in /usr/local/lib/python3.7/dist-packages (from geopandas) (1.3.5)\n",
            "Requirement already satisfied: setuptools in /usr/local/lib/python3.7/dist-packages (from fiona>=1.8->geopandas) (57.4.0)\n",
            "Requirement already satisfied: click>=4.0 in /usr/local/lib/python3.7/dist-packages (from fiona>=1.8->geopandas) (7.1.2)\n",
            "Requirement already satisfied: six>=1.7 in /usr/local/lib/python3.7/dist-packages (from fiona>=1.8->geopandas) (1.15.0)\n",
            "Requirement already satisfied: attrs>=17 in /usr/local/lib/python3.7/dist-packages (from fiona>=1.8->geopandas) (21.4.0)\n",
            "Requirement already satisfied: certifi in /usr/local/lib/python3.7/dist-packages (from fiona>=1.8->geopandas) (2021.10.8)\n",
            "Requirement already satisfied: cligj>=0.5 in /usr/local/lib/python3.7/dist-packages (from fiona>=1.8->geopandas) (0.7.2)\n",
            "Requirement already satisfied: click-plugins>=1.0 in /usr/local/lib/python3.7/dist-packages (from fiona>=1.8->geopandas) (1.1.1)\n",
            "Requirement already satisfied: munch in /usr/local/lib/python3.7/dist-packages (from fiona>=1.8->geopandas) (2.5.0)\n",
            "Requirement already satisfied: numpy>=1.17.3 in /usr/local/lib/python3.7/dist-packages (from pandas>=0.25.0->geopandas) (1.21.5)\n",
            "Requirement already satisfied: pytz>=2017.3 in /usr/local/lib/python3.7/dist-packages (from pandas>=0.25.0->geopandas) (2018.9)\n",
            "Requirement already satisfied: python-dateutil>=2.7.3 in /usr/local/lib/python3.7/dist-packages (from pandas>=0.25.0->geopandas) (2.8.2)\n",
            "Requirement already satisfied: censusdata in /usr/local/lib/python3.7/dist-packages (1.15.post1)\n",
            "Requirement already satisfied: requests in /usr/local/lib/python3.7/dist-packages (from censusdata) (2.23.0)\n",
            "Requirement already satisfied: pandas in /usr/local/lib/python3.7/dist-packages (from censusdata) (1.3.5)\n",
            "Requirement already satisfied: numpy>=1.17.3 in /usr/local/lib/python3.7/dist-packages (from pandas->censusdata) (1.21.5)\n",
            "Requirement already satisfied: python-dateutil>=2.7.3 in /usr/local/lib/python3.7/dist-packages (from pandas->censusdata) (2.8.2)\n",
            "Requirement already satisfied: pytz>=2017.3 in /usr/local/lib/python3.7/dist-packages (from pandas->censusdata) (2018.9)\n",
            "Requirement already satisfied: six>=1.5 in /usr/local/lib/python3.7/dist-packages (from python-dateutil>=2.7.3->pandas->censusdata) (1.15.0)\n",
            "Requirement already satisfied: urllib3!=1.25.0,!=1.25.1,<1.26,>=1.21.1 in /usr/local/lib/python3.7/dist-packages (from requests->censusdata) (1.24.3)\n",
            "Requirement already satisfied: idna<3,>=2.5 in /usr/local/lib/python3.7/dist-packages (from requests->censusdata) (2.10)\n",
            "Requirement already satisfied: chardet<4,>=3.0.2 in /usr/local/lib/python3.7/dist-packages (from requests->censusdata) (3.0.4)\n",
            "Requirement already satisfied: certifi>=2017.4.17 in /usr/local/lib/python3.7/dist-packages (from requests->censusdata) (2021.10.8)\n"
          ]
        }
      ]
    },
    {
      "cell_type": "code",
      "source": [
        "import pandas as pd\n",
        "import numpy as np\n",
        "import matplotlib.pyplot as plt\n",
        "import geopandas as gp\n",
        "import plotly.express as px \n",
        "import censusdata"
      ],
      "metadata": {
        "id": "JigSUCTe0gIw"
      },
      "execution_count": null,
      "outputs": []
    },
    {
      "cell_type": "markdown",
      "metadata": {
        "id": "V-O7EEz4MVGr"
      },
      "source": [
        "<b> Load in the pre-cleaned 2000 median income data from the `data/census/income/` directory <u>as well as</u> the 2000 and 2016 shapefiles (in the `data/census/ctshapes` directory).  Make sure that you call the census tract GeoDataFrames `ct00` and `ct16`.</b>"
      ]
    },
    {
      "cell_type": "code",
      "metadata": {
        "id": "u8y6UVujfx_W",
        "colab": {
          "base_uri": "https://localhost:8080/",
          "height": 424
        },
        "outputId": "0ffda798-75d9-4f15-c627-977a5b95be73"
      },
      "source": [
        "fname = \"/content/drive/MyDrive/mlpp22/data/census/income/census_income_2000.csv\"\n",
        "income2000 = pd.read_csv(fname)\n",
        "income2000\n",
        "\n"
      ],
      "execution_count": null,
      "outputs": [
        {
          "output_type": "execute_result",
          "data": {
            "text/plain": [
              "        Id2_2000  Median household income in 1999\n",
              "0    42101000100                          48886.0\n",
              "1    42101000200                           8349.0\n",
              "2    42101000300                          40625.0\n",
              "3    42101000400                          27400.0\n",
              "4    42101000500                           9620.0\n",
              "..           ...                              ...\n",
              "375  42101036302                          47995.0\n",
              "376  42101036303                          53614.0\n",
              "377  42101036400                          51250.0\n",
              "378  42101036500                          50447.0\n",
              "379  42101036600                          87027.0\n",
              "\n",
              "[380 rows x 2 columns]"
            ],
            "text/html": [
              "\n",
              "  <div id=\"df-e6c8845f-3281-4358-84b1-dbe03ad2e1a5\">\n",
              "    <div class=\"colab-df-container\">\n",
              "      <div>\n",
              "<style scoped>\n",
              "    .dataframe tbody tr th:only-of-type {\n",
              "        vertical-align: middle;\n",
              "    }\n",
              "\n",
              "    .dataframe tbody tr th {\n",
              "        vertical-align: top;\n",
              "    }\n",
              "\n",
              "    .dataframe thead th {\n",
              "        text-align: right;\n",
              "    }\n",
              "</style>\n",
              "<table border=\"1\" class=\"dataframe\">\n",
              "  <thead>\n",
              "    <tr style=\"text-align: right;\">\n",
              "      <th></th>\n",
              "      <th>Id2_2000</th>\n",
              "      <th>Median household income in 1999</th>\n",
              "    </tr>\n",
              "  </thead>\n",
              "  <tbody>\n",
              "    <tr>\n",
              "      <th>0</th>\n",
              "      <td>42101000100</td>\n",
              "      <td>48886.0</td>\n",
              "    </tr>\n",
              "    <tr>\n",
              "      <th>1</th>\n",
              "      <td>42101000200</td>\n",
              "      <td>8349.0</td>\n",
              "    </tr>\n",
              "    <tr>\n",
              "      <th>2</th>\n",
              "      <td>42101000300</td>\n",
              "      <td>40625.0</td>\n",
              "    </tr>\n",
              "    <tr>\n",
              "      <th>3</th>\n",
              "      <td>42101000400</td>\n",
              "      <td>27400.0</td>\n",
              "    </tr>\n",
              "    <tr>\n",
              "      <th>4</th>\n",
              "      <td>42101000500</td>\n",
              "      <td>9620.0</td>\n",
              "    </tr>\n",
              "    <tr>\n",
              "      <th>...</th>\n",
              "      <td>...</td>\n",
              "      <td>...</td>\n",
              "    </tr>\n",
              "    <tr>\n",
              "      <th>375</th>\n",
              "      <td>42101036302</td>\n",
              "      <td>47995.0</td>\n",
              "    </tr>\n",
              "    <tr>\n",
              "      <th>376</th>\n",
              "      <td>42101036303</td>\n",
              "      <td>53614.0</td>\n",
              "    </tr>\n",
              "    <tr>\n",
              "      <th>377</th>\n",
              "      <td>42101036400</td>\n",
              "      <td>51250.0</td>\n",
              "    </tr>\n",
              "    <tr>\n",
              "      <th>378</th>\n",
              "      <td>42101036500</td>\n",
              "      <td>50447.0</td>\n",
              "    </tr>\n",
              "    <tr>\n",
              "      <th>379</th>\n",
              "      <td>42101036600</td>\n",
              "      <td>87027.0</td>\n",
              "    </tr>\n",
              "  </tbody>\n",
              "</table>\n",
              "<p>380 rows × 2 columns</p>\n",
              "</div>\n",
              "      <button class=\"colab-df-convert\" onclick=\"convertToInteractive('df-e6c8845f-3281-4358-84b1-dbe03ad2e1a5')\"\n",
              "              title=\"Convert this dataframe to an interactive table.\"\n",
              "              style=\"display:none;\">\n",
              "        \n",
              "  <svg xmlns=\"http://www.w3.org/2000/svg\" height=\"24px\"viewBox=\"0 0 24 24\"\n",
              "       width=\"24px\">\n",
              "    <path d=\"M0 0h24v24H0V0z\" fill=\"none\"/>\n",
              "    <path d=\"M18.56 5.44l.94 2.06.94-2.06 2.06-.94-2.06-.94-.94-2.06-.94 2.06-2.06.94zm-11 1L8.5 8.5l.94-2.06 2.06-.94-2.06-.94L8.5 2.5l-.94 2.06-2.06.94zm10 10l.94 2.06.94-2.06 2.06-.94-2.06-.94-.94-2.06-.94 2.06-2.06.94z\"/><path d=\"M17.41 7.96l-1.37-1.37c-.4-.4-.92-.59-1.43-.59-.52 0-1.04.2-1.43.59L10.3 9.45l-7.72 7.72c-.78.78-.78 2.05 0 2.83L4 21.41c.39.39.9.59 1.41.59.51 0 1.02-.2 1.41-.59l7.78-7.78 2.81-2.81c.8-.78.8-2.07 0-2.86zM5.41 20L4 18.59l7.72-7.72 1.47 1.35L5.41 20z\"/>\n",
              "  </svg>\n",
              "      </button>\n",
              "      \n",
              "  <style>\n",
              "    .colab-df-container {\n",
              "      display:flex;\n",
              "      flex-wrap:wrap;\n",
              "      gap: 12px;\n",
              "    }\n",
              "\n",
              "    .colab-df-convert {\n",
              "      background-color: #E8F0FE;\n",
              "      border: none;\n",
              "      border-radius: 50%;\n",
              "      cursor: pointer;\n",
              "      display: none;\n",
              "      fill: #1967D2;\n",
              "      height: 32px;\n",
              "      padding: 0 0 0 0;\n",
              "      width: 32px;\n",
              "    }\n",
              "\n",
              "    .colab-df-convert:hover {\n",
              "      background-color: #E2EBFA;\n",
              "      box-shadow: 0px 1px 2px rgba(60, 64, 67, 0.3), 0px 1px 3px 1px rgba(60, 64, 67, 0.15);\n",
              "      fill: #174EA6;\n",
              "    }\n",
              "\n",
              "    [theme=dark] .colab-df-convert {\n",
              "      background-color: #3B4455;\n",
              "      fill: #D2E3FC;\n",
              "    }\n",
              "\n",
              "    [theme=dark] .colab-df-convert:hover {\n",
              "      background-color: #434B5C;\n",
              "      box-shadow: 0px 1px 3px 1px rgba(0, 0, 0, 0.15);\n",
              "      filter: drop-shadow(0px 1px 2px rgba(0, 0, 0, 0.3));\n",
              "      fill: #FFFFFF;\n",
              "    }\n",
              "  </style>\n",
              "\n",
              "      <script>\n",
              "        const buttonEl =\n",
              "          document.querySelector('#df-e6c8845f-3281-4358-84b1-dbe03ad2e1a5 button.colab-df-convert');\n",
              "        buttonEl.style.display =\n",
              "          google.colab.kernel.accessAllowed ? 'block' : 'none';\n",
              "\n",
              "        async function convertToInteractive(key) {\n",
              "          const element = document.querySelector('#df-e6c8845f-3281-4358-84b1-dbe03ad2e1a5');\n",
              "          const dataTable =\n",
              "            await google.colab.kernel.invokeFunction('convertToInteractive',\n",
              "                                                     [key], {});\n",
              "          if (!dataTable) return;\n",
              "\n",
              "          const docLinkHtml = 'Like what you see? Visit the ' +\n",
              "            '<a target=\"_blank\" href=https://colab.research.google.com/notebooks/data_table.ipynb>data table notebook</a>'\n",
              "            + ' to learn more about interactive tables.';\n",
              "          element.innerHTML = '';\n",
              "          dataTable['output_type'] = 'display_data';\n",
              "          await google.colab.output.renderOutput(dataTable, element);\n",
              "          const docLink = document.createElement('div');\n",
              "          docLink.innerHTML = docLinkHtml;\n",
              "          element.appendChild(docLink);\n",
              "        }\n",
              "      </script>\n",
              "    </div>\n",
              "  </div>\n",
              "  "
            ]
          },
          "metadata": {},
          "execution_count": 4
        }
      ]
    },
    {
      "cell_type": "code",
      "source": [
        "fname = \"/content/drive/MyDrive/mlpp22/data/census/ctshapes/2000/tr42_d00.shp\"\n",
        "ct00 = gp.read_file(fname)\n",
        "ct00 \n"
      ],
      "metadata": {
        "colab": {
          "base_uri": "https://localhost:8080/",
          "height": 424
        },
        "id": "mIl4P-uP10S4",
        "outputId": "6f156a09-ab4b-446a-ebe7-cf7917c5e82e"
      },
      "execution_count": null,
      "outputs": [
        {
          "output_type": "execute_result",
          "data": {
            "text/plain": [
              "          AREA  PERIMETER  TR42_D00_  TR42_D00_I STATE COUNTY   TRACT  \\\n",
              "0     0.004057   0.398728          2           1    42    049  011701   \n",
              "1     0.017494   0.558170          3           2    42    049  011702   \n",
              "2     0.000370   0.090991          4           3    42    049    0116   \n",
              "3     0.002350   0.228274          5           4    42    049  011505   \n",
              "4     0.005081   0.348200          6           5    42    049  011507   \n",
              "...        ...        ...        ...         ...   ...    ...     ...   \n",
              "3142  0.000252   0.084906       3144        3143    42    055    0122   \n",
              "3143  0.002813   0.304160       3145        3144    42    029    3068   \n",
              "3144  0.001695   0.242311       3146        3145    42    055  012502   \n",
              "3145  0.000383   0.115553       3147        3146    42    055    0124   \n",
              "3146  0.000432   0.093269       3148        3147    42    001    0313   \n",
              "\n",
              "         NAME LSAD LSAD_TRANS  \\\n",
              "0     0117.01   TR       None   \n",
              "1     0117.02   TR       None   \n",
              "2        0116   TR       None   \n",
              "3     0115.05   TR       None   \n",
              "4     0115.07   TR       None   \n",
              "...       ...  ...        ...   \n",
              "3142     0122   TR       None   \n",
              "3143     3068   TR       None   \n",
              "3144  0125.02   TR       None   \n",
              "3145     0124   TR       None   \n",
              "3146     0313   TR       None   \n",
              "\n",
              "                                               geometry  \n",
              "0     POLYGON ((-79.76214 42.24141, -79.77252 42.235...  \n",
              "1     POLYGON ((-79.78063 42.23206, -79.77991 42.232...  \n",
              "2     POLYGON ((-79.82202 42.21576, -79.82202 42.215...  \n",
              "3     POLYGON ((-79.90727 42.20936, -79.90287 42.210...  \n",
              "4     POLYGON ((-79.90047 42.18656, -79.90047 42.185...  \n",
              "...                                                 ...  \n",
              "3142  POLYGON ((-77.57996 39.75687, -77.58633 39.750...  \n",
              "3143  POLYGON ((-75.86815 39.74030, -75.86528 39.736...  \n",
              "3144  POLYGON ((-77.46029 39.74365, -77.46004 39.736...  \n",
              "3145  POLYGON ((-77.57768 39.75554, -77.57199 39.752...  \n",
              "3146  POLYGON ((-77.09466 39.75148, -77.09430 39.753...  \n",
              "\n",
              "[3147 rows x 11 columns]"
            ],
            "text/html": [
              "\n",
              "  <div id=\"df-78167646-3bcf-442a-9488-b566a6a2089a\">\n",
              "    <div class=\"colab-df-container\">\n",
              "      <div>\n",
              "<style scoped>\n",
              "    .dataframe tbody tr th:only-of-type {\n",
              "        vertical-align: middle;\n",
              "    }\n",
              "\n",
              "    .dataframe tbody tr th {\n",
              "        vertical-align: top;\n",
              "    }\n",
              "\n",
              "    .dataframe thead th {\n",
              "        text-align: right;\n",
              "    }\n",
              "</style>\n",
              "<table border=\"1\" class=\"dataframe\">\n",
              "  <thead>\n",
              "    <tr style=\"text-align: right;\">\n",
              "      <th></th>\n",
              "      <th>AREA</th>\n",
              "      <th>PERIMETER</th>\n",
              "      <th>TR42_D00_</th>\n",
              "      <th>TR42_D00_I</th>\n",
              "      <th>STATE</th>\n",
              "      <th>COUNTY</th>\n",
              "      <th>TRACT</th>\n",
              "      <th>NAME</th>\n",
              "      <th>LSAD</th>\n",
              "      <th>LSAD_TRANS</th>\n",
              "      <th>geometry</th>\n",
              "    </tr>\n",
              "  </thead>\n",
              "  <tbody>\n",
              "    <tr>\n",
              "      <th>0</th>\n",
              "      <td>0.004057</td>\n",
              "      <td>0.398728</td>\n",
              "      <td>2</td>\n",
              "      <td>1</td>\n",
              "      <td>42</td>\n",
              "      <td>049</td>\n",
              "      <td>011701</td>\n",
              "      <td>0117.01</td>\n",
              "      <td>TR</td>\n",
              "      <td>None</td>\n",
              "      <td>POLYGON ((-79.76214 42.24141, -79.77252 42.235...</td>\n",
              "    </tr>\n",
              "    <tr>\n",
              "      <th>1</th>\n",
              "      <td>0.017494</td>\n",
              "      <td>0.558170</td>\n",
              "      <td>3</td>\n",
              "      <td>2</td>\n",
              "      <td>42</td>\n",
              "      <td>049</td>\n",
              "      <td>011702</td>\n",
              "      <td>0117.02</td>\n",
              "      <td>TR</td>\n",
              "      <td>None</td>\n",
              "      <td>POLYGON ((-79.78063 42.23206, -79.77991 42.232...</td>\n",
              "    </tr>\n",
              "    <tr>\n",
              "      <th>2</th>\n",
              "      <td>0.000370</td>\n",
              "      <td>0.090991</td>\n",
              "      <td>4</td>\n",
              "      <td>3</td>\n",
              "      <td>42</td>\n",
              "      <td>049</td>\n",
              "      <td>0116</td>\n",
              "      <td>0116</td>\n",
              "      <td>TR</td>\n",
              "      <td>None</td>\n",
              "      <td>POLYGON ((-79.82202 42.21576, -79.82202 42.215...</td>\n",
              "    </tr>\n",
              "    <tr>\n",
              "      <th>3</th>\n",
              "      <td>0.002350</td>\n",
              "      <td>0.228274</td>\n",
              "      <td>5</td>\n",
              "      <td>4</td>\n",
              "      <td>42</td>\n",
              "      <td>049</td>\n",
              "      <td>011505</td>\n",
              "      <td>0115.05</td>\n",
              "      <td>TR</td>\n",
              "      <td>None</td>\n",
              "      <td>POLYGON ((-79.90727 42.20936, -79.90287 42.210...</td>\n",
              "    </tr>\n",
              "    <tr>\n",
              "      <th>4</th>\n",
              "      <td>0.005081</td>\n",
              "      <td>0.348200</td>\n",
              "      <td>6</td>\n",
              "      <td>5</td>\n",
              "      <td>42</td>\n",
              "      <td>049</td>\n",
              "      <td>011507</td>\n",
              "      <td>0115.07</td>\n",
              "      <td>TR</td>\n",
              "      <td>None</td>\n",
              "      <td>POLYGON ((-79.90047 42.18656, -79.90047 42.185...</td>\n",
              "    </tr>\n",
              "    <tr>\n",
              "      <th>...</th>\n",
              "      <td>...</td>\n",
              "      <td>...</td>\n",
              "      <td>...</td>\n",
              "      <td>...</td>\n",
              "      <td>...</td>\n",
              "      <td>...</td>\n",
              "      <td>...</td>\n",
              "      <td>...</td>\n",
              "      <td>...</td>\n",
              "      <td>...</td>\n",
              "      <td>...</td>\n",
              "    </tr>\n",
              "    <tr>\n",
              "      <th>3142</th>\n",
              "      <td>0.000252</td>\n",
              "      <td>0.084906</td>\n",
              "      <td>3144</td>\n",
              "      <td>3143</td>\n",
              "      <td>42</td>\n",
              "      <td>055</td>\n",
              "      <td>0122</td>\n",
              "      <td>0122</td>\n",
              "      <td>TR</td>\n",
              "      <td>None</td>\n",
              "      <td>POLYGON ((-77.57996 39.75687, -77.58633 39.750...</td>\n",
              "    </tr>\n",
              "    <tr>\n",
              "      <th>3143</th>\n",
              "      <td>0.002813</td>\n",
              "      <td>0.304160</td>\n",
              "      <td>3145</td>\n",
              "      <td>3144</td>\n",
              "      <td>42</td>\n",
              "      <td>029</td>\n",
              "      <td>3068</td>\n",
              "      <td>3068</td>\n",
              "      <td>TR</td>\n",
              "      <td>None</td>\n",
              "      <td>POLYGON ((-75.86815 39.74030, -75.86528 39.736...</td>\n",
              "    </tr>\n",
              "    <tr>\n",
              "      <th>3144</th>\n",
              "      <td>0.001695</td>\n",
              "      <td>0.242311</td>\n",
              "      <td>3146</td>\n",
              "      <td>3145</td>\n",
              "      <td>42</td>\n",
              "      <td>055</td>\n",
              "      <td>012502</td>\n",
              "      <td>0125.02</td>\n",
              "      <td>TR</td>\n",
              "      <td>None</td>\n",
              "      <td>POLYGON ((-77.46029 39.74365, -77.46004 39.736...</td>\n",
              "    </tr>\n",
              "    <tr>\n",
              "      <th>3145</th>\n",
              "      <td>0.000383</td>\n",
              "      <td>0.115553</td>\n",
              "      <td>3147</td>\n",
              "      <td>3146</td>\n",
              "      <td>42</td>\n",
              "      <td>055</td>\n",
              "      <td>0124</td>\n",
              "      <td>0124</td>\n",
              "      <td>TR</td>\n",
              "      <td>None</td>\n",
              "      <td>POLYGON ((-77.57768 39.75554, -77.57199 39.752...</td>\n",
              "    </tr>\n",
              "    <tr>\n",
              "      <th>3146</th>\n",
              "      <td>0.000432</td>\n",
              "      <td>0.093269</td>\n",
              "      <td>3148</td>\n",
              "      <td>3147</td>\n",
              "      <td>42</td>\n",
              "      <td>001</td>\n",
              "      <td>0313</td>\n",
              "      <td>0313</td>\n",
              "      <td>TR</td>\n",
              "      <td>None</td>\n",
              "      <td>POLYGON ((-77.09466 39.75148, -77.09430 39.753...</td>\n",
              "    </tr>\n",
              "  </tbody>\n",
              "</table>\n",
              "<p>3147 rows × 11 columns</p>\n",
              "</div>\n",
              "      <button class=\"colab-df-convert\" onclick=\"convertToInteractive('df-78167646-3bcf-442a-9488-b566a6a2089a')\"\n",
              "              title=\"Convert this dataframe to an interactive table.\"\n",
              "              style=\"display:none;\">\n",
              "        \n",
              "  <svg xmlns=\"http://www.w3.org/2000/svg\" height=\"24px\"viewBox=\"0 0 24 24\"\n",
              "       width=\"24px\">\n",
              "    <path d=\"M0 0h24v24H0V0z\" fill=\"none\"/>\n",
              "    <path d=\"M18.56 5.44l.94 2.06.94-2.06 2.06-.94-2.06-.94-.94-2.06-.94 2.06-2.06.94zm-11 1L8.5 8.5l.94-2.06 2.06-.94-2.06-.94L8.5 2.5l-.94 2.06-2.06.94zm10 10l.94 2.06.94-2.06 2.06-.94-2.06-.94-.94-2.06-.94 2.06-2.06.94z\"/><path d=\"M17.41 7.96l-1.37-1.37c-.4-.4-.92-.59-1.43-.59-.52 0-1.04.2-1.43.59L10.3 9.45l-7.72 7.72c-.78.78-.78 2.05 0 2.83L4 21.41c.39.39.9.59 1.41.59.51 0 1.02-.2 1.41-.59l7.78-7.78 2.81-2.81c.8-.78.8-2.07 0-2.86zM5.41 20L4 18.59l7.72-7.72 1.47 1.35L5.41 20z\"/>\n",
              "  </svg>\n",
              "      </button>\n",
              "      \n",
              "  <style>\n",
              "    .colab-df-container {\n",
              "      display:flex;\n",
              "      flex-wrap:wrap;\n",
              "      gap: 12px;\n",
              "    }\n",
              "\n",
              "    .colab-df-convert {\n",
              "      background-color: #E8F0FE;\n",
              "      border: none;\n",
              "      border-radius: 50%;\n",
              "      cursor: pointer;\n",
              "      display: none;\n",
              "      fill: #1967D2;\n",
              "      height: 32px;\n",
              "      padding: 0 0 0 0;\n",
              "      width: 32px;\n",
              "    }\n",
              "\n",
              "    .colab-df-convert:hover {\n",
              "      background-color: #E2EBFA;\n",
              "      box-shadow: 0px 1px 2px rgba(60, 64, 67, 0.3), 0px 1px 3px 1px rgba(60, 64, 67, 0.15);\n",
              "      fill: #174EA6;\n",
              "    }\n",
              "\n",
              "    [theme=dark] .colab-df-convert {\n",
              "      background-color: #3B4455;\n",
              "      fill: #D2E3FC;\n",
              "    }\n",
              "\n",
              "    [theme=dark] .colab-df-convert:hover {\n",
              "      background-color: #434B5C;\n",
              "      box-shadow: 0px 1px 3px 1px rgba(0, 0, 0, 0.15);\n",
              "      filter: drop-shadow(0px 1px 2px rgba(0, 0, 0, 0.3));\n",
              "      fill: #FFFFFF;\n",
              "    }\n",
              "  </style>\n",
              "\n",
              "      <script>\n",
              "        const buttonEl =\n",
              "          document.querySelector('#df-78167646-3bcf-442a-9488-b566a6a2089a button.colab-df-convert');\n",
              "        buttonEl.style.display =\n",
              "          google.colab.kernel.accessAllowed ? 'block' : 'none';\n",
              "\n",
              "        async function convertToInteractive(key) {\n",
              "          const element = document.querySelector('#df-78167646-3bcf-442a-9488-b566a6a2089a');\n",
              "          const dataTable =\n",
              "            await google.colab.kernel.invokeFunction('convertToInteractive',\n",
              "                                                     [key], {});\n",
              "          if (!dataTable) return;\n",
              "\n",
              "          const docLinkHtml = 'Like what you see? Visit the ' +\n",
              "            '<a target=\"_blank\" href=https://colab.research.google.com/notebooks/data_table.ipynb>data table notebook</a>'\n",
              "            + ' to learn more about interactive tables.';\n",
              "          element.innerHTML = '';\n",
              "          dataTable['output_type'] = 'display_data';\n",
              "          await google.colab.output.renderOutput(dataTable, element);\n",
              "          const docLink = document.createElement('div');\n",
              "          docLink.innerHTML = docLinkHtml;\n",
              "          element.appendChild(docLink);\n",
              "        }\n",
              "      </script>\n",
              "    </div>\n",
              "  </div>\n",
              "  "
            ]
          },
          "metadata": {},
          "execution_count": 5
        }
      ]
    },
    {
      "cell_type": "code",
      "source": [
        "# -- construct a \"proper\" geoid that can be mereged with the ACS data\n",
        "state = ct00[\"STATE\"]\n",
        "county = ct00[\"COUNTY\"]\n",
        "tract = ct00[\"TRACT\"]\n",
        "tract = tract + \"00\"\n",
        "tract = tract.str[:6]\n",
        "\n",
        "affgeoid = \"1400000US\" + state + county + tract\n",
        "ct00[\"AFFGEOID\"] = affgeoid\n",
        "ct00"
      ],
      "metadata": {
        "colab": {
          "base_uri": "https://localhost:8080/",
          "height": 641
        },
        "id": "WgHOwWwKqEGg",
        "outputId": "65f8c7ac-ccbc-4e69-a66e-c7acdc3aa176"
      },
      "execution_count": null,
      "outputs": [
        {
          "output_type": "execute_result",
          "data": {
            "text/plain": [
              "          AREA  PERIMETER  TR42_D00_  TR42_D00_I STATE COUNTY   TRACT  \\\n",
              "0     0.004057   0.398728          2           1    42    049  011701   \n",
              "1     0.017494   0.558170          3           2    42    049  011702   \n",
              "2     0.000370   0.090991          4           3    42    049    0116   \n",
              "3     0.002350   0.228274          5           4    42    049  011505   \n",
              "4     0.005081   0.348200          6           5    42    049  011507   \n",
              "...        ...        ...        ...         ...   ...    ...     ...   \n",
              "3142  0.000252   0.084906       3144        3143    42    055    0122   \n",
              "3143  0.002813   0.304160       3145        3144    42    029    3068   \n",
              "3144  0.001695   0.242311       3146        3145    42    055  012502   \n",
              "3145  0.000383   0.115553       3147        3146    42    055    0124   \n",
              "3146  0.000432   0.093269       3148        3147    42    001    0313   \n",
              "\n",
              "         NAME LSAD LSAD_TRANS  \\\n",
              "0     0117.01   TR       None   \n",
              "1     0117.02   TR       None   \n",
              "2        0116   TR       None   \n",
              "3     0115.05   TR       None   \n",
              "4     0115.07   TR       None   \n",
              "...       ...  ...        ...   \n",
              "3142     0122   TR       None   \n",
              "3143     3068   TR       None   \n",
              "3144  0125.02   TR       None   \n",
              "3145     0124   TR       None   \n",
              "3146     0313   TR       None   \n",
              "\n",
              "                                               geometry              AFFGEOID  \n",
              "0     POLYGON ((-79.76214 42.24141, -79.77252 42.235...  1400000US42049011701  \n",
              "1     POLYGON ((-79.78063 42.23206, -79.77991 42.232...  1400000US42049011702  \n",
              "2     POLYGON ((-79.82202 42.21576, -79.82202 42.215...  1400000US42049011600  \n",
              "3     POLYGON ((-79.90727 42.20936, -79.90287 42.210...  1400000US42049011505  \n",
              "4     POLYGON ((-79.90047 42.18656, -79.90047 42.185...  1400000US42049011507  \n",
              "...                                                 ...                   ...  \n",
              "3142  POLYGON ((-77.57996 39.75687, -77.58633 39.750...  1400000US42055012200  \n",
              "3143  POLYGON ((-75.86815 39.74030, -75.86528 39.736...  1400000US42029306800  \n",
              "3144  POLYGON ((-77.46029 39.74365, -77.46004 39.736...  1400000US42055012502  \n",
              "3145  POLYGON ((-77.57768 39.75554, -77.57199 39.752...  1400000US42055012400  \n",
              "3146  POLYGON ((-77.09466 39.75148, -77.09430 39.753...  1400000US42001031300  \n",
              "\n",
              "[3147 rows x 12 columns]"
            ],
            "text/html": [
              "\n",
              "  <div id=\"df-522a9a43-ad0e-4f64-a7c6-e2cbbbf73606\">\n",
              "    <div class=\"colab-df-container\">\n",
              "      <div>\n",
              "<style scoped>\n",
              "    .dataframe tbody tr th:only-of-type {\n",
              "        vertical-align: middle;\n",
              "    }\n",
              "\n",
              "    .dataframe tbody tr th {\n",
              "        vertical-align: top;\n",
              "    }\n",
              "\n",
              "    .dataframe thead th {\n",
              "        text-align: right;\n",
              "    }\n",
              "</style>\n",
              "<table border=\"1\" class=\"dataframe\">\n",
              "  <thead>\n",
              "    <tr style=\"text-align: right;\">\n",
              "      <th></th>\n",
              "      <th>AREA</th>\n",
              "      <th>PERIMETER</th>\n",
              "      <th>TR42_D00_</th>\n",
              "      <th>TR42_D00_I</th>\n",
              "      <th>STATE</th>\n",
              "      <th>COUNTY</th>\n",
              "      <th>TRACT</th>\n",
              "      <th>NAME</th>\n",
              "      <th>LSAD</th>\n",
              "      <th>LSAD_TRANS</th>\n",
              "      <th>geometry</th>\n",
              "      <th>AFFGEOID</th>\n",
              "    </tr>\n",
              "  </thead>\n",
              "  <tbody>\n",
              "    <tr>\n",
              "      <th>0</th>\n",
              "      <td>0.004057</td>\n",
              "      <td>0.398728</td>\n",
              "      <td>2</td>\n",
              "      <td>1</td>\n",
              "      <td>42</td>\n",
              "      <td>049</td>\n",
              "      <td>011701</td>\n",
              "      <td>0117.01</td>\n",
              "      <td>TR</td>\n",
              "      <td>None</td>\n",
              "      <td>POLYGON ((-79.76214 42.24141, -79.77252 42.235...</td>\n",
              "      <td>1400000US42049011701</td>\n",
              "    </tr>\n",
              "    <tr>\n",
              "      <th>1</th>\n",
              "      <td>0.017494</td>\n",
              "      <td>0.558170</td>\n",
              "      <td>3</td>\n",
              "      <td>2</td>\n",
              "      <td>42</td>\n",
              "      <td>049</td>\n",
              "      <td>011702</td>\n",
              "      <td>0117.02</td>\n",
              "      <td>TR</td>\n",
              "      <td>None</td>\n",
              "      <td>POLYGON ((-79.78063 42.23206, -79.77991 42.232...</td>\n",
              "      <td>1400000US42049011702</td>\n",
              "    </tr>\n",
              "    <tr>\n",
              "      <th>2</th>\n",
              "      <td>0.000370</td>\n",
              "      <td>0.090991</td>\n",
              "      <td>4</td>\n",
              "      <td>3</td>\n",
              "      <td>42</td>\n",
              "      <td>049</td>\n",
              "      <td>0116</td>\n",
              "      <td>0116</td>\n",
              "      <td>TR</td>\n",
              "      <td>None</td>\n",
              "      <td>POLYGON ((-79.82202 42.21576, -79.82202 42.215...</td>\n",
              "      <td>1400000US42049011600</td>\n",
              "    </tr>\n",
              "    <tr>\n",
              "      <th>3</th>\n",
              "      <td>0.002350</td>\n",
              "      <td>0.228274</td>\n",
              "      <td>5</td>\n",
              "      <td>4</td>\n",
              "      <td>42</td>\n",
              "      <td>049</td>\n",
              "      <td>011505</td>\n",
              "      <td>0115.05</td>\n",
              "      <td>TR</td>\n",
              "      <td>None</td>\n",
              "      <td>POLYGON ((-79.90727 42.20936, -79.90287 42.210...</td>\n",
              "      <td>1400000US42049011505</td>\n",
              "    </tr>\n",
              "    <tr>\n",
              "      <th>4</th>\n",
              "      <td>0.005081</td>\n",
              "      <td>0.348200</td>\n",
              "      <td>6</td>\n",
              "      <td>5</td>\n",
              "      <td>42</td>\n",
              "      <td>049</td>\n",
              "      <td>011507</td>\n",
              "      <td>0115.07</td>\n",
              "      <td>TR</td>\n",
              "      <td>None</td>\n",
              "      <td>POLYGON ((-79.90047 42.18656, -79.90047 42.185...</td>\n",
              "      <td>1400000US42049011507</td>\n",
              "    </tr>\n",
              "    <tr>\n",
              "      <th>...</th>\n",
              "      <td>...</td>\n",
              "      <td>...</td>\n",
              "      <td>...</td>\n",
              "      <td>...</td>\n",
              "      <td>...</td>\n",
              "      <td>...</td>\n",
              "      <td>...</td>\n",
              "      <td>...</td>\n",
              "      <td>...</td>\n",
              "      <td>...</td>\n",
              "      <td>...</td>\n",
              "      <td>...</td>\n",
              "    </tr>\n",
              "    <tr>\n",
              "      <th>3142</th>\n",
              "      <td>0.000252</td>\n",
              "      <td>0.084906</td>\n",
              "      <td>3144</td>\n",
              "      <td>3143</td>\n",
              "      <td>42</td>\n",
              "      <td>055</td>\n",
              "      <td>0122</td>\n",
              "      <td>0122</td>\n",
              "      <td>TR</td>\n",
              "      <td>None</td>\n",
              "      <td>POLYGON ((-77.57996 39.75687, -77.58633 39.750...</td>\n",
              "      <td>1400000US42055012200</td>\n",
              "    </tr>\n",
              "    <tr>\n",
              "      <th>3143</th>\n",
              "      <td>0.002813</td>\n",
              "      <td>0.304160</td>\n",
              "      <td>3145</td>\n",
              "      <td>3144</td>\n",
              "      <td>42</td>\n",
              "      <td>029</td>\n",
              "      <td>3068</td>\n",
              "      <td>3068</td>\n",
              "      <td>TR</td>\n",
              "      <td>None</td>\n",
              "      <td>POLYGON ((-75.86815 39.74030, -75.86528 39.736...</td>\n",
              "      <td>1400000US42029306800</td>\n",
              "    </tr>\n",
              "    <tr>\n",
              "      <th>3144</th>\n",
              "      <td>0.001695</td>\n",
              "      <td>0.242311</td>\n",
              "      <td>3146</td>\n",
              "      <td>3145</td>\n",
              "      <td>42</td>\n",
              "      <td>055</td>\n",
              "      <td>012502</td>\n",
              "      <td>0125.02</td>\n",
              "      <td>TR</td>\n",
              "      <td>None</td>\n",
              "      <td>POLYGON ((-77.46029 39.74365, -77.46004 39.736...</td>\n",
              "      <td>1400000US42055012502</td>\n",
              "    </tr>\n",
              "    <tr>\n",
              "      <th>3145</th>\n",
              "      <td>0.000383</td>\n",
              "      <td>0.115553</td>\n",
              "      <td>3147</td>\n",
              "      <td>3146</td>\n",
              "      <td>42</td>\n",
              "      <td>055</td>\n",
              "      <td>0124</td>\n",
              "      <td>0124</td>\n",
              "      <td>TR</td>\n",
              "      <td>None</td>\n",
              "      <td>POLYGON ((-77.57768 39.75554, -77.57199 39.752...</td>\n",
              "      <td>1400000US42055012400</td>\n",
              "    </tr>\n",
              "    <tr>\n",
              "      <th>3146</th>\n",
              "      <td>0.000432</td>\n",
              "      <td>0.093269</td>\n",
              "      <td>3148</td>\n",
              "      <td>3147</td>\n",
              "      <td>42</td>\n",
              "      <td>001</td>\n",
              "      <td>0313</td>\n",
              "      <td>0313</td>\n",
              "      <td>TR</td>\n",
              "      <td>None</td>\n",
              "      <td>POLYGON ((-77.09466 39.75148, -77.09430 39.753...</td>\n",
              "      <td>1400000US42001031300</td>\n",
              "    </tr>\n",
              "  </tbody>\n",
              "</table>\n",
              "<p>3147 rows × 12 columns</p>\n",
              "</div>\n",
              "      <button class=\"colab-df-convert\" onclick=\"convertToInteractive('df-522a9a43-ad0e-4f64-a7c6-e2cbbbf73606')\"\n",
              "              title=\"Convert this dataframe to an interactive table.\"\n",
              "              style=\"display:none;\">\n",
              "        \n",
              "  <svg xmlns=\"http://www.w3.org/2000/svg\" height=\"24px\"viewBox=\"0 0 24 24\"\n",
              "       width=\"24px\">\n",
              "    <path d=\"M0 0h24v24H0V0z\" fill=\"none\"/>\n",
              "    <path d=\"M18.56 5.44l.94 2.06.94-2.06 2.06-.94-2.06-.94-.94-2.06-.94 2.06-2.06.94zm-11 1L8.5 8.5l.94-2.06 2.06-.94-2.06-.94L8.5 2.5l-.94 2.06-2.06.94zm10 10l.94 2.06.94-2.06 2.06-.94-2.06-.94-.94-2.06-.94 2.06-2.06.94z\"/><path d=\"M17.41 7.96l-1.37-1.37c-.4-.4-.92-.59-1.43-.59-.52 0-1.04.2-1.43.59L10.3 9.45l-7.72 7.72c-.78.78-.78 2.05 0 2.83L4 21.41c.39.39.9.59 1.41.59.51 0 1.02-.2 1.41-.59l7.78-7.78 2.81-2.81c.8-.78.8-2.07 0-2.86zM5.41 20L4 18.59l7.72-7.72 1.47 1.35L5.41 20z\"/>\n",
              "  </svg>\n",
              "      </button>\n",
              "      \n",
              "  <style>\n",
              "    .colab-df-container {\n",
              "      display:flex;\n",
              "      flex-wrap:wrap;\n",
              "      gap: 12px;\n",
              "    }\n",
              "\n",
              "    .colab-df-convert {\n",
              "      background-color: #E8F0FE;\n",
              "      border: none;\n",
              "      border-radius: 50%;\n",
              "      cursor: pointer;\n",
              "      display: none;\n",
              "      fill: #1967D2;\n",
              "      height: 32px;\n",
              "      padding: 0 0 0 0;\n",
              "      width: 32px;\n",
              "    }\n",
              "\n",
              "    .colab-df-convert:hover {\n",
              "      background-color: #E2EBFA;\n",
              "      box-shadow: 0px 1px 2px rgba(60, 64, 67, 0.3), 0px 1px 3px 1px rgba(60, 64, 67, 0.15);\n",
              "      fill: #174EA6;\n",
              "    }\n",
              "\n",
              "    [theme=dark] .colab-df-convert {\n",
              "      background-color: #3B4455;\n",
              "      fill: #D2E3FC;\n",
              "    }\n",
              "\n",
              "    [theme=dark] .colab-df-convert:hover {\n",
              "      background-color: #434B5C;\n",
              "      box-shadow: 0px 1px 3px 1px rgba(0, 0, 0, 0.15);\n",
              "      filter: drop-shadow(0px 1px 2px rgba(0, 0, 0, 0.3));\n",
              "      fill: #FFFFFF;\n",
              "    }\n",
              "  </style>\n",
              "\n",
              "      <script>\n",
              "        const buttonEl =\n",
              "          document.querySelector('#df-522a9a43-ad0e-4f64-a7c6-e2cbbbf73606 button.colab-df-convert');\n",
              "        buttonEl.style.display =\n",
              "          google.colab.kernel.accessAllowed ? 'block' : 'none';\n",
              "\n",
              "        async function convertToInteractive(key) {\n",
              "          const element = document.querySelector('#df-522a9a43-ad0e-4f64-a7c6-e2cbbbf73606');\n",
              "          const dataTable =\n",
              "            await google.colab.kernel.invokeFunction('convertToInteractive',\n",
              "                                                     [key], {});\n",
              "          if (!dataTable) return;\n",
              "\n",
              "          const docLinkHtml = 'Like what you see? Visit the ' +\n",
              "            '<a target=\"_blank\" href=https://colab.research.google.com/notebooks/data_table.ipynb>data table notebook</a>'\n",
              "            + ' to learn more about interactive tables.';\n",
              "          element.innerHTML = '';\n",
              "          dataTable['output_type'] = 'display_data';\n",
              "          await google.colab.output.renderOutput(dataTable, element);\n",
              "          const docLink = document.createElement('div');\n",
              "          docLink.innerHTML = docLinkHtml;\n",
              "          element.appendChild(docLink);\n",
              "        }\n",
              "      </script>\n",
              "    </div>\n",
              "  </div>\n",
              "  "
            ]
          },
          "metadata": {},
          "execution_count": 6
        }
      ]
    },
    {
      "cell_type": "code",
      "source": [
        "fname = \"/content/drive/MyDrive/mlpp22/data/census/ctshapes/2016/cb_2016_42_tract_500k.shp\"\n",
        "ct16 = gp.read_file(fname)\n",
        "ct16"
      ],
      "metadata": {
        "colab": {
          "base_uri": "https://localhost:8080/",
          "height": 424
        },
        "id": "jTTcc3KT29hB",
        "outputId": "421b61ce-3316-4f3c-fd7b-49ad3220ac87"
      },
      "execution_count": null,
      "outputs": [
        {
          "output_type": "execute_result",
          "data": {
            "text/plain": [
              "     STATEFP COUNTYFP TRACTCE              AFFGEOID        GEOID    NAME LSAD  \\\n",
              "0         42      101  010200  1400000US42101010200  42101010200     102   CT   \n",
              "1         42      101  011900  1400000US42101011900  42101011900     119   CT   \n",
              "2         42      101  013900  1400000US42101013900  42101013900     139   CT   \n",
              "3         42      101  015700  1400000US42101015700  42101015700     157   CT   \n",
              "4         42      101  016300  1400000US42101016300  42101016300     163   CT   \n",
              "...      ...      ...     ...                   ...          ...     ...  ...   \n",
              "3212      42      129  805000  1400000US42129805000  42129805000    8050   CT   \n",
              "3213      42      121  201400  1400000US42121201400  42121201400    2014   CT   \n",
              "3214      42      125  743700  1400000US42125743700  42125743700    7437   CT   \n",
              "3215      42      125  751200  1400000US42125751200  42125751200    7512   CT   \n",
              "3216      42      043  024104  1400000US42043024104  42043024104  241.04   CT   \n",
              "\n",
              "          ALAND   AWATER                                           geometry  \n",
              "0        360618        0  POLYGON ((-75.23536 39.96851, -75.23570 39.970...  \n",
              "1        690903        0  POLYGON ((-75.23367 39.99188, -75.22566 39.991...  \n",
              "2        562937        0  POLYGON ((-75.17785 39.97425, -75.17378 39.974...  \n",
              "3        485072        0  POLYGON ((-75.13877 39.97932, -75.13814 39.982...  \n",
              "4        572226        0  POLYGON ((-75.13902 39.98876, -75.13835 39.991...  \n",
              "...         ...      ...                                                ...  \n",
              "3212   40577425    57686  POLYGON ((-79.75986 40.25241, -79.75621 40.253...  \n",
              "3213  273393108  2598355  POLYGON ((-79.99978 41.31372, -79.99978 41.369...  \n",
              "3214    1064187        0  POLYGON ((-80.22130 40.25623, -80.22016 40.254...  \n",
              "3215   13500577        0  POLYGON ((-80.33256 40.20118, -80.33061 40.199...  \n",
              "3216   10705846   129750  POLYGON ((-76.73681 40.25279, -76.73472 40.255...  \n",
              "\n",
              "[3217 rows x 10 columns]"
            ],
            "text/html": [
              "\n",
              "  <div id=\"df-ff5325b5-15a1-4ecd-988b-87be5259fc40\">\n",
              "    <div class=\"colab-df-container\">\n",
              "      <div>\n",
              "<style scoped>\n",
              "    .dataframe tbody tr th:only-of-type {\n",
              "        vertical-align: middle;\n",
              "    }\n",
              "\n",
              "    .dataframe tbody tr th {\n",
              "        vertical-align: top;\n",
              "    }\n",
              "\n",
              "    .dataframe thead th {\n",
              "        text-align: right;\n",
              "    }\n",
              "</style>\n",
              "<table border=\"1\" class=\"dataframe\">\n",
              "  <thead>\n",
              "    <tr style=\"text-align: right;\">\n",
              "      <th></th>\n",
              "      <th>STATEFP</th>\n",
              "      <th>COUNTYFP</th>\n",
              "      <th>TRACTCE</th>\n",
              "      <th>AFFGEOID</th>\n",
              "      <th>GEOID</th>\n",
              "      <th>NAME</th>\n",
              "      <th>LSAD</th>\n",
              "      <th>ALAND</th>\n",
              "      <th>AWATER</th>\n",
              "      <th>geometry</th>\n",
              "    </tr>\n",
              "  </thead>\n",
              "  <tbody>\n",
              "    <tr>\n",
              "      <th>0</th>\n",
              "      <td>42</td>\n",
              "      <td>101</td>\n",
              "      <td>010200</td>\n",
              "      <td>1400000US42101010200</td>\n",
              "      <td>42101010200</td>\n",
              "      <td>102</td>\n",
              "      <td>CT</td>\n",
              "      <td>360618</td>\n",
              "      <td>0</td>\n",
              "      <td>POLYGON ((-75.23536 39.96851, -75.23570 39.970...</td>\n",
              "    </tr>\n",
              "    <tr>\n",
              "      <th>1</th>\n",
              "      <td>42</td>\n",
              "      <td>101</td>\n",
              "      <td>011900</td>\n",
              "      <td>1400000US42101011900</td>\n",
              "      <td>42101011900</td>\n",
              "      <td>119</td>\n",
              "      <td>CT</td>\n",
              "      <td>690903</td>\n",
              "      <td>0</td>\n",
              "      <td>POLYGON ((-75.23367 39.99188, -75.22566 39.991...</td>\n",
              "    </tr>\n",
              "    <tr>\n",
              "      <th>2</th>\n",
              "      <td>42</td>\n",
              "      <td>101</td>\n",
              "      <td>013900</td>\n",
              "      <td>1400000US42101013900</td>\n",
              "      <td>42101013900</td>\n",
              "      <td>139</td>\n",
              "      <td>CT</td>\n",
              "      <td>562937</td>\n",
              "      <td>0</td>\n",
              "      <td>POLYGON ((-75.17785 39.97425, -75.17378 39.974...</td>\n",
              "    </tr>\n",
              "    <tr>\n",
              "      <th>3</th>\n",
              "      <td>42</td>\n",
              "      <td>101</td>\n",
              "      <td>015700</td>\n",
              "      <td>1400000US42101015700</td>\n",
              "      <td>42101015700</td>\n",
              "      <td>157</td>\n",
              "      <td>CT</td>\n",
              "      <td>485072</td>\n",
              "      <td>0</td>\n",
              "      <td>POLYGON ((-75.13877 39.97932, -75.13814 39.982...</td>\n",
              "    </tr>\n",
              "    <tr>\n",
              "      <th>4</th>\n",
              "      <td>42</td>\n",
              "      <td>101</td>\n",
              "      <td>016300</td>\n",
              "      <td>1400000US42101016300</td>\n",
              "      <td>42101016300</td>\n",
              "      <td>163</td>\n",
              "      <td>CT</td>\n",
              "      <td>572226</td>\n",
              "      <td>0</td>\n",
              "      <td>POLYGON ((-75.13902 39.98876, -75.13835 39.991...</td>\n",
              "    </tr>\n",
              "    <tr>\n",
              "      <th>...</th>\n",
              "      <td>...</td>\n",
              "      <td>...</td>\n",
              "      <td>...</td>\n",
              "      <td>...</td>\n",
              "      <td>...</td>\n",
              "      <td>...</td>\n",
              "      <td>...</td>\n",
              "      <td>...</td>\n",
              "      <td>...</td>\n",
              "      <td>...</td>\n",
              "    </tr>\n",
              "    <tr>\n",
              "      <th>3212</th>\n",
              "      <td>42</td>\n",
              "      <td>129</td>\n",
              "      <td>805000</td>\n",
              "      <td>1400000US42129805000</td>\n",
              "      <td>42129805000</td>\n",
              "      <td>8050</td>\n",
              "      <td>CT</td>\n",
              "      <td>40577425</td>\n",
              "      <td>57686</td>\n",
              "      <td>POLYGON ((-79.75986 40.25241, -79.75621 40.253...</td>\n",
              "    </tr>\n",
              "    <tr>\n",
              "      <th>3213</th>\n",
              "      <td>42</td>\n",
              "      <td>121</td>\n",
              "      <td>201400</td>\n",
              "      <td>1400000US42121201400</td>\n",
              "      <td>42121201400</td>\n",
              "      <td>2014</td>\n",
              "      <td>CT</td>\n",
              "      <td>273393108</td>\n",
              "      <td>2598355</td>\n",
              "      <td>POLYGON ((-79.99978 41.31372, -79.99978 41.369...</td>\n",
              "    </tr>\n",
              "    <tr>\n",
              "      <th>3214</th>\n",
              "      <td>42</td>\n",
              "      <td>125</td>\n",
              "      <td>743700</td>\n",
              "      <td>1400000US42125743700</td>\n",
              "      <td>42125743700</td>\n",
              "      <td>7437</td>\n",
              "      <td>CT</td>\n",
              "      <td>1064187</td>\n",
              "      <td>0</td>\n",
              "      <td>POLYGON ((-80.22130 40.25623, -80.22016 40.254...</td>\n",
              "    </tr>\n",
              "    <tr>\n",
              "      <th>3215</th>\n",
              "      <td>42</td>\n",
              "      <td>125</td>\n",
              "      <td>751200</td>\n",
              "      <td>1400000US42125751200</td>\n",
              "      <td>42125751200</td>\n",
              "      <td>7512</td>\n",
              "      <td>CT</td>\n",
              "      <td>13500577</td>\n",
              "      <td>0</td>\n",
              "      <td>POLYGON ((-80.33256 40.20118, -80.33061 40.199...</td>\n",
              "    </tr>\n",
              "    <tr>\n",
              "      <th>3216</th>\n",
              "      <td>42</td>\n",
              "      <td>043</td>\n",
              "      <td>024104</td>\n",
              "      <td>1400000US42043024104</td>\n",
              "      <td>42043024104</td>\n",
              "      <td>241.04</td>\n",
              "      <td>CT</td>\n",
              "      <td>10705846</td>\n",
              "      <td>129750</td>\n",
              "      <td>POLYGON ((-76.73681 40.25279, -76.73472 40.255...</td>\n",
              "    </tr>\n",
              "  </tbody>\n",
              "</table>\n",
              "<p>3217 rows × 10 columns</p>\n",
              "</div>\n",
              "      <button class=\"colab-df-convert\" onclick=\"convertToInteractive('df-ff5325b5-15a1-4ecd-988b-87be5259fc40')\"\n",
              "              title=\"Convert this dataframe to an interactive table.\"\n",
              "              style=\"display:none;\">\n",
              "        \n",
              "  <svg xmlns=\"http://www.w3.org/2000/svg\" height=\"24px\"viewBox=\"0 0 24 24\"\n",
              "       width=\"24px\">\n",
              "    <path d=\"M0 0h24v24H0V0z\" fill=\"none\"/>\n",
              "    <path d=\"M18.56 5.44l.94 2.06.94-2.06 2.06-.94-2.06-.94-.94-2.06-.94 2.06-2.06.94zm-11 1L8.5 8.5l.94-2.06 2.06-.94-2.06-.94L8.5 2.5l-.94 2.06-2.06.94zm10 10l.94 2.06.94-2.06 2.06-.94-2.06-.94-.94-2.06-.94 2.06-2.06.94z\"/><path d=\"M17.41 7.96l-1.37-1.37c-.4-.4-.92-.59-1.43-.59-.52 0-1.04.2-1.43.59L10.3 9.45l-7.72 7.72c-.78.78-.78 2.05 0 2.83L4 21.41c.39.39.9.59 1.41.59.51 0 1.02-.2 1.41-.59l7.78-7.78 2.81-2.81c.8-.78.8-2.07 0-2.86zM5.41 20L4 18.59l7.72-7.72 1.47 1.35L5.41 20z\"/>\n",
              "  </svg>\n",
              "      </button>\n",
              "      \n",
              "  <style>\n",
              "    .colab-df-container {\n",
              "      display:flex;\n",
              "      flex-wrap:wrap;\n",
              "      gap: 12px;\n",
              "    }\n",
              "\n",
              "    .colab-df-convert {\n",
              "      background-color: #E8F0FE;\n",
              "      border: none;\n",
              "      border-radius: 50%;\n",
              "      cursor: pointer;\n",
              "      display: none;\n",
              "      fill: #1967D2;\n",
              "      height: 32px;\n",
              "      padding: 0 0 0 0;\n",
              "      width: 32px;\n",
              "    }\n",
              "\n",
              "    .colab-df-convert:hover {\n",
              "      background-color: #E2EBFA;\n",
              "      box-shadow: 0px 1px 2px rgba(60, 64, 67, 0.3), 0px 1px 3px 1px rgba(60, 64, 67, 0.15);\n",
              "      fill: #174EA6;\n",
              "    }\n",
              "\n",
              "    [theme=dark] .colab-df-convert {\n",
              "      background-color: #3B4455;\n",
              "      fill: #D2E3FC;\n",
              "    }\n",
              "\n",
              "    [theme=dark] .colab-df-convert:hover {\n",
              "      background-color: #434B5C;\n",
              "      box-shadow: 0px 1px 3px 1px rgba(0, 0, 0, 0.15);\n",
              "      filter: drop-shadow(0px 1px 2px rgba(0, 0, 0, 0.3));\n",
              "      fill: #FFFFFF;\n",
              "    }\n",
              "  </style>\n",
              "\n",
              "      <script>\n",
              "        const buttonEl =\n",
              "          document.querySelector('#df-ff5325b5-15a1-4ecd-988b-87be5259fc40 button.colab-df-convert');\n",
              "        buttonEl.style.display =\n",
              "          google.colab.kernel.accessAllowed ? 'block' : 'none';\n",
              "\n",
              "        async function convertToInteractive(key) {\n",
              "          const element = document.querySelector('#df-ff5325b5-15a1-4ecd-988b-87be5259fc40');\n",
              "          const dataTable =\n",
              "            await google.colab.kernel.invokeFunction('convertToInteractive',\n",
              "                                                     [key], {});\n",
              "          if (!dataTable) return;\n",
              "\n",
              "          const docLinkHtml = 'Like what you see? Visit the ' +\n",
              "            '<a target=\"_blank\" href=https://colab.research.google.com/notebooks/data_table.ipynb>data table notebook</a>'\n",
              "            + ' to learn more about interactive tables.';\n",
              "          element.innerHTML = '';\n",
              "          dataTable['output_type'] = 'display_data';\n",
              "          await google.colab.output.renderOutput(dataTable, element);\n",
              "          const docLink = document.createElement('div');\n",
              "          docLink.innerHTML = docLinkHtml;\n",
              "          element.appendChild(docLink);\n",
              "        }\n",
              "      </script>\n",
              "    </div>\n",
              "  </div>\n",
              "  "
            ]
          },
          "metadata": {},
          "execution_count": 7
        }
      ]
    },
    {
      "cell_type": "markdown",
      "metadata": {
        "id": "bKpR2jEPfyrr"
      },
      "source": [
        "**Install the `censusdata` [package](https://jtleider.github.io/censusdata/) and use it to retrieve the 2016 ACS 5-year estimates for the median income for census tracts in Philadelphia County$^{\\dagger}$.**\n",
        "\n",
        "<small> $^{\\dagger}$ Note, the table number is B19013.  See the notebook `mlpp22/week6/03.15.2022/mlpp22_censusdata_example.ipynb` for an example.  If you are unable to complete this task, let me know and I will provide the data to you (for a point penalty)."
      ]
    },
    {
      "cell_type": "code",
      "metadata": {
        "id": "x6ikBszLw2uK",
        "colab": {
          "base_uri": "https://localhost:8080/"
        },
        "outputId": "8a0c6e59-3b70-47dd-d079-352150ba0521"
      },
      "source": [
        "# -- print column names in the B19013 table\n",
        "censusdata.printtable(censusdata.censustable(\"acs5\", 2016, \"B19013\"))"
      ],
      "execution_count": null,
      "outputs": [
        {
          "output_type": "stream",
          "name": "stdout",
          "text": [
            "Variable     | Table                          | Label                                                    | Type \n",
            "-------------------------------------------------------------------------------------------------------------------\n",
            "B19013_001E  | MEDIAN HOUSEHOLD INCOME IN THE | !! Estimate Median household income in the past 12 month | int  \n",
            "-------------------------------------------------------------------------------------------------------------------\n"
          ]
        }
      ]
    },
    {
      "cell_type": "code",
      "source": [
        "# -- list all state codes\n",
        "censusdata.geographies(censusdata.censusgeo([(\"state\", \"*\")]), \"acs5\", 2016)"
      ],
      "metadata": {
        "colab": {
          "base_uri": "https://localhost:8080/"
        },
        "id": "rii_tVA36MT3",
        "outputId": "e001e79b-13a2-42af-d969-f8e31c2b4394"
      },
      "execution_count": null,
      "outputs": [
        {
          "output_type": "execute_result",
          "data": {
            "text/plain": [
              "{'Alabama': censusgeo((('state', '01'),)),\n",
              " 'Alaska': censusgeo((('state', '02'),)),\n",
              " 'Arizona': censusgeo((('state', '04'),)),\n",
              " 'Arkansas': censusgeo((('state', '05'),)),\n",
              " 'California': censusgeo((('state', '06'),)),\n",
              " 'Colorado': censusgeo((('state', '08'),)),\n",
              " 'Connecticut': censusgeo((('state', '09'),)),\n",
              " 'Delaware': censusgeo((('state', '10'),)),\n",
              " 'District of Columbia': censusgeo((('state', '11'),)),\n",
              " 'Florida': censusgeo((('state', '12'),)),\n",
              " 'Georgia': censusgeo((('state', '13'),)),\n",
              " 'Hawaii': censusgeo((('state', '15'),)),\n",
              " 'Idaho': censusgeo((('state', '16'),)),\n",
              " 'Illinois': censusgeo((('state', '17'),)),\n",
              " 'Indiana': censusgeo((('state', '18'),)),\n",
              " 'Iowa': censusgeo((('state', '19'),)),\n",
              " 'Kansas': censusgeo((('state', '20'),)),\n",
              " 'Kentucky': censusgeo((('state', '21'),)),\n",
              " 'Louisiana': censusgeo((('state', '22'),)),\n",
              " 'Maine': censusgeo((('state', '23'),)),\n",
              " 'Maryland': censusgeo((('state', '24'),)),\n",
              " 'Massachusetts': censusgeo((('state', '25'),)),\n",
              " 'Michigan': censusgeo((('state', '26'),)),\n",
              " 'Minnesota': censusgeo((('state', '27'),)),\n",
              " 'Mississippi': censusgeo((('state', '28'),)),\n",
              " 'Missouri': censusgeo((('state', '29'),)),\n",
              " 'Montana': censusgeo((('state', '30'),)),\n",
              " 'Nebraska': censusgeo((('state', '31'),)),\n",
              " 'Nevada': censusgeo((('state', '32'),)),\n",
              " 'New Hampshire': censusgeo((('state', '33'),)),\n",
              " 'New Jersey': censusgeo((('state', '34'),)),\n",
              " 'New Mexico': censusgeo((('state', '35'),)),\n",
              " 'New York': censusgeo((('state', '36'),)),\n",
              " 'North Carolina': censusgeo((('state', '37'),)),\n",
              " 'North Dakota': censusgeo((('state', '38'),)),\n",
              " 'Ohio': censusgeo((('state', '39'),)),\n",
              " 'Oklahoma': censusgeo((('state', '40'),)),\n",
              " 'Oregon': censusgeo((('state', '41'),)),\n",
              " 'Pennsylvania': censusgeo((('state', '42'),)),\n",
              " 'Puerto Rico': censusgeo((('state', '72'),)),\n",
              " 'Rhode Island': censusgeo((('state', '44'),)),\n",
              " 'South Carolina': censusgeo((('state', '45'),)),\n",
              " 'South Dakota': censusgeo((('state', '46'),)),\n",
              " 'Tennessee': censusgeo((('state', '47'),)),\n",
              " 'Texas': censusgeo((('state', '48'),)),\n",
              " 'Utah': censusgeo((('state', '49'),)),\n",
              " 'Vermont': censusgeo((('state', '50'),)),\n",
              " 'Virginia': censusgeo((('state', '51'),)),\n",
              " 'Washington': censusgeo((('state', '53'),)),\n",
              " 'West Virginia': censusgeo((('state', '54'),)),\n",
              " 'Wisconsin': censusgeo((('state', '55'),)),\n",
              " 'Wyoming': censusgeo((('state', '56'),))}"
            ]
          },
          "metadata": {},
          "execution_count": 9
        }
      ]
    },
    {
      "cell_type": "markdown",
      "source": [
        "The PA State Code is 42"
      ],
      "metadata": {
        "id": "s3sc6TwB8XCP"
      }
    },
    {
      "cell_type": "code",
      "source": [
        "censusdata.geographies(censusdata.censusgeo([(\"state\", \"42\"), (\"county\", \"*\")]), \"acs5\", 2016)"
      ],
      "metadata": {
        "colab": {
          "base_uri": "https://localhost:8080/"
        },
        "id": "n-CbfLlI8eBo",
        "outputId": "15380958-e0e6-4375-b9d0-35ba7e5a3ece"
      },
      "execution_count": null,
      "outputs": [
        {
          "output_type": "execute_result",
          "data": {
            "text/plain": [
              "{'Adams County, Pennsylvania': censusgeo((('state', '42'), ('county', '001'))),\n",
              " 'Allegheny County, Pennsylvania': censusgeo((('state', '42'), ('county', '003'))),\n",
              " 'Armstrong County, Pennsylvania': censusgeo((('state', '42'), ('county', '005'))),\n",
              " 'Beaver County, Pennsylvania': censusgeo((('state', '42'), ('county', '007'))),\n",
              " 'Bedford County, Pennsylvania': censusgeo((('state', '42'), ('county', '009'))),\n",
              " 'Berks County, Pennsylvania': censusgeo((('state', '42'), ('county', '011'))),\n",
              " 'Blair County, Pennsylvania': censusgeo((('state', '42'), ('county', '013'))),\n",
              " 'Bradford County, Pennsylvania': censusgeo((('state', '42'), ('county', '015'))),\n",
              " 'Bucks County, Pennsylvania': censusgeo((('state', '42'), ('county', '017'))),\n",
              " 'Butler County, Pennsylvania': censusgeo((('state', '42'), ('county', '019'))),\n",
              " 'Cambria County, Pennsylvania': censusgeo((('state', '42'), ('county', '021'))),\n",
              " 'Cameron County, Pennsylvania': censusgeo((('state', '42'), ('county', '023'))),\n",
              " 'Carbon County, Pennsylvania': censusgeo((('state', '42'), ('county', '025'))),\n",
              " 'Centre County, Pennsylvania': censusgeo((('state', '42'), ('county', '027'))),\n",
              " 'Chester County, Pennsylvania': censusgeo((('state', '42'), ('county', '029'))),\n",
              " 'Clarion County, Pennsylvania': censusgeo((('state', '42'), ('county', '031'))),\n",
              " 'Clearfield County, Pennsylvania': censusgeo((('state', '42'), ('county', '033'))),\n",
              " 'Clinton County, Pennsylvania': censusgeo((('state', '42'), ('county', '035'))),\n",
              " 'Columbia County, Pennsylvania': censusgeo((('state', '42'), ('county', '037'))),\n",
              " 'Crawford County, Pennsylvania': censusgeo((('state', '42'), ('county', '039'))),\n",
              " 'Cumberland County, Pennsylvania': censusgeo((('state', '42'), ('county', '041'))),\n",
              " 'Dauphin County, Pennsylvania': censusgeo((('state', '42'), ('county', '043'))),\n",
              " 'Delaware County, Pennsylvania': censusgeo((('state', '42'), ('county', '045'))),\n",
              " 'Elk County, Pennsylvania': censusgeo((('state', '42'), ('county', '047'))),\n",
              " 'Erie County, Pennsylvania': censusgeo((('state', '42'), ('county', '049'))),\n",
              " 'Fayette County, Pennsylvania': censusgeo((('state', '42'), ('county', '051'))),\n",
              " 'Forest County, Pennsylvania': censusgeo((('state', '42'), ('county', '053'))),\n",
              " 'Franklin County, Pennsylvania': censusgeo((('state', '42'), ('county', '055'))),\n",
              " 'Fulton County, Pennsylvania': censusgeo((('state', '42'), ('county', '057'))),\n",
              " 'Greene County, Pennsylvania': censusgeo((('state', '42'), ('county', '059'))),\n",
              " 'Huntingdon County, Pennsylvania': censusgeo((('state', '42'), ('county', '061'))),\n",
              " 'Indiana County, Pennsylvania': censusgeo((('state', '42'), ('county', '063'))),\n",
              " 'Jefferson County, Pennsylvania': censusgeo((('state', '42'), ('county', '065'))),\n",
              " 'Juniata County, Pennsylvania': censusgeo((('state', '42'), ('county', '067'))),\n",
              " 'Lackawanna County, Pennsylvania': censusgeo((('state', '42'), ('county', '069'))),\n",
              " 'Lancaster County, Pennsylvania': censusgeo((('state', '42'), ('county', '071'))),\n",
              " 'Lawrence County, Pennsylvania': censusgeo((('state', '42'), ('county', '073'))),\n",
              " 'Lebanon County, Pennsylvania': censusgeo((('state', '42'), ('county', '075'))),\n",
              " 'Lehigh County, Pennsylvania': censusgeo((('state', '42'), ('county', '077'))),\n",
              " 'Luzerne County, Pennsylvania': censusgeo((('state', '42'), ('county', '079'))),\n",
              " 'Lycoming County, Pennsylvania': censusgeo((('state', '42'), ('county', '081'))),\n",
              " 'McKean County, Pennsylvania': censusgeo((('state', '42'), ('county', '083'))),\n",
              " 'Mercer County, Pennsylvania': censusgeo((('state', '42'), ('county', '085'))),\n",
              " 'Mifflin County, Pennsylvania': censusgeo((('state', '42'), ('county', '087'))),\n",
              " 'Monroe County, Pennsylvania': censusgeo((('state', '42'), ('county', '089'))),\n",
              " 'Montgomery County, Pennsylvania': censusgeo((('state', '42'), ('county', '091'))),\n",
              " 'Montour County, Pennsylvania': censusgeo((('state', '42'), ('county', '093'))),\n",
              " 'Northampton County, Pennsylvania': censusgeo((('state', '42'), ('county', '095'))),\n",
              " 'Northumberland County, Pennsylvania': censusgeo((('state', '42'), ('county', '097'))),\n",
              " 'Perry County, Pennsylvania': censusgeo((('state', '42'), ('county', '099'))),\n",
              " 'Philadelphia County, Pennsylvania': censusgeo((('state', '42'), ('county', '101'))),\n",
              " 'Pike County, Pennsylvania': censusgeo((('state', '42'), ('county', '103'))),\n",
              " 'Potter County, Pennsylvania': censusgeo((('state', '42'), ('county', '105'))),\n",
              " 'Schuylkill County, Pennsylvania': censusgeo((('state', '42'), ('county', '107'))),\n",
              " 'Snyder County, Pennsylvania': censusgeo((('state', '42'), ('county', '109'))),\n",
              " 'Somerset County, Pennsylvania': censusgeo((('state', '42'), ('county', '111'))),\n",
              " 'Sullivan County, Pennsylvania': censusgeo((('state', '42'), ('county', '113'))),\n",
              " 'Susquehanna County, Pennsylvania': censusgeo((('state', '42'), ('county', '115'))),\n",
              " 'Tioga County, Pennsylvania': censusgeo((('state', '42'), ('county', '117'))),\n",
              " 'Union County, Pennsylvania': censusgeo((('state', '42'), ('county', '119'))),\n",
              " 'Venango County, Pennsylvania': censusgeo((('state', '42'), ('county', '121'))),\n",
              " 'Warren County, Pennsylvania': censusgeo((('state', '42'), ('county', '123'))),\n",
              " 'Washington County, Pennsylvania': censusgeo((('state', '42'), ('county', '125'))),\n",
              " 'Wayne County, Pennsylvania': censusgeo((('state', '42'), ('county', '127'))),\n",
              " 'Westmoreland County, Pennsylvania': censusgeo((('state', '42'), ('county', '129'))),\n",
              " 'Wyoming County, Pennsylvania': censusgeo((('state', '42'), ('county', '131'))),\n",
              " 'York County, Pennsylvania': censusgeo((('state', '42'), ('county', '133')))}"
            ]
          },
          "metadata": {},
          "execution_count": 10
        }
      ]
    },
    {
      "cell_type": "markdown",
      "source": [
        "Philadelphia County Code is 101"
      ],
      "metadata": {
        "id": "UJT2dIOY8tiG"
      }
    },
    {
      "cell_type": "code",
      "source": [
        "# -- set the column names\n",
        "cols = [\"B19013_001E\"]\n",
        "\n",
        "# -- set the geography and spatial aggregation to tracts (the \"*\"\" means to get \"all tracts\")\n",
        "geo = censusdata.censusgeo([(\"state\", \"42\"), (\"county\", \"101\"), (\"tract\", \"*\")])\n",
        "\n",
        "# -- load the data into a DataFrame\n",
        "data = censusdata.download(\"acs5\", 2016, geo, cols)"
      ],
      "metadata": {
        "id": "sXl3HRdi8vgH"
      },
      "execution_count": null,
      "outputs": []
    },
    {
      "cell_type": "code",
      "source": [
        "data"
      ],
      "metadata": {
        "colab": {
          "base_uri": "https://localhost:8080/",
          "height": 424
        },
        "id": "uNisaf1N9F1v",
        "outputId": "1e058373-247b-4476-a3e2-59a245efab52"
      },
      "execution_count": null,
      "outputs": [
        {
          "output_type": "execute_result",
          "data": {
            "text/plain": [
              "                                                    B19013_001E\n",
              "Census Tract 83.01, Philadelphia County, Pennsy...        29770\n",
              "Census Tract 83.02, Philadelphia County, Pennsy...        31202\n",
              "Census Tract 63, Philadelphia County, Pennsylva...        25871\n",
              "Census Tract 73, Philadelphia County, Pennsylva...        25369\n",
              "Census Tract 79, Philadelphia County, Pennsylva...        56944\n",
              "...                                                         ...\n",
              "Census Tract 236, Philadelphia County, Pennsylv...        67147\n",
              "Census Tract 239, Philadelphia County, Pennsylv...        20843\n",
              "Census Tract 242, Philadelphia County, Pennsylv...        22500\n",
              "Census Tract 245, Philadelphia County, Pennsylv...        16474\n",
              "Census Tract 254, Philadelphia County, Pennsylv...        51806\n",
              "\n",
              "[384 rows x 1 columns]"
            ],
            "text/html": [
              "\n",
              "  <div id=\"df-0afa07b1-f8c4-49c2-a111-c9552309f123\">\n",
              "    <div class=\"colab-df-container\">\n",
              "      <div>\n",
              "<style scoped>\n",
              "    .dataframe tbody tr th:only-of-type {\n",
              "        vertical-align: middle;\n",
              "    }\n",
              "\n",
              "    .dataframe tbody tr th {\n",
              "        vertical-align: top;\n",
              "    }\n",
              "\n",
              "    .dataframe thead th {\n",
              "        text-align: right;\n",
              "    }\n",
              "</style>\n",
              "<table border=\"1\" class=\"dataframe\">\n",
              "  <thead>\n",
              "    <tr style=\"text-align: right;\">\n",
              "      <th></th>\n",
              "      <th>B19013_001E</th>\n",
              "    </tr>\n",
              "  </thead>\n",
              "  <tbody>\n",
              "    <tr>\n",
              "      <th>Census Tract 83.01, Philadelphia County, Pennsylvania: Summary level: 140, state:42&gt; county:101&gt; tract:008301</th>\n",
              "      <td>29770</td>\n",
              "    </tr>\n",
              "    <tr>\n",
              "      <th>Census Tract 83.02, Philadelphia County, Pennsylvania: Summary level: 140, state:42&gt; county:101&gt; tract:008302</th>\n",
              "      <td>31202</td>\n",
              "    </tr>\n",
              "    <tr>\n",
              "      <th>Census Tract 63, Philadelphia County, Pennsylvania: Summary level: 140, state:42&gt; county:101&gt; tract:006300</th>\n",
              "      <td>25871</td>\n",
              "    </tr>\n",
              "    <tr>\n",
              "      <th>Census Tract 73, Philadelphia County, Pennsylvania: Summary level: 140, state:42&gt; county:101&gt; tract:007300</th>\n",
              "      <td>25369</td>\n",
              "    </tr>\n",
              "    <tr>\n",
              "      <th>Census Tract 79, Philadelphia County, Pennsylvania: Summary level: 140, state:42&gt; county:101&gt; tract:007900</th>\n",
              "      <td>56944</td>\n",
              "    </tr>\n",
              "    <tr>\n",
              "      <th>...</th>\n",
              "      <td>...</td>\n",
              "    </tr>\n",
              "    <tr>\n",
              "      <th>Census Tract 236, Philadelphia County, Pennsylvania: Summary level: 140, state:42&gt; county:101&gt; tract:023600</th>\n",
              "      <td>67147</td>\n",
              "    </tr>\n",
              "    <tr>\n",
              "      <th>Census Tract 239, Philadelphia County, Pennsylvania: Summary level: 140, state:42&gt; county:101&gt; tract:023900</th>\n",
              "      <td>20843</td>\n",
              "    </tr>\n",
              "    <tr>\n",
              "      <th>Census Tract 242, Philadelphia County, Pennsylvania: Summary level: 140, state:42&gt; county:101&gt; tract:024200</th>\n",
              "      <td>22500</td>\n",
              "    </tr>\n",
              "    <tr>\n",
              "      <th>Census Tract 245, Philadelphia County, Pennsylvania: Summary level: 140, state:42&gt; county:101&gt; tract:024500</th>\n",
              "      <td>16474</td>\n",
              "    </tr>\n",
              "    <tr>\n",
              "      <th>Census Tract 254, Philadelphia County, Pennsylvania: Summary level: 140, state:42&gt; county:101&gt; tract:025400</th>\n",
              "      <td>51806</td>\n",
              "    </tr>\n",
              "  </tbody>\n",
              "</table>\n",
              "<p>384 rows × 1 columns</p>\n",
              "</div>\n",
              "      <button class=\"colab-df-convert\" onclick=\"convertToInteractive('df-0afa07b1-f8c4-49c2-a111-c9552309f123')\"\n",
              "              title=\"Convert this dataframe to an interactive table.\"\n",
              "              style=\"display:none;\">\n",
              "        \n",
              "  <svg xmlns=\"http://www.w3.org/2000/svg\" height=\"24px\"viewBox=\"0 0 24 24\"\n",
              "       width=\"24px\">\n",
              "    <path d=\"M0 0h24v24H0V0z\" fill=\"none\"/>\n",
              "    <path d=\"M18.56 5.44l.94 2.06.94-2.06 2.06-.94-2.06-.94-.94-2.06-.94 2.06-2.06.94zm-11 1L8.5 8.5l.94-2.06 2.06-.94-2.06-.94L8.5 2.5l-.94 2.06-2.06.94zm10 10l.94 2.06.94-2.06 2.06-.94-2.06-.94-.94-2.06-.94 2.06-2.06.94z\"/><path d=\"M17.41 7.96l-1.37-1.37c-.4-.4-.92-.59-1.43-.59-.52 0-1.04.2-1.43.59L10.3 9.45l-7.72 7.72c-.78.78-.78 2.05 0 2.83L4 21.41c.39.39.9.59 1.41.59.51 0 1.02-.2 1.41-.59l7.78-7.78 2.81-2.81c.8-.78.8-2.07 0-2.86zM5.41 20L4 18.59l7.72-7.72 1.47 1.35L5.41 20z\"/>\n",
              "  </svg>\n",
              "      </button>\n",
              "      \n",
              "  <style>\n",
              "    .colab-df-container {\n",
              "      display:flex;\n",
              "      flex-wrap:wrap;\n",
              "      gap: 12px;\n",
              "    }\n",
              "\n",
              "    .colab-df-convert {\n",
              "      background-color: #E8F0FE;\n",
              "      border: none;\n",
              "      border-radius: 50%;\n",
              "      cursor: pointer;\n",
              "      display: none;\n",
              "      fill: #1967D2;\n",
              "      height: 32px;\n",
              "      padding: 0 0 0 0;\n",
              "      width: 32px;\n",
              "    }\n",
              "\n",
              "    .colab-df-convert:hover {\n",
              "      background-color: #E2EBFA;\n",
              "      box-shadow: 0px 1px 2px rgba(60, 64, 67, 0.3), 0px 1px 3px 1px rgba(60, 64, 67, 0.15);\n",
              "      fill: #174EA6;\n",
              "    }\n",
              "\n",
              "    [theme=dark] .colab-df-convert {\n",
              "      background-color: #3B4455;\n",
              "      fill: #D2E3FC;\n",
              "    }\n",
              "\n",
              "    [theme=dark] .colab-df-convert:hover {\n",
              "      background-color: #434B5C;\n",
              "      box-shadow: 0px 1px 3px 1px rgba(0, 0, 0, 0.15);\n",
              "      filter: drop-shadow(0px 1px 2px rgba(0, 0, 0, 0.3));\n",
              "      fill: #FFFFFF;\n",
              "    }\n",
              "  </style>\n",
              "\n",
              "      <script>\n",
              "        const buttonEl =\n",
              "          document.querySelector('#df-0afa07b1-f8c4-49c2-a111-c9552309f123 button.colab-df-convert');\n",
              "        buttonEl.style.display =\n",
              "          google.colab.kernel.accessAllowed ? 'block' : 'none';\n",
              "\n",
              "        async function convertToInteractive(key) {\n",
              "          const element = document.querySelector('#df-0afa07b1-f8c4-49c2-a111-c9552309f123');\n",
              "          const dataTable =\n",
              "            await google.colab.kernel.invokeFunction('convertToInteractive',\n",
              "                                                     [key], {});\n",
              "          if (!dataTable) return;\n",
              "\n",
              "          const docLinkHtml = 'Like what you see? Visit the ' +\n",
              "            '<a target=\"_blank\" href=https://colab.research.google.com/notebooks/data_table.ipynb>data table notebook</a>'\n",
              "            + ' to learn more about interactive tables.';\n",
              "          element.innerHTML = '';\n",
              "          dataTable['output_type'] = 'display_data';\n",
              "          await google.colab.output.renderOutput(dataTable, element);\n",
              "          const docLink = document.createElement('div');\n",
              "          docLink.innerHTML = docLinkHtml;\n",
              "          element.appendChild(docLink);\n",
              "        }\n",
              "      </script>\n",
              "    </div>\n",
              "  </div>\n",
              "  "
            ]
          },
          "metadata": {},
          "execution_count": 12
        }
      ]
    },
    {
      "cell_type": "code",
      "source": [
        "# -- reset the index\n",
        "data = data.reset_index()\n",
        "data"
      ],
      "metadata": {
        "colab": {
          "base_uri": "https://localhost:8080/",
          "height": 424
        },
        "id": "HWAMXbYj-98-",
        "outputId": "72d225db-af26-4138-f0d9-7a1f7afdc935"
      },
      "execution_count": null,
      "outputs": [
        {
          "output_type": "execute_result",
          "data": {
            "text/plain": [
              "                                                 index  B19013_001E\n",
              "0    Census Tract 83.01, Philadelphia County, Penns...        29770\n",
              "1    Census Tract 83.02, Philadelphia County, Penns...        31202\n",
              "2    Census Tract 63, Philadelphia County, Pennsylv...        25871\n",
              "3    Census Tract 73, Philadelphia County, Pennsylv...        25369\n",
              "4    Census Tract 79, Philadelphia County, Pennsylv...        56944\n",
              "..                                                 ...          ...\n",
              "379  Census Tract 236, Philadelphia County, Pennsyl...        67147\n",
              "380  Census Tract 239, Philadelphia County, Pennsyl...        20843\n",
              "381  Census Tract 242, Philadelphia County, Pennsyl...        22500\n",
              "382  Census Tract 245, Philadelphia County, Pennsyl...        16474\n",
              "383  Census Tract 254, Philadelphia County, Pennsyl...        51806\n",
              "\n",
              "[384 rows x 2 columns]"
            ],
            "text/html": [
              "\n",
              "  <div id=\"df-884e1dbf-043a-4dbe-8492-fefeae0585d6\">\n",
              "    <div class=\"colab-df-container\">\n",
              "      <div>\n",
              "<style scoped>\n",
              "    .dataframe tbody tr th:only-of-type {\n",
              "        vertical-align: middle;\n",
              "    }\n",
              "\n",
              "    .dataframe tbody tr th {\n",
              "        vertical-align: top;\n",
              "    }\n",
              "\n",
              "    .dataframe thead th {\n",
              "        text-align: right;\n",
              "    }\n",
              "</style>\n",
              "<table border=\"1\" class=\"dataframe\">\n",
              "  <thead>\n",
              "    <tr style=\"text-align: right;\">\n",
              "      <th></th>\n",
              "      <th>index</th>\n",
              "      <th>B19013_001E</th>\n",
              "    </tr>\n",
              "  </thead>\n",
              "  <tbody>\n",
              "    <tr>\n",
              "      <th>0</th>\n",
              "      <td>Census Tract 83.01, Philadelphia County, Penns...</td>\n",
              "      <td>29770</td>\n",
              "    </tr>\n",
              "    <tr>\n",
              "      <th>1</th>\n",
              "      <td>Census Tract 83.02, Philadelphia County, Penns...</td>\n",
              "      <td>31202</td>\n",
              "    </tr>\n",
              "    <tr>\n",
              "      <th>2</th>\n",
              "      <td>Census Tract 63, Philadelphia County, Pennsylv...</td>\n",
              "      <td>25871</td>\n",
              "    </tr>\n",
              "    <tr>\n",
              "      <th>3</th>\n",
              "      <td>Census Tract 73, Philadelphia County, Pennsylv...</td>\n",
              "      <td>25369</td>\n",
              "    </tr>\n",
              "    <tr>\n",
              "      <th>4</th>\n",
              "      <td>Census Tract 79, Philadelphia County, Pennsylv...</td>\n",
              "      <td>56944</td>\n",
              "    </tr>\n",
              "    <tr>\n",
              "      <th>...</th>\n",
              "      <td>...</td>\n",
              "      <td>...</td>\n",
              "    </tr>\n",
              "    <tr>\n",
              "      <th>379</th>\n",
              "      <td>Census Tract 236, Philadelphia County, Pennsyl...</td>\n",
              "      <td>67147</td>\n",
              "    </tr>\n",
              "    <tr>\n",
              "      <th>380</th>\n",
              "      <td>Census Tract 239, Philadelphia County, Pennsyl...</td>\n",
              "      <td>20843</td>\n",
              "    </tr>\n",
              "    <tr>\n",
              "      <th>381</th>\n",
              "      <td>Census Tract 242, Philadelphia County, Pennsyl...</td>\n",
              "      <td>22500</td>\n",
              "    </tr>\n",
              "    <tr>\n",
              "      <th>382</th>\n",
              "      <td>Census Tract 245, Philadelphia County, Pennsyl...</td>\n",
              "      <td>16474</td>\n",
              "    </tr>\n",
              "    <tr>\n",
              "      <th>383</th>\n",
              "      <td>Census Tract 254, Philadelphia County, Pennsyl...</td>\n",
              "      <td>51806</td>\n",
              "    </tr>\n",
              "  </tbody>\n",
              "</table>\n",
              "<p>384 rows × 2 columns</p>\n",
              "</div>\n",
              "      <button class=\"colab-df-convert\" onclick=\"convertToInteractive('df-884e1dbf-043a-4dbe-8492-fefeae0585d6')\"\n",
              "              title=\"Convert this dataframe to an interactive table.\"\n",
              "              style=\"display:none;\">\n",
              "        \n",
              "  <svg xmlns=\"http://www.w3.org/2000/svg\" height=\"24px\"viewBox=\"0 0 24 24\"\n",
              "       width=\"24px\">\n",
              "    <path d=\"M0 0h24v24H0V0z\" fill=\"none\"/>\n",
              "    <path d=\"M18.56 5.44l.94 2.06.94-2.06 2.06-.94-2.06-.94-.94-2.06-.94 2.06-2.06.94zm-11 1L8.5 8.5l.94-2.06 2.06-.94-2.06-.94L8.5 2.5l-.94 2.06-2.06.94zm10 10l.94 2.06.94-2.06 2.06-.94-2.06-.94-.94-2.06-.94 2.06-2.06.94z\"/><path d=\"M17.41 7.96l-1.37-1.37c-.4-.4-.92-.59-1.43-.59-.52 0-1.04.2-1.43.59L10.3 9.45l-7.72 7.72c-.78.78-.78 2.05 0 2.83L4 21.41c.39.39.9.59 1.41.59.51 0 1.02-.2 1.41-.59l7.78-7.78 2.81-2.81c.8-.78.8-2.07 0-2.86zM5.41 20L4 18.59l7.72-7.72 1.47 1.35L5.41 20z\"/>\n",
              "  </svg>\n",
              "      </button>\n",
              "      \n",
              "  <style>\n",
              "    .colab-df-container {\n",
              "      display:flex;\n",
              "      flex-wrap:wrap;\n",
              "      gap: 12px;\n",
              "    }\n",
              "\n",
              "    .colab-df-convert {\n",
              "      background-color: #E8F0FE;\n",
              "      border: none;\n",
              "      border-radius: 50%;\n",
              "      cursor: pointer;\n",
              "      display: none;\n",
              "      fill: #1967D2;\n",
              "      height: 32px;\n",
              "      padding: 0 0 0 0;\n",
              "      width: 32px;\n",
              "    }\n",
              "\n",
              "    .colab-df-convert:hover {\n",
              "      background-color: #E2EBFA;\n",
              "      box-shadow: 0px 1px 2px rgba(60, 64, 67, 0.3), 0px 1px 3px 1px rgba(60, 64, 67, 0.15);\n",
              "      fill: #174EA6;\n",
              "    }\n",
              "\n",
              "    [theme=dark] .colab-df-convert {\n",
              "      background-color: #3B4455;\n",
              "      fill: #D2E3FC;\n",
              "    }\n",
              "\n",
              "    [theme=dark] .colab-df-convert:hover {\n",
              "      background-color: #434B5C;\n",
              "      box-shadow: 0px 1px 3px 1px rgba(0, 0, 0, 0.15);\n",
              "      filter: drop-shadow(0px 1px 2px rgba(0, 0, 0, 0.3));\n",
              "      fill: #FFFFFF;\n",
              "    }\n",
              "  </style>\n",
              "\n",
              "      <script>\n",
              "        const buttonEl =\n",
              "          document.querySelector('#df-884e1dbf-043a-4dbe-8492-fefeae0585d6 button.colab-df-convert');\n",
              "        buttonEl.style.display =\n",
              "          google.colab.kernel.accessAllowed ? 'block' : 'none';\n",
              "\n",
              "        async function convertToInteractive(key) {\n",
              "          const element = document.querySelector('#df-884e1dbf-043a-4dbe-8492-fefeae0585d6');\n",
              "          const dataTable =\n",
              "            await google.colab.kernel.invokeFunction('convertToInteractive',\n",
              "                                                     [key], {});\n",
              "          if (!dataTable) return;\n",
              "\n",
              "          const docLinkHtml = 'Like what you see? Visit the ' +\n",
              "            '<a target=\"_blank\" href=https://colab.research.google.com/notebooks/data_table.ipynb>data table notebook</a>'\n",
              "            + ' to learn more about interactive tables.';\n",
              "          element.innerHTML = '';\n",
              "          dataTable['output_type'] = 'display_data';\n",
              "          await google.colab.output.renderOutput(dataTable, element);\n",
              "          const docLink = document.createElement('div');\n",
              "          docLink.innerHTML = docLinkHtml;\n",
              "          element.appendChild(docLink);\n",
              "        }\n",
              "      </script>\n",
              "    </div>\n",
              "  </div>\n",
              "  "
            ]
          },
          "metadata": {},
          "execution_count": 13
        }
      ]
    },
    {
      "cell_type": "code",
      "source": [
        "# -- print the attributes of the first geography\n",
        "fgeo = data[\"index\"].iloc[0]\n",
        "print(dir(fgeo))"
      ],
      "metadata": {
        "colab": {
          "base_uri": "https://localhost:8080/"
        },
        "id": "6MbwLVm6_IoA",
        "outputId": "eabda704-f75b-474f-de2c-bf6753931c0b"
      },
      "execution_count": null,
      "outputs": [
        {
          "output_type": "stream",
          "name": "stdout",
          "text": [
            "['__class__', '__delattr__', '__dict__', '__dir__', '__doc__', '__eq__', '__format__', '__ge__', '__getattribute__', '__gt__', '__hash__', '__init__', '__init_subclass__', '__le__', '__lt__', '__module__', '__ne__', '__new__', '__reduce__', '__reduce_ex__', '__repr__', '__setattr__', '__sizeof__', '__str__', '__subclasshook__', '__weakref__', 'geo', 'hierarchy', 'name', 'params', 'request', 'sumlevel', 'sumleveldict']\n"
          ]
        }
      ]
    },
    {
      "cell_type": "code",
      "source": [
        "# -- display the first geography's \"geo\" attribute\n",
        "fgeo.geo"
      ],
      "metadata": {
        "colab": {
          "base_uri": "https://localhost:8080/"
        },
        "id": "ZFzEKAqZ_TaP",
        "outputId": "a29285c9-5d03-425c-9d98-a892b4449b88"
      },
      "execution_count": null,
      "outputs": [
        {
          "output_type": "execute_result",
          "data": {
            "text/plain": [
              "(('state', '42'), ('county', '101'), ('tract', '008301'))"
            ]
          },
          "metadata": {},
          "execution_count": 15
        }
      ]
    },
    {
      "cell_type": "markdown",
      "source": [
        "Looks like tuples -- we can combine them"
      ],
      "metadata": {
        "id": "bfgIUuHg_cwO"
      }
    },
    {
      "cell_type": "code",
      "source": [
        "# -- create a GEOID from the first geography's \"geo\" attribute\n",
        "geo_tup = fgeo.geo\n",
        "fgeoid = geo_tup[0][1] + geo_tup[1][1] + geo_tup[2][1]\n",
        "\n",
        "print(fgeoid)"
      ],
      "metadata": {
        "colab": {
          "base_uri": "https://localhost:8080/"
        },
        "id": "D4HIm4xOALbg",
        "outputId": "af6f38b0-f76b-4d46-c837-77586facaf9f"
      },
      "execution_count": null,
      "outputs": [
        {
          "output_type": "stream",
          "name": "stdout",
          "text": [
            "42101008301\n"
          ]
        }
      ]
    },
    {
      "cell_type": "code",
      "source": [
        "# -- define a function to create a GEOID from a geography\n",
        "def make_geoid(geography):\n",
        "  \"\"\" This function extracts the state number, county number, and tract number \n",
        "  from a geography's \"geo\" attribute and combines them into a GEOID. \"\"\"\n",
        "\n",
        "  geo_tup = geography.geo\n",
        "  geoid = geo_tup[0][1] + geo_tup[1][1] + geo_tup[2][1]\n",
        "\n",
        "  return geoid"
      ],
      "metadata": {
        "id": "4IrDPiWRAXoe"
      },
      "execution_count": null,
      "outputs": []
    },
    {
      "cell_type": "code",
      "source": [
        "# -- apply that function to every element of the \"index\" column\n",
        "geoids = data[\"index\"].apply(make_geoid)\n",
        "\n",
        "print(geoids)"
      ],
      "metadata": {
        "colab": {
          "base_uri": "https://localhost:8080/"
        },
        "id": "6xOJm0oWAuDN",
        "outputId": "9b6a341b-3191-4d2e-aa9e-fedbadb2cd39"
      },
      "execution_count": null,
      "outputs": [
        {
          "output_type": "stream",
          "name": "stdout",
          "text": [
            "0      42101008301\n",
            "1      42101008302\n",
            "2      42101006300\n",
            "3      42101007300\n",
            "4      42101007900\n",
            "          ...     \n",
            "379    42101023600\n",
            "380    42101023900\n",
            "381    42101024200\n",
            "382    42101024500\n",
            "383    42101025400\n",
            "Name: index, Length: 384, dtype: object\n"
          ]
        }
      ]
    },
    {
      "cell_type": "code",
      "source": [
        "# -- add those GEOIDs back into the data\n",
        "data[\"GEOID\"] = geoids\n",
        "\n",
        "print(data)"
      ],
      "metadata": {
        "colab": {
          "base_uri": "https://localhost:8080/"
        },
        "id": "EfijRkdiAymD",
        "outputId": "696bbb27-a65d-4351-df4c-71ce6813cccb"
      },
      "execution_count": null,
      "outputs": [
        {
          "output_type": "stream",
          "name": "stdout",
          "text": [
            "                                                 index  B19013_001E  \\\n",
            "0    Census Tract 83.01, Philadelphia County, Penns...        29770   \n",
            "1    Census Tract 83.02, Philadelphia County, Penns...        31202   \n",
            "2    Census Tract 63, Philadelphia County, Pennsylv...        25871   \n",
            "3    Census Tract 73, Philadelphia County, Pennsylv...        25369   \n",
            "4    Census Tract 79, Philadelphia County, Pennsylv...        56944   \n",
            "..                                                 ...          ...   \n",
            "379  Census Tract 236, Philadelphia County, Pennsyl...        67147   \n",
            "380  Census Tract 239, Philadelphia County, Pennsyl...        20843   \n",
            "381  Census Tract 242, Philadelphia County, Pennsyl...        22500   \n",
            "382  Census Tract 245, Philadelphia County, Pennsyl...        16474   \n",
            "383  Census Tract 254, Philadelphia County, Pennsyl...        51806   \n",
            "\n",
            "           GEOID  \n",
            "0    42101008301  \n",
            "1    42101008302  \n",
            "2    42101006300  \n",
            "3    42101007300  \n",
            "4    42101007900  \n",
            "..           ...  \n",
            "379  42101023600  \n",
            "380  42101023900  \n",
            "381  42101024200  \n",
            "382  42101024500  \n",
            "383  42101025400  \n",
            "\n",
            "[384 rows x 3 columns]\n"
          ]
        }
      ]
    },
    {
      "cell_type": "markdown",
      "source": [
        "Drop the original geographies "
      ],
      "metadata": {
        "id": "kgkP3I-qA3GV"
      }
    },
    {
      "cell_type": "code",
      "source": [
        "# -- drop the original geographies\n",
        "data = data.drop(columns=[\"index\"])\n",
        "income2016 = data\n",
        "income2016"
      ],
      "metadata": {
        "colab": {
          "base_uri": "https://localhost:8080/",
          "height": 424
        },
        "id": "i5kVJ0O8A5IP",
        "outputId": "5ed8cbfe-c25a-41e3-cbe0-dd23a4b31411"
      },
      "execution_count": null,
      "outputs": [
        {
          "output_type": "execute_result",
          "data": {
            "text/plain": [
              "     B19013_001E        GEOID\n",
              "0          29770  42101008301\n",
              "1          31202  42101008302\n",
              "2          25871  42101006300\n",
              "3          25369  42101007300\n",
              "4          56944  42101007900\n",
              "..           ...          ...\n",
              "379        67147  42101023600\n",
              "380        20843  42101023900\n",
              "381        22500  42101024200\n",
              "382        16474  42101024500\n",
              "383        51806  42101025400\n",
              "\n",
              "[384 rows x 2 columns]"
            ],
            "text/html": [
              "\n",
              "  <div id=\"df-e6536dd8-5ad9-4c0c-8fba-a770dba047d6\">\n",
              "    <div class=\"colab-df-container\">\n",
              "      <div>\n",
              "<style scoped>\n",
              "    .dataframe tbody tr th:only-of-type {\n",
              "        vertical-align: middle;\n",
              "    }\n",
              "\n",
              "    .dataframe tbody tr th {\n",
              "        vertical-align: top;\n",
              "    }\n",
              "\n",
              "    .dataframe thead th {\n",
              "        text-align: right;\n",
              "    }\n",
              "</style>\n",
              "<table border=\"1\" class=\"dataframe\">\n",
              "  <thead>\n",
              "    <tr style=\"text-align: right;\">\n",
              "      <th></th>\n",
              "      <th>B19013_001E</th>\n",
              "      <th>GEOID</th>\n",
              "    </tr>\n",
              "  </thead>\n",
              "  <tbody>\n",
              "    <tr>\n",
              "      <th>0</th>\n",
              "      <td>29770</td>\n",
              "      <td>42101008301</td>\n",
              "    </tr>\n",
              "    <tr>\n",
              "      <th>1</th>\n",
              "      <td>31202</td>\n",
              "      <td>42101008302</td>\n",
              "    </tr>\n",
              "    <tr>\n",
              "      <th>2</th>\n",
              "      <td>25871</td>\n",
              "      <td>42101006300</td>\n",
              "    </tr>\n",
              "    <tr>\n",
              "      <th>3</th>\n",
              "      <td>25369</td>\n",
              "      <td>42101007300</td>\n",
              "    </tr>\n",
              "    <tr>\n",
              "      <th>4</th>\n",
              "      <td>56944</td>\n",
              "      <td>42101007900</td>\n",
              "    </tr>\n",
              "    <tr>\n",
              "      <th>...</th>\n",
              "      <td>...</td>\n",
              "      <td>...</td>\n",
              "    </tr>\n",
              "    <tr>\n",
              "      <th>379</th>\n",
              "      <td>67147</td>\n",
              "      <td>42101023600</td>\n",
              "    </tr>\n",
              "    <tr>\n",
              "      <th>380</th>\n",
              "      <td>20843</td>\n",
              "      <td>42101023900</td>\n",
              "    </tr>\n",
              "    <tr>\n",
              "      <th>381</th>\n",
              "      <td>22500</td>\n",
              "      <td>42101024200</td>\n",
              "    </tr>\n",
              "    <tr>\n",
              "      <th>382</th>\n",
              "      <td>16474</td>\n",
              "      <td>42101024500</td>\n",
              "    </tr>\n",
              "    <tr>\n",
              "      <th>383</th>\n",
              "      <td>51806</td>\n",
              "      <td>42101025400</td>\n",
              "    </tr>\n",
              "  </tbody>\n",
              "</table>\n",
              "<p>384 rows × 2 columns</p>\n",
              "</div>\n",
              "      <button class=\"colab-df-convert\" onclick=\"convertToInteractive('df-e6536dd8-5ad9-4c0c-8fba-a770dba047d6')\"\n",
              "              title=\"Convert this dataframe to an interactive table.\"\n",
              "              style=\"display:none;\">\n",
              "        \n",
              "  <svg xmlns=\"http://www.w3.org/2000/svg\" height=\"24px\"viewBox=\"0 0 24 24\"\n",
              "       width=\"24px\">\n",
              "    <path d=\"M0 0h24v24H0V0z\" fill=\"none\"/>\n",
              "    <path d=\"M18.56 5.44l.94 2.06.94-2.06 2.06-.94-2.06-.94-.94-2.06-.94 2.06-2.06.94zm-11 1L8.5 8.5l.94-2.06 2.06-.94-2.06-.94L8.5 2.5l-.94 2.06-2.06.94zm10 10l.94 2.06.94-2.06 2.06-.94-2.06-.94-.94-2.06-.94 2.06-2.06.94z\"/><path d=\"M17.41 7.96l-1.37-1.37c-.4-.4-.92-.59-1.43-.59-.52 0-1.04.2-1.43.59L10.3 9.45l-7.72 7.72c-.78.78-.78 2.05 0 2.83L4 21.41c.39.39.9.59 1.41.59.51 0 1.02-.2 1.41-.59l7.78-7.78 2.81-2.81c.8-.78.8-2.07 0-2.86zM5.41 20L4 18.59l7.72-7.72 1.47 1.35L5.41 20z\"/>\n",
              "  </svg>\n",
              "      </button>\n",
              "      \n",
              "  <style>\n",
              "    .colab-df-container {\n",
              "      display:flex;\n",
              "      flex-wrap:wrap;\n",
              "      gap: 12px;\n",
              "    }\n",
              "\n",
              "    .colab-df-convert {\n",
              "      background-color: #E8F0FE;\n",
              "      border: none;\n",
              "      border-radius: 50%;\n",
              "      cursor: pointer;\n",
              "      display: none;\n",
              "      fill: #1967D2;\n",
              "      height: 32px;\n",
              "      padding: 0 0 0 0;\n",
              "      width: 32px;\n",
              "    }\n",
              "\n",
              "    .colab-df-convert:hover {\n",
              "      background-color: #E2EBFA;\n",
              "      box-shadow: 0px 1px 2px rgba(60, 64, 67, 0.3), 0px 1px 3px 1px rgba(60, 64, 67, 0.15);\n",
              "      fill: #174EA6;\n",
              "    }\n",
              "\n",
              "    [theme=dark] .colab-df-convert {\n",
              "      background-color: #3B4455;\n",
              "      fill: #D2E3FC;\n",
              "    }\n",
              "\n",
              "    [theme=dark] .colab-df-convert:hover {\n",
              "      background-color: #434B5C;\n",
              "      box-shadow: 0px 1px 3px 1px rgba(0, 0, 0, 0.15);\n",
              "      filter: drop-shadow(0px 1px 2px rgba(0, 0, 0, 0.3));\n",
              "      fill: #FFFFFF;\n",
              "    }\n",
              "  </style>\n",
              "\n",
              "      <script>\n",
              "        const buttonEl =\n",
              "          document.querySelector('#df-e6536dd8-5ad9-4c0c-8fba-a770dba047d6 button.colab-df-convert');\n",
              "        buttonEl.style.display =\n",
              "          google.colab.kernel.accessAllowed ? 'block' : 'none';\n",
              "\n",
              "        async function convertToInteractive(key) {\n",
              "          const element = document.querySelector('#df-e6536dd8-5ad9-4c0c-8fba-a770dba047d6');\n",
              "          const dataTable =\n",
              "            await google.colab.kernel.invokeFunction('convertToInteractive',\n",
              "                                                     [key], {});\n",
              "          if (!dataTable) return;\n",
              "\n",
              "          const docLinkHtml = 'Like what you see? Visit the ' +\n",
              "            '<a target=\"_blank\" href=https://colab.research.google.com/notebooks/data_table.ipynb>data table notebook</a>'\n",
              "            + ' to learn more about interactive tables.';\n",
              "          element.innerHTML = '';\n",
              "          dataTable['output_type'] = 'display_data';\n",
              "          await google.colab.output.renderOutput(dataTable, element);\n",
              "          const docLink = document.createElement('div');\n",
              "          docLink.innerHTML = docLinkHtml;\n",
              "          element.appendChild(docLink);\n",
              "        }\n",
              "      </script>\n",
              "    </div>\n",
              "  </div>\n",
              "  "
            ]
          },
          "metadata": {},
          "execution_count": 20
        }
      ]
    },
    {
      "cell_type": "markdown",
      "metadata": {
        "id": "Kx7eVMsratev"
      },
      "source": [
        "<b> In the income DataFrames, rename the column `\"Median household income in 1999\"` to `\"income_2000\"` and the column `\"B19013_001E\"` to `\"income_2016\"` (print the heads of the DataFrames to see if it worked).</b>"
      ]
    },
    {
      "cell_type": "code",
      "metadata": {
        "id": "bUrA2VLsQAx5",
        "colab": {
          "base_uri": "https://localhost:8080/"
        },
        "outputId": "518824cc-3f3a-4cd6-c50c-eb2ea3bdbbcf"
      },
      "source": [
        "income2000.columns = ['GEOID', 'income_2000']\n",
        "print(income2000.head(1))\n",
        "\n",
        "income2016.columns = ['income_2016', 'GEOID']\n",
        "print(income2016.head(1))"
      ],
      "execution_count": null,
      "outputs": [
        {
          "output_type": "stream",
          "name": "stdout",
          "text": [
            "         GEOID  income_2000\n",
            "0  42101000100      48886.0\n",
            "   income_2016        GEOID\n",
            "0        29770  42101008301\n"
          ]
        }
      ]
    },
    {
      "cell_type": "code",
      "source": [
        "income2000 = income2000.astype(int)\n",
        "income2000.dtypes"
      ],
      "metadata": {
        "colab": {
          "base_uri": "https://localhost:8080/"
        },
        "id": "JlFtrLXBTPLM",
        "outputId": "c7301d34-3218-44c0-edb4-6f20c80185d4"
      },
      "execution_count": null,
      "outputs": [
        {
          "output_type": "execute_result",
          "data": {
            "text/plain": [
              "GEOID          int64\n",
              "income_2000    int64\n",
              "dtype: object"
            ]
          },
          "metadata": {},
          "execution_count": 22
        }
      ]
    },
    {
      "cell_type": "code",
      "source": [
        "income2016 = income2016.astype(int)\n",
        "income2016.dtypes"
      ],
      "metadata": {
        "colab": {
          "base_uri": "https://localhost:8080/"
        },
        "id": "zHq-_-rJP-E4",
        "outputId": "e72fa947-02a4-406a-9aca-9da7a1245dd3"
      },
      "execution_count": null,
      "outputs": [
        {
          "output_type": "execute_result",
          "data": {
            "text/plain": [
              "income_2016    int64\n",
              "GEOID          int64\n",
              "dtype: object"
            ]
          },
          "metadata": {},
          "execution_count": 23
        }
      ]
    },
    {
      "cell_type": "code",
      "source": [
        "# -- drop census tracts with no people\n",
        "income2000 = income2000[income2000['income_2000'] > 0]\n",
        "income2016 = income2016[income2016['income_2016'] > 0]"
      ],
      "metadata": {
        "id": "zQC6dd6TQ50Z"
      },
      "execution_count": null,
      "outputs": []
    },
    {
      "cell_type": "code",
      "source": [
        "income2016"
      ],
      "metadata": {
        "colab": {
          "base_uri": "https://localhost:8080/",
          "height": 424
        },
        "id": "9pfywOrsT2Vo",
        "outputId": "db96db0b-a925-4f0b-b0b0-c83eb4d36376"
      },
      "execution_count": null,
      "outputs": [
        {
          "output_type": "execute_result",
          "data": {
            "text/plain": [
              "     income_2016        GEOID\n",
              "0          29770  42101008301\n",
              "1          31202  42101008302\n",
              "2          25871  42101006300\n",
              "3          25369  42101007300\n",
              "4          56944  42101007900\n",
              "..           ...          ...\n",
              "379        67147  42101023600\n",
              "380        20843  42101023900\n",
              "381        22500  42101024200\n",
              "382        16474  42101024500\n",
              "383        51806  42101025400\n",
              "\n",
              "[375 rows x 2 columns]"
            ],
            "text/html": [
              "\n",
              "  <div id=\"df-41020610-1dce-44e5-9907-4e27dc9e7b5d\">\n",
              "    <div class=\"colab-df-container\">\n",
              "      <div>\n",
              "<style scoped>\n",
              "    .dataframe tbody tr th:only-of-type {\n",
              "        vertical-align: middle;\n",
              "    }\n",
              "\n",
              "    .dataframe tbody tr th {\n",
              "        vertical-align: top;\n",
              "    }\n",
              "\n",
              "    .dataframe thead th {\n",
              "        text-align: right;\n",
              "    }\n",
              "</style>\n",
              "<table border=\"1\" class=\"dataframe\">\n",
              "  <thead>\n",
              "    <tr style=\"text-align: right;\">\n",
              "      <th></th>\n",
              "      <th>income_2016</th>\n",
              "      <th>GEOID</th>\n",
              "    </tr>\n",
              "  </thead>\n",
              "  <tbody>\n",
              "    <tr>\n",
              "      <th>0</th>\n",
              "      <td>29770</td>\n",
              "      <td>42101008301</td>\n",
              "    </tr>\n",
              "    <tr>\n",
              "      <th>1</th>\n",
              "      <td>31202</td>\n",
              "      <td>42101008302</td>\n",
              "    </tr>\n",
              "    <tr>\n",
              "      <th>2</th>\n",
              "      <td>25871</td>\n",
              "      <td>42101006300</td>\n",
              "    </tr>\n",
              "    <tr>\n",
              "      <th>3</th>\n",
              "      <td>25369</td>\n",
              "      <td>42101007300</td>\n",
              "    </tr>\n",
              "    <tr>\n",
              "      <th>4</th>\n",
              "      <td>56944</td>\n",
              "      <td>42101007900</td>\n",
              "    </tr>\n",
              "    <tr>\n",
              "      <th>...</th>\n",
              "      <td>...</td>\n",
              "      <td>...</td>\n",
              "    </tr>\n",
              "    <tr>\n",
              "      <th>379</th>\n",
              "      <td>67147</td>\n",
              "      <td>42101023600</td>\n",
              "    </tr>\n",
              "    <tr>\n",
              "      <th>380</th>\n",
              "      <td>20843</td>\n",
              "      <td>42101023900</td>\n",
              "    </tr>\n",
              "    <tr>\n",
              "      <th>381</th>\n",
              "      <td>22500</td>\n",
              "      <td>42101024200</td>\n",
              "    </tr>\n",
              "    <tr>\n",
              "      <th>382</th>\n",
              "      <td>16474</td>\n",
              "      <td>42101024500</td>\n",
              "    </tr>\n",
              "    <tr>\n",
              "      <th>383</th>\n",
              "      <td>51806</td>\n",
              "      <td>42101025400</td>\n",
              "    </tr>\n",
              "  </tbody>\n",
              "</table>\n",
              "<p>375 rows × 2 columns</p>\n",
              "</div>\n",
              "      <button class=\"colab-df-convert\" onclick=\"convertToInteractive('df-41020610-1dce-44e5-9907-4e27dc9e7b5d')\"\n",
              "              title=\"Convert this dataframe to an interactive table.\"\n",
              "              style=\"display:none;\">\n",
              "        \n",
              "  <svg xmlns=\"http://www.w3.org/2000/svg\" height=\"24px\"viewBox=\"0 0 24 24\"\n",
              "       width=\"24px\">\n",
              "    <path d=\"M0 0h24v24H0V0z\" fill=\"none\"/>\n",
              "    <path d=\"M18.56 5.44l.94 2.06.94-2.06 2.06-.94-2.06-.94-.94-2.06-.94 2.06-2.06.94zm-11 1L8.5 8.5l.94-2.06 2.06-.94-2.06-.94L8.5 2.5l-.94 2.06-2.06.94zm10 10l.94 2.06.94-2.06 2.06-.94-2.06-.94-.94-2.06-.94 2.06-2.06.94z\"/><path d=\"M17.41 7.96l-1.37-1.37c-.4-.4-.92-.59-1.43-.59-.52 0-1.04.2-1.43.59L10.3 9.45l-7.72 7.72c-.78.78-.78 2.05 0 2.83L4 21.41c.39.39.9.59 1.41.59.51 0 1.02-.2 1.41-.59l7.78-7.78 2.81-2.81c.8-.78.8-2.07 0-2.86zM5.41 20L4 18.59l7.72-7.72 1.47 1.35L5.41 20z\"/>\n",
              "  </svg>\n",
              "      </button>\n",
              "      \n",
              "  <style>\n",
              "    .colab-df-container {\n",
              "      display:flex;\n",
              "      flex-wrap:wrap;\n",
              "      gap: 12px;\n",
              "    }\n",
              "\n",
              "    .colab-df-convert {\n",
              "      background-color: #E8F0FE;\n",
              "      border: none;\n",
              "      border-radius: 50%;\n",
              "      cursor: pointer;\n",
              "      display: none;\n",
              "      fill: #1967D2;\n",
              "      height: 32px;\n",
              "      padding: 0 0 0 0;\n",
              "      width: 32px;\n",
              "    }\n",
              "\n",
              "    .colab-df-convert:hover {\n",
              "      background-color: #E2EBFA;\n",
              "      box-shadow: 0px 1px 2px rgba(60, 64, 67, 0.3), 0px 1px 3px 1px rgba(60, 64, 67, 0.15);\n",
              "      fill: #174EA6;\n",
              "    }\n",
              "\n",
              "    [theme=dark] .colab-df-convert {\n",
              "      background-color: #3B4455;\n",
              "      fill: #D2E3FC;\n",
              "    }\n",
              "\n",
              "    [theme=dark] .colab-df-convert:hover {\n",
              "      background-color: #434B5C;\n",
              "      box-shadow: 0px 1px 3px 1px rgba(0, 0, 0, 0.15);\n",
              "      filter: drop-shadow(0px 1px 2px rgba(0, 0, 0, 0.3));\n",
              "      fill: #FFFFFF;\n",
              "    }\n",
              "  </style>\n",
              "\n",
              "      <script>\n",
              "        const buttonEl =\n",
              "          document.querySelector('#df-41020610-1dce-44e5-9907-4e27dc9e7b5d button.colab-df-convert');\n",
              "        buttonEl.style.display =\n",
              "          google.colab.kernel.accessAllowed ? 'block' : 'none';\n",
              "\n",
              "        async function convertToInteractive(key) {\n",
              "          const element = document.querySelector('#df-41020610-1dce-44e5-9907-4e27dc9e7b5d');\n",
              "          const dataTable =\n",
              "            await google.colab.kernel.invokeFunction('convertToInteractive',\n",
              "                                                     [key], {});\n",
              "          if (!dataTable) return;\n",
              "\n",
              "          const docLinkHtml = 'Like what you see? Visit the ' +\n",
              "            '<a target=\"_blank\" href=https://colab.research.google.com/notebooks/data_table.ipynb>data table notebook</a>'\n",
              "            + ' to learn more about interactive tables.';\n",
              "          element.innerHTML = '';\n",
              "          dataTable['output_type'] = 'display_data';\n",
              "          await google.colab.output.renderOutput(dataTable, element);\n",
              "          const docLink = document.createElement('div');\n",
              "          docLink.innerHTML = docLinkHtml;\n",
              "          element.appendChild(docLink);\n",
              "        }\n",
              "      </script>\n",
              "    </div>\n",
              "  </div>\n",
              "  "
            ]
          },
          "metadata": {},
          "execution_count": 25
        }
      ]
    },
    {
      "cell_type": "markdown",
      "metadata": {
        "id": "flcEZHqEQvgX"
      },
      "source": [
        "In order to compare 2000 dollars to 2016 dollars we need to adjust for inflation.  We could assume a model for inflation, but instead, let's just adjust the 2000 data so that it has the same mean as the 2016 data.\n",
        "\n",
        "<b> First, plot a histogram of the 2000 incomes and a histogram of the 2016 incomes, each with 50 bins and range 0 to 140000 and `alpha=0.5`. </b>"
      ]
    },
    {
      "cell_type": "code",
      "metadata": {
        "id": "OOv2PZjKRPMt",
        "colab": {
          "base_uri": "https://localhost:8080/",
          "height": 337
        },
        "outputId": "6855614b-8105-4d04-d876-331677c9158f"
      },
      "source": [
        "fig, ax = plt.subplots(1, 2, figsize=(14,5))\n",
        "income2000.hist('income_2000', ax=ax[0], bins=50, alpha = 0.5, range=[0, 140000], label= \"Median Income 2000\")\n",
        "income2016.hist('income_2016', ax=ax[1], bins=50, alpha = 0.5, range=[0, 140000], label= \"Median Income 2016\")\n",
        "ax[0].legend()\n",
        "ax[1].legend()\n",
        "ax[0].set_title(\"\")\n",
        "ax[1].set_title(\"\")\n"
      ],
      "execution_count": null,
      "outputs": [
        {
          "output_type": "execute_result",
          "data": {
            "text/plain": [
              "Text(0.5, 1.0, '')"
            ]
          },
          "metadata": {},
          "execution_count": 26
        },
        {
          "output_type": "display_data",
          "data": {
            "text/plain": [
              "<Figure size 1008x360 with 2 Axes>"
            ],
            "image/png": "[encoded data removed]"
          },
          "metadata": {
            "needs_background": "light"
          }
        }
      ]
    },
    {
      "cell_type": "markdown",
      "source": [
        "**Figure 1** above plots hisograms of the median incomes for zipcodes in Philadelphia area for the year 2000 and 2016 on the left and right panels respectively. Overall, without adjusting for inflation, the distributions of incomes for 2016 on the right hand panel are more massed overall towards the upper bound suggesting to us incomes have risen since 2000."
      ],
      "metadata": {
        "id": "_sSvHMojTNqh"
      }
    },
    {
      "cell_type": "markdown",
      "metadata": {
        "id": "qI49lbw9SKK_"
      },
      "source": [
        "You can see that the 2016 incomes are a bit higher on average.\n",
        "\n",
        "<b> Now calculate the ratio between the mean 2016 income and mean 2000 income.  Create a column in the 2000 income DataFrame called `\"income_2000_adj\"` that is `\"income_2000\"` times that ratio.  Print the mean of `\"income_2016\"` and `\"income_2000_adj\"` to make sure that they are now the same and replot the histograms above with the 2016 and 2000 adjusted incomes. </b>"
      ]
    },
    {
      "cell_type": "code",
      "source": [
        "print(income2000['income_2000'].mean())\n",
        "print(income2016['income_2016'].mean())\n",
        "\n",
        "ratio2000 = income2016['income_2016'].mean() / income2000['income_2000'].mean()\n",
        "ratio2000"
      ],
      "metadata": {
        "colab": {
          "base_uri": "https://localhost:8080/"
        },
        "id": "r8IgFF3uXhf5",
        "outputId": "fc32f05c-c7d3-4551-cd86-10802f3fecec"
      },
      "execution_count": null,
      "outputs": [
        {
          "output_type": "stream",
          "name": "stdout",
          "text": [
            "32677.76566757493\n",
            "43380.21333333333\n"
          ]
        },
        {
          "output_type": "execute_result",
          "data": {
            "text/plain": [
              "1.3275146708202907"
            ]
          },
          "metadata": {},
          "execution_count": 27
        }
      ]
    },
    {
      "cell_type": "code",
      "metadata": {
        "id": "yN282Q48TNdf",
        "colab": {
          "base_uri": "https://localhost:8080/"
        },
        "outputId": "ad2a2e97-ef6b-4eac-c4f9-b11bf8fb38e8"
      },
      "source": [
        "income2000['income_2000_adj'] = income2000['income_2000'] * ratio2000\n",
        "print(\"the adjusted mean income for 2000 is {0:2f}\".format(income2000['income_2000_adj'].mean()))\n",
        "print('The mean for 2016 income is {0:2f}'.format(income2016['income_2016'].mean()))\n",
        "print(\"THEY ARE THE SAME!\")\n"
      ],
      "execution_count": null,
      "outputs": [
        {
          "output_type": "stream",
          "name": "stdout",
          "text": [
            "the adjusted mean income for 2000 is 43380.213333\n",
            "The mean for 2016 income is 43380.213333\n",
            "THEY ARE THE SAME!\n"
          ]
        }
      ]
    },
    {
      "cell_type": "code",
      "source": [
        "fig, ax = plt.subplots(1, 2, figsize=(14,5))\n",
        "income2000.hist('income_2000_adj', ax=ax[0], bins=50, alpha = 0.5, range=[0, 140000], label = \"Income 2000 adjusted\")\n",
        "income2016.hist('income_2016', ax=ax[1], bins=50, alpha = 0.5, range=[0, 140000], label= \"Income 2016\")\n",
        "ax[0].set_title(\"\")\n",
        "ax[1].set_title(\"\")\n",
        "ax[0].legend()\n",
        "ax[1].legend()"
      ],
      "metadata": {
        "colab": {
          "base_uri": "https://localhost:8080/",
          "height": 337
        },
        "id": "RObdRycOeXYm",
        "outputId": "ddb55440-9a5c-40d1-aea9-f0780d068cd9"
      },
      "execution_count": null,
      "outputs": [
        {
          "output_type": "execute_result",
          "data": {
            "text/plain": [
              "<matplotlib.legend.Legend at 0x7f01ec7447d0>"
            ]
          },
          "metadata": {},
          "execution_count": 29
        },
        {
          "output_type": "display_data",
          "data": {
            "text/plain": [
              "<Figure size 1008x360 with 2 Axes>"
            ],
            "image/png": "[encoded data removed]"
          },
          "metadata": {
            "needs_background": "light"
          }
        }
      ]
    },
    {
      "cell_type": "markdown",
      "source": [
        "**Figure 2** above plots the adjusted levels per inflation of income per our Philadelphia zipcodes for the year 2000 on the left panel and median income for 2016 on the right panel. Once adjusted for inflation, it does still appear that incomes in 2016 on general have risen since the year 2000, but the difference is much less noticeable as compared to figure 1. "
      ],
      "metadata": {
        "id": "v9Gx863_Uaxg"
      }
    },
    {
      "cell_type": "markdown",
      "metadata": {
        "id": "Pqezqv5uUQt2"
      },
      "source": [
        "The 2000 incomes have now been adjusted to 2016 levels$^{\\dagger}$ so that we can now take meaningful differences.\n",
        "\n",
        "<small>$^{\\dagger}$ under several assumptions! </small>"
      ]
    },
    {
      "cell_type": "markdown",
      "metadata": {
        "id": "3KwDRW3R2qEU"
      },
      "source": [
        "### **PART 3 - Merging and Visualizing the Data**"
      ]
    },
    {
      "cell_type": "markdown",
      "metadata": {
        "id": "gmbqL9bboYlJ"
      },
      "source": [
        "Now we'd like to make some maps of the income data.  Before we do that, we need to clean up the census tract GeoDataFrames a bit.\n",
        "\n",
        "<b>As we did in class, create a proper `\"GEOID\"` for year 2000 and coerce both year 2000 and year 2016 `\"GEOID\"`s into integers.</b>\n",
        "\n",
        "\n"
      ]
    },
    {
      "cell_type": "markdown",
      "source": [
        "\n",
        "$\\color{red}{\\text{******They were coerced above in the previous section both as integers****}}$"
      ],
      "metadata": {
        "id": "JRM6wt_4fc7m"
      }
    },
    {
      "cell_type": "markdown",
      "metadata": {
        "id": "ty4vQKvjWCEn"
      },
      "source": [
        "<b> Now, merge the 2000 income data into the 2000 census tract GeoDataFrame, creating a new GeoDataFrame called `inc00sh`, and merge the 2016 income data into the 2016 census tract GeoDataFrame creating a new GeoDataFrame called `inc16sh`.</b>"
      ]
    },
    {
      "cell_type": "markdown",
      "source": [
        "**MERGING THE 2000 INCOME DATA AND GEODATAFRAME**"
      ],
      "metadata": {
        "id": "M-kOkui53lz3"
      }
    },
    {
      "cell_type": "code",
      "source": [
        "ct00['AFFGEOID_short'] = ct00['AFFGEOID'].str[9:].astype(int)\n",
        "ct00.head(1)"
      ],
      "metadata": {
        "colab": {
          "base_uri": "https://localhost:8080/",
          "height": 142
        },
        "id": "h94dnhbMq7_T",
        "outputId": "83624b5c-fc16-4592-9369-fdda21f8e8f4"
      },
      "execution_count": null,
      "outputs": [
        {
          "output_type": "execute_result",
          "data": {
            "text/plain": [
              "       AREA  PERIMETER  TR42_D00_  TR42_D00_I STATE COUNTY   TRACT     NAME  \\\n",
              "0  0.004057   0.398728          2           1    42    049  011701  0117.01   \n",
              "\n",
              "  LSAD LSAD_TRANS                                           geometry  \\\n",
              "0   TR       None  POLYGON ((-79.76214 42.24141, -79.77252 42.235...   \n",
              "\n",
              "               AFFGEOID  AFFGEOID_short  \n",
              "0  1400000US42049011701     42049011701  "
            ],
            "text/html": [
              "\n",
              "  <div id=\"df-aa3ea6cb-1900-4edf-b699-a63236a927e3\">\n",
              "    <div class=\"colab-df-container\">\n",
              "      <div>\n",
              "<style scoped>\n",
              "    .dataframe tbody tr th:only-of-type {\n",
              "        vertical-align: middle;\n",
              "    }\n",
              "\n",
              "    .dataframe tbody tr th {\n",
              "        vertical-align: top;\n",
              "    }\n",
              "\n",
              "    .dataframe thead th {\n",
              "        text-align: right;\n",
              "    }\n",
              "</style>\n",
              "<table border=\"1\" class=\"dataframe\">\n",
              "  <thead>\n",
              "    <tr style=\"text-align: right;\">\n",
              "      <th></th>\n",
              "      <th>AREA</th>\n",
              "      <th>PERIMETER</th>\n",
              "      <th>TR42_D00_</th>\n",
              "      <th>TR42_D00_I</th>\n",
              "      <th>STATE</th>\n",
              "      <th>COUNTY</th>\n",
              "      <th>TRACT</th>\n",
              "      <th>NAME</th>\n",
              "      <th>LSAD</th>\n",
              "      <th>LSAD_TRANS</th>\n",
              "      <th>geometry</th>\n",
              "      <th>AFFGEOID</th>\n",
              "      <th>AFFGEOID_short</th>\n",
              "    </tr>\n",
              "  </thead>\n",
              "  <tbody>\n",
              "    <tr>\n",
              "      <th>0</th>\n",
              "      <td>0.004057</td>\n",
              "      <td>0.398728</td>\n",
              "      <td>2</td>\n",
              "      <td>1</td>\n",
              "      <td>42</td>\n",
              "      <td>049</td>\n",
              "      <td>011701</td>\n",
              "      <td>0117.01</td>\n",
              "      <td>TR</td>\n",
              "      <td>None</td>\n",
              "      <td>POLYGON ((-79.76214 42.24141, -79.77252 42.235...</td>\n",
              "      <td>1400000US42049011701</td>\n",
              "      <td>42049011701</td>\n",
              "    </tr>\n",
              "  </tbody>\n",
              "</table>\n",
              "</div>\n",
              "      <button class=\"colab-df-convert\" onclick=\"convertToInteractive('df-aa3ea6cb-1900-4edf-b699-a63236a927e3')\"\n",
              "              title=\"Convert this dataframe to an interactive table.\"\n",
              "              style=\"display:none;\">\n",
              "        \n",
              "  <svg xmlns=\"http://www.w3.org/2000/svg\" height=\"24px\"viewBox=\"0 0 24 24\"\n",
              "       width=\"24px\">\n",
              "    <path d=\"M0 0h24v24H0V0z\" fill=\"none\"/>\n",
              "    <path d=\"M18.56 5.44l.94 2.06.94-2.06 2.06-.94-2.06-.94-.94-2.06-.94 2.06-2.06.94zm-11 1L8.5 8.5l.94-2.06 2.06-.94-2.06-.94L8.5 2.5l-.94 2.06-2.06.94zm10 10l.94 2.06.94-2.06 2.06-.94-2.06-.94-.94-2.06-.94 2.06-2.06.94z\"/><path d=\"M17.41 7.96l-1.37-1.37c-.4-.4-.92-.59-1.43-.59-.52 0-1.04.2-1.43.59L10.3 9.45l-7.72 7.72c-.78.78-.78 2.05 0 2.83L4 21.41c.39.39.9.59 1.41.59.51 0 1.02-.2 1.41-.59l7.78-7.78 2.81-2.81c.8-.78.8-2.07 0-2.86zM5.41 20L4 18.59l7.72-7.72 1.47 1.35L5.41 20z\"/>\n",
              "  </svg>\n",
              "      </button>\n",
              "      \n",
              "  <style>\n",
              "    .colab-df-container {\n",
              "      display:flex;\n",
              "      flex-wrap:wrap;\n",
              "      gap: 12px;\n",
              "    }\n",
              "\n",
              "    .colab-df-convert {\n",
              "      background-color: #E8F0FE;\n",
              "      border: none;\n",
              "      border-radius: 50%;\n",
              "      cursor: pointer;\n",
              "      display: none;\n",
              "      fill: #1967D2;\n",
              "      height: 32px;\n",
              "      padding: 0 0 0 0;\n",
              "      width: 32px;\n",
              "    }\n",
              "\n",
              "    .colab-df-convert:hover {\n",
              "      background-color: #E2EBFA;\n",
              "      box-shadow: 0px 1px 2px rgba(60, 64, 67, 0.3), 0px 1px 3px 1px rgba(60, 64, 67, 0.15);\n",
              "      fill: #174EA6;\n",
              "    }\n",
              "\n",
              "    [theme=dark] .colab-df-convert {\n",
              "      background-color: #3B4455;\n",
              "      fill: #D2E3FC;\n",
              "    }\n",
              "\n",
              "    [theme=dark] .colab-df-convert:hover {\n",
              "      background-color: #434B5C;\n",
              "      box-shadow: 0px 1px 3px 1px rgba(0, 0, 0, 0.15);\n",
              "      filter: drop-shadow(0px 1px 2px rgba(0, 0, 0, 0.3));\n",
              "      fill: #FFFFFF;\n",
              "    }\n",
              "  </style>\n",
              "\n",
              "      <script>\n",
              "        const buttonEl =\n",
              "          document.querySelector('#df-aa3ea6cb-1900-4edf-b699-a63236a927e3 button.colab-df-convert');\n",
              "        buttonEl.style.display =\n",
              "          google.colab.kernel.accessAllowed ? 'block' : 'none';\n",
              "\n",
              "        async function convertToInteractive(key) {\n",
              "          const element = document.querySelector('#df-aa3ea6cb-1900-4edf-b699-a63236a927e3');\n",
              "          const dataTable =\n",
              "            await google.colab.kernel.invokeFunction('convertToInteractive',\n",
              "                                                     [key], {});\n",
              "          if (!dataTable) return;\n",
              "\n",
              "          const docLinkHtml = 'Like what you see? Visit the ' +\n",
              "            '<a target=\"_blank\" href=https://colab.research.google.com/notebooks/data_table.ipynb>data table notebook</a>'\n",
              "            + ' to learn more about interactive tables.';\n",
              "          element.innerHTML = '';\n",
              "          dataTable['output_type'] = 'display_data';\n",
              "          await google.colab.output.renderOutput(dataTable, element);\n",
              "          const docLink = document.createElement('div');\n",
              "          docLink.innerHTML = docLinkHtml;\n",
              "          element.appendChild(docLink);\n",
              "        }\n",
              "      </script>\n",
              "    </div>\n",
              "  </div>\n",
              "  "
            ]
          },
          "metadata": {},
          "execution_count": 30
        }
      ]
    },
    {
      "cell_type": "code",
      "source": [
        "income2000.head(1)"
      ],
      "metadata": {
        "colab": {
          "base_uri": "https://localhost:8080/",
          "height": 81
        },
        "id": "YapzCW3vqqbl",
        "outputId": "58c462dc-d6d7-44fc-fcce-d442b325bc02"
      },
      "execution_count": null,
      "outputs": [
        {
          "output_type": "execute_result",
          "data": {
            "text/plain": [
              "         GEOID  income_2000  income_2000_adj\n",
              "0  42101000100        48886     64896.882198"
            ],
            "text/html": [
              "\n",
              "  <div id=\"df-6e6a3416-54bc-4cd0-8ae0-1725799003bc\">\n",
              "    <div class=\"colab-df-container\">\n",
              "      <div>\n",
              "<style scoped>\n",
              "    .dataframe tbody tr th:only-of-type {\n",
              "        vertical-align: middle;\n",
              "    }\n",
              "\n",
              "    .dataframe tbody tr th {\n",
              "        vertical-align: top;\n",
              "    }\n",
              "\n",
              "    .dataframe thead th {\n",
              "        text-align: right;\n",
              "    }\n",
              "</style>\n",
              "<table border=\"1\" class=\"dataframe\">\n",
              "  <thead>\n",
              "    <tr style=\"text-align: right;\">\n",
              "      <th></th>\n",
              "      <th>GEOID</th>\n",
              "      <th>income_2000</th>\n",
              "      <th>income_2000_adj</th>\n",
              "    </tr>\n",
              "  </thead>\n",
              "  <tbody>\n",
              "    <tr>\n",
              "      <th>0</th>\n",
              "      <td>42101000100</td>\n",
              "      <td>48886</td>\n",
              "      <td>64896.882198</td>\n",
              "    </tr>\n",
              "  </tbody>\n",
              "</table>\n",
              "</div>\n",
              "      <button class=\"colab-df-convert\" onclick=\"convertToInteractive('df-6e6a3416-54bc-4cd0-8ae0-1725799003bc')\"\n",
              "              title=\"Convert this dataframe to an interactive table.\"\n",
              "              style=\"display:none;\">\n",
              "        \n",
              "  <svg xmlns=\"http://www.w3.org/2000/svg\" height=\"24px\"viewBox=\"0 0 24 24\"\n",
              "       width=\"24px\">\n",
              "    <path d=\"M0 0h24v24H0V0z\" fill=\"none\"/>\n",
              "    <path d=\"M18.56 5.44l.94 2.06.94-2.06 2.06-.94-2.06-.94-.94-2.06-.94 2.06-2.06.94zm-11 1L8.5 8.5l.94-2.06 2.06-.94-2.06-.94L8.5 2.5l-.94 2.06-2.06.94zm10 10l.94 2.06.94-2.06 2.06-.94-2.06-.94-.94-2.06-.94 2.06-2.06.94z\"/><path d=\"M17.41 7.96l-1.37-1.37c-.4-.4-.92-.59-1.43-.59-.52 0-1.04.2-1.43.59L10.3 9.45l-7.72 7.72c-.78.78-.78 2.05 0 2.83L4 21.41c.39.39.9.59 1.41.59.51 0 1.02-.2 1.41-.59l7.78-7.78 2.81-2.81c.8-.78.8-2.07 0-2.86zM5.41 20L4 18.59l7.72-7.72 1.47 1.35L5.41 20z\"/>\n",
              "  </svg>\n",
              "      </button>\n",
              "      \n",
              "  <style>\n",
              "    .colab-df-container {\n",
              "      display:flex;\n",
              "      flex-wrap:wrap;\n",
              "      gap: 12px;\n",
              "    }\n",
              "\n",
              "    .colab-df-convert {\n",
              "      background-color: #E8F0FE;\n",
              "      border: none;\n",
              "      border-radius: 50%;\n",
              "      cursor: pointer;\n",
              "      display: none;\n",
              "      fill: #1967D2;\n",
              "      height: 32px;\n",
              "      padding: 0 0 0 0;\n",
              "      width: 32px;\n",
              "    }\n",
              "\n",
              "    .colab-df-convert:hover {\n",
              "      background-color: #E2EBFA;\n",
              "      box-shadow: 0px 1px 2px rgba(60, 64, 67, 0.3), 0px 1px 3px 1px rgba(60, 64, 67, 0.15);\n",
              "      fill: #174EA6;\n",
              "    }\n",
              "\n",
              "    [theme=dark] .colab-df-convert {\n",
              "      background-color: #3B4455;\n",
              "      fill: #D2E3FC;\n",
              "    }\n",
              "\n",
              "    [theme=dark] .colab-df-convert:hover {\n",
              "      background-color: #434B5C;\n",
              "      box-shadow: 0px 1px 3px 1px rgba(0, 0, 0, 0.15);\n",
              "      filter: drop-shadow(0px 1px 2px rgba(0, 0, 0, 0.3));\n",
              "      fill: #FFFFFF;\n",
              "    }\n",
              "  </style>\n",
              "\n",
              "      <script>\n",
              "        const buttonEl =\n",
              "          document.querySelector('#df-6e6a3416-54bc-4cd0-8ae0-1725799003bc button.colab-df-convert');\n",
              "        buttonEl.style.display =\n",
              "          google.colab.kernel.accessAllowed ? 'block' : 'none';\n",
              "\n",
              "        async function convertToInteractive(key) {\n",
              "          const element = document.querySelector('#df-6e6a3416-54bc-4cd0-8ae0-1725799003bc');\n",
              "          const dataTable =\n",
              "            await google.colab.kernel.invokeFunction('convertToInteractive',\n",
              "                                                     [key], {});\n",
              "          if (!dataTable) return;\n",
              "\n",
              "          const docLinkHtml = 'Like what you see? Visit the ' +\n",
              "            '<a target=\"_blank\" href=https://colab.research.google.com/notebooks/data_table.ipynb>data table notebook</a>'\n",
              "            + ' to learn more about interactive tables.';\n",
              "          element.innerHTML = '';\n",
              "          dataTable['output_type'] = 'display_data';\n",
              "          await google.colab.output.renderOutput(dataTable, element);\n",
              "          const docLink = document.createElement('div');\n",
              "          docLink.innerHTML = docLinkHtml;\n",
              "          element.appendChild(docLink);\n",
              "        }\n",
              "      </script>\n",
              "    </div>\n",
              "  </div>\n",
              "  "
            ]
          },
          "metadata": {},
          "execution_count": 31
        }
      ]
    },
    {
      "cell_type": "code",
      "metadata": {
        "id": "0feGkNqoWyyY",
        "colab": {
          "base_uri": "https://localhost:8080/",
          "height": 1000
        },
        "outputId": "0256e704-71d7-405d-e4da-2a92c5073ae8"
      },
      "source": [
        "inc00sh = ct00.merge(income2000, left_on='AFFGEOID_short', right_on='GEOID')\n",
        "inc00sh"
      ],
      "execution_count": null,
      "outputs": [
        {
          "output_type": "execute_result",
          "data": {
            "text/plain": [
              "         AREA  PERIMETER  TR42_D00_  TR42_D00_I STATE COUNTY TRACT  NAME LSAD  \\\n",
              "0    0.000382   0.101891       2168        2167    42    101  0365  0365   TR   \n",
              "1    0.000186   0.056434       2186        2185    42    101  0358  0358   TR   \n",
              "2    0.000489   0.108181       2200        2199    42    101  0364  0364   TR   \n",
              "3    0.000237   0.067885       2201        2200    42    101  0359  0359   TR   \n",
              "4    0.000218   0.062643       2212        2211    42    101  0357  0357   TR   \n",
              "..        ...        ...        ...         ...   ...    ...   ...   ...  ...   \n",
              "362  0.000088   0.043848       2995        2994    42    101  0047  0047   TR   \n",
              "363  0.000048   0.027687       3000        2999    42    101  0048  0048   TR   \n",
              "364  0.000286   0.098508       3009        3008    42    101  0051  0051   TR   \n",
              "365  0.000087   0.036964       3023        3022    42    101  0056  0056   TR   \n",
              "366  0.000254   0.067798       3029        3028    42    101  0054  0054   TR   \n",
              "\n",
              "    LSAD_TRANS                                           geometry  \\\n",
              "0         None  POLYGON ((-74.99801 40.12761, -74.99341 40.132...   \n",
              "1         None  POLYGON ((-75.02491 40.12891, -75.02011 40.126...   \n",
              "2         None  POLYGON ((-74.97981 40.11971, -74.97541 40.120...   \n",
              "3         None  POLYGON ((-75.01531 40.12361, -75.01172 40.121...   \n",
              "4         None  POLYGON ((-75.03762 40.12001, -75.03672 40.120...   \n",
              "..         ...                                                ...   \n",
              "362       None  POLYGON ((-75.17772 39.91261, -75.17702 39.912...   \n",
              "363       None  POLYGON ((-75.16532 39.91121, -75.16682 39.904...   \n",
              "364       None  POLYGON ((-75.17362 39.90521, -75.17477 39.898...   \n",
              "365       None  POLYGON ((-75.24053 39.90361, -75.23893 39.898...   \n",
              "366       None  POLYGON ((-75.25523 39.89871, -75.25253 39.897...   \n",
              "\n",
              "                 AFFGEOID  AFFGEOID_short        GEOID  income_2000  \\\n",
              "0    1400000US42101036500     42101036500  42101036500        50447   \n",
              "1    1400000US42101035800     42101035800  42101035800        54449   \n",
              "2    1400000US42101036400     42101036400  42101036400        51250   \n",
              "3    1400000US42101035900     42101035900  42101035900        43582   \n",
              "4    1400000US42101035700     42101035700  42101035700        34047   \n",
              "..                    ...             ...          ...          ...   \n",
              "362  1400000US42101004700     42101004700  42101004700        44080   \n",
              "363  1400000US42101004800     42101004800  42101004800        30455   \n",
              "364  1400000US42101005100     42101005100  42101005100        28417   \n",
              "365  1400000US42101005600     42101005600  42101005600        21801   \n",
              "366  1400000US42101005400     42101005400  42101005400        40577   \n",
              "\n",
              "     income_2000_adj  \n",
              "0       66969.132599  \n",
              "1       72281.846311  \n",
              "2       68035.126880  \n",
              "3       57855.744384  \n",
              "4       45197.891997  \n",
              "..               ...  \n",
              "362     58516.846690  \n",
              "363     40429.459300  \n",
              "364     37723.984401  \n",
              "365     28941.147339  \n",
              "366     53866.562798  \n",
              "\n",
              "[367 rows x 16 columns]"
            ],
            "text/html": [
              "\n",
              "  <div id=\"df-b346a323-5d48-43be-958d-9f9303fc9e4e\">\n",
              "    <div class=\"colab-df-container\">\n",
              "      <div>\n",
              "<style scoped>\n",
              "    .dataframe tbody tr th:only-of-type {\n",
              "        vertical-align: middle;\n",
              "    }\n",
              "\n",
              "    .dataframe tbody tr th {\n",
              "        vertical-align: top;\n",
              "    }\n",
              "\n",
              "    .dataframe thead th {\n",
              "        text-align: right;\n",
              "    }\n",
              "</style>\n",
              "<table border=\"1\" class=\"dataframe\">\n",
              "  <thead>\n",
              "    <tr style=\"text-align: right;\">\n",
              "      <th></th>\n",
              "      <th>AREA</th>\n",
              "      <th>PERIMETER</th>\n",
              "      <th>TR42_D00_</th>\n",
              "      <th>TR42_D00_I</th>\n",
              "      <th>STATE</th>\n",
              "      <th>COUNTY</th>\n",
              "      <th>TRACT</th>\n",
              "      <th>NAME</th>\n",
              "      <th>LSAD</th>\n",
              "      <th>LSAD_TRANS</th>\n",
              "      <th>geometry</th>\n",
              "      <th>AFFGEOID</th>\n",
              "      <th>AFFGEOID_short</th>\n",
              "      <th>GEOID</th>\n",
              "      <th>income_2000</th>\n",
              "      <th>income_2000_adj</th>\n",
              "    </tr>\n",
              "  </thead>\n",
              "  <tbody>\n",
              "    <tr>\n",
              "      <th>0</th>\n",
              "      <td>0.000382</td>\n",
              "      <td>0.101891</td>\n",
              "      <td>2168</td>\n",
              "      <td>2167</td>\n",
              "      <td>42</td>\n",
              "      <td>101</td>\n",
              "      <td>0365</td>\n",
              "      <td>0365</td>\n",
              "      <td>TR</td>\n",
              "      <td>None</td>\n",
              "      <td>POLYGON ((-74.99801 40.12761, -74.99341 40.132...</td>\n",
              "      <td>1400000US42101036500</td>\n",
              "      <td>42101036500</td>\n",
              "      <td>42101036500</td>\n",
              "      <td>50447</td>\n",
              "      <td>66969.132599</td>\n",
              "    </tr>\n",
              "    <tr>\n",
              "      <th>1</th>\n",
              "      <td>0.000186</td>\n",
              "      <td>0.056434</td>\n",
              "      <td>2186</td>\n",
              "      <td>2185</td>\n",
              "      <td>42</td>\n",
              "      <td>101</td>\n",
              "      <td>0358</td>\n",
              "      <td>0358</td>\n",
              "      <td>TR</td>\n",
              "      <td>None</td>\n",
              "      <td>POLYGON ((-75.02491 40.12891, -75.02011 40.126...</td>\n",
              "      <td>1400000US42101035800</td>\n",
              "      <td>42101035800</td>\n",
              "      <td>42101035800</td>\n",
              "      <td>54449</td>\n",
              "      <td>72281.846311</td>\n",
              "    </tr>\n",
              "    <tr>\n",
              "      <th>2</th>\n",
              "      <td>0.000489</td>\n",
              "      <td>0.108181</td>\n",
              "      <td>2200</td>\n",
              "      <td>2199</td>\n",
              "      <td>42</td>\n",
              "      <td>101</td>\n",
              "      <td>0364</td>\n",
              "      <td>0364</td>\n",
              "      <td>TR</td>\n",
              "      <td>None</td>\n",
              "      <td>POLYGON ((-74.97981 40.11971, -74.97541 40.120...</td>\n",
              "      <td>1400000US42101036400</td>\n",
              "      <td>42101036400</td>\n",
              "      <td>42101036400</td>\n",
              "      <td>51250</td>\n",
              "      <td>68035.126880</td>\n",
              "    </tr>\n",
              "    <tr>\n",
              "      <th>3</th>\n",
              "      <td>0.000237</td>\n",
              "      <td>0.067885</td>\n",
              "      <td>2201</td>\n",
              "      <td>2200</td>\n",
              "      <td>42</td>\n",
              "      <td>101</td>\n",
              "      <td>0359</td>\n",
              "      <td>0359</td>\n",
              "      <td>TR</td>\n",
              "      <td>None</td>\n",
              "      <td>POLYGON ((-75.01531 40.12361, -75.01172 40.121...</td>\n",
              "      <td>1400000US42101035900</td>\n",
              "      <td>42101035900</td>\n",
              "      <td>42101035900</td>\n",
              "      <td>43582</td>\n",
              "      <td>57855.744384</td>\n",
              "    </tr>\n",
              "    <tr>\n",
              "      <th>4</th>\n",
              "      <td>0.000218</td>\n",
              "      <td>0.062643</td>\n",
              "      <td>2212</td>\n",
              "      <td>2211</td>\n",
              "      <td>42</td>\n",
              "      <td>101</td>\n",
              "      <td>0357</td>\n",
              "      <td>0357</td>\n",
              "      <td>TR</td>\n",
              "      <td>None</td>\n",
              "      <td>POLYGON ((-75.03762 40.12001, -75.03672 40.120...</td>\n",
              "      <td>1400000US42101035700</td>\n",
              "      <td>42101035700</td>\n",
              "      <td>42101035700</td>\n",
              "      <td>34047</td>\n",
              "      <td>45197.891997</td>\n",
              "    </tr>\n",
              "    <tr>\n",
              "      <th>...</th>\n",
              "      <td>...</td>\n",
              "      <td>...</td>\n",
              "      <td>...</td>\n",
              "      <td>...</td>\n",
              "      <td>...</td>\n",
              "      <td>...</td>\n",
              "      <td>...</td>\n",
              "      <td>...</td>\n",
              "      <td>...</td>\n",
              "      <td>...</td>\n",
              "      <td>...</td>\n",
              "      <td>...</td>\n",
              "      <td>...</td>\n",
              "      <td>...</td>\n",
              "      <td>...</td>\n",
              "      <td>...</td>\n",
              "    </tr>\n",
              "    <tr>\n",
              "      <th>362</th>\n",
              "      <td>0.000088</td>\n",
              "      <td>0.043848</td>\n",
              "      <td>2995</td>\n",
              "      <td>2994</td>\n",
              "      <td>42</td>\n",
              "      <td>101</td>\n",
              "      <td>0047</td>\n",
              "      <td>0047</td>\n",
              "      <td>TR</td>\n",
              "      <td>None</td>\n",
              "      <td>POLYGON ((-75.17772 39.91261, -75.17702 39.912...</td>\n",
              "      <td>1400000US42101004700</td>\n",
              "      <td>42101004700</td>\n",
              "      <td>42101004700</td>\n",
              "      <td>44080</td>\n",
              "      <td>58516.846690</td>\n",
              "    </tr>\n",
              "    <tr>\n",
              "      <th>363</th>\n",
              "      <td>0.000048</td>\n",
              "      <td>0.027687</td>\n",
              "      <td>3000</td>\n",
              "      <td>2999</td>\n",
              "      <td>42</td>\n",
              "      <td>101</td>\n",
              "      <td>0048</td>\n",
              "      <td>0048</td>\n",
              "      <td>TR</td>\n",
              "      <td>None</td>\n",
              "      <td>POLYGON ((-75.16532 39.91121, -75.16682 39.904...</td>\n",
              "      <td>1400000US42101004800</td>\n",
              "      <td>42101004800</td>\n",
              "      <td>42101004800</td>\n",
              "      <td>30455</td>\n",
              "      <td>40429.459300</td>\n",
              "    </tr>\n",
              "    <tr>\n",
              "      <th>364</th>\n",
              "      <td>0.000286</td>\n",
              "      <td>0.098508</td>\n",
              "      <td>3009</td>\n",
              "      <td>3008</td>\n",
              "      <td>42</td>\n",
              "      <td>101</td>\n",
              "      <td>0051</td>\n",
              "      <td>0051</td>\n",
              "      <td>TR</td>\n",
              "      <td>None</td>\n",
              "      <td>POLYGON ((-75.17362 39.90521, -75.17477 39.898...</td>\n",
              "      <td>1400000US42101005100</td>\n",
              "      <td>42101005100</td>\n",
              "      <td>42101005100</td>\n",
              "      <td>28417</td>\n",
              "      <td>37723.984401</td>\n",
              "    </tr>\n",
              "    <tr>\n",
              "      <th>365</th>\n",
              "      <td>0.000087</td>\n",
              "      <td>0.036964</td>\n",
              "      <td>3023</td>\n",
              "      <td>3022</td>\n",
              "      <td>42</td>\n",
              "      <td>101</td>\n",
              "      <td>0056</td>\n",
              "      <td>0056</td>\n",
              "      <td>TR</td>\n",
              "      <td>None</td>\n",
              "      <td>POLYGON ((-75.24053 39.90361, -75.23893 39.898...</td>\n",
              "      <td>1400000US42101005600</td>\n",
              "      <td>42101005600</td>\n",
              "      <td>42101005600</td>\n",
              "      <td>21801</td>\n",
              "      <td>28941.147339</td>\n",
              "    </tr>\n",
              "    <tr>\n",
              "      <th>366</th>\n",
              "      <td>0.000254</td>\n",
              "      <td>0.067798</td>\n",
              "      <td>3029</td>\n",
              "      <td>3028</td>\n",
              "      <td>42</td>\n",
              "      <td>101</td>\n",
              "      <td>0054</td>\n",
              "      <td>0054</td>\n",
              "      <td>TR</td>\n",
              "      <td>None</td>\n",
              "      <td>POLYGON ((-75.25523 39.89871, -75.25253 39.897...</td>\n",
              "      <td>1400000US42101005400</td>\n",
              "      <td>42101005400</td>\n",
              "      <td>42101005400</td>\n",
              "      <td>40577</td>\n",
              "      <td>53866.562798</td>\n",
              "    </tr>\n",
              "  </tbody>\n",
              "</table>\n",
              "<p>367 rows × 16 columns</p>\n",
              "</div>\n",
              "      <button class=\"colab-df-convert\" onclick=\"convertToInteractive('df-b346a323-5d48-43be-958d-9f9303fc9e4e')\"\n",
              "              title=\"Convert this dataframe to an interactive table.\"\n",
              "              style=\"display:none;\">\n",
              "        \n",
              "  <svg xmlns=\"http://www.w3.org/2000/svg\" height=\"24px\"viewBox=\"0 0 24 24\"\n",
              "       width=\"24px\">\n",
              "    <path d=\"M0 0h24v24H0V0z\" fill=\"none\"/>\n",
              "    <path d=\"M18.56 5.44l.94 2.06.94-2.06 2.06-.94-2.06-.94-.94-2.06-.94 2.06-2.06.94zm-11 1L8.5 8.5l.94-2.06 2.06-.94-2.06-.94L8.5 2.5l-.94 2.06-2.06.94zm10 10l.94 2.06.94-2.06 2.06-.94-2.06-.94-.94-2.06-.94 2.06-2.06.94z\"/><path d=\"M17.41 7.96l-1.37-1.37c-.4-.4-.92-.59-1.43-.59-.52 0-1.04.2-1.43.59L10.3 9.45l-7.72 7.72c-.78.78-.78 2.05 0 2.83L4 21.41c.39.39.9.59 1.41.59.51 0 1.02-.2 1.41-.59l7.78-7.78 2.81-2.81c.8-.78.8-2.07 0-2.86zM5.41 20L4 18.59l7.72-7.72 1.47 1.35L5.41 20z\"/>\n",
              "  </svg>\n",
              "      </button>\n",
              "      \n",
              "  <style>\n",
              "    .colab-df-container {\n",
              "      display:flex;\n",
              "      flex-wrap:wrap;\n",
              "      gap: 12px;\n",
              "    }\n",
              "\n",
              "    .colab-df-convert {\n",
              "      background-color: #E8F0FE;\n",
              "      border: none;\n",
              "      border-radius: 50%;\n",
              "      cursor: pointer;\n",
              "      display: none;\n",
              "      fill: #1967D2;\n",
              "      height: 32px;\n",
              "      padding: 0 0 0 0;\n",
              "      width: 32px;\n",
              "    }\n",
              "\n",
              "    .colab-df-convert:hover {\n",
              "      background-color: #E2EBFA;\n",
              "      box-shadow: 0px 1px 2px rgba(60, 64, 67, 0.3), 0px 1px 3px 1px rgba(60, 64, 67, 0.15);\n",
              "      fill: #174EA6;\n",
              "    }\n",
              "\n",
              "    [theme=dark] .colab-df-convert {\n",
              "      background-color: #3B4455;\n",
              "      fill: #D2E3FC;\n",
              "    }\n",
              "\n",
              "    [theme=dark] .colab-df-convert:hover {\n",
              "      background-color: #434B5C;\n",
              "      box-shadow: 0px 1px 3px 1px rgba(0, 0, 0, 0.15);\n",
              "      filter: drop-shadow(0px 1px 2px rgba(0, 0, 0, 0.3));\n",
              "      fill: #FFFFFF;\n",
              "    }\n",
              "  </style>\n",
              "\n",
              "      <script>\n",
              "        const buttonEl =\n",
              "          document.querySelector('#df-b346a323-5d48-43be-958d-9f9303fc9e4e button.colab-df-convert');\n",
              "        buttonEl.style.display =\n",
              "          google.colab.kernel.accessAllowed ? 'block' : 'none';\n",
              "\n",
              "        async function convertToInteractive(key) {\n",
              "          const element = document.querySelector('#df-b346a323-5d48-43be-958d-9f9303fc9e4e');\n",
              "          const dataTable =\n",
              "            await google.colab.kernel.invokeFunction('convertToInteractive',\n",
              "                                                     [key], {});\n",
              "          if (!dataTable) return;\n",
              "\n",
              "          const docLinkHtml = 'Like what you see? Visit the ' +\n",
              "            '<a target=\"_blank\" href=https://colab.research.google.com/notebooks/data_table.ipynb>data table notebook</a>'\n",
              "            + ' to learn more about interactive tables.';\n",
              "          element.innerHTML = '';\n",
              "          dataTable['output_type'] = 'display_data';\n",
              "          await google.colab.output.renderOutput(dataTable, element);\n",
              "          const docLink = document.createElement('div');\n",
              "          docLink.innerHTML = docLinkHtml;\n",
              "          element.appendChild(docLink);\n",
              "        }\n",
              "      </script>\n",
              "    </div>\n",
              "  </div>\n",
              "  "
            ]
          },
          "metadata": {},
          "execution_count": 32
        }
      ]
    },
    {
      "cell_type": "markdown",
      "source": [
        "**MERGING THE 2016 INCOME DATA AND GEODATAFRAME**"
      ],
      "metadata": {
        "id": "71tv8YkJ3fSA"
      }
    },
    {
      "cell_type": "code",
      "source": [
        "income2016.head(1)"
      ],
      "metadata": {
        "colab": {
          "base_uri": "https://localhost:8080/",
          "height": 81
        },
        "id": "GybhGSlg3OsS",
        "outputId": "b3b6d5d2-8349-4359-c4a1-5f967f2f1935"
      },
      "execution_count": null,
      "outputs": [
        {
          "output_type": "execute_result",
          "data": {
            "text/plain": [
              "   income_2016        GEOID\n",
              "0        29770  42101008301"
            ],
            "text/html": [
              "\n",
              "  <div id=\"df-f46359fb-23b8-4e7c-ad7d-76ae636100e6\">\n",
              "    <div class=\"colab-df-container\">\n",
              "      <div>\n",
              "<style scoped>\n",
              "    .dataframe tbody tr th:only-of-type {\n",
              "        vertical-align: middle;\n",
              "    }\n",
              "\n",
              "    .dataframe tbody tr th {\n",
              "        vertical-align: top;\n",
              "    }\n",
              "\n",
              "    .dataframe thead th {\n",
              "        text-align: right;\n",
              "    }\n",
              "</style>\n",
              "<table border=\"1\" class=\"dataframe\">\n",
              "  <thead>\n",
              "    <tr style=\"text-align: right;\">\n",
              "      <th></th>\n",
              "      <th>income_2016</th>\n",
              "      <th>GEOID</th>\n",
              "    </tr>\n",
              "  </thead>\n",
              "  <tbody>\n",
              "    <tr>\n",
              "      <th>0</th>\n",
              "      <td>29770</td>\n",
              "      <td>42101008301</td>\n",
              "    </tr>\n",
              "  </tbody>\n",
              "</table>\n",
              "</div>\n",
              "      <button class=\"colab-df-convert\" onclick=\"convertToInteractive('df-f46359fb-23b8-4e7c-ad7d-76ae636100e6')\"\n",
              "              title=\"Convert this dataframe to an interactive table.\"\n",
              "              style=\"display:none;\">\n",
              "        \n",
              "  <svg xmlns=\"http://www.w3.org/2000/svg\" height=\"24px\"viewBox=\"0 0 24 24\"\n",
              "       width=\"24px\">\n",
              "    <path d=\"M0 0h24v24H0V0z\" fill=\"none\"/>\n",
              "    <path d=\"M18.56 5.44l.94 2.06.94-2.06 2.06-.94-2.06-.94-.94-2.06-.94 2.06-2.06.94zm-11 1L8.5 8.5l.94-2.06 2.06-.94-2.06-.94L8.5 2.5l-.94 2.06-2.06.94zm10 10l.94 2.06.94-2.06 2.06-.94-2.06-.94-.94-2.06-.94 2.06-2.06.94z\"/><path d=\"M17.41 7.96l-1.37-1.37c-.4-.4-.92-.59-1.43-.59-.52 0-1.04.2-1.43.59L10.3 9.45l-7.72 7.72c-.78.78-.78 2.05 0 2.83L4 21.41c.39.39.9.59 1.41.59.51 0 1.02-.2 1.41-.59l7.78-7.78 2.81-2.81c.8-.78.8-2.07 0-2.86zM5.41 20L4 18.59l7.72-7.72 1.47 1.35L5.41 20z\"/>\n",
              "  </svg>\n",
              "      </button>\n",
              "      \n",
              "  <style>\n",
              "    .colab-df-container {\n",
              "      display:flex;\n",
              "      flex-wrap:wrap;\n",
              "      gap: 12px;\n",
              "    }\n",
              "\n",
              "    .colab-df-convert {\n",
              "      background-color: #E8F0FE;\n",
              "      border: none;\n",
              "      border-radius: 50%;\n",
              "      cursor: pointer;\n",
              "      display: none;\n",
              "      fill: #1967D2;\n",
              "      height: 32px;\n",
              "      padding: 0 0 0 0;\n",
              "      width: 32px;\n",
              "    }\n",
              "\n",
              "    .colab-df-convert:hover {\n",
              "      background-color: #E2EBFA;\n",
              "      box-shadow: 0px 1px 2px rgba(60, 64, 67, 0.3), 0px 1px 3px 1px rgba(60, 64, 67, 0.15);\n",
              "      fill: #174EA6;\n",
              "    }\n",
              "\n",
              "    [theme=dark] .colab-df-convert {\n",
              "      background-color: #3B4455;\n",
              "      fill: #D2E3FC;\n",
              "    }\n",
              "\n",
              "    [theme=dark] .colab-df-convert:hover {\n",
              "      background-color: #434B5C;\n",
              "      box-shadow: 0px 1px 3px 1px rgba(0, 0, 0, 0.15);\n",
              "      filter: drop-shadow(0px 1px 2px rgba(0, 0, 0, 0.3));\n",
              "      fill: #FFFFFF;\n",
              "    }\n",
              "  </style>\n",
              "\n",
              "      <script>\n",
              "        const buttonEl =\n",
              "          document.querySelector('#df-f46359fb-23b8-4e7c-ad7d-76ae636100e6 button.colab-df-convert');\n",
              "        buttonEl.style.display =\n",
              "          google.colab.kernel.accessAllowed ? 'block' : 'none';\n",
              "\n",
              "        async function convertToInteractive(key) {\n",
              "          const element = document.querySelector('#df-f46359fb-23b8-4e7c-ad7d-76ae636100e6');\n",
              "          const dataTable =\n",
              "            await google.colab.kernel.invokeFunction('convertToInteractive',\n",
              "                                                     [key], {});\n",
              "          if (!dataTable) return;\n",
              "\n",
              "          const docLinkHtml = 'Like what you see? Visit the ' +\n",
              "            '<a target=\"_blank\" href=https://colab.research.google.com/notebooks/data_table.ipynb>data table notebook</a>'\n",
              "            + ' to learn more about interactive tables.';\n",
              "          element.innerHTML = '';\n",
              "          dataTable['output_type'] = 'display_data';\n",
              "          await google.colab.output.renderOutput(dataTable, element);\n",
              "          const docLink = document.createElement('div');\n",
              "          docLink.innerHTML = docLinkHtml;\n",
              "          element.appendChild(docLink);\n",
              "        }\n",
              "      </script>\n",
              "    </div>\n",
              "  </div>\n",
              "  "
            ]
          },
          "metadata": {},
          "execution_count": 33
        }
      ]
    },
    {
      "cell_type": "code",
      "source": [
        "ct16['GEOID'] = ct16['GEOID'].astype(int)\n",
        "ct16.dtypes"
      ],
      "metadata": {
        "colab": {
          "base_uri": "https://localhost:8080/"
        },
        "id": "Cv77bsh73aA3",
        "outputId": "059a2433-719b-46b0-fe90-4bbfa2d7b0b6"
      },
      "execution_count": null,
      "outputs": [
        {
          "output_type": "execute_result",
          "data": {
            "text/plain": [
              "STATEFP       object\n",
              "COUNTYFP      object\n",
              "TRACTCE       object\n",
              "AFFGEOID      object\n",
              "GEOID          int64\n",
              "NAME          object\n",
              "LSAD          object\n",
              "ALAND          int64\n",
              "AWATER         int64\n",
              "geometry    geometry\n",
              "dtype: object"
            ]
          },
          "metadata": {},
          "execution_count": 34
        }
      ]
    },
    {
      "cell_type": "code",
      "source": [
        "ct16.head(1)"
      ],
      "metadata": {
        "colab": {
          "base_uri": "https://localhost:8080/",
          "height": 81
        },
        "id": "mH3PLi314FVr",
        "outputId": "2b882d14-31e6-4371-d72d-27ced6ab57ab"
      },
      "execution_count": null,
      "outputs": [
        {
          "output_type": "execute_result",
          "data": {
            "text/plain": [
              "  STATEFP COUNTYFP TRACTCE              AFFGEOID        GEOID NAME LSAD  \\\n",
              "0      42      101  010200  1400000US42101010200  42101010200  102   CT   \n",
              "\n",
              "    ALAND  AWATER                                           geometry  \n",
              "0  360618       0  POLYGON ((-75.23536 39.96851, -75.23570 39.970...  "
            ],
            "text/html": [
              "\n",
              "  <div id=\"df-ef5bb020-218e-4635-a1c1-b7b486461ac4\">\n",
              "    <div class=\"colab-df-container\">\n",
              "      <div>\n",
              "<style scoped>\n",
              "    .dataframe tbody tr th:only-of-type {\n",
              "        vertical-align: middle;\n",
              "    }\n",
              "\n",
              "    .dataframe tbody tr th {\n",
              "        vertical-align: top;\n",
              "    }\n",
              "\n",
              "    .dataframe thead th {\n",
              "        text-align: right;\n",
              "    }\n",
              "</style>\n",
              "<table border=\"1\" class=\"dataframe\">\n",
              "  <thead>\n",
              "    <tr style=\"text-align: right;\">\n",
              "      <th></th>\n",
              "      <th>STATEFP</th>\n",
              "      <th>COUNTYFP</th>\n",
              "      <th>TRACTCE</th>\n",
              "      <th>AFFGEOID</th>\n",
              "      <th>GEOID</th>\n",
              "      <th>NAME</th>\n",
              "      <th>LSAD</th>\n",
              "      <th>ALAND</th>\n",
              "      <th>AWATER</th>\n",
              "      <th>geometry</th>\n",
              "    </tr>\n",
              "  </thead>\n",
              "  <tbody>\n",
              "    <tr>\n",
              "      <th>0</th>\n",
              "      <td>42</td>\n",
              "      <td>101</td>\n",
              "      <td>010200</td>\n",
              "      <td>1400000US42101010200</td>\n",
              "      <td>42101010200</td>\n",
              "      <td>102</td>\n",
              "      <td>CT</td>\n",
              "      <td>360618</td>\n",
              "      <td>0</td>\n",
              "      <td>POLYGON ((-75.23536 39.96851, -75.23570 39.970...</td>\n",
              "    </tr>\n",
              "  </tbody>\n",
              "</table>\n",
              "</div>\n",
              "      <button class=\"colab-df-convert\" onclick=\"convertToInteractive('df-ef5bb020-218e-4635-a1c1-b7b486461ac4')\"\n",
              "              title=\"Convert this dataframe to an interactive table.\"\n",
              "              style=\"display:none;\">\n",
              "        \n",
              "  <svg xmlns=\"http://www.w3.org/2000/svg\" height=\"24px\"viewBox=\"0 0 24 24\"\n",
              "       width=\"24px\">\n",
              "    <path d=\"M0 0h24v24H0V0z\" fill=\"none\"/>\n",
              "    <path d=\"M18.56 5.44l.94 2.06.94-2.06 2.06-.94-2.06-.94-.94-2.06-.94 2.06-2.06.94zm-11 1L8.5 8.5l.94-2.06 2.06-.94-2.06-.94L8.5 2.5l-.94 2.06-2.06.94zm10 10l.94 2.06.94-2.06 2.06-.94-2.06-.94-.94-2.06-.94 2.06-2.06.94z\"/><path d=\"M17.41 7.96l-1.37-1.37c-.4-.4-.92-.59-1.43-.59-.52 0-1.04.2-1.43.59L10.3 9.45l-7.72 7.72c-.78.78-.78 2.05 0 2.83L4 21.41c.39.39.9.59 1.41.59.51 0 1.02-.2 1.41-.59l7.78-7.78 2.81-2.81c.8-.78.8-2.07 0-2.86zM5.41 20L4 18.59l7.72-7.72 1.47 1.35L5.41 20z\"/>\n",
              "  </svg>\n",
              "      </button>\n",
              "      \n",
              "  <style>\n",
              "    .colab-df-container {\n",
              "      display:flex;\n",
              "      flex-wrap:wrap;\n",
              "      gap: 12px;\n",
              "    }\n",
              "\n",
              "    .colab-df-convert {\n",
              "      background-color: #E8F0FE;\n",
              "      border: none;\n",
              "      border-radius: 50%;\n",
              "      cursor: pointer;\n",
              "      display: none;\n",
              "      fill: #1967D2;\n",
              "      height: 32px;\n",
              "      padding: 0 0 0 0;\n",
              "      width: 32px;\n",
              "    }\n",
              "\n",
              "    .colab-df-convert:hover {\n",
              "      background-color: #E2EBFA;\n",
              "      box-shadow: 0px 1px 2px rgba(60, 64, 67, 0.3), 0px 1px 3px 1px rgba(60, 64, 67, 0.15);\n",
              "      fill: #174EA6;\n",
              "    }\n",
              "\n",
              "    [theme=dark] .colab-df-convert {\n",
              "      background-color: #3B4455;\n",
              "      fill: #D2E3FC;\n",
              "    }\n",
              "\n",
              "    [theme=dark] .colab-df-convert:hover {\n",
              "      background-color: #434B5C;\n",
              "      box-shadow: 0px 1px 3px 1px rgba(0, 0, 0, 0.15);\n",
              "      filter: drop-shadow(0px 1px 2px rgba(0, 0, 0, 0.3));\n",
              "      fill: #FFFFFF;\n",
              "    }\n",
              "  </style>\n",
              "\n",
              "      <script>\n",
              "        const buttonEl =\n",
              "          document.querySelector('#df-ef5bb020-218e-4635-a1c1-b7b486461ac4 button.colab-df-convert');\n",
              "        buttonEl.style.display =\n",
              "          google.colab.kernel.accessAllowed ? 'block' : 'none';\n",
              "\n",
              "        async function convertToInteractive(key) {\n",
              "          const element = document.querySelector('#df-ef5bb020-218e-4635-a1c1-b7b486461ac4');\n",
              "          const dataTable =\n",
              "            await google.colab.kernel.invokeFunction('convertToInteractive',\n",
              "                                                     [key], {});\n",
              "          if (!dataTable) return;\n",
              "\n",
              "          const docLinkHtml = 'Like what you see? Visit the ' +\n",
              "            '<a target=\"_blank\" href=https://colab.research.google.com/notebooks/data_table.ipynb>data table notebook</a>'\n",
              "            + ' to learn more about interactive tables.';\n",
              "          element.innerHTML = '';\n",
              "          dataTable['output_type'] = 'display_data';\n",
              "          await google.colab.output.renderOutput(dataTable, element);\n",
              "          const docLink = document.createElement('div');\n",
              "          docLink.innerHTML = docLinkHtml;\n",
              "          element.appendChild(docLink);\n",
              "        }\n",
              "      </script>\n",
              "    </div>\n",
              "  </div>\n",
              "  "
            ]
          },
          "metadata": {},
          "execution_count": 35
        }
      ]
    },
    {
      "cell_type": "code",
      "source": [
        "inc16sh = ct16.merge(income2016, left_on = 'GEOID', right_on = 'GEOID')\n",
        "inc16sh"
      ],
      "metadata": {
        "colab": {
          "base_uri": "https://localhost:8080/",
          "height": 424
        },
        "id": "S27fP0DA4XIb",
        "outputId": "fc62dc53-3df8-4ff8-8c1a-3402aef67df6"
      },
      "execution_count": null,
      "outputs": [
        {
          "output_type": "execute_result",
          "data": {
            "text/plain": [
              "    STATEFP COUNTYFP TRACTCE              AFFGEOID        GEOID NAME LSAD  \\\n",
              "0        42      101  010200  1400000US42101010200  42101010200  102   CT   \n",
              "1        42      101  011900  1400000US42101011900  42101011900  119   CT   \n",
              "2        42      101  013900  1400000US42101013900  42101013900  139   CT   \n",
              "3        42      101  015700  1400000US42101015700  42101015700  157   CT   \n",
              "4        42      101  016300  1400000US42101016300  42101016300  163   CT   \n",
              "..      ...      ...     ...                   ...          ...  ...  ...   \n",
              "370      42      101  033000  1400000US42101033000  42101033000  330   CT   \n",
              "371      42      101  034400  1400000US42101034400  42101034400  344   CT   \n",
              "372      42      101  036000  1400000US42101036000  42101036000  360   CT   \n",
              "373      42      101  036900  1400000US42101036900  42101036900  369   CT   \n",
              "374      42      101  038600  1400000US42101038600  42101038600  386   CT   \n",
              "\n",
              "       ALAND  AWATER                                           geometry  \\\n",
              "0     360618       0  POLYGON ((-75.23536 39.96851, -75.23570 39.970...   \n",
              "1     690903       0  POLYGON ((-75.23367 39.99188, -75.22566 39.991...   \n",
              "2     562937       0  POLYGON ((-75.17785 39.97425, -75.17378 39.974...   \n",
              "3     485072       0  POLYGON ((-75.13877 39.97932, -75.13814 39.982...   \n",
              "4     572226       0  POLYGON ((-75.13902 39.98876, -75.13835 39.991...   \n",
              "..       ...     ...                                                ...   \n",
              "370   732828       0  POLYGON ((-75.04059 40.03686, -75.03929 40.037...   \n",
              "371  3399171   13905  POLYGON ((-75.06946 40.09441, -75.05834 40.105...   \n",
              "372  2043083     638  POLYGON ((-75.02393 40.10070, -75.00539 40.114...   \n",
              "373  1855494  193283  POLYGON ((-75.20784 39.94129, -75.20506 39.943...   \n",
              "374  3304390   32072  POLYGON ((-75.22135 40.07243, -75.22227 40.073...   \n",
              "\n",
              "     income_2016  \n",
              "0          16071  \n",
              "1          30854  \n",
              "2          14314  \n",
              "3          38991  \n",
              "4          14017  \n",
              "..           ...  \n",
              "370        38070  \n",
              "371        85058  \n",
              "372        53708  \n",
              "373        44464  \n",
              "374       145104  \n",
              "\n",
              "[375 rows x 11 columns]"
            ],
            "text/html": [
              "\n",
              "  <div id=\"df-07837e9c-30e1-4504-9943-737686845c8d\">\n",
              "    <div class=\"colab-df-container\">\n",
              "      <div>\n",
              "<style scoped>\n",
              "    .dataframe tbody tr th:only-of-type {\n",
              "        vertical-align: middle;\n",
              "    }\n",
              "\n",
              "    .dataframe tbody tr th {\n",
              "        vertical-align: top;\n",
              "    }\n",
              "\n",
              "    .dataframe thead th {\n",
              "        text-align: right;\n",
              "    }\n",
              "</style>\n",
              "<table border=\"1\" class=\"dataframe\">\n",
              "  <thead>\n",
              "    <tr style=\"text-align: right;\">\n",
              "      <th></th>\n",
              "      <th>STATEFP</th>\n",
              "      <th>COUNTYFP</th>\n",
              "      <th>TRACTCE</th>\n",
              "      <th>AFFGEOID</th>\n",
              "      <th>GEOID</th>\n",
              "      <th>NAME</th>\n",
              "      <th>LSAD</th>\n",
              "      <th>ALAND</th>\n",
              "      <th>AWATER</th>\n",
              "      <th>geometry</th>\n",
              "      <th>income_2016</th>\n",
              "    </tr>\n",
              "  </thead>\n",
              "  <tbody>\n",
              "    <tr>\n",
              "      <th>0</th>\n",
              "      <td>42</td>\n",
              "      <td>101</td>\n",
              "      <td>010200</td>\n",
              "      <td>1400000US42101010200</td>\n",
              "      <td>42101010200</td>\n",
              "      <td>102</td>\n",
              "      <td>CT</td>\n",
              "      <td>360618</td>\n",
              "      <td>0</td>\n",
              "      <td>POLYGON ((-75.23536 39.96851, -75.23570 39.970...</td>\n",
              "      <td>16071</td>\n",
              "    </tr>\n",
              "    <tr>\n",
              "      <th>1</th>\n",
              "      <td>42</td>\n",
              "      <td>101</td>\n",
              "      <td>011900</td>\n",
              "      <td>1400000US42101011900</td>\n",
              "      <td>42101011900</td>\n",
              "      <td>119</td>\n",
              "      <td>CT</td>\n",
              "      <td>690903</td>\n",
              "      <td>0</td>\n",
              "      <td>POLYGON ((-75.23367 39.99188, -75.22566 39.991...</td>\n",
              "      <td>30854</td>\n",
              "    </tr>\n",
              "    <tr>\n",
              "      <th>2</th>\n",
              "      <td>42</td>\n",
              "      <td>101</td>\n",
              "      <td>013900</td>\n",
              "      <td>1400000US42101013900</td>\n",
              "      <td>42101013900</td>\n",
              "      <td>139</td>\n",
              "      <td>CT</td>\n",
              "      <td>562937</td>\n",
              "      <td>0</td>\n",
              "      <td>POLYGON ((-75.17785 39.97425, -75.17378 39.974...</td>\n",
              "      <td>14314</td>\n",
              "    </tr>\n",
              "    <tr>\n",
              "      <th>3</th>\n",
              "      <td>42</td>\n",
              "      <td>101</td>\n",
              "      <td>015700</td>\n",
              "      <td>1400000US42101015700</td>\n",
              "      <td>42101015700</td>\n",
              "      <td>157</td>\n",
              "      <td>CT</td>\n",
              "      <td>485072</td>\n",
              "      <td>0</td>\n",
              "      <td>POLYGON ((-75.13877 39.97932, -75.13814 39.982...</td>\n",
              "      <td>38991</td>\n",
              "    </tr>\n",
              "    <tr>\n",
              "      <th>4</th>\n",
              "      <td>42</td>\n",
              "      <td>101</td>\n",
              "      <td>016300</td>\n",
              "      <td>1400000US42101016300</td>\n",
              "      <td>42101016300</td>\n",
              "      <td>163</td>\n",
              "      <td>CT</td>\n",
              "      <td>572226</td>\n",
              "      <td>0</td>\n",
              "      <td>POLYGON ((-75.13902 39.98876, -75.13835 39.991...</td>\n",
              "      <td>14017</td>\n",
              "    </tr>\n",
              "    <tr>\n",
              "      <th>...</th>\n",
              "      <td>...</td>\n",
              "      <td>...</td>\n",
              "      <td>...</td>\n",
              "      <td>...</td>\n",
              "      <td>...</td>\n",
              "      <td>...</td>\n",
              "      <td>...</td>\n",
              "      <td>...</td>\n",
              "      <td>...</td>\n",
              "      <td>...</td>\n",
              "      <td>...</td>\n",
              "    </tr>\n",
              "    <tr>\n",
              "      <th>370</th>\n",
              "      <td>42</td>\n",
              "      <td>101</td>\n",
              "      <td>033000</td>\n",
              "      <td>1400000US42101033000</td>\n",
              "      <td>42101033000</td>\n",
              "      <td>330</td>\n",
              "      <td>CT</td>\n",
              "      <td>732828</td>\n",
              "      <td>0</td>\n",
              "      <td>POLYGON ((-75.04059 40.03686, -75.03929 40.037...</td>\n",
              "      <td>38070</td>\n",
              "    </tr>\n",
              "    <tr>\n",
              "      <th>371</th>\n",
              "      <td>42</td>\n",
              "      <td>101</td>\n",
              "      <td>034400</td>\n",
              "      <td>1400000US42101034400</td>\n",
              "      <td>42101034400</td>\n",
              "      <td>344</td>\n",
              "      <td>CT</td>\n",
              "      <td>3399171</td>\n",
              "      <td>13905</td>\n",
              "      <td>POLYGON ((-75.06946 40.09441, -75.05834 40.105...</td>\n",
              "      <td>85058</td>\n",
              "    </tr>\n",
              "    <tr>\n",
              "      <th>372</th>\n",
              "      <td>42</td>\n",
              "      <td>101</td>\n",
              "      <td>036000</td>\n",
              "      <td>1400000US42101036000</td>\n",
              "      <td>42101036000</td>\n",
              "      <td>360</td>\n",
              "      <td>CT</td>\n",
              "      <td>2043083</td>\n",
              "      <td>638</td>\n",
              "      <td>POLYGON ((-75.02393 40.10070, -75.00539 40.114...</td>\n",
              "      <td>53708</td>\n",
              "    </tr>\n",
              "    <tr>\n",
              "      <th>373</th>\n",
              "      <td>42</td>\n",
              "      <td>101</td>\n",
              "      <td>036900</td>\n",
              "      <td>1400000US42101036900</td>\n",
              "      <td>42101036900</td>\n",
              "      <td>369</td>\n",
              "      <td>CT</td>\n",
              "      <td>1855494</td>\n",
              "      <td>193283</td>\n",
              "      <td>POLYGON ((-75.20784 39.94129, -75.20506 39.943...</td>\n",
              "      <td>44464</td>\n",
              "    </tr>\n",
              "    <tr>\n",
              "      <th>374</th>\n",
              "      <td>42</td>\n",
              "      <td>101</td>\n",
              "      <td>038600</td>\n",
              "      <td>1400000US42101038600</td>\n",
              "      <td>42101038600</td>\n",
              "      <td>386</td>\n",
              "      <td>CT</td>\n",
              "      <td>3304390</td>\n",
              "      <td>32072</td>\n",
              "      <td>POLYGON ((-75.22135 40.07243, -75.22227 40.073...</td>\n",
              "      <td>145104</td>\n",
              "    </tr>\n",
              "  </tbody>\n",
              "</table>\n",
              "<p>375 rows × 11 columns</p>\n",
              "</div>\n",
              "      <button class=\"colab-df-convert\" onclick=\"convertToInteractive('df-07837e9c-30e1-4504-9943-737686845c8d')\"\n",
              "              title=\"Convert this dataframe to an interactive table.\"\n",
              "              style=\"display:none;\">\n",
              "        \n",
              "  <svg xmlns=\"http://www.w3.org/2000/svg\" height=\"24px\"viewBox=\"0 0 24 24\"\n",
              "       width=\"24px\">\n",
              "    <path d=\"M0 0h24v24H0V0z\" fill=\"none\"/>\n",
              "    <path d=\"M18.56 5.44l.94 2.06.94-2.06 2.06-.94-2.06-.94-.94-2.06-.94 2.06-2.06.94zm-11 1L8.5 8.5l.94-2.06 2.06-.94-2.06-.94L8.5 2.5l-.94 2.06-2.06.94zm10 10l.94 2.06.94-2.06 2.06-.94-2.06-.94-.94-2.06-.94 2.06-2.06.94z\"/><path d=\"M17.41 7.96l-1.37-1.37c-.4-.4-.92-.59-1.43-.59-.52 0-1.04.2-1.43.59L10.3 9.45l-7.72 7.72c-.78.78-.78 2.05 0 2.83L4 21.41c.39.39.9.59 1.41.59.51 0 1.02-.2 1.41-.59l7.78-7.78 2.81-2.81c.8-.78.8-2.07 0-2.86zM5.41 20L4 18.59l7.72-7.72 1.47 1.35L5.41 20z\"/>\n",
              "  </svg>\n",
              "      </button>\n",
              "      \n",
              "  <style>\n",
              "    .colab-df-container {\n",
              "      display:flex;\n",
              "      flex-wrap:wrap;\n",
              "      gap: 12px;\n",
              "    }\n",
              "\n",
              "    .colab-df-convert {\n",
              "      background-color: #E8F0FE;\n",
              "      border: none;\n",
              "      border-radius: 50%;\n",
              "      cursor: pointer;\n",
              "      display: none;\n",
              "      fill: #1967D2;\n",
              "      height: 32px;\n",
              "      padding: 0 0 0 0;\n",
              "      width: 32px;\n",
              "    }\n",
              "\n",
              "    .colab-df-convert:hover {\n",
              "      background-color: #E2EBFA;\n",
              "      box-shadow: 0px 1px 2px rgba(60, 64, 67, 0.3), 0px 1px 3px 1px rgba(60, 64, 67, 0.15);\n",
              "      fill: #174EA6;\n",
              "    }\n",
              "\n",
              "    [theme=dark] .colab-df-convert {\n",
              "      background-color: #3B4455;\n",
              "      fill: #D2E3FC;\n",
              "    }\n",
              "\n",
              "    [theme=dark] .colab-df-convert:hover {\n",
              "      background-color: #434B5C;\n",
              "      box-shadow: 0px 1px 3px 1px rgba(0, 0, 0, 0.15);\n",
              "      filter: drop-shadow(0px 1px 2px rgba(0, 0, 0, 0.3));\n",
              "      fill: #FFFFFF;\n",
              "    }\n",
              "  </style>\n",
              "\n",
              "      <script>\n",
              "        const buttonEl =\n",
              "          document.querySelector('#df-07837e9c-30e1-4504-9943-737686845c8d button.colab-df-convert');\n",
              "        buttonEl.style.display =\n",
              "          google.colab.kernel.accessAllowed ? 'block' : 'none';\n",
              "\n",
              "        async function convertToInteractive(key) {\n",
              "          const element = document.querySelector('#df-07837e9c-30e1-4504-9943-737686845c8d');\n",
              "          const dataTable =\n",
              "            await google.colab.kernel.invokeFunction('convertToInteractive',\n",
              "                                                     [key], {});\n",
              "          if (!dataTable) return;\n",
              "\n",
              "          const docLinkHtml = 'Like what you see? Visit the ' +\n",
              "            '<a target=\"_blank\" href=https://colab.research.google.com/notebooks/data_table.ipynb>data table notebook</a>'\n",
              "            + ' to learn more about interactive tables.';\n",
              "          element.innerHTML = '';\n",
              "          dataTable['output_type'] = 'display_data';\n",
              "          await google.colab.output.renderOutput(dataTable, element);\n",
              "          const docLink = document.createElement('div');\n",
              "          docLink.innerHTML = docLinkHtml;\n",
              "          element.appendChild(docLink);\n",
              "        }\n",
              "      </script>\n",
              "    </div>\n",
              "  </div>\n",
              "  "
            ]
          },
          "metadata": {},
          "execution_count": 36
        }
      ]
    },
    {
      "cell_type": "markdown",
      "metadata": {
        "id": "XuMxOaA7jlp3"
      },
      "source": [
        "<b> Plot the adjusted 2000 incomes on a map with `vmin = 20000` and `vmax = 120000`.  Do the same for the 2016 incomes.  Make sure to include the legend (colorbar) and add text to indicate what those color values represent.</b>"
      ]
    },
    {
      "cell_type": "code",
      "source": [
        "# -- make a new 2000 choropleth (and plot with 2016)\n",
        "fig, ax = plt.subplots(1, 2, figsize=[14, 5])\n",
        "inc00sh.plot(\"income_2000_adj\", legend=True, vmin=2000, vmax=120000, ax=ax[0])\n",
        "ax[0].axis(\"equal\")\n",
        "ax[0].set_title(\"Philadelphia, PA\", loc=\"left\", fontsize=14)\n",
        "fig.text(0.49, 0.5, \"Median income Philadelphia zipcodes 2000\", ha=\"center\", \n",
        "         va=\"center\", rotation=-90, fontsize=14)\n",
        "ax[0].set_xticks([])\n",
        "ax[0].set_yticks([])\n",
        "fig.show()\n",
        "\n",
        "inc16sh.plot(\"income_2016\", legend=True, vmin=2000, vmax=120000, ax=ax[1])\n",
        "ax[1].axis(\"equal\")\n",
        "ax[1].set_title(\"Philadelphia, PA\", loc=\"left\", fontsize=14)\n",
        "fig.text(0.92, 0.5, \"Median income Philadelphia zipcodes 2016\", ha=\"center\", \n",
        "         va=\"center\", rotation=-90, fontsize=14)\n",
        "ax[1].set_xticks([])\n",
        "ax[1].set_yticks([])\n",
        "fig.show()"
      ],
      "metadata": {
        "colab": {
          "base_uri": "https://localhost:8080/",
          "height": 336
        },
        "id": "5626Y-Ia5nty",
        "outputId": "393efee7-3288-4d30-eeef-a444b7156582"
      },
      "execution_count": null,
      "outputs": [
        {
          "output_type": "display_data",
          "data": {
            "text/plain": [
              "<Figure size 1008x360 with 4 Axes>"
            ],
            "image/png": "[encoded data removed]"
          },
          "metadata": {
            "needs_background": "light"
          }
        }
      ]
    },
    {
      "cell_type": "markdown",
      "source": [
        "**Figure 3** plots the adjusted income per inflation for the year 2000 for Philadelphia zipcodes on the left panel and it plots the income for year 2016 for Philadelphia zipcodes on the right-side panel. Overall, we see that incomes in general have increased across zipcodes in Philadelphia between 2000 and 2016 as is evident by the lightening of the chorpleth map on the right side panel. However, increased gentrifcation appears to be occuring without a doubt in 2016 relative to 2000 as is evidenced by the high income zipcodes shown in yellow and the surrounding zipcodes shown in darkshades of blue and or green. I am not an expert on Philadelphia geography however, thus, I leave it to the reader to interpret the various areas and their changes at a more granular level. "
      ],
      "metadata": {
        "id": "ZVueL6m0Viix"
      }
    },
    {
      "cell_type": "markdown",
      "metadata": {
        "id": "WOg-1m7ClDVW"
      },
      "source": [
        "We can already see some differences popping out, especially with respect to Center City (and Fishtown) and North Philadelphia.  To properly visulize those, we'd like to take the difference of these two maps."
      ]
    },
    {
      "cell_type": "code",
      "source": [
        "# -- let's look at just how far off the centroids of the zips actually are\n",
        "lon00 = inc00sh.centroid.x\n",
        "lat00 = inc00sh.centroid.y\n",
        "\n",
        "lon16 = inc16sh.centroid.x\n",
        "lat16 = inc16sh.centroid.y\n",
        "\n",
        "fig, ax = plt.subplots(figsize=(10, 8))\n",
        "ax.scatter(lon00, lat00, facecolor=\"none\", color=\"k\", s=60, label=\"2000 centroids\")\n",
        "ax.scatter(lon16, lat16, c=\"r\", s=20, label=\"2016 centroids\")\n",
        "ax.set_facecolor(\"#EEEEEE\")\n",
        "ax.legend()\n",
        "ax.axis(\"equal\")\n",
        "ax.set_xticks([])\n",
        "ax.set_yticks([])\n",
        "fig.show()"
      ],
      "metadata": {
        "colab": {
          "base_uri": "https://localhost:8080/",
          "height": 593
        },
        "id": "Bh-7M4CG8nLu",
        "outputId": "4d05c910-c0f7-45e6-d29b-c05afb62fd9c"
      },
      "execution_count": null,
      "outputs": [
        {
          "output_type": "stream",
          "name": "stderr",
          "text": [
            "/usr/local/lib/python3.7/dist-packages/ipykernel_launcher.py:5: UserWarning: Geometry is in a geographic CRS. Results from 'centroid' are likely incorrect. Use 'GeoSeries.to_crs()' to re-project geometries to a projected CRS before this operation.\n",
            "\n",
            "  \"\"\"\n",
            "/usr/local/lib/python3.7/dist-packages/ipykernel_launcher.py:6: UserWarning: Geometry is in a geographic CRS. Results from 'centroid' are likely incorrect. Use 'GeoSeries.to_crs()' to re-project geometries to a projected CRS before this operation.\n",
            "\n",
            "  \n"
          ]
        },
        {
          "output_type": "display_data",
          "data": {
            "text/plain": [
              "<Figure size 720x576 with 1 Axes>"
            ],
            "image/png": "[encoded data removed]"
          },
          "metadata": {}
        }
      ]
    },
    {
      "cell_type": "markdown",
      "source": [
        "**Figure 4** adds nothing new to the analysis (just extra) showing how the centroids for our zipcodes in Philadelphia have changed over time. "
      ],
      "metadata": {
        "id": "cDzM0cQIY_J4"
      }
    },
    {
      "cell_type": "markdown",
      "metadata": {
        "id": "1hWRDxypowOU"
      },
      "source": [
        "### **PART 4 - Interpolating to 2000 data on 2016 Locations**"
      ]
    },
    {
      "cell_type": "markdown",
      "metadata": {
        "id": "3KDRLmj9m-iT"
      },
      "source": [
        "In class, merging the 2000 data into the 2016 GeoDataFrame resulted in a lot of dropped census tracts b/c the definition of the census tracts changed over time.  To recover those, we need an estimate of the adjusted 2000 income value at each 2016 census tract.  We can do this by interpolating (using Gaussian Process Regression [aka Kriging]) the adjusted 2000 values onto the 2016 locations.\n",
        "\n",
        "<b> Import the GaussianProcessRegressor model as well as the ConstantKernel and RBF kernels. </b>"
      ]
    },
    {
      "cell_type": "code",
      "metadata": {
        "id": "Fwd45BkGpf16"
      },
      "source": [
        "# -- let's use Gaussian Process Regression to interpolate the 2000 data to the \n",
        "#    2016 locations.\n",
        "\n",
        "# -- first some imports\n",
        "from sklearn.gaussian_process import GaussianProcessRegressor\n",
        "from sklearn.gaussian_process.kernels import RBF, ConstantKernel as C"
      ],
      "execution_count": null,
      "outputs": []
    },
    {
      "cell_type": "markdown",
      "metadata": {
        "id": "iyXw9uQ9pq59"
      },
      "source": [
        "<b> As we did in class, create the features array (lat/lon) and labeled data (2000 adjusted median incomes) for the model from the `inc00sh` GeoDataFrame.  Make sure to use `.values.copy()` for these so that these are numpy arrays and not pandas Series objects. </b>"
      ]
    },
    {
      "cell_type": "code",
      "metadata": {
        "id": "nrxdDAu4pqwK"
      },
      "source": [
        "# -- we need the usual 2D array of Nobj x Nfeat\n",
        "pos00 = np.vstack([lon00, lat00]).T\n",
        "\n",
        "# -- and an Nobj \"target\"\n",
        "income00  = inc00sh['income_2000_adj'].values.copy()"
      ],
      "execution_count": null,
      "outputs": []
    },
    {
      "cell_type": "markdown",
      "metadata": {
        "id": "XbncPrTsqYXE"
      },
      "source": [
        "As always, the features need to be standardized.\n",
        "\n",
        "<b> Standardize the features array across objects and standardize the object labels. </b>"
      ]
    },
    {
      "cell_type": "code",
      "metadata": {
        "id": "OpNsi6sdpqlp",
        "colab": {
          "base_uri": "https://localhost:8080/",
          "height": 282
        },
        "outputId": "9be15a32-427b-48bc-b4ea-24f8794050cf"
      },
      "source": [
        "# -- now we need to standardize before fitting\n",
        "pos00m = pos00.mean(0)\n",
        "pos00s = pos00.std(0)\n",
        "income00m = income00.mean()\n",
        "income00s = income00.std()\n",
        "\n",
        "pos00 -= pos00m\n",
        "pos00 /= pos00s\n",
        "income00 -= income00m\n",
        "income00 /= income00s\n",
        "\n",
        "# -- check the values\n",
        "plt.scatter(pos00[:, 0], pos00[:, 1], c=\"r\", s=20)"
      ],
      "execution_count": null,
      "outputs": [
        {
          "output_type": "execute_result",
          "data": {
            "text/plain": [
              "<matplotlib.collections.PathCollection at 0x7f01db7a6f10>"
            ]
          },
          "metadata": {},
          "execution_count": 41
        },
        {
          "output_type": "display_data",
          "data": {
            "text/plain": [
              "<Figure size 432x288 with 1 Axes>"
            ],
            "image/png": "[encoded data removed]"
          },
          "metadata": {
            "needs_background": "light"
          }
        }
      ]
    },
    {
      "cell_type": "markdown",
      "source": [
        "**Figure 5** Just checking values here -- adding nothing new to the analysis. "
      ],
      "metadata": {
        "id": "va0YyN5xn_c4"
      }
    },
    {
      "cell_type": "markdown",
      "metadata": {
        "id": "0gYITMYQrxAr"
      },
      "source": [
        "<b> Fit a GPR model to the standardized 2000 data (remember to intialize the kernel).</b>"
      ]
    },
    {
      "cell_type": "code",
      "metadata": {
        "id": "64guhWrhr0_3",
        "colab": {
          "base_uri": "https://localhost:8080/"
        },
        "outputId": "022ecab5-d8c8-4ced-f699-15e236fa20f8"
      },
      "source": [
        "# -- now we initialize the kernel and fit to the data\n",
        "kernel = C(1.0, (1e-3, 1e3)) * RBF(10., (1e-2, 1e2))\n",
        "gpr = GaussianProcessRegressor(kernel=kernel, n_restarts_optimizer=10)\n",
        "\n",
        "gpr.fit(pos00, income00)"
      ],
      "execution_count": null,
      "outputs": [
        {
          "output_type": "execute_result",
          "data": {
            "text/plain": [
              "GaussianProcessRegressor(kernel=1**2 * RBF(length_scale=10),\n",
              "                         n_restarts_optimizer=10)"
            ]
          },
          "metadata": {},
          "execution_count": 42
        }
      ]
    },
    {
      "cell_type": "markdown",
      "metadata": {
        "id": "ZARvLqFQsHXM"
      },
      "source": [
        "The model has now been fit to the 2000 adjusted median income data at the 2000 census tract locations.  Now we want to interpolate onto the 2016 positions.\n",
        "\n",
        "<b> Create a features array for the 2016 census tract positions making sure to standardize. </b>"
      ]
    },
    {
      "cell_type": "code",
      "metadata": {
        "id": "nbF8TK3zsdCt"
      },
      "source": [
        "# -- now we can use this fit model to predict the 2000 census data at the 2016 \n",
        "#    census tract centroids\n",
        "\n",
        "# -- create the features array\n",
        "pos16 = np.vstack([lon16, lat16]).T\n",
        "\n",
        "\n",
        "# -- standardize\n",
        "pos16 -= pos00m\n",
        "pos16 /= pos00s\n",
        "\n",
        "\n"
      ],
      "execution_count": null,
      "outputs": []
    },
    {
      "cell_type": "markdown",
      "metadata": {
        "id": "8m8P9Bzlsu6p"
      },
      "source": [
        "<b> Interpolate the trained model onto these positions using the `.predict()` method. </b>"
      ]
    },
    {
      "cell_type": "code",
      "metadata": {
        "id": "5fsZzuk4mHxW"
      },
      "source": [
        "# -- predict\n",
        "income16pred = gpr.predict(pos16)"
      ],
      "execution_count": null,
      "outputs": []
    },
    {
      "cell_type": "markdown",
      "metadata": {
        "id": "NEXg9ke9s928"
      },
      "source": [
        "<b> Unstandardize these values so that they are real dollars and put those into a column in `inc16sh` called `\"income_2000_interp\"`. </b>"
      ]
    },
    {
      "cell_type": "code",
      "metadata": {
        "id": "_1lBC2pus9u5"
      },
      "source": [
        "# -- now un-standardize and reattatch to the GeoDF\n",
        "inc16sh[\"income_2000_interp\"] = income16pred * income00s + income00m\n",
        "inc16sh[\"income_diff_pred\"] = inc16sh['income_2016'] - inc16sh['income_2000_interp']"
      ],
      "execution_count": null,
      "outputs": []
    },
    {
      "cell_type": "markdown",
      "metadata": {
        "id": "1SCF4NN1tUz2"
      },
      "source": [
        "So now we have a column of interpolated values of the 2000 adjusted incomes at the locations of the 2016 census tracts.\n",
        "\n",
        "<b> Make a map of the difference between the 2016 median income and the adjusted 2000 median income using the `coolwarm` color map, `vmin = -20000` and `vmax = 20000`. </b>"
      ]
    },
    {
      "cell_type": "code",
      "metadata": {
        "id": "aqv7mch3s9nR",
        "colab": {
          "base_uri": "https://localhost:8080/",
          "height": 698
        },
        "outputId": "bc1bda81-6f7f-44a1-cf2a-f3fb7b551669"
      },
      "source": [
        "# -- make a choropleth\n",
        "fig, ax = plt.subplots(figsize=[10, 10])\n",
        "inc16sh.plot(\"income_diff_pred\", cmap=\"coolwarm\", vmin=-20000, vmax=20000, legend=True, ax=ax)\n",
        "ax.axis(\"equal\")\n",
        "ax.set_title(\"Philadelphia, PA\", loc=\"left\", fontsize=15)\n",
        "fig.text(0.93, 0.5, \"Difference in 2016 median income and djusted 2000 median income (2016 minus 2000)\", ha=\"center\", \n",
        "         va=\"center\", rotation=-90, fontsize=15)\n",
        "ax.set_xticks([])\n",
        "ax.set_yticks([])\n",
        "fig.show()"
      ],
      "execution_count": null,
      "outputs": [
        {
          "output_type": "display_data",
          "data": {
            "text/plain": [
              "<Figure size 720x720 with 2 Axes>"
            ],
            "image/png": "[encoded data removed]"
          },
          "metadata": {
            "needs_background": "light"
          }
        }
      ]
    },
    {
      "cell_type": "markdown",
      "source": [
        "**Figure 6** plots a choropleth map for our Philadelphia zip codes showing the difference between the 2016 median income and the 2000 adjusted median income. It is clear that incomes have risen sharply in some areas relative to others and it is also clear that incomes have dropped sharply in some areas relative to others in the Phildaelphia region. "
      ],
      "metadata": {
        "id": "Oz1NccTCoM8o"
      }
    },
    {
      "cell_type": "markdown",
      "metadata": {
        "id": "OQbN-CA8lEyO"
      },
      "source": [
        "**Describe the spatial similarity between this map and the map of 2000/2016 demographic differences we derived in class**"
      ]
    },
    {
      "cell_type": "markdown",
      "metadata": {
        "id": "t2EOSLlelPas"
      },
      "source": [
        "Overall, this map above in figure 6 in comparison to the map of 2000/2016 demographic differences that we had derived in class presents starking similarities. In areas of Philadelphia in the map as derived from class that showed an increase in the fraction of white residents from the year 2000 to 2016 data, we also correspondingly see an increase in incomes in the map as derived here in figure 6 in those same areas for the most part as shown by the red shadeded colors. The story is the same for those areas where the fraction of residents is white had decreased in the map derived from class, we correspondingly see in this map in figure 6 what appears to be a decrease in median incomes. Overall, Philadelphia appears to be gentrified heavily between North and South in both maps (the one derived in class and figure 6 derived here in this notebook). These findings are extremely problematic for the city and its residents. City commissioners in Philadelphia should take notice and implement economic measures to revitalize areas of zipcodes that have poorer median incomes but also implement policies to ensure that the revitalization doesn't kick residents out of these newly revitazlized areas. "
      ]
    },
    {
      "cell_type": "markdown",
      "metadata": {
        "id": "NPFtwZ7UkOiI"
      },
      "source": [
        "---"
      ]
    },
    {
      "cell_type": "markdown",
      "metadata": {
        "id": "JL1Bg18_u7W4"
      },
      "source": [
        "### **PART 4 - EXTRA CREDIT: Model accuracy**\n",
        "\n",
        "<b> Check the accuracy of the Gaussian Process Regression by training on only half of the 2000 data, interpolating onto the locations of the other half of the 2000 data, and plotting the difference between the true values and the interpolated values. </b>"
      ]
    },
    {
      "cell_type": "code",
      "metadata": {
        "id": "1_cpGy7Iu7Kn"
      },
      "source": [
        ""
      ],
      "execution_count": null,
      "outputs": []
    }
  ]
}