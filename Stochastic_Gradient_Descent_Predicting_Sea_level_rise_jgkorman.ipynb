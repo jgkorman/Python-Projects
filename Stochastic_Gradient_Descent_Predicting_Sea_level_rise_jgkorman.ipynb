{
  "nbformat": 4,
  "nbformat_minor": 0,
  "metadata": {
    "colab": {
      "name": "mlpp22_assignment_02_jgkorman.ipynb",
      "provenance": [],
      "collapsed_sections": [],
      "include_colab_link": true
    },
    "kernelspec": {
      "name": "python3",
      "display_name": "Python 3"
    }
  },
  "cells": [
    {
      "cell_type": "markdown",
      "metadata": {
        "id": "view-in-github",
        "colab_type": "text"
      },
      "source": [
        "<a href=\"https://colab.research.google.com/github/jgkorman/Python-Projects/blob/main/Stochastic_Gradient_Descent_Predicting_Sea_level_rise_jgkorman.ipynb\" target=\"_parent\"><img src=\"https://colab.research.google.com/assets/colab-badge.svg\" alt=\"Open In Colab\"/></a>"
      ]
    },
    {
      "cell_type": "markdown",
      "metadata": {
        "id": "ugGDuuAUpZEQ"
      },
      "source": [
        "# **MLPP22 // Assignment 2**\n",
        "\n",
        "assigned : **Feb 22, 2022**\n",
        "\n",
        "DUE : **Mar 1, 2022 11:59pm**\n",
        "\n",
        "## **Sea level rise: projections for the future**\n",
        "\n",
        "<img src=\"https://cdn.viewing.nyc/assets/media/5c0dcd07e43c85f0ad421ed09f21df33/elements/08ebcd75071c8e4d673147698fbbdcdd/xl/cce6b621-11a3-4f0d-8a53-fccdb6457875_2x.png\" width=500>\n",
        "\n",
        "---"
      ]
    },
    {
      "cell_type": "markdown",
      "metadata": {
        "id": "rQgC1Td2qSkW"
      },
      "source": [
        "### OVERVIEW\n",
        "\n",
        "Sea level has been on the rise for at least 100 years, and as the climate changes and the Earth warms, the rate of that rise has been an active area of study given the potential consequences if sea level is strongly affected.\n",
        "\n",
        "Measurements of sea level mostly come in two flavors, satellites and tide gauges.  The satellite measurements are primarily accomplished by firing radio waves towards the ocean surface and waiting for the time it takes for those radio waves to bounce back and return to the satellite.  Since we know how fast light (radio waves are a form of light) travels, the distance from the satellite to the surface is just the bounce back time divided by the speed of light.  [TOPEX/Poseidon](https://en.wikipedia.org/wiki/TOPEX/Poseidon) has been one of the most successful satellite missions for these altimetry measurements of the ocean surface.  [Tide gauges](https://en.wikipedia.org/wiki/Tide_gauge), on the other hand, are ground-based measurements that directly measure the height of water relative to a stationary device.  They are less accurate, provide significantly reduced spatial coverage, but prior to satellite altimetry, were the only real method for measuring sea level. \n",
        "\n",
        "There are three main goals of this assignment:\n",
        "\n",
        "1. you will apply linear regression models to satellite data using Stochastic Gradient Descent\n",
        "2. you will evaluate the goodness-of-fit of these models via $\\chi^2$ per degree-of-freedom\n",
        "3. you will compare linear models using data covering different time scales and make projections for future sea levels\n",
        "\n",
        "<b>\n",
        "\n",
        "Rules for assignments:\n",
        "\n",
        "1. You may work with other students in the class, but if you do, each student with whom you worked <u>must</u> be listed below.  Direct copying from someone else's notebook is not permitted.\n",
        "\n",
        "\n",
        "2. All solutions and outputs must be derived with python and the notebook should be \"runable\" by me (top to bottom) without errors.\n",
        "\n",
        "3. Late assignments will assess a 15% late penalty up to 3 days after the due date and a 50% late penalty until the end of the term.\n",
        "\n",
        "</b>\n",
        "\n",
        "<u>**Instructions for tasks that will be graded are in bold below.**</u>\n",
        "\n",
        "---"
      ]
    },
    {
      "cell_type": "markdown",
      "metadata": {
        "id": "jUL2va38d-ph"
      },
      "source": [
        "**Please list the names of the other students with whom you worked for this assignment (if none, put \"None\").**"
      ]
    },
    {
      "cell_type": "markdown",
      "metadata": {
        "id": "Zsjvj1Wfd5nJ"
      },
      "source": [
        "None "
      ]
    },
    {
      "cell_type": "markdown",
      "metadata": {
        "id": "v8J09Gfad5Cr"
      },
      "source": [
        "---"
      ]
    },
    {
      "cell_type": "markdown",
      "metadata": {
        "id": "UBL4OBtWzv7O"
      },
      "source": [
        "### **PART 1 - Background**\n",
        "\n",
        "Good data science and machine learning (and data analysis more generally) depends on a clear understanding of the underlying problem/situation, the methods by which the data you are about to analyze are collected, and the situational context in which that data sits.  To that end:\n",
        "\n",
        "<b>\n",
        "<u>In your own words</u>, provide a brief (no more than 500 words) descriptive overview of sea level rise, including its historical significance, context within a changing climate, and projections for the future.  Potential topics to consider and address include:\n",
        "\n",
        "1. description of historical sea level measurements\n",
        "  \n",
        "2. what open satellite data exist and where they can be located\n",
        "\n",
        "3. characteristic numbers for sea level measurements over time\n",
        "\n",
        "4. why sea level might change as the climate changes\n",
        "\n",
        "5. what projections exist for the future of sea level rise\n",
        "\n",
        "6. on what those projections depend and the consequences for various scenarios\n",
        "\n",
        "Please include *references* within the description via weblinks (like the TOPEX/Poseidon link in the Overview in the cell above).\n",
        "</b>"
      ]
    },
    {
      "cell_type": "markdown",
      "metadata": {
        "id": "egygltbL0Q1Z"
      },
      "source": [
        "Sea level rise has been an enduring feature of the 21st century and its accurate measurment is of profound importance for us to be able to properly anlayze its impact. To that end, there have been 2 main ways in which sea level rise has been historically measured over time. One main way to measure sea level rise has been via the use of [satellites](https://en.wikipedia.org/wiki/TOPEX/Poseidon). The TOPEX/POISEDON was a major research satellite launched by NASA and national governments for purposes of oceanography albeit its mission ended in 2006 after a malfunction while launching new satelites to continue the mission. It has provided some of the most robust and profound insights to date in terms of studying the impacts of climate change on sea level rise. \n",
        "\n",
        "Another major way sea level rise was measured was not through satellites -- but rather through the use of measuring tides. To that end, tide gauges have been employed where sensors continuously record the height of the water level with respect to surface height. It is important to note -- that measuring sea level rise through tide gauges can be enhanced if they are used in conjunction with [satelite imagery](https://en.wikipedia.org/wiki/Tide_gauge) \n",
        "\n",
        "These various ways of measuring sea level rise are important because it is indisputable the fact that sea levels have been rising over time. According to [NOAA](https://www.climate.gov/news-features/understanding-climate/climate-change-global-sea-level) sea levels have risen between 8-9 inches total since 1880 -- a drastic change in such a short amount of time that can have grave implications for coastal areas. Moreover, the report from NOAA notes that the rate of sea level rise is accelerating to the tune of nearly 0.14 inches per year. \n",
        "\n",
        "That begs the question -- why is sea level rising at such exponetial rates? According to [NOAA](https://www.climate.gov/news-features/understanding-climate/climate-change-global-sea-level) global warming is causing mean sea level to rise in two ways: 1. the melting of glaciers and ice thereby adding volumes of water to the world's oceans. 2. The volume of the water is also subsequently rising as the world's oceans warm and the world warms with them. A third but minor contributing factor to global sea level rise is the depletion of ground water via ground pumping. \n",
        "\n",
        "As far as wer're concerned about the future -- the ice sheets of Antarctica and Greenland will play an oversized role and whether or not they melt in a predictable manner -- or collapse all of the sudden -- will have profound impacts for global sea level rise. All as a result of global warming. If projections prove to be true -- [sea level could rise nearly 6.6 feet higher than its current levels come the year 2100](https://www.climate.gov/news-features/understanding-climate/climate-change-global-sea-level). For the sake of humanity -- let us hope that these projections prove to be not true -- and that we are able to come together and slow down biggest contributor to global sea level rise -- global warming. "
      ]
    },
    {
      "cell_type": "markdown",
      "metadata": {
        "id": "3KwDRW3R2qEU"
      },
      "source": [
        "### **PART 2 - Loading the data**"
      ]
    },
    {
      "cell_type": "code",
      "source": [
        "import pandas as pd\n",
        "import numpy as np\n",
        "import matplotlib.pyplot as plt\n",
        "import plotly.express as px\n",
        "from sklearn.linear_model import SGDRegressor"
      ],
      "metadata": {
        "id": "D8ZJvDNEud1m"
      },
      "execution_count": null,
      "outputs": []
    },
    {
      "cell_type": "markdown",
      "metadata": {
        "id": "34DlaWQAYlmj"
      },
      "source": [
        "In this assignment, we will be using several different data sets from the National Oceanic and Atmospheric Administration (NOAA).  In particular, we'll be looking at data from TOPEX as well as its follow on missions Jason-1, Jason-2, and Jason-3.  All of the data that you will be using is available [here](https://www.star.nesdis.noaa.gov/sod/lsa/SeaLevelRise/LSA_SLR_timeseries.php).\n",
        "\n"
      ]
    },
    {
      "cell_type": "markdown",
      "metadata": {
        "id": "L7GvyP6_O0N8"
      },
      "source": [
        "<b>At the website in the previous cell, copy the link address of the global mean sea level csv file with seasonal signals removed from the \"TOPEX, Jason-1, Jason-2, and Jason-3\" column.  Load the data from the above URL using pandas `read_csv()` function (note, you'll have to skip the first 5 rows).</b> "
      ]
    },
    {
      "cell_type": "code",
      "metadata": {
        "id": "01R3mG16QV9H"
      },
      "source": [
        "fname = \"https://www.star.nesdis.noaa.gov/socd/lsa/SeaLevelRise/slr/slr_sla_gbl_free_txj1j2_90.csv\"\n",
        "sea = pd.read_csv(fname, skiprows=5)"
      ],
      "execution_count": null,
      "outputs": []
    },
    {
      "cell_type": "markdown",
      "metadata": {
        "id": "Nen0uNAfSJXH"
      },
      "source": [
        "<b>Print the head of the DataFrame to get a sense of the contents.</b>"
      ]
    },
    {
      "cell_type": "code",
      "metadata": {
        "id": "g1qvxr1RSqF9",
        "colab": {
          "base_uri": "https://localhost:8080/",
          "height": 206
        },
        "outputId": "81c0be58-6c44-4ebf-fe2d-2429a97ec56c"
      },
      "source": [
        "sea.head()"
      ],
      "execution_count": null,
      "outputs": [
        {
          "output_type": "execute_result",
          "data": {
            "text/html": [
              "\n",
              "  <div id=\"df-3dda26b5-b852-44f2-9804-c9de203a9bd2\">\n",
              "    <div class=\"colab-df-container\">\n",
              "      <div>\n",
              "<style scoped>\n",
              "    .dataframe tbody tr th:only-of-type {\n",
              "        vertical-align: middle;\n",
              "    }\n",
              "\n",
              "    .dataframe tbody tr th {\n",
              "        vertical-align: top;\n",
              "    }\n",
              "\n",
              "    .dataframe thead th {\n",
              "        text-align: right;\n",
              "    }\n",
              "</style>\n",
              "<table border=\"1\" class=\"dataframe\">\n",
              "  <thead>\n",
              "    <tr style=\"text-align: right;\">\n",
              "      <th></th>\n",
              "      <th>year</th>\n",
              "      <th>TOPEX/Poseidon</th>\n",
              "      <th>Jason-1</th>\n",
              "      <th>Jason-2</th>\n",
              "      <th>Jason-3</th>\n",
              "    </tr>\n",
              "  </thead>\n",
              "  <tbody>\n",
              "    <tr>\n",
              "      <th>0</th>\n",
              "      <td>1992.9614</td>\n",
              "      <td>-19.32</td>\n",
              "      <td>NaN</td>\n",
              "      <td>NaN</td>\n",
              "      <td>NaN</td>\n",
              "    </tr>\n",
              "    <tr>\n",
              "      <th>1</th>\n",
              "      <td>1992.9865</td>\n",
              "      <td>-19.74</td>\n",
              "      <td>NaN</td>\n",
              "      <td>NaN</td>\n",
              "      <td>NaN</td>\n",
              "    </tr>\n",
              "    <tr>\n",
              "      <th>2</th>\n",
              "      <td>1993.0123</td>\n",
              "      <td>-15.40</td>\n",
              "      <td>NaN</td>\n",
              "      <td>NaN</td>\n",
              "      <td>NaN</td>\n",
              "    </tr>\n",
              "    <tr>\n",
              "      <th>3</th>\n",
              "      <td>1993.0407</td>\n",
              "      <td>-19.20</td>\n",
              "      <td>NaN</td>\n",
              "      <td>NaN</td>\n",
              "      <td>NaN</td>\n",
              "    </tr>\n",
              "    <tr>\n",
              "      <th>4</th>\n",
              "      <td>1993.0660</td>\n",
              "      <td>-23.73</td>\n",
              "      <td>NaN</td>\n",
              "      <td>NaN</td>\n",
              "      <td>NaN</td>\n",
              "    </tr>\n",
              "  </tbody>\n",
              "</table>\n",
              "</div>\n",
              "      <button class=\"colab-df-convert\" onclick=\"convertToInteractive('df-3dda26b5-b852-44f2-9804-c9de203a9bd2')\"\n",
              "              title=\"Convert this dataframe to an interactive table.\"\n",
              "              style=\"display:none;\">\n",
              "        \n",
              "  <svg xmlns=\"http://www.w3.org/2000/svg\" height=\"24px\"viewBox=\"0 0 24 24\"\n",
              "       width=\"24px\">\n",
              "    <path d=\"M0 0h24v24H0V0z\" fill=\"none\"/>\n",
              "    <path d=\"M18.56 5.44l.94 2.06.94-2.06 2.06-.94-2.06-.94-.94-2.06-.94 2.06-2.06.94zm-11 1L8.5 8.5l.94-2.06 2.06-.94-2.06-.94L8.5 2.5l-.94 2.06-2.06.94zm10 10l.94 2.06.94-2.06 2.06-.94-2.06-.94-.94-2.06-.94 2.06-2.06.94z\"/><path d=\"M17.41 7.96l-1.37-1.37c-.4-.4-.92-.59-1.43-.59-.52 0-1.04.2-1.43.59L10.3 9.45l-7.72 7.72c-.78.78-.78 2.05 0 2.83L4 21.41c.39.39.9.59 1.41.59.51 0 1.02-.2 1.41-.59l7.78-7.78 2.81-2.81c.8-.78.8-2.07 0-2.86zM5.41 20L4 18.59l7.72-7.72 1.47 1.35L5.41 20z\"/>\n",
              "  </svg>\n",
              "      </button>\n",
              "      \n",
              "  <style>\n",
              "    .colab-df-container {\n",
              "      display:flex;\n",
              "      flex-wrap:wrap;\n",
              "      gap: 12px;\n",
              "    }\n",
              "\n",
              "    .colab-df-convert {\n",
              "      background-color: #E8F0FE;\n",
              "      border: none;\n",
              "      border-radius: 50%;\n",
              "      cursor: pointer;\n",
              "      display: none;\n",
              "      fill: #1967D2;\n",
              "      height: 32px;\n",
              "      padding: 0 0 0 0;\n",
              "      width: 32px;\n",
              "    }\n",
              "\n",
              "    .colab-df-convert:hover {\n",
              "      background-color: #E2EBFA;\n",
              "      box-shadow: 0px 1px 2px rgba(60, 64, 67, 0.3), 0px 1px 3px 1px rgba(60, 64, 67, 0.15);\n",
              "      fill: #174EA6;\n",
              "    }\n",
              "\n",
              "    [theme=dark] .colab-df-convert {\n",
              "      background-color: #3B4455;\n",
              "      fill: #D2E3FC;\n",
              "    }\n",
              "\n",
              "    [theme=dark] .colab-df-convert:hover {\n",
              "      background-color: #434B5C;\n",
              "      box-shadow: 0px 1px 3px 1px rgba(0, 0, 0, 0.15);\n",
              "      filter: drop-shadow(0px 1px 2px rgba(0, 0, 0, 0.3));\n",
              "      fill: #FFFFFF;\n",
              "    }\n",
              "  </style>\n",
              "\n",
              "      <script>\n",
              "        const buttonEl =\n",
              "          document.querySelector('#df-3dda26b5-b852-44f2-9804-c9de203a9bd2 button.colab-df-convert');\n",
              "        buttonEl.style.display =\n",
              "          google.colab.kernel.accessAllowed ? 'block' : 'none';\n",
              "\n",
              "        async function convertToInteractive(key) {\n",
              "          const element = document.querySelector('#df-3dda26b5-b852-44f2-9804-c9de203a9bd2');\n",
              "          const dataTable =\n",
              "            await google.colab.kernel.invokeFunction('convertToInteractive',\n",
              "                                                     [key], {});\n",
              "          if (!dataTable) return;\n",
              "\n",
              "          const docLinkHtml = 'Like what you see? Visit the ' +\n",
              "            '<a target=\"_blank\" href=https://colab.research.google.com/notebooks/data_table.ipynb>data table notebook</a>'\n",
              "            + ' to learn more about interactive tables.';\n",
              "          element.innerHTML = '';\n",
              "          dataTable['output_type'] = 'display_data';\n",
              "          await google.colab.output.renderOutput(dataTable, element);\n",
              "          const docLink = document.createElement('div');\n",
              "          docLink.innerHTML = docLinkHtml;\n",
              "          element.appendChild(docLink);\n",
              "        }\n",
              "      </script>\n",
              "    </div>\n",
              "  </div>\n",
              "  "
            ],
            "text/plain": [
              "        year  TOPEX/Poseidon  Jason-1  Jason-2  Jason-3\n",
              "0  1992.9614          -19.32      NaN      NaN      NaN\n",
              "1  1992.9865          -19.74      NaN      NaN      NaN\n",
              "2  1993.0123          -15.40      NaN      NaN      NaN\n",
              "3  1993.0407          -19.20      NaN      NaN      NaN\n",
              "4  1993.0660          -23.73      NaN      NaN      NaN"
            ]
          },
          "metadata": {},
          "execution_count": 3
        }
      ]
    },
    {
      "cell_type": "markdown",
      "metadata": {
        "id": "XZoSU1zaSiJD"
      },
      "source": [
        "### **PART 3 - Aggregating and plotting the data**"
      ]
    },
    {
      "cell_type": "markdown",
      "metadata": {
        "id": "G2dyDGWTQWGq"
      },
      "source": [
        "Notice that there are many NaN values (for a variety of reasons, but one big one is that the satellites were not all operating simultaneously).  Let's aggregate the data from all of the satellites so that we have one height for each timestamp.\n",
        "\n",
        "<b>Take the maximum value across the four satellite columns and store it as another column within the DataFrame called \"max_level\".</b>"
      ]
    },
    {
      "cell_type": "code",
      "source": [
        "sea.columns"
      ],
      "metadata": {
        "colab": {
          "base_uri": "https://localhost:8080/"
        },
        "id": "YL7QyPgxx1Je",
        "outputId": "36bb9663-7f68-41e1-d4aa-d012a52aa0a1"
      },
      "execution_count": null,
      "outputs": [
        {
          "output_type": "execute_result",
          "data": {
            "text/plain": [
              "Index(['year', 'TOPEX/Poseidon', 'Jason-1', 'Jason-2', 'Jason-3'], dtype='object')"
            ]
          },
          "metadata": {},
          "execution_count": 4
        }
      ]
    },
    {
      "cell_type": "code",
      "metadata": {
        "id": "XAfKMVEUQWP3"
      },
      "source": [
        "sea['max_level'] = sea[['TOPEX/Poseidon', 'Jason-1', 'Jason-2', 'Jason-3']].max(axis=1)"
      ],
      "execution_count": null,
      "outputs": []
    },
    {
      "cell_type": "code",
      "source": [
        "sea"
      ],
      "metadata": {
        "colab": {
          "base_uri": "https://localhost:8080/",
          "height": 424
        },
        "id": "4HhkKu8excwV",
        "outputId": "f41db5bc-4fca-4ef1-e003-11fc5cd7f8e5"
      },
      "execution_count": null,
      "outputs": [
        {
          "output_type": "execute_result",
          "data": {
            "text/html": [
              "\n",
              "  <div id=\"df-91bd270e-e1b9-491f-8168-a460ca5d5cd0\">\n",
              "    <div class=\"colab-df-container\">\n",
              "      <div>\n",
              "<style scoped>\n",
              "    .dataframe tbody tr th:only-of-type {\n",
              "        vertical-align: middle;\n",
              "    }\n",
              "\n",
              "    .dataframe tbody tr th {\n",
              "        vertical-align: top;\n",
              "    }\n",
              "\n",
              "    .dataframe thead th {\n",
              "        text-align: right;\n",
              "    }\n",
              "</style>\n",
              "<table border=\"1\" class=\"dataframe\">\n",
              "  <thead>\n",
              "    <tr style=\"text-align: right;\">\n",
              "      <th></th>\n",
              "      <th>year</th>\n",
              "      <th>TOPEX/Poseidon</th>\n",
              "      <th>Jason-1</th>\n",
              "      <th>Jason-2</th>\n",
              "      <th>Jason-3</th>\n",
              "      <th>max_level</th>\n",
              "    </tr>\n",
              "  </thead>\n",
              "  <tbody>\n",
              "    <tr>\n",
              "      <th>0</th>\n",
              "      <td>1992.9614</td>\n",
              "      <td>-19.32</td>\n",
              "      <td>NaN</td>\n",
              "      <td>NaN</td>\n",
              "      <td>NaN</td>\n",
              "      <td>-19.32</td>\n",
              "    </tr>\n",
              "    <tr>\n",
              "      <th>1</th>\n",
              "      <td>1992.9865</td>\n",
              "      <td>-19.74</td>\n",
              "      <td>NaN</td>\n",
              "      <td>NaN</td>\n",
              "      <td>NaN</td>\n",
              "      <td>-19.74</td>\n",
              "    </tr>\n",
              "    <tr>\n",
              "      <th>2</th>\n",
              "      <td>1993.0123</td>\n",
              "      <td>-15.40</td>\n",
              "      <td>NaN</td>\n",
              "      <td>NaN</td>\n",
              "      <td>NaN</td>\n",
              "      <td>-15.40</td>\n",
              "    </tr>\n",
              "    <tr>\n",
              "      <th>3</th>\n",
              "      <td>1993.0407</td>\n",
              "      <td>-19.20</td>\n",
              "      <td>NaN</td>\n",
              "      <td>NaN</td>\n",
              "      <td>NaN</td>\n",
              "      <td>-19.20</td>\n",
              "    </tr>\n",
              "    <tr>\n",
              "      <th>4</th>\n",
              "      <td>1993.0660</td>\n",
              "      <td>-23.73</td>\n",
              "      <td>NaN</td>\n",
              "      <td>NaN</td>\n",
              "      <td>NaN</td>\n",
              "      <td>-23.73</td>\n",
              "    </tr>\n",
              "    <tr>\n",
              "      <th>...</th>\n",
              "      <td>...</td>\n",
              "      <td>...</td>\n",
              "      <td>...</td>\n",
              "      <td>...</td>\n",
              "      <td>...</td>\n",
              "      <td>...</td>\n",
              "    </tr>\n",
              "    <tr>\n",
              "      <th>1293</th>\n",
              "      <td>2021.8450</td>\n",
              "      <td>NaN</td>\n",
              "      <td>NaN</td>\n",
              "      <td>NaN</td>\n",
              "      <td>71.48</td>\n",
              "      <td>71.48</td>\n",
              "    </tr>\n",
              "    <tr>\n",
              "      <th>1294</th>\n",
              "      <td>2021.8721</td>\n",
              "      <td>NaN</td>\n",
              "      <td>NaN</td>\n",
              "      <td>NaN</td>\n",
              "      <td>71.32</td>\n",
              "      <td>71.32</td>\n",
              "    </tr>\n",
              "    <tr>\n",
              "      <th>1295</th>\n",
              "      <td>2021.8992</td>\n",
              "      <td>NaN</td>\n",
              "      <td>NaN</td>\n",
              "      <td>NaN</td>\n",
              "      <td>72.41</td>\n",
              "      <td>72.41</td>\n",
              "    </tr>\n",
              "    <tr>\n",
              "      <th>1296</th>\n",
              "      <td>2021.9264</td>\n",
              "      <td>NaN</td>\n",
              "      <td>NaN</td>\n",
              "      <td>NaN</td>\n",
              "      <td>74.69</td>\n",
              "      <td>74.69</td>\n",
              "    </tr>\n",
              "    <tr>\n",
              "      <th>1297</th>\n",
              "      <td>2021.9445</td>\n",
              "      <td>NaN</td>\n",
              "      <td>NaN</td>\n",
              "      <td>NaN</td>\n",
              "      <td>71.99</td>\n",
              "      <td>71.99</td>\n",
              "    </tr>\n",
              "  </tbody>\n",
              "</table>\n",
              "<p>1298 rows × 6 columns</p>\n",
              "</div>\n",
              "      <button class=\"colab-df-convert\" onclick=\"convertToInteractive('df-91bd270e-e1b9-491f-8168-a460ca5d5cd0')\"\n",
              "              title=\"Convert this dataframe to an interactive table.\"\n",
              "              style=\"display:none;\">\n",
              "        \n",
              "  <svg xmlns=\"http://www.w3.org/2000/svg\" height=\"24px\"viewBox=\"0 0 24 24\"\n",
              "       width=\"24px\">\n",
              "    <path d=\"M0 0h24v24H0V0z\" fill=\"none\"/>\n",
              "    <path d=\"M18.56 5.44l.94 2.06.94-2.06 2.06-.94-2.06-.94-.94-2.06-.94 2.06-2.06.94zm-11 1L8.5 8.5l.94-2.06 2.06-.94-2.06-.94L8.5 2.5l-.94 2.06-2.06.94zm10 10l.94 2.06.94-2.06 2.06-.94-2.06-.94-.94-2.06-.94 2.06-2.06.94z\"/><path d=\"M17.41 7.96l-1.37-1.37c-.4-.4-.92-.59-1.43-.59-.52 0-1.04.2-1.43.59L10.3 9.45l-7.72 7.72c-.78.78-.78 2.05 0 2.83L4 21.41c.39.39.9.59 1.41.59.51 0 1.02-.2 1.41-.59l7.78-7.78 2.81-2.81c.8-.78.8-2.07 0-2.86zM5.41 20L4 18.59l7.72-7.72 1.47 1.35L5.41 20z\"/>\n",
              "  </svg>\n",
              "      </button>\n",
              "      \n",
              "  <style>\n",
              "    .colab-df-container {\n",
              "      display:flex;\n",
              "      flex-wrap:wrap;\n",
              "      gap: 12px;\n",
              "    }\n",
              "\n",
              "    .colab-df-convert {\n",
              "      background-color: #E8F0FE;\n",
              "      border: none;\n",
              "      border-radius: 50%;\n",
              "      cursor: pointer;\n",
              "      display: none;\n",
              "      fill: #1967D2;\n",
              "      height: 32px;\n",
              "      padding: 0 0 0 0;\n",
              "      width: 32px;\n",
              "    }\n",
              "\n",
              "    .colab-df-convert:hover {\n",
              "      background-color: #E2EBFA;\n",
              "      box-shadow: 0px 1px 2px rgba(60, 64, 67, 0.3), 0px 1px 3px 1px rgba(60, 64, 67, 0.15);\n",
              "      fill: #174EA6;\n",
              "    }\n",
              "\n",
              "    [theme=dark] .colab-df-convert {\n",
              "      background-color: #3B4455;\n",
              "      fill: #D2E3FC;\n",
              "    }\n",
              "\n",
              "    [theme=dark] .colab-df-convert:hover {\n",
              "      background-color: #434B5C;\n",
              "      box-shadow: 0px 1px 3px 1px rgba(0, 0, 0, 0.15);\n",
              "      filter: drop-shadow(0px 1px 2px rgba(0, 0, 0, 0.3));\n",
              "      fill: #FFFFFF;\n",
              "    }\n",
              "  </style>\n",
              "\n",
              "      <script>\n",
              "        const buttonEl =\n",
              "          document.querySelector('#df-91bd270e-e1b9-491f-8168-a460ca5d5cd0 button.colab-df-convert');\n",
              "        buttonEl.style.display =\n",
              "          google.colab.kernel.accessAllowed ? 'block' : 'none';\n",
              "\n",
              "        async function convertToInteractive(key) {\n",
              "          const element = document.querySelector('#df-91bd270e-e1b9-491f-8168-a460ca5d5cd0');\n",
              "          const dataTable =\n",
              "            await google.colab.kernel.invokeFunction('convertToInteractive',\n",
              "                                                     [key], {});\n",
              "          if (!dataTable) return;\n",
              "\n",
              "          const docLinkHtml = 'Like what you see? Visit the ' +\n",
              "            '<a target=\"_blank\" href=https://colab.research.google.com/notebooks/data_table.ipynb>data table notebook</a>'\n",
              "            + ' to learn more about interactive tables.';\n",
              "          element.innerHTML = '';\n",
              "          dataTable['output_type'] = 'display_data';\n",
              "          await google.colab.output.renderOutput(dataTable, element);\n",
              "          const docLink = document.createElement('div');\n",
              "          docLink.innerHTML = docLinkHtml;\n",
              "          element.appendChild(docLink);\n",
              "        }\n",
              "      </script>\n",
              "    </div>\n",
              "  </div>\n",
              "  "
            ],
            "text/plain": [
              "           year  TOPEX/Poseidon  Jason-1  Jason-2  Jason-3  max_level\n",
              "0     1992.9614          -19.32      NaN      NaN      NaN     -19.32\n",
              "1     1992.9865          -19.74      NaN      NaN      NaN     -19.74\n",
              "2     1993.0123          -15.40      NaN      NaN      NaN     -15.40\n",
              "3     1993.0407          -19.20      NaN      NaN      NaN     -19.20\n",
              "4     1993.0660          -23.73      NaN      NaN      NaN     -23.73\n",
              "...         ...             ...      ...      ...      ...        ...\n",
              "1293  2021.8450             NaN      NaN      NaN    71.48      71.48\n",
              "1294  2021.8721             NaN      NaN      NaN    71.32      71.32\n",
              "1295  2021.8992             NaN      NaN      NaN    72.41      72.41\n",
              "1296  2021.9264             NaN      NaN      NaN    74.69      74.69\n",
              "1297  2021.9445             NaN      NaN      NaN    71.99      71.99\n",
              "\n",
              "[1298 rows x 6 columns]"
            ]
          },
          "metadata": {},
          "execution_count": 6
        }
      ]
    },
    {
      "cell_type": "code",
      "source": [
        "sea.dtypes"
      ],
      "metadata": {
        "colab": {
          "base_uri": "https://localhost:8080/"
        },
        "id": "U2BSkcHG0nnN",
        "outputId": "d2ba994d-71e3-4cb2-ab2a-5b4e47acb189"
      },
      "execution_count": null,
      "outputs": [
        {
          "output_type": "execute_result",
          "data": {
            "text/plain": [
              "year              float64\n",
              "TOPEX/Poseidon    float64\n",
              "Jason-1           float64\n",
              "Jason-2           float64\n",
              "Jason-3           float64\n",
              "max_level         float64\n",
              "dtype: object"
            ]
          },
          "metadata": {},
          "execution_count": 7
        }
      ]
    },
    {
      "cell_type": "markdown",
      "metadata": {
        "id": "n5QIoYpjRA3t"
      },
      "source": [
        "<b>Plot this maximum sea level as a function of year using a black line of linewidth 0.5.$^{\\dagger}$  Remember to ALWAYS label your axes, including units in square brackets when necessary.</b>\n",
        "\n",
        "<small>$^{\\dagger}$ you can use plt.plot? to see the keywords associated with the plot function; there are <u>many</u> ways to customize plots.</small>"
      ]
    },
    {
      "cell_type": "code",
      "metadata": {
        "id": "Uy0bAFLVavhR",
        "colab": {
          "base_uri": "https://localhost:8080/",
          "height": 355
        },
        "outputId": "c7804455-c662-48b7-da5f-0901bf825f00"
      },
      "source": [
        "fig, ax = plt.subplots(figsize=(10,5))\n",
        "sea.plot(\"year\", \"max_level\", ax=ax, color='black', lw=0.5)\n",
        "ax.grid()\n",
        "ax.set_ylabel('Global Average Sea Level Rise [mm]', weight = 'bold', fontsize=12)\n",
        "ax.set_xlabel('Year', weight = 'bold', fontsize=12)\n",
        "ax.legend(\"\")"
      ],
      "execution_count": null,
      "outputs": [
        {
          "output_type": "execute_result",
          "data": {
            "text/plain": [
              "<matplotlib.legend.Legend at 0x7fdb20318150>"
            ]
          },
          "metadata": {},
          "execution_count": 8
        },
        {
          "output_type": "display_data",
          "data": {
            "image/png": "[encoded data removed]",
            "text/plain": [
              "<Figure size 720x360 with 1 Axes>"
            ]
          },
          "metadata": {
            "needs_background": "light"
          }
        }
      ]
    },
    {
      "cell_type": "markdown",
      "source": [
        "**Figure 1** Plots the global average sea level rise [mm] as a function of time. The data is plotted in black. Overall, there is a clear linear trend in place where as the years go by -- sea level rise is correspondingly increasing. "
      ],
      "metadata": {
        "id": "ckkkm16I-Ysl"
      }
    },
    {
      "cell_type": "markdown",
      "metadata": {
        "id": "zt9V9a0-a9Fc"
      },
      "source": [
        "Let's compare this global value to values at smaller spatial scales.\n",
        "\n",
        "<b>In the same way that you loaded the global data with seasonal effects removed, load in data for the Pacific Ocean, the Atlantic Ocean, the Indian Ocean, and the Southern Ocean (each in its own DataFrame), and for each of these new DataFrames, create a `\"max_level\"` column that is the max sea level .</b>"
      ]
    },
    {
      "cell_type": "code",
      "metadata": {
        "id": "P3m3W6MVh37e",
        "colab": {
          "base_uri": "https://localhost:8080/",
          "height": 112
        },
        "outputId": "38ff082f-c4df-4c6d-e944-0d8082ee37b8"
      },
      "source": [
        "fname = \"https://www.star.nesdis.noaa.gov/socd/lsa/SeaLevelRise/slr/slr_sla_pac_free_txj1j2_90.csv\"\n",
        "pacific = pd.read_csv(fname, skiprows=5)\n",
        "pacific['max_level'] = pacific[['TOPEX/Poseidon', 'Jason-1', 'Jason-2', 'Jason-3']].max(axis=1)\n",
        "pacific.head(2)"
      ],
      "execution_count": null,
      "outputs": [
        {
          "output_type": "execute_result",
          "data": {
            "text/html": [
              "\n",
              "  <div id=\"df-0f006857-5129-4503-aec1-121f1370eaca\">\n",
              "    <div class=\"colab-df-container\">\n",
              "      <div>\n",
              "<style scoped>\n",
              "    .dataframe tbody tr th:only-of-type {\n",
              "        vertical-align: middle;\n",
              "    }\n",
              "\n",
              "    .dataframe tbody tr th {\n",
              "        vertical-align: top;\n",
              "    }\n",
              "\n",
              "    .dataframe thead th {\n",
              "        text-align: right;\n",
              "    }\n",
              "</style>\n",
              "<table border=\"1\" class=\"dataframe\">\n",
              "  <thead>\n",
              "    <tr style=\"text-align: right;\">\n",
              "      <th></th>\n",
              "      <th>year</th>\n",
              "      <th>TOPEX/Poseidon</th>\n",
              "      <th>Jason-1</th>\n",
              "      <th>Jason-2</th>\n",
              "      <th>Jason-3</th>\n",
              "      <th>max_level</th>\n",
              "    </tr>\n",
              "  </thead>\n",
              "  <tbody>\n",
              "    <tr>\n",
              "      <th>0</th>\n",
              "      <td>1992.9614</td>\n",
              "      <td>-13.07</td>\n",
              "      <td>NaN</td>\n",
              "      <td>NaN</td>\n",
              "      <td>NaN</td>\n",
              "      <td>-13.07</td>\n",
              "    </tr>\n",
              "    <tr>\n",
              "      <th>1</th>\n",
              "      <td>1992.9864</td>\n",
              "      <td>-24.34</td>\n",
              "      <td>NaN</td>\n",
              "      <td>NaN</td>\n",
              "      <td>NaN</td>\n",
              "      <td>-24.34</td>\n",
              "    </tr>\n",
              "  </tbody>\n",
              "</table>\n",
              "</div>\n",
              "      <button class=\"colab-df-convert\" onclick=\"convertToInteractive('df-0f006857-5129-4503-aec1-121f1370eaca')\"\n",
              "              title=\"Convert this dataframe to an interactive table.\"\n",
              "              style=\"display:none;\">\n",
              "        \n",
              "  <svg xmlns=\"http://www.w3.org/2000/svg\" height=\"24px\"viewBox=\"0 0 24 24\"\n",
              "       width=\"24px\">\n",
              "    <path d=\"M0 0h24v24H0V0z\" fill=\"none\"/>\n",
              "    <path d=\"M18.56 5.44l.94 2.06.94-2.06 2.06-.94-2.06-.94-.94-2.06-.94 2.06-2.06.94zm-11 1L8.5 8.5l.94-2.06 2.06-.94-2.06-.94L8.5 2.5l-.94 2.06-2.06.94zm10 10l.94 2.06.94-2.06 2.06-.94-2.06-.94-.94-2.06-.94 2.06-2.06.94z\"/><path d=\"M17.41 7.96l-1.37-1.37c-.4-.4-.92-.59-1.43-.59-.52 0-1.04.2-1.43.59L10.3 9.45l-7.72 7.72c-.78.78-.78 2.05 0 2.83L4 21.41c.39.39.9.59 1.41.59.51 0 1.02-.2 1.41-.59l7.78-7.78 2.81-2.81c.8-.78.8-2.07 0-2.86zM5.41 20L4 18.59l7.72-7.72 1.47 1.35L5.41 20z\"/>\n",
              "  </svg>\n",
              "      </button>\n",
              "      \n",
              "  <style>\n",
              "    .colab-df-container {\n",
              "      display:flex;\n",
              "      flex-wrap:wrap;\n",
              "      gap: 12px;\n",
              "    }\n",
              "\n",
              "    .colab-df-convert {\n",
              "      background-color: #E8F0FE;\n",
              "      border: none;\n",
              "      border-radius: 50%;\n",
              "      cursor: pointer;\n",
              "      display: none;\n",
              "      fill: #1967D2;\n",
              "      height: 32px;\n",
              "      padding: 0 0 0 0;\n",
              "      width: 32px;\n",
              "    }\n",
              "\n",
              "    .colab-df-convert:hover {\n",
              "      background-color: #E2EBFA;\n",
              "      box-shadow: 0px 1px 2px rgba(60, 64, 67, 0.3), 0px 1px 3px 1px rgba(60, 64, 67, 0.15);\n",
              "      fill: #174EA6;\n",
              "    }\n",
              "\n",
              "    [theme=dark] .colab-df-convert {\n",
              "      background-color: #3B4455;\n",
              "      fill: #D2E3FC;\n",
              "    }\n",
              "\n",
              "    [theme=dark] .colab-df-convert:hover {\n",
              "      background-color: #434B5C;\n",
              "      box-shadow: 0px 1px 3px 1px rgba(0, 0, 0, 0.15);\n",
              "      filter: drop-shadow(0px 1px 2px rgba(0, 0, 0, 0.3));\n",
              "      fill: #FFFFFF;\n",
              "    }\n",
              "  </style>\n",
              "\n",
              "      <script>\n",
              "        const buttonEl =\n",
              "          document.querySelector('#df-0f006857-5129-4503-aec1-121f1370eaca button.colab-df-convert');\n",
              "        buttonEl.style.display =\n",
              "          google.colab.kernel.accessAllowed ? 'block' : 'none';\n",
              "\n",
              "        async function convertToInteractive(key) {\n",
              "          const element = document.querySelector('#df-0f006857-5129-4503-aec1-121f1370eaca');\n",
              "          const dataTable =\n",
              "            await google.colab.kernel.invokeFunction('convertToInteractive',\n",
              "                                                     [key], {});\n",
              "          if (!dataTable) return;\n",
              "\n",
              "          const docLinkHtml = 'Like what you see? Visit the ' +\n",
              "            '<a target=\"_blank\" href=https://colab.research.google.com/notebooks/data_table.ipynb>data table notebook</a>'\n",
              "            + ' to learn more about interactive tables.';\n",
              "          element.innerHTML = '';\n",
              "          dataTable['output_type'] = 'display_data';\n",
              "          await google.colab.output.renderOutput(dataTable, element);\n",
              "          const docLink = document.createElement('div');\n",
              "          docLink.innerHTML = docLinkHtml;\n",
              "          element.appendChild(docLink);\n",
              "        }\n",
              "      </script>\n",
              "    </div>\n",
              "  </div>\n",
              "  "
            ],
            "text/plain": [
              "        year  TOPEX/Poseidon  Jason-1  Jason-2  Jason-3  max_level\n",
              "0  1992.9614          -13.07      NaN      NaN      NaN     -13.07\n",
              "1  1992.9864          -24.34      NaN      NaN      NaN     -24.34"
            ]
          },
          "metadata": {},
          "execution_count": 9
        }
      ]
    },
    {
      "cell_type": "code",
      "source": [
        "fname = \"https://www.star.nesdis.noaa.gov/socd/lsa/SeaLevelRise/slr/slr_sla_atl_free_txj1j2_90.csv\"\n",
        "atlantic = pd.read_csv(fname, skiprows=5)\n",
        "atlantic['max_level'] = atlantic[['TOPEX/Poseidon', 'Jason-1', 'Jason-2', 'Jason-3']].max(axis=1)\n",
        "atlantic.head(2)"
      ],
      "metadata": {
        "colab": {
          "base_uri": "https://localhost:8080/",
          "height": 112
        },
        "id": "u7qkjx983gnd",
        "outputId": "248668e5-d1eb-40c9-8723-b0df894b6228"
      },
      "execution_count": null,
      "outputs": [
        {
          "output_type": "execute_result",
          "data": {
            "text/html": [
              "\n",
              "  <div id=\"df-ba99c170-6ec0-4da6-9a10-4b22d77362bd\">\n",
              "    <div class=\"colab-df-container\">\n",
              "      <div>\n",
              "<style scoped>\n",
              "    .dataframe tbody tr th:only-of-type {\n",
              "        vertical-align: middle;\n",
              "    }\n",
              "\n",
              "    .dataframe tbody tr th {\n",
              "        vertical-align: top;\n",
              "    }\n",
              "\n",
              "    .dataframe thead th {\n",
              "        text-align: right;\n",
              "    }\n",
              "</style>\n",
              "<table border=\"1\" class=\"dataframe\">\n",
              "  <thead>\n",
              "    <tr style=\"text-align: right;\">\n",
              "      <th></th>\n",
              "      <th>year</th>\n",
              "      <th>TOPEX/Poseidon</th>\n",
              "      <th>Jason-1</th>\n",
              "      <th>Jason-2</th>\n",
              "      <th>Jason-3</th>\n",
              "      <th>max_level</th>\n",
              "    </tr>\n",
              "  </thead>\n",
              "  <tbody>\n",
              "    <tr>\n",
              "      <th>0</th>\n",
              "      <td>1992.9615</td>\n",
              "      <td>-24.92</td>\n",
              "      <td>NaN</td>\n",
              "      <td>NaN</td>\n",
              "      <td>NaN</td>\n",
              "      <td>-24.92</td>\n",
              "    </tr>\n",
              "    <tr>\n",
              "      <th>1</th>\n",
              "      <td>1992.9870</td>\n",
              "      <td>-17.25</td>\n",
              "      <td>NaN</td>\n",
              "      <td>NaN</td>\n",
              "      <td>NaN</td>\n",
              "      <td>-17.25</td>\n",
              "    </tr>\n",
              "  </tbody>\n",
              "</table>\n",
              "</div>\n",
              "      <button class=\"colab-df-convert\" onclick=\"convertToInteractive('df-ba99c170-6ec0-4da6-9a10-4b22d77362bd')\"\n",
              "              title=\"Convert this dataframe to an interactive table.\"\n",
              "              style=\"display:none;\">\n",
              "        \n",
              "  <svg xmlns=\"http://www.w3.org/2000/svg\" height=\"24px\"viewBox=\"0 0 24 24\"\n",
              "       width=\"24px\">\n",
              "    <path d=\"M0 0h24v24H0V0z\" fill=\"none\"/>\n",
              "    <path d=\"M18.56 5.44l.94 2.06.94-2.06 2.06-.94-2.06-.94-.94-2.06-.94 2.06-2.06.94zm-11 1L8.5 8.5l.94-2.06 2.06-.94-2.06-.94L8.5 2.5l-.94 2.06-2.06.94zm10 10l.94 2.06.94-2.06 2.06-.94-2.06-.94-.94-2.06-.94 2.06-2.06.94z\"/><path d=\"M17.41 7.96l-1.37-1.37c-.4-.4-.92-.59-1.43-.59-.52 0-1.04.2-1.43.59L10.3 9.45l-7.72 7.72c-.78.78-.78 2.05 0 2.83L4 21.41c.39.39.9.59 1.41.59.51 0 1.02-.2 1.41-.59l7.78-7.78 2.81-2.81c.8-.78.8-2.07 0-2.86zM5.41 20L4 18.59l7.72-7.72 1.47 1.35L5.41 20z\"/>\n",
              "  </svg>\n",
              "      </button>\n",
              "      \n",
              "  <style>\n",
              "    .colab-df-container {\n",
              "      display:flex;\n",
              "      flex-wrap:wrap;\n",
              "      gap: 12px;\n",
              "    }\n",
              "\n",
              "    .colab-df-convert {\n",
              "      background-color: #E8F0FE;\n",
              "      border: none;\n",
              "      border-radius: 50%;\n",
              "      cursor: pointer;\n",
              "      display: none;\n",
              "      fill: #1967D2;\n",
              "      height: 32px;\n",
              "      padding: 0 0 0 0;\n",
              "      width: 32px;\n",
              "    }\n",
              "\n",
              "    .colab-df-convert:hover {\n",
              "      background-color: #E2EBFA;\n",
              "      box-shadow: 0px 1px 2px rgba(60, 64, 67, 0.3), 0px 1px 3px 1px rgba(60, 64, 67, 0.15);\n",
              "      fill: #174EA6;\n",
              "    }\n",
              "\n",
              "    [theme=dark] .colab-df-convert {\n",
              "      background-color: #3B4455;\n",
              "      fill: #D2E3FC;\n",
              "    }\n",
              "\n",
              "    [theme=dark] .colab-df-convert:hover {\n",
              "      background-color: #434B5C;\n",
              "      box-shadow: 0px 1px 3px 1px rgba(0, 0, 0, 0.15);\n",
              "      filter: drop-shadow(0px 1px 2px rgba(0, 0, 0, 0.3));\n",
              "      fill: #FFFFFF;\n",
              "    }\n",
              "  </style>\n",
              "\n",
              "      <script>\n",
              "        const buttonEl =\n",
              "          document.querySelector('#df-ba99c170-6ec0-4da6-9a10-4b22d77362bd button.colab-df-convert');\n",
              "        buttonEl.style.display =\n",
              "          google.colab.kernel.accessAllowed ? 'block' : 'none';\n",
              "\n",
              "        async function convertToInteractive(key) {\n",
              "          const element = document.querySelector('#df-ba99c170-6ec0-4da6-9a10-4b22d77362bd');\n",
              "          const dataTable =\n",
              "            await google.colab.kernel.invokeFunction('convertToInteractive',\n",
              "                                                     [key], {});\n",
              "          if (!dataTable) return;\n",
              "\n",
              "          const docLinkHtml = 'Like what you see? Visit the ' +\n",
              "            '<a target=\"_blank\" href=https://colab.research.google.com/notebooks/data_table.ipynb>data table notebook</a>'\n",
              "            + ' to learn more about interactive tables.';\n",
              "          element.innerHTML = '';\n",
              "          dataTable['output_type'] = 'display_data';\n",
              "          await google.colab.output.renderOutput(dataTable, element);\n",
              "          const docLink = document.createElement('div');\n",
              "          docLink.innerHTML = docLinkHtml;\n",
              "          element.appendChild(docLink);\n",
              "        }\n",
              "      </script>\n",
              "    </div>\n",
              "  </div>\n",
              "  "
            ],
            "text/plain": [
              "        year  TOPEX/Poseidon  Jason-1  Jason-2  Jason-3  max_level\n",
              "0  1992.9615          -24.92      NaN      NaN      NaN     -24.92\n",
              "1  1992.9870          -17.25      NaN      NaN      NaN     -17.25"
            ]
          },
          "metadata": {},
          "execution_count": 10
        }
      ]
    },
    {
      "cell_type": "code",
      "source": [
        "fname = \"https://www.star.nesdis.noaa.gov/socd/lsa/SeaLevelRise/slr/slr_sla_ind_free_txj1j2_90.csv\"\n",
        "indian = pd.read_csv(fname, skiprows=5)\n",
        "indian['max_level'] = indian[['TOPEX/Poseidon', 'Jason-1', 'Jason-2', 'Jason-3']].max(axis=1)\n",
        "indian.head(2)"
      ],
      "metadata": {
        "colab": {
          "base_uri": "https://localhost:8080/",
          "height": 112
        },
        "id": "pgN8sxnf34QP",
        "outputId": "55aafa66-070c-459e-cbad-780eab8806e9"
      },
      "execution_count": null,
      "outputs": [
        {
          "output_type": "execute_result",
          "data": {
            "text/html": [
              "\n",
              "  <div id=\"df-38a68115-12af-42ad-82d5-f6c0d06f0c25\">\n",
              "    <div class=\"colab-df-container\">\n",
              "      <div>\n",
              "<style scoped>\n",
              "    .dataframe tbody tr th:only-of-type {\n",
              "        vertical-align: middle;\n",
              "    }\n",
              "\n",
              "    .dataframe tbody tr th {\n",
              "        vertical-align: top;\n",
              "    }\n",
              "\n",
              "    .dataframe thead th {\n",
              "        text-align: right;\n",
              "    }\n",
              "</style>\n",
              "<table border=\"1\" class=\"dataframe\">\n",
              "  <thead>\n",
              "    <tr style=\"text-align: right;\">\n",
              "      <th></th>\n",
              "      <th>year</th>\n",
              "      <th>TOPEX/Poseidon</th>\n",
              "      <th>Jason-1</th>\n",
              "      <th>Jason-2</th>\n",
              "      <th>Jason-3</th>\n",
              "      <th>max_level</th>\n",
              "    </tr>\n",
              "  </thead>\n",
              "  <tbody>\n",
              "    <tr>\n",
              "      <th>0</th>\n",
              "      <td>1992.9614</td>\n",
              "      <td>-28.56</td>\n",
              "      <td>NaN</td>\n",
              "      <td>NaN</td>\n",
              "      <td>NaN</td>\n",
              "      <td>-28.56</td>\n",
              "    </tr>\n",
              "    <tr>\n",
              "      <th>1</th>\n",
              "      <td>1992.9865</td>\n",
              "      <td>-12.37</td>\n",
              "      <td>NaN</td>\n",
              "      <td>NaN</td>\n",
              "      <td>NaN</td>\n",
              "      <td>-12.37</td>\n",
              "    </tr>\n",
              "  </tbody>\n",
              "</table>\n",
              "</div>\n",
              "      <button class=\"colab-df-convert\" onclick=\"convertToInteractive('df-38a68115-12af-42ad-82d5-f6c0d06f0c25')\"\n",
              "              title=\"Convert this dataframe to an interactive table.\"\n",
              "              style=\"display:none;\">\n",
              "        \n",
              "  <svg xmlns=\"http://www.w3.org/2000/svg\" height=\"24px\"viewBox=\"0 0 24 24\"\n",
              "       width=\"24px\">\n",
              "    <path d=\"M0 0h24v24H0V0z\" fill=\"none\"/>\n",
              "    <path d=\"M18.56 5.44l.94 2.06.94-2.06 2.06-.94-2.06-.94-.94-2.06-.94 2.06-2.06.94zm-11 1L8.5 8.5l.94-2.06 2.06-.94-2.06-.94L8.5 2.5l-.94 2.06-2.06.94zm10 10l.94 2.06.94-2.06 2.06-.94-2.06-.94-.94-2.06-.94 2.06-2.06.94z\"/><path d=\"M17.41 7.96l-1.37-1.37c-.4-.4-.92-.59-1.43-.59-.52 0-1.04.2-1.43.59L10.3 9.45l-7.72 7.72c-.78.78-.78 2.05 0 2.83L4 21.41c.39.39.9.59 1.41.59.51 0 1.02-.2 1.41-.59l7.78-7.78 2.81-2.81c.8-.78.8-2.07 0-2.86zM5.41 20L4 18.59l7.72-7.72 1.47 1.35L5.41 20z\"/>\n",
              "  </svg>\n",
              "      </button>\n",
              "      \n",
              "  <style>\n",
              "    .colab-df-container {\n",
              "      display:flex;\n",
              "      flex-wrap:wrap;\n",
              "      gap: 12px;\n",
              "    }\n",
              "\n",
              "    .colab-df-convert {\n",
              "      background-color: #E8F0FE;\n",
              "      border: none;\n",
              "      border-radius: 50%;\n",
              "      cursor: pointer;\n",
              "      display: none;\n",
              "      fill: #1967D2;\n",
              "      height: 32px;\n",
              "      padding: 0 0 0 0;\n",
              "      width: 32px;\n",
              "    }\n",
              "\n",
              "    .colab-df-convert:hover {\n",
              "      background-color: #E2EBFA;\n",
              "      box-shadow: 0px 1px 2px rgba(60, 64, 67, 0.3), 0px 1px 3px 1px rgba(60, 64, 67, 0.15);\n",
              "      fill: #174EA6;\n",
              "    }\n",
              "\n",
              "    [theme=dark] .colab-df-convert {\n",
              "      background-color: #3B4455;\n",
              "      fill: #D2E3FC;\n",
              "    }\n",
              "\n",
              "    [theme=dark] .colab-df-convert:hover {\n",
              "      background-color: #434B5C;\n",
              "      box-shadow: 0px 1px 3px 1px rgba(0, 0, 0, 0.15);\n",
              "      filter: drop-shadow(0px 1px 2px rgba(0, 0, 0, 0.3));\n",
              "      fill: #FFFFFF;\n",
              "    }\n",
              "  </style>\n",
              "\n",
              "      <script>\n",
              "        const buttonEl =\n",
              "          document.querySelector('#df-38a68115-12af-42ad-82d5-f6c0d06f0c25 button.colab-df-convert');\n",
              "        buttonEl.style.display =\n",
              "          google.colab.kernel.accessAllowed ? 'block' : 'none';\n",
              "\n",
              "        async function convertToInteractive(key) {\n",
              "          const element = document.querySelector('#df-38a68115-12af-42ad-82d5-f6c0d06f0c25');\n",
              "          const dataTable =\n",
              "            await google.colab.kernel.invokeFunction('convertToInteractive',\n",
              "                                                     [key], {});\n",
              "          if (!dataTable) return;\n",
              "\n",
              "          const docLinkHtml = 'Like what you see? Visit the ' +\n",
              "            '<a target=\"_blank\" href=https://colab.research.google.com/notebooks/data_table.ipynb>data table notebook</a>'\n",
              "            + ' to learn more about interactive tables.';\n",
              "          element.innerHTML = '';\n",
              "          dataTable['output_type'] = 'display_data';\n",
              "          await google.colab.output.renderOutput(dataTable, element);\n",
              "          const docLink = document.createElement('div');\n",
              "          docLink.innerHTML = docLinkHtml;\n",
              "          element.appendChild(docLink);\n",
              "        }\n",
              "      </script>\n",
              "    </div>\n",
              "  </div>\n",
              "  "
            ],
            "text/plain": [
              "        year  TOPEX/Poseidon  Jason-1  Jason-2  Jason-3  max_level\n",
              "0  1992.9614          -28.56      NaN      NaN      NaN     -28.56\n",
              "1  1992.9865          -12.37      NaN      NaN      NaN     -12.37"
            ]
          },
          "metadata": {},
          "execution_count": 11
        }
      ]
    },
    {
      "cell_type": "code",
      "source": [
        "fname = \"https://www.star.nesdis.noaa.gov/socd/lsa/SeaLevelRise/slr/slr_sla_so_keep_all.csv\"\n",
        "southern = pd.read_csv(fname, skiprows=5)\n",
        "southern['max_level'] = southern[['TOPEX/Poseidon', 'Jason-1', 'Jason-2', 'Jason-3']].max(axis=1)\n",
        "southern.head(2)"
      ],
      "metadata": {
        "colab": {
          "base_uri": "https://localhost:8080/",
          "height": 112
        },
        "id": "Hch70GOm4IWk",
        "outputId": "4212c02d-3765-4419-95b0-aa7e038ed3f5"
      },
      "execution_count": null,
      "outputs": [
        {
          "output_type": "execute_result",
          "data": {
            "text/html": [
              "\n",
              "  <div id=\"df-b6f84fbf-6ef5-4c17-a493-ef40c2c184ef\">\n",
              "    <div class=\"colab-df-container\">\n",
              "      <div>\n",
              "<style scoped>\n",
              "    .dataframe tbody tr th:only-of-type {\n",
              "        vertical-align: middle;\n",
              "    }\n",
              "\n",
              "    .dataframe tbody tr th {\n",
              "        vertical-align: top;\n",
              "    }\n",
              "\n",
              "    .dataframe thead th {\n",
              "        text-align: right;\n",
              "    }\n",
              "</style>\n",
              "<table border=\"1\" class=\"dataframe\">\n",
              "  <thead>\n",
              "    <tr style=\"text-align: right;\">\n",
              "      <th></th>\n",
              "      <th>year</th>\n",
              "      <th>TOPEX/Poseidon</th>\n",
              "      <th>Jason-1</th>\n",
              "      <th>Jason-2</th>\n",
              "      <th>Jason-3</th>\n",
              "      <th>max_level</th>\n",
              "    </tr>\n",
              "  </thead>\n",
              "  <tbody>\n",
              "    <tr>\n",
              "      <th>0</th>\n",
              "      <td>1992.9612</td>\n",
              "      <td>-24.49</td>\n",
              "      <td>NaN</td>\n",
              "      <td>NaN</td>\n",
              "      <td>NaN</td>\n",
              "      <td>-24.49</td>\n",
              "    </tr>\n",
              "    <tr>\n",
              "      <th>1</th>\n",
              "      <td>1992.9865</td>\n",
              "      <td>-16.79</td>\n",
              "      <td>NaN</td>\n",
              "      <td>NaN</td>\n",
              "      <td>NaN</td>\n",
              "      <td>-16.79</td>\n",
              "    </tr>\n",
              "  </tbody>\n",
              "</table>\n",
              "</div>\n",
              "      <button class=\"colab-df-convert\" onclick=\"convertToInteractive('df-b6f84fbf-6ef5-4c17-a493-ef40c2c184ef')\"\n",
              "              title=\"Convert this dataframe to an interactive table.\"\n",
              "              style=\"display:none;\">\n",
              "        \n",
              "  <svg xmlns=\"http://www.w3.org/2000/svg\" height=\"24px\"viewBox=\"0 0 24 24\"\n",
              "       width=\"24px\">\n",
              "    <path d=\"M0 0h24v24H0V0z\" fill=\"none\"/>\n",
              "    <path d=\"M18.56 5.44l.94 2.06.94-2.06 2.06-.94-2.06-.94-.94-2.06-.94 2.06-2.06.94zm-11 1L8.5 8.5l.94-2.06 2.06-.94-2.06-.94L8.5 2.5l-.94 2.06-2.06.94zm10 10l.94 2.06.94-2.06 2.06-.94-2.06-.94-.94-2.06-.94 2.06-2.06.94z\"/><path d=\"M17.41 7.96l-1.37-1.37c-.4-.4-.92-.59-1.43-.59-.52 0-1.04.2-1.43.59L10.3 9.45l-7.72 7.72c-.78.78-.78 2.05 0 2.83L4 21.41c.39.39.9.59 1.41.59.51 0 1.02-.2 1.41-.59l7.78-7.78 2.81-2.81c.8-.78.8-2.07 0-2.86zM5.41 20L4 18.59l7.72-7.72 1.47 1.35L5.41 20z\"/>\n",
              "  </svg>\n",
              "      </button>\n",
              "      \n",
              "  <style>\n",
              "    .colab-df-container {\n",
              "      display:flex;\n",
              "      flex-wrap:wrap;\n",
              "      gap: 12px;\n",
              "    }\n",
              "\n",
              "    .colab-df-convert {\n",
              "      background-color: #E8F0FE;\n",
              "      border: none;\n",
              "      border-radius: 50%;\n",
              "      cursor: pointer;\n",
              "      display: none;\n",
              "      fill: #1967D2;\n",
              "      height: 32px;\n",
              "      padding: 0 0 0 0;\n",
              "      width: 32px;\n",
              "    }\n",
              "\n",
              "    .colab-df-convert:hover {\n",
              "      background-color: #E2EBFA;\n",
              "      box-shadow: 0px 1px 2px rgba(60, 64, 67, 0.3), 0px 1px 3px 1px rgba(60, 64, 67, 0.15);\n",
              "      fill: #174EA6;\n",
              "    }\n",
              "\n",
              "    [theme=dark] .colab-df-convert {\n",
              "      background-color: #3B4455;\n",
              "      fill: #D2E3FC;\n",
              "    }\n",
              "\n",
              "    [theme=dark] .colab-df-convert:hover {\n",
              "      background-color: #434B5C;\n",
              "      box-shadow: 0px 1px 3px 1px rgba(0, 0, 0, 0.15);\n",
              "      filter: drop-shadow(0px 1px 2px rgba(0, 0, 0, 0.3));\n",
              "      fill: #FFFFFF;\n",
              "    }\n",
              "  </style>\n",
              "\n",
              "      <script>\n",
              "        const buttonEl =\n",
              "          document.querySelector('#df-b6f84fbf-6ef5-4c17-a493-ef40c2c184ef button.colab-df-convert');\n",
              "        buttonEl.style.display =\n",
              "          google.colab.kernel.accessAllowed ? 'block' : 'none';\n",
              "\n",
              "        async function convertToInteractive(key) {\n",
              "          const element = document.querySelector('#df-b6f84fbf-6ef5-4c17-a493-ef40c2c184ef');\n",
              "          const dataTable =\n",
              "            await google.colab.kernel.invokeFunction('convertToInteractive',\n",
              "                                                     [key], {});\n",
              "          if (!dataTable) return;\n",
              "\n",
              "          const docLinkHtml = 'Like what you see? Visit the ' +\n",
              "            '<a target=\"_blank\" href=https://colab.research.google.com/notebooks/data_table.ipynb>data table notebook</a>'\n",
              "            + ' to learn more about interactive tables.';\n",
              "          element.innerHTML = '';\n",
              "          dataTable['output_type'] = 'display_data';\n",
              "          await google.colab.output.renderOutput(dataTable, element);\n",
              "          const docLink = document.createElement('div');\n",
              "          docLink.innerHTML = docLinkHtml;\n",
              "          element.appendChild(docLink);\n",
              "        }\n",
              "      </script>\n",
              "    </div>\n",
              "  </div>\n",
              "  "
            ],
            "text/plain": [
              "        year  TOPEX/Poseidon  Jason-1  Jason-2  Jason-3  max_level\n",
              "0  1992.9612          -24.49      NaN      NaN      NaN     -24.49\n",
              "1  1992.9865          -16.79      NaN      NaN      NaN     -16.79"
            ]
          },
          "metadata": {},
          "execution_count": 12
        }
      ]
    },
    {
      "cell_type": "markdown",
      "metadata": {
        "id": "qgHSOu70h4K8"
      },
      "source": [
        "<b>Plot all of the max sea level data in a different color on the same plot using linewidth 0.2.  Plot the global line last in black using a linewidth of 0.5.  Add a legend to the plot by using the `label` keyword inside the `ax.plot()` function and the `ax.legend()` function.</b>"
      ]
    },
    {
      "cell_type": "code",
      "metadata": {
        "id": "eWWsRzwPh4UA",
        "colab": {
          "base_uri": "https://localhost:8080/",
          "height": 449
        },
        "outputId": "9b35903a-ece9-4859-e46b-276e7c1df6d6"
      },
      "source": [
        "fig, ax = plt.subplots(figsize=(15,7))\n",
        "pacific.plot(\"year\", \"max_level\", ax=ax, label=\"Pacific\", lw=0.2, color='blue', fontsize=14)\n",
        "atlantic.plot(\"year\", \"max_level\", ax=ax, label=\"Atlantic\", lw=0.2, color='green')\n",
        "indian.plot(\"year\", \"max_level\", ax=ax, label=\"Indian\", lw=0.2, color='purple')\n",
        "southern.plot(\"year\", \"max_level\", ax=ax, label=\"Southern\", lw=0.2, color='yellow')\n",
        "sea.plot(\"year\", \"max_level\", ax=ax, label=\"Global\", lw=0.5, color=\"black\")\n",
        "ax.grid(lw=.4)\n",
        "ax.set_xlabel(\"Year\", weight='bold', fontsize=12)\n",
        "ax.set_ylabel(\"Sea Level Rise Across Oceans [mm]\", weight='bold', fontsize=12)\n",
        "ax.legend(prop={'size': 20})\n",
        "ax.set_facecolor(\"grey\")\n"
      ],
      "execution_count": null,
      "outputs": [
        {
          "output_type": "display_data",
          "data": {
            "image/png": "[encoded data removed]",
            "text/plain": [
              "<Figure size 1080x504 with 1 Axes>"
            ]
          },
          "metadata": {
            "needs_background": "light"
          }
        }
      ]
    },
    {
      "cell_type": "markdown",
      "metadata": {
        "id": "heffq9Oih4dB"
      },
      "source": [
        "<b>Describe the plot above.  What can you conclude about the variability of sea level rise across the globe?</b>"
      ]
    },
    {
      "cell_type": "markdown",
      "metadata": {
        "id": "WN55tjDYRsoP"
      },
      "source": [
        "**Figure 2**: plots the sea level rise [mm] for the pacific ocean in blue; the atlantic ocean in green; the indian ocean in purple; the southern ocean in yellow; and the overall average global sea level rise in black as a function of Year. Across the worlds oceans, we see a clear linear trend for all oceans whereas the years pass -- so to does sea level increase. There is a good bit of variability however across the world's oceans in terms of sea level rise in [mm] over time. However, the average global sea level rise plotted in black shows us that once the average is taken -- the variability significantly decreases and the series becomes much more smoothed out from the ebbs and flows of the various individual ocean sea level rises [mm] plotted in figure 2. Nonetheless, even though we do see variability in figure 2 -- there is a clear linear trend for all the series plotted. What is interesting to note however about figure 2, is that the Southern ocean plotted in yellow relative to all other oceans appears to have the most variability in its series with the greatest spikes at points in time -- suggesting to us that the southern ocean where the antarctic is -- is being the ocean feeling the most immediate impacts of global warming and subsequent sea level rise taking place which makes sense given what we know about the melting ice sheets of the Antarctic region. "
      ]
    },
    {
      "cell_type": "markdown",
      "metadata": {
        "id": "bP-OXuRsiP2o"
      },
      "source": [
        "This data covers roughly 30 years of sea level changes, but there are data that go back further that are available from CSIRO (Commonwealth Scientific and Industrial Research Organization).  Descriptions of aggregated historical data from CSIRO can be found [here](https://research.csiro.au/slrwavescoast/sea-level/measurements-and-data/) and in the associated links.  The data we'll be using is available as a [CSV](https://datahub.io/core/sea-level-rise/r/epa-sea-level.csv) -- but please see the documentation and caveats associated with it in the README at the bottom of [this](https://datahub.io/core/sea-level-rise) page."
      ]
    },
    {
      "cell_type": "markdown",
      "metadata": {
        "id": "Of9sydSHti07"
      },
      "source": [
        "<b>Read in the CSIRO data from the link above labeled CSV into a DataFrame called `csiro` and take the <u>minimum</u> of the `\"CSIRO Adjusted Sea Level\"` and `\"NOAA Adjusted Sea Level\"` colmuns for each year and add those values to the `csiro` DataFrame as a column called `\"min_level\"`.</b>"
      ]
    },
    {
      "cell_type": "code",
      "metadata": {
        "id": "_Ax_oCTMmM29",
        "colab": {
          "base_uri": "https://localhost:8080/",
          "height": 424
        },
        "outputId": "39e2bc56-f979-4b29-c716-5cb8d5afe16f"
      },
      "source": [
        "fname = 'https://datahub.io/core/sea-level-rise/r/epa-sea-level.csv'\n",
        "csiro = pd.read_csv(fname)\n",
        "csiro['min_level'] = csiro[['CSIRO Adjusted Sea Level', 'NOAA Adjusted Sea Level']].min(axis=1)\n",
        "csiro"
      ],
      "execution_count": null,
      "outputs": [
        {
          "output_type": "execute_result",
          "data": {
            "text/html": [
              "\n",
              "  <div id=\"df-c8742591-59e2-49fa-9386-d30549e2bcd6\">\n",
              "    <div class=\"colab-df-container\">\n",
              "      <div>\n",
              "<style scoped>\n",
              "    .dataframe tbody tr th:only-of-type {\n",
              "        vertical-align: middle;\n",
              "    }\n",
              "\n",
              "    .dataframe tbody tr th {\n",
              "        vertical-align: top;\n",
              "    }\n",
              "\n",
              "    .dataframe thead th {\n",
              "        text-align: right;\n",
              "    }\n",
              "</style>\n",
              "<table border=\"1\" class=\"dataframe\">\n",
              "  <thead>\n",
              "    <tr style=\"text-align: right;\">\n",
              "      <th></th>\n",
              "      <th>Year</th>\n",
              "      <th>CSIRO Adjusted Sea Level</th>\n",
              "      <th>Lower Error Bound</th>\n",
              "      <th>Upper Error Bound</th>\n",
              "      <th>NOAA Adjusted Sea Level</th>\n",
              "      <th>min_level</th>\n",
              "    </tr>\n",
              "  </thead>\n",
              "  <tbody>\n",
              "    <tr>\n",
              "      <th>0</th>\n",
              "      <td>1880-03-15</td>\n",
              "      <td>0.000000</td>\n",
              "      <td>-0.952756</td>\n",
              "      <td>0.952756</td>\n",
              "      <td>NaN</td>\n",
              "      <td>0.000000</td>\n",
              "    </tr>\n",
              "    <tr>\n",
              "      <th>1</th>\n",
              "      <td>1881-03-15</td>\n",
              "      <td>0.220472</td>\n",
              "      <td>-0.732283</td>\n",
              "      <td>1.173228</td>\n",
              "      <td>NaN</td>\n",
              "      <td>0.220472</td>\n",
              "    </tr>\n",
              "    <tr>\n",
              "      <th>2</th>\n",
              "      <td>1882-03-15</td>\n",
              "      <td>-0.440945</td>\n",
              "      <td>-1.346457</td>\n",
              "      <td>0.464567</td>\n",
              "      <td>NaN</td>\n",
              "      <td>-0.440945</td>\n",
              "    </tr>\n",
              "    <tr>\n",
              "      <th>3</th>\n",
              "      <td>1883-03-15</td>\n",
              "      <td>-0.232283</td>\n",
              "      <td>-1.129921</td>\n",
              "      <td>0.665354</td>\n",
              "      <td>NaN</td>\n",
              "      <td>-0.232283</td>\n",
              "    </tr>\n",
              "    <tr>\n",
              "      <th>4</th>\n",
              "      <td>1884-03-15</td>\n",
              "      <td>0.590551</td>\n",
              "      <td>-0.283465</td>\n",
              "      <td>1.464567</td>\n",
              "      <td>NaN</td>\n",
              "      <td>0.590551</td>\n",
              "    </tr>\n",
              "    <tr>\n",
              "      <th>...</th>\n",
              "      <td>...</td>\n",
              "      <td>...</td>\n",
              "      <td>...</td>\n",
              "      <td>...</td>\n",
              "      <td>...</td>\n",
              "      <td>...</td>\n",
              "    </tr>\n",
              "    <tr>\n",
              "      <th>130</th>\n",
              "      <td>2010-03-15</td>\n",
              "      <td>8.901575</td>\n",
              "      <td>8.618110</td>\n",
              "      <td>9.185039</td>\n",
              "      <td>8.122973</td>\n",
              "      <td>8.122973</td>\n",
              "    </tr>\n",
              "    <tr>\n",
              "      <th>131</th>\n",
              "      <td>2011-03-15</td>\n",
              "      <td>8.964567</td>\n",
              "      <td>8.661417</td>\n",
              "      <td>9.267717</td>\n",
              "      <td>8.053065</td>\n",
              "      <td>8.053065</td>\n",
              "    </tr>\n",
              "    <tr>\n",
              "      <th>132</th>\n",
              "      <td>2012-03-15</td>\n",
              "      <td>9.326772</td>\n",
              "      <td>8.992126</td>\n",
              "      <td>9.661417</td>\n",
              "      <td>8.457058</td>\n",
              "      <td>8.457058</td>\n",
              "    </tr>\n",
              "    <tr>\n",
              "      <th>133</th>\n",
              "      <td>2013-03-15</td>\n",
              "      <td>8.980315</td>\n",
              "      <td>8.622047</td>\n",
              "      <td>9.338583</td>\n",
              "      <td>8.546648</td>\n",
              "      <td>8.546648</td>\n",
              "    </tr>\n",
              "    <tr>\n",
              "      <th>134</th>\n",
              "      <td>2014-03-15</td>\n",
              "      <td>NaN</td>\n",
              "      <td>NaN</td>\n",
              "      <td>NaN</td>\n",
              "      <td>8.663700</td>\n",
              "      <td>8.663700</td>\n",
              "    </tr>\n",
              "  </tbody>\n",
              "</table>\n",
              "<p>135 rows × 6 columns</p>\n",
              "</div>\n",
              "      <button class=\"colab-df-convert\" onclick=\"convertToInteractive('df-c8742591-59e2-49fa-9386-d30549e2bcd6')\"\n",
              "              title=\"Convert this dataframe to an interactive table.\"\n",
              "              style=\"display:none;\">\n",
              "        \n",
              "  <svg xmlns=\"http://www.w3.org/2000/svg\" height=\"24px\"viewBox=\"0 0 24 24\"\n",
              "       width=\"24px\">\n",
              "    <path d=\"M0 0h24v24H0V0z\" fill=\"none\"/>\n",
              "    <path d=\"M18.56 5.44l.94 2.06.94-2.06 2.06-.94-2.06-.94-.94-2.06-.94 2.06-2.06.94zm-11 1L8.5 8.5l.94-2.06 2.06-.94-2.06-.94L8.5 2.5l-.94 2.06-2.06.94zm10 10l.94 2.06.94-2.06 2.06-.94-2.06-.94-.94-2.06-.94 2.06-2.06.94z\"/><path d=\"M17.41 7.96l-1.37-1.37c-.4-.4-.92-.59-1.43-.59-.52 0-1.04.2-1.43.59L10.3 9.45l-7.72 7.72c-.78.78-.78 2.05 0 2.83L4 21.41c.39.39.9.59 1.41.59.51 0 1.02-.2 1.41-.59l7.78-7.78 2.81-2.81c.8-.78.8-2.07 0-2.86zM5.41 20L4 18.59l7.72-7.72 1.47 1.35L5.41 20z\"/>\n",
              "  </svg>\n",
              "      </button>\n",
              "      \n",
              "  <style>\n",
              "    .colab-df-container {\n",
              "      display:flex;\n",
              "      flex-wrap:wrap;\n",
              "      gap: 12px;\n",
              "    }\n",
              "\n",
              "    .colab-df-convert {\n",
              "      background-color: #E8F0FE;\n",
              "      border: none;\n",
              "      border-radius: 50%;\n",
              "      cursor: pointer;\n",
              "      display: none;\n",
              "      fill: #1967D2;\n",
              "      height: 32px;\n",
              "      padding: 0 0 0 0;\n",
              "      width: 32px;\n",
              "    }\n",
              "\n",
              "    .colab-df-convert:hover {\n",
              "      background-color: #E2EBFA;\n",
              "      box-shadow: 0px 1px 2px rgba(60, 64, 67, 0.3), 0px 1px 3px 1px rgba(60, 64, 67, 0.15);\n",
              "      fill: #174EA6;\n",
              "    }\n",
              "\n",
              "    [theme=dark] .colab-df-convert {\n",
              "      background-color: #3B4455;\n",
              "      fill: #D2E3FC;\n",
              "    }\n",
              "\n",
              "    [theme=dark] .colab-df-convert:hover {\n",
              "      background-color: #434B5C;\n",
              "      box-shadow: 0px 1px 3px 1px rgba(0, 0, 0, 0.15);\n",
              "      filter: drop-shadow(0px 1px 2px rgba(0, 0, 0, 0.3));\n",
              "      fill: #FFFFFF;\n",
              "    }\n",
              "  </style>\n",
              "\n",
              "      <script>\n",
              "        const buttonEl =\n",
              "          document.querySelector('#df-c8742591-59e2-49fa-9386-d30549e2bcd6 button.colab-df-convert');\n",
              "        buttonEl.style.display =\n",
              "          google.colab.kernel.accessAllowed ? 'block' : 'none';\n",
              "\n",
              "        async function convertToInteractive(key) {\n",
              "          const element = document.querySelector('#df-c8742591-59e2-49fa-9386-d30549e2bcd6');\n",
              "          const dataTable =\n",
              "            await google.colab.kernel.invokeFunction('convertToInteractive',\n",
              "                                                     [key], {});\n",
              "          if (!dataTable) return;\n",
              "\n",
              "          const docLinkHtml = 'Like what you see? Visit the ' +\n",
              "            '<a target=\"_blank\" href=https://colab.research.google.com/notebooks/data_table.ipynb>data table notebook</a>'\n",
              "            + ' to learn more about interactive tables.';\n",
              "          element.innerHTML = '';\n",
              "          dataTable['output_type'] = 'display_data';\n",
              "          await google.colab.output.renderOutput(dataTable, element);\n",
              "          const docLink = document.createElement('div');\n",
              "          docLink.innerHTML = docLinkHtml;\n",
              "          element.appendChild(docLink);\n",
              "        }\n",
              "      </script>\n",
              "    </div>\n",
              "  </div>\n",
              "  "
            ],
            "text/plain": [
              "           Year  CSIRO Adjusted Sea Level  ...  NOAA Adjusted Sea Level  min_level\n",
              "0    1880-03-15                  0.000000  ...                      NaN   0.000000\n",
              "1    1881-03-15                  0.220472  ...                      NaN   0.220472\n",
              "2    1882-03-15                 -0.440945  ...                      NaN  -0.440945\n",
              "3    1883-03-15                 -0.232283  ...                      NaN  -0.232283\n",
              "4    1884-03-15                  0.590551  ...                      NaN   0.590551\n",
              "..          ...                       ...  ...                      ...        ...\n",
              "130  2010-03-15                  8.901575  ...                 8.122973   8.122973\n",
              "131  2011-03-15                  8.964567  ...                 8.053065   8.053065\n",
              "132  2012-03-15                  9.326772  ...                 8.457058   8.457058\n",
              "133  2013-03-15                  8.980315  ...                 8.546648   8.546648\n",
              "134  2014-03-15                       NaN  ...                 8.663700   8.663700\n",
              "\n",
              "[135 rows x 6 columns]"
            ]
          },
          "metadata": {},
          "execution_count": 14
        }
      ]
    },
    {
      "cell_type": "markdown",
      "metadata": {
        "id": "W7j4qbXsv_ub"
      },
      "source": [
        "Note that the year 2000 is in the 120th element of the CSIRO data and that the data is in inches, not millimeters.\n",
        "\n",
        "<b>To get it in the same units as the NOAA data above, subtract off the value of `min_level` at the 120th element from `min_level`, then multiply the result by `2.54 * 10` (the inches to millimeters conversion), and put the result into a new column called `\"adjusted_min_level\"`.</b>"
      ]
    },
    {
      "cell_type": "code",
      "source": [
        "csiro['adjusted_min_level'] = (csiro['min_level'] - csiro['min_level'].iloc[120]) * (2.54 * 10)\n",
        "csiro\n"
      ],
      "metadata": {
        "colab": {
          "base_uri": "https://localhost:8080/",
          "height": 424
        },
        "id": "nEDSg0fGdaHw",
        "outputId": "85093c73-da14-4347-dc4d-19aab1d9d7e7"
      },
      "execution_count": null,
      "outputs": [
        {
          "output_type": "execute_result",
          "data": {
            "text/html": [
              "\n",
              "  <div id=\"df-34514530-f5b1-4aa7-9374-7035c85aae7d\">\n",
              "    <div class=\"colab-df-container\">\n",
              "      <div>\n",
              "<style scoped>\n",
              "    .dataframe tbody tr th:only-of-type {\n",
              "        vertical-align: middle;\n",
              "    }\n",
              "\n",
              "    .dataframe tbody tr th {\n",
              "        vertical-align: top;\n",
              "    }\n",
              "\n",
              "    .dataframe thead th {\n",
              "        text-align: right;\n",
              "    }\n",
              "</style>\n",
              "<table border=\"1\" class=\"dataframe\">\n",
              "  <thead>\n",
              "    <tr style=\"text-align: right;\">\n",
              "      <th></th>\n",
              "      <th>Year</th>\n",
              "      <th>CSIRO Adjusted Sea Level</th>\n",
              "      <th>Lower Error Bound</th>\n",
              "      <th>Upper Error Bound</th>\n",
              "      <th>NOAA Adjusted Sea Level</th>\n",
              "      <th>min_level</th>\n",
              "      <th>adjusted_min_level</th>\n",
              "    </tr>\n",
              "  </thead>\n",
              "  <tbody>\n",
              "    <tr>\n",
              "      <th>0</th>\n",
              "      <td>1880-03-15</td>\n",
              "      <td>0.000000</td>\n",
              "      <td>-0.952756</td>\n",
              "      <td>0.952756</td>\n",
              "      <td>NaN</td>\n",
              "      <td>0.000000</td>\n",
              "      <td>-175.782783</td>\n",
              "    </tr>\n",
              "    <tr>\n",
              "      <th>1</th>\n",
              "      <td>1881-03-15</td>\n",
              "      <td>0.220472</td>\n",
              "      <td>-0.732283</td>\n",
              "      <td>1.173228</td>\n",
              "      <td>NaN</td>\n",
              "      <td>0.220472</td>\n",
              "      <td>-170.182783</td>\n",
              "    </tr>\n",
              "    <tr>\n",
              "      <th>2</th>\n",
              "      <td>1882-03-15</td>\n",
              "      <td>-0.440945</td>\n",
              "      <td>-1.346457</td>\n",
              "      <td>0.464567</td>\n",
              "      <td>NaN</td>\n",
              "      <td>-0.440945</td>\n",
              "      <td>-186.982783</td>\n",
              "    </tr>\n",
              "    <tr>\n",
              "      <th>3</th>\n",
              "      <td>1883-03-15</td>\n",
              "      <td>-0.232283</td>\n",
              "      <td>-1.129921</td>\n",
              "      <td>0.665354</td>\n",
              "      <td>NaN</td>\n",
              "      <td>-0.232283</td>\n",
              "      <td>-181.682783</td>\n",
              "    </tr>\n",
              "    <tr>\n",
              "      <th>4</th>\n",
              "      <td>1884-03-15</td>\n",
              "      <td>0.590551</td>\n",
              "      <td>-0.283465</td>\n",
              "      <td>1.464567</td>\n",
              "      <td>NaN</td>\n",
              "      <td>0.590551</td>\n",
              "      <td>-160.782783</td>\n",
              "    </tr>\n",
              "    <tr>\n",
              "      <th>...</th>\n",
              "      <td>...</td>\n",
              "      <td>...</td>\n",
              "      <td>...</td>\n",
              "      <td>...</td>\n",
              "      <td>...</td>\n",
              "      <td>...</td>\n",
              "      <td>...</td>\n",
              "    </tr>\n",
              "    <tr>\n",
              "      <th>130</th>\n",
              "      <td>2010-03-15</td>\n",
              "      <td>8.901575</td>\n",
              "      <td>8.618110</td>\n",
              "      <td>9.185039</td>\n",
              "      <td>8.122973</td>\n",
              "      <td>8.122973</td>\n",
              "      <td>30.540720</td>\n",
              "    </tr>\n",
              "    <tr>\n",
              "      <th>131</th>\n",
              "      <td>2011-03-15</td>\n",
              "      <td>8.964567</td>\n",
              "      <td>8.661417</td>\n",
              "      <td>9.267717</td>\n",
              "      <td>8.053065</td>\n",
              "      <td>8.053065</td>\n",
              "      <td>28.765068</td>\n",
              "    </tr>\n",
              "    <tr>\n",
              "      <th>132</th>\n",
              "      <td>2012-03-15</td>\n",
              "      <td>9.326772</td>\n",
              "      <td>8.992126</td>\n",
              "      <td>9.661417</td>\n",
              "      <td>8.457058</td>\n",
              "      <td>8.457058</td>\n",
              "      <td>39.026481</td>\n",
              "    </tr>\n",
              "    <tr>\n",
              "      <th>133</th>\n",
              "      <td>2013-03-15</td>\n",
              "      <td>8.980315</td>\n",
              "      <td>8.622047</td>\n",
              "      <td>9.338583</td>\n",
              "      <td>8.546648</td>\n",
              "      <td>8.546648</td>\n",
              "      <td>41.302082</td>\n",
              "    </tr>\n",
              "    <tr>\n",
              "      <th>134</th>\n",
              "      <td>2014-03-15</td>\n",
              "      <td>NaN</td>\n",
              "      <td>NaN</td>\n",
              "      <td>NaN</td>\n",
              "      <td>8.663700</td>\n",
              "      <td>8.663700</td>\n",
              "      <td>44.275207</td>\n",
              "    </tr>\n",
              "  </tbody>\n",
              "</table>\n",
              "<p>135 rows × 7 columns</p>\n",
              "</div>\n",
              "      <button class=\"colab-df-convert\" onclick=\"convertToInteractive('df-34514530-f5b1-4aa7-9374-7035c85aae7d')\"\n",
              "              title=\"Convert this dataframe to an interactive table.\"\n",
              "              style=\"display:none;\">\n",
              "        \n",
              "  <svg xmlns=\"http://www.w3.org/2000/svg\" height=\"24px\"viewBox=\"0 0 24 24\"\n",
              "       width=\"24px\">\n",
              "    <path d=\"M0 0h24v24H0V0z\" fill=\"none\"/>\n",
              "    <path d=\"M18.56 5.44l.94 2.06.94-2.06 2.06-.94-2.06-.94-.94-2.06-.94 2.06-2.06.94zm-11 1L8.5 8.5l.94-2.06 2.06-.94-2.06-.94L8.5 2.5l-.94 2.06-2.06.94zm10 10l.94 2.06.94-2.06 2.06-.94-2.06-.94-.94-2.06-.94 2.06-2.06.94z\"/><path d=\"M17.41 7.96l-1.37-1.37c-.4-.4-.92-.59-1.43-.59-.52 0-1.04.2-1.43.59L10.3 9.45l-7.72 7.72c-.78.78-.78 2.05 0 2.83L4 21.41c.39.39.9.59 1.41.59.51 0 1.02-.2 1.41-.59l7.78-7.78 2.81-2.81c.8-.78.8-2.07 0-2.86zM5.41 20L4 18.59l7.72-7.72 1.47 1.35L5.41 20z\"/>\n",
              "  </svg>\n",
              "      </button>\n",
              "      \n",
              "  <style>\n",
              "    .colab-df-container {\n",
              "      display:flex;\n",
              "      flex-wrap:wrap;\n",
              "      gap: 12px;\n",
              "    }\n",
              "\n",
              "    .colab-df-convert {\n",
              "      background-color: #E8F0FE;\n",
              "      border: none;\n",
              "      border-radius: 50%;\n",
              "      cursor: pointer;\n",
              "      display: none;\n",
              "      fill: #1967D2;\n",
              "      height: 32px;\n",
              "      padding: 0 0 0 0;\n",
              "      width: 32px;\n",
              "    }\n",
              "\n",
              "    .colab-df-convert:hover {\n",
              "      background-color: #E2EBFA;\n",
              "      box-shadow: 0px 1px 2px rgba(60, 64, 67, 0.3), 0px 1px 3px 1px rgba(60, 64, 67, 0.15);\n",
              "      fill: #174EA6;\n",
              "    }\n",
              "\n",
              "    [theme=dark] .colab-df-convert {\n",
              "      background-color: #3B4455;\n",
              "      fill: #D2E3FC;\n",
              "    }\n",
              "\n",
              "    [theme=dark] .colab-df-convert:hover {\n",
              "      background-color: #434B5C;\n",
              "      box-shadow: 0px 1px 3px 1px rgba(0, 0, 0, 0.15);\n",
              "      filter: drop-shadow(0px 1px 2px rgba(0, 0, 0, 0.3));\n",
              "      fill: #FFFFFF;\n",
              "    }\n",
              "  </style>\n",
              "\n",
              "      <script>\n",
              "        const buttonEl =\n",
              "          document.querySelector('#df-34514530-f5b1-4aa7-9374-7035c85aae7d button.colab-df-convert');\n",
              "        buttonEl.style.display =\n",
              "          google.colab.kernel.accessAllowed ? 'block' : 'none';\n",
              "\n",
              "        async function convertToInteractive(key) {\n",
              "          const element = document.querySelector('#df-34514530-f5b1-4aa7-9374-7035c85aae7d');\n",
              "          const dataTable =\n",
              "            await google.colab.kernel.invokeFunction('convertToInteractive',\n",
              "                                                     [key], {});\n",
              "          if (!dataTable) return;\n",
              "\n",
              "          const docLinkHtml = 'Like what you see? Visit the ' +\n",
              "            '<a target=\"_blank\" href=https://colab.research.google.com/notebooks/data_table.ipynb>data table notebook</a>'\n",
              "            + ' to learn more about interactive tables.';\n",
              "          element.innerHTML = '';\n",
              "          dataTable['output_type'] = 'display_data';\n",
              "          await google.colab.output.renderOutput(dataTable, element);\n",
              "          const docLink = document.createElement('div');\n",
              "          docLink.innerHTML = docLinkHtml;\n",
              "          element.appendChild(docLink);\n",
              "        }\n",
              "      </script>\n",
              "    </div>\n",
              "  </div>\n",
              "  "
            ],
            "text/plain": [
              "           Year  CSIRO Adjusted Sea Level  ...  min_level  adjusted_min_level\n",
              "0    1880-03-15                  0.000000  ...   0.000000         -175.782783\n",
              "1    1881-03-15                  0.220472  ...   0.220472         -170.182783\n",
              "2    1882-03-15                 -0.440945  ...  -0.440945         -186.982783\n",
              "3    1883-03-15                 -0.232283  ...  -0.232283         -181.682783\n",
              "4    1884-03-15                  0.590551  ...   0.590551         -160.782783\n",
              "..          ...                       ...  ...        ...                 ...\n",
              "130  2010-03-15                  8.901575  ...   8.122973           30.540720\n",
              "131  2011-03-15                  8.964567  ...   8.053065           28.765068\n",
              "132  2012-03-15                  9.326772  ...   8.457058           39.026481\n",
              "133  2013-03-15                  8.980315  ...   8.546648           41.302082\n",
              "134  2014-03-15                       NaN  ...   8.663700           44.275207\n",
              "\n",
              "[135 rows x 7 columns]"
            ]
          },
          "metadata": {},
          "execution_count": 15
        }
      ]
    },
    {
      "cell_type": "markdown",
      "metadata": {
        "id": "PDi4tcVHSC1v"
      },
      "source": [
        "Run the cell below to create a column called \"year_int\" that is the CSIRO year so that we don't have to worry about the months and dates from now on."
      ]
    },
    {
      "cell_type": "code",
      "metadata": {
        "id": "Ozu40AMKxUe4",
        "colab": {
          "base_uri": "https://localhost:8080/",
          "height": 424
        },
        "outputId": "0d610de6-3824-490a-8c90-f21b91e80846"
      },
      "source": [
        "csiro[\"year_int\"] = [int(i[:4]) for i in csiro[\"Year\"]]\n",
        "csiro"
      ],
      "execution_count": null,
      "outputs": [
        {
          "output_type": "execute_result",
          "data": {
            "text/html": [
              "\n",
              "  <div id=\"df-f35b4720-cd4c-48c7-bd8f-8dfefbbb3fbb\">\n",
              "    <div class=\"colab-df-container\">\n",
              "      <div>\n",
              "<style scoped>\n",
              "    .dataframe tbody tr th:only-of-type {\n",
              "        vertical-align: middle;\n",
              "    }\n",
              "\n",
              "    .dataframe tbody tr th {\n",
              "        vertical-align: top;\n",
              "    }\n",
              "\n",
              "    .dataframe thead th {\n",
              "        text-align: right;\n",
              "    }\n",
              "</style>\n",
              "<table border=\"1\" class=\"dataframe\">\n",
              "  <thead>\n",
              "    <tr style=\"text-align: right;\">\n",
              "      <th></th>\n",
              "      <th>Year</th>\n",
              "      <th>CSIRO Adjusted Sea Level</th>\n",
              "      <th>Lower Error Bound</th>\n",
              "      <th>Upper Error Bound</th>\n",
              "      <th>NOAA Adjusted Sea Level</th>\n",
              "      <th>min_level</th>\n",
              "      <th>adjusted_min_level</th>\n",
              "      <th>year_int</th>\n",
              "    </tr>\n",
              "  </thead>\n",
              "  <tbody>\n",
              "    <tr>\n",
              "      <th>0</th>\n",
              "      <td>1880-03-15</td>\n",
              "      <td>0.000000</td>\n",
              "      <td>-0.952756</td>\n",
              "      <td>0.952756</td>\n",
              "      <td>NaN</td>\n",
              "      <td>0.000000</td>\n",
              "      <td>-175.782783</td>\n",
              "      <td>1880</td>\n",
              "    </tr>\n",
              "    <tr>\n",
              "      <th>1</th>\n",
              "      <td>1881-03-15</td>\n",
              "      <td>0.220472</td>\n",
              "      <td>-0.732283</td>\n",
              "      <td>1.173228</td>\n",
              "      <td>NaN</td>\n",
              "      <td>0.220472</td>\n",
              "      <td>-170.182783</td>\n",
              "      <td>1881</td>\n",
              "    </tr>\n",
              "    <tr>\n",
              "      <th>2</th>\n",
              "      <td>1882-03-15</td>\n",
              "      <td>-0.440945</td>\n",
              "      <td>-1.346457</td>\n",
              "      <td>0.464567</td>\n",
              "      <td>NaN</td>\n",
              "      <td>-0.440945</td>\n",
              "      <td>-186.982783</td>\n",
              "      <td>1882</td>\n",
              "    </tr>\n",
              "    <tr>\n",
              "      <th>3</th>\n",
              "      <td>1883-03-15</td>\n",
              "      <td>-0.232283</td>\n",
              "      <td>-1.129921</td>\n",
              "      <td>0.665354</td>\n",
              "      <td>NaN</td>\n",
              "      <td>-0.232283</td>\n",
              "      <td>-181.682783</td>\n",
              "      <td>1883</td>\n",
              "    </tr>\n",
              "    <tr>\n",
              "      <th>4</th>\n",
              "      <td>1884-03-15</td>\n",
              "      <td>0.590551</td>\n",
              "      <td>-0.283465</td>\n",
              "      <td>1.464567</td>\n",
              "      <td>NaN</td>\n",
              "      <td>0.590551</td>\n",
              "      <td>-160.782783</td>\n",
              "      <td>1884</td>\n",
              "    </tr>\n",
              "    <tr>\n",
              "      <th>...</th>\n",
              "      <td>...</td>\n",
              "      <td>...</td>\n",
              "      <td>...</td>\n",
              "      <td>...</td>\n",
              "      <td>...</td>\n",
              "      <td>...</td>\n",
              "      <td>...</td>\n",
              "      <td>...</td>\n",
              "    </tr>\n",
              "    <tr>\n",
              "      <th>130</th>\n",
              "      <td>2010-03-15</td>\n",
              "      <td>8.901575</td>\n",
              "      <td>8.618110</td>\n",
              "      <td>9.185039</td>\n",
              "      <td>8.122973</td>\n",
              "      <td>8.122973</td>\n",
              "      <td>30.540720</td>\n",
              "      <td>2010</td>\n",
              "    </tr>\n",
              "    <tr>\n",
              "      <th>131</th>\n",
              "      <td>2011-03-15</td>\n",
              "      <td>8.964567</td>\n",
              "      <td>8.661417</td>\n",
              "      <td>9.267717</td>\n",
              "      <td>8.053065</td>\n",
              "      <td>8.053065</td>\n",
              "      <td>28.765068</td>\n",
              "      <td>2011</td>\n",
              "    </tr>\n",
              "    <tr>\n",
              "      <th>132</th>\n",
              "      <td>2012-03-15</td>\n",
              "      <td>9.326772</td>\n",
              "      <td>8.992126</td>\n",
              "      <td>9.661417</td>\n",
              "      <td>8.457058</td>\n",
              "      <td>8.457058</td>\n",
              "      <td>39.026481</td>\n",
              "      <td>2012</td>\n",
              "    </tr>\n",
              "    <tr>\n",
              "      <th>133</th>\n",
              "      <td>2013-03-15</td>\n",
              "      <td>8.980315</td>\n",
              "      <td>8.622047</td>\n",
              "      <td>9.338583</td>\n",
              "      <td>8.546648</td>\n",
              "      <td>8.546648</td>\n",
              "      <td>41.302082</td>\n",
              "      <td>2013</td>\n",
              "    </tr>\n",
              "    <tr>\n",
              "      <th>134</th>\n",
              "      <td>2014-03-15</td>\n",
              "      <td>NaN</td>\n",
              "      <td>NaN</td>\n",
              "      <td>NaN</td>\n",
              "      <td>8.663700</td>\n",
              "      <td>8.663700</td>\n",
              "      <td>44.275207</td>\n",
              "      <td>2014</td>\n",
              "    </tr>\n",
              "  </tbody>\n",
              "</table>\n",
              "<p>135 rows × 8 columns</p>\n",
              "</div>\n",
              "      <button class=\"colab-df-convert\" onclick=\"convertToInteractive('df-f35b4720-cd4c-48c7-bd8f-8dfefbbb3fbb')\"\n",
              "              title=\"Convert this dataframe to an interactive table.\"\n",
              "              style=\"display:none;\">\n",
              "        \n",
              "  <svg xmlns=\"http://www.w3.org/2000/svg\" height=\"24px\"viewBox=\"0 0 24 24\"\n",
              "       width=\"24px\">\n",
              "    <path d=\"M0 0h24v24H0V0z\" fill=\"none\"/>\n",
              "    <path d=\"M18.56 5.44l.94 2.06.94-2.06 2.06-.94-2.06-.94-.94-2.06-.94 2.06-2.06.94zm-11 1L8.5 8.5l.94-2.06 2.06-.94-2.06-.94L8.5 2.5l-.94 2.06-2.06.94zm10 10l.94 2.06.94-2.06 2.06-.94-2.06-.94-.94-2.06-.94 2.06-2.06.94z\"/><path d=\"M17.41 7.96l-1.37-1.37c-.4-.4-.92-.59-1.43-.59-.52 0-1.04.2-1.43.59L10.3 9.45l-7.72 7.72c-.78.78-.78 2.05 0 2.83L4 21.41c.39.39.9.59 1.41.59.51 0 1.02-.2 1.41-.59l7.78-7.78 2.81-2.81c.8-.78.8-2.07 0-2.86zM5.41 20L4 18.59l7.72-7.72 1.47 1.35L5.41 20z\"/>\n",
              "  </svg>\n",
              "      </button>\n",
              "      \n",
              "  <style>\n",
              "    .colab-df-container {\n",
              "      display:flex;\n",
              "      flex-wrap:wrap;\n",
              "      gap: 12px;\n",
              "    }\n",
              "\n",
              "    .colab-df-convert {\n",
              "      background-color: #E8F0FE;\n",
              "      border: none;\n",
              "      border-radius: 50%;\n",
              "      cursor: pointer;\n",
              "      display: none;\n",
              "      fill: #1967D2;\n",
              "      height: 32px;\n",
              "      padding: 0 0 0 0;\n",
              "      width: 32px;\n",
              "    }\n",
              "\n",
              "    .colab-df-convert:hover {\n",
              "      background-color: #E2EBFA;\n",
              "      box-shadow: 0px 1px 2px rgba(60, 64, 67, 0.3), 0px 1px 3px 1px rgba(60, 64, 67, 0.15);\n",
              "      fill: #174EA6;\n",
              "    }\n",
              "\n",
              "    [theme=dark] .colab-df-convert {\n",
              "      background-color: #3B4455;\n",
              "      fill: #D2E3FC;\n",
              "    }\n",
              "\n",
              "    [theme=dark] .colab-df-convert:hover {\n",
              "      background-color: #434B5C;\n",
              "      box-shadow: 0px 1px 3px 1px rgba(0, 0, 0, 0.15);\n",
              "      filter: drop-shadow(0px 1px 2px rgba(0, 0, 0, 0.3));\n",
              "      fill: #FFFFFF;\n",
              "    }\n",
              "  </style>\n",
              "\n",
              "      <script>\n",
              "        const buttonEl =\n",
              "          document.querySelector('#df-f35b4720-cd4c-48c7-bd8f-8dfefbbb3fbb button.colab-df-convert');\n",
              "        buttonEl.style.display =\n",
              "          google.colab.kernel.accessAllowed ? 'block' : 'none';\n",
              "\n",
              "        async function convertToInteractive(key) {\n",
              "          const element = document.querySelector('#df-f35b4720-cd4c-48c7-bd8f-8dfefbbb3fbb');\n",
              "          const dataTable =\n",
              "            await google.colab.kernel.invokeFunction('convertToInteractive',\n",
              "                                                     [key], {});\n",
              "          if (!dataTable) return;\n",
              "\n",
              "          const docLinkHtml = 'Like what you see? Visit the ' +\n",
              "            '<a target=\"_blank\" href=https://colab.research.google.com/notebooks/data_table.ipynb>data table notebook</a>'\n",
              "            + ' to learn more about interactive tables.';\n",
              "          element.innerHTML = '';\n",
              "          dataTable['output_type'] = 'display_data';\n",
              "          await google.colab.output.renderOutput(dataTable, element);\n",
              "          const docLink = document.createElement('div');\n",
              "          docLink.innerHTML = docLinkHtml;\n",
              "          element.appendChild(docLink);\n",
              "        }\n",
              "      </script>\n",
              "    </div>\n",
              "  </div>\n",
              "  "
            ],
            "text/plain": [
              "           Year  CSIRO Adjusted Sea Level  ...  adjusted_min_level  year_int\n",
              "0    1880-03-15                  0.000000  ...         -175.782783      1880\n",
              "1    1881-03-15                  0.220472  ...         -170.182783      1881\n",
              "2    1882-03-15                 -0.440945  ...         -186.982783      1882\n",
              "3    1883-03-15                 -0.232283  ...         -181.682783      1883\n",
              "4    1884-03-15                  0.590551  ...         -160.782783      1884\n",
              "..          ...                       ...  ...                 ...       ...\n",
              "130  2010-03-15                  8.901575  ...           30.540720      2010\n",
              "131  2011-03-15                  8.964567  ...           28.765068      2011\n",
              "132  2012-03-15                  9.326772  ...           39.026481      2012\n",
              "133  2013-03-15                  8.980315  ...           41.302082      2013\n",
              "134  2014-03-15                       NaN  ...           44.275207      2014\n",
              "\n",
              "[135 rows x 8 columns]"
            ]
          },
          "metadata": {},
          "execution_count": 16
        }
      ]
    },
    {
      "cell_type": "markdown",
      "metadata": {
        "id": "8U0t9h2G-1KP"
      },
      "source": [
        "<b>Now plot all of the data (all NOAA and CSIRO) on the same graph.</b>"
      ]
    },
    {
      "cell_type": "code",
      "metadata": {
        "id": "vgfPIvdBmQQ1",
        "colab": {
          "base_uri": "https://localhost:8080/",
          "height": 467
        },
        "outputId": "8bc9cd73-c8d4-43ec-85e3-13bd64b5e28f"
      },
      "source": [
        "fig, ax = plt.subplots(figsize=(14,7))\n",
        "csiro.plot(\"year_int\", \"adjusted_min_level\", ax=ax, label='(CSIRO) Adjusted minimum Global Sea Level')\n",
        "pacific.plot(\"year\", \"max_level\", ax=ax, label=\"Pacific (NOAA)\", color='blue', fontsize=14)\n",
        "atlantic.plot(\"year\", \"max_level\", ax=ax, label=\"Atlantic (NOAA)\", color='green')\n",
        "indian.plot(\"year\", \"max_level\", ax=ax, label=\"Indian (NOAA)\", color='purple')\n",
        "southern.plot(\"year\", \"max_level\", ax=ax, label=\"Southern (NOAA)\", color='yellow', lw=0.5)\n",
        "sea.plot(\"year\", \"max_level\", ax=ax, label=\"Global (NOAA)\", color=\"black\")\n",
        "ax.grid(lw=.4)\n",
        "ax.set_xlabel(\"Year\", weight='bold', fontsize=12)\n",
        "ax.set_ylabel(\"Sea Level Rise Across Oceans [mm]\", weight='bold', fontsize=12)\n",
        "ax.legend(prop={'size': 17})\n",
        "\n"
      ],
      "execution_count": null,
      "outputs": [
        {
          "output_type": "execute_result",
          "data": {
            "text/plain": [
              "<matplotlib.legend.Legend at 0x7fdb20318d50>"
            ]
          },
          "metadata": {},
          "execution_count": 17
        },
        {
          "output_type": "display_data",
          "data": {
            "image/png": "[encoded data removed]",
            "text/plain": [
              "<Figure size 1008x504 with 1 Axes>"
            ]
          },
          "metadata": {
            "needs_background": "light"
          }
        }
      ]
    },
    {
      "cell_type": "markdown",
      "source": [
        "**Figure 3**: plots the sea level rise [mm] across the worlds oceans including ocean specific sea level rises and global average sea level rises. The various global averages on the graph are shown in light blue for CSIRO data which shows the absolute average sea level rise in [mm] along with the NOAA data for global average sea levle rise which is plotted in black which has a shorter temporality to it. Overall, we can see clearly from 1880 onwards there is a clear linear rise in global average sea level rise [mm] as a function of time."
      ],
      "metadata": {
        "id": "ad0eES0OmD31"
      }
    },
    {
      "cell_type": "markdown",
      "metadata": {
        "id": "g_c54zBK47Gm"
      },
      "source": [
        "### **PART 4 - Standardize the data**"
      ]
    },
    {
      "cell_type": "markdown",
      "metadata": {
        "id": "ab9gpV9jp27P"
      },
      "source": [
        "You should now have two DataFrames, one holding the <u>global</u> NOAA data (we'll work with only the global data from now on) with columns called `\"year\"` and `\"max_level\"`, and one holding the CSIRO data with columns called `\"year_int\"` and `\"adjusted_min_level\"`.  As we did in class, we have to standardize this data for the SGD-based linear regression.\n",
        "\n",
        "<b>Get the mean and standard deviation of `\"year\"` and `\"max_level\"` from the NOAA dataframe and the mean and standard deviation of the `\"year_int\"` and `\"adjusted_min_level\"` from the CSIRO dataframe.</b>"
      ]
    },
    {
      "cell_type": "code",
      "metadata": {
        "id": "uBENL05UCWYS",
        "colab": {
          "base_uri": "https://localhost:8080/"
        },
        "outputId": "98e49d96-16df-4d85-dde8-b1b09b8cd2cf"
      },
      "source": [
        "## creating the 2 dataframes for only the features that we are interested in\n",
        "sea = sea[['year', 'max_level']]\n",
        "print(sea.head(2))\n",
        "csiro = csiro[['year_int', 'adjusted_min_level']]\n",
        "print(csiro.head(2))"
      ],
      "execution_count": null,
      "outputs": [
        {
          "output_type": "stream",
          "name": "stdout",
          "text": [
            "        year  max_level\n",
            "0  1992.9614     -19.32\n",
            "1  1992.9865     -19.74\n",
            "   year_int  adjusted_min_level\n",
            "0      1880         -175.782783\n",
            "1      1881         -170.182783\n"
          ]
        }
      ]
    },
    {
      "cell_type": "code",
      "source": [
        "# creating arrays out of the dataframes and extracting them into their own variables \n",
        "NOAA_year = sea['year'].values\n",
        "NOAA_searise = sea['max_level'].values\n",
        "csiro_year = csiro['year_int'].values\n",
        "csiro_searise = csiro['adjusted_min_level'].values\n",
        "\n",
        "print(\"The means for our 2 dataframes and their features are:\")\n",
        "print(\"\\n\")\n",
        "print(\"For NOAA year and sea level rise\")\n",
        "print(NOAA_year.mean())\n",
        "print(NOAA_searise.mean())\n",
        "print(\"\\n\")\n",
        "print(\"For csiro year and sea level rise\")\n",
        "print(csiro_year.mean())\n",
        "print(csiro_searise.mean())\n",
        "print(\"\\n\")\n",
        "print(\"The standard deviations for our 2 dataframes and their values are:\")\n",
        "print(\"\\n\")\n",
        "print(\"For NOAA year and sea level rise\")\n",
        "print(NOAA_year.std())\n",
        "print(NOAA_searise.std())\n",
        "print(\"\\n\")\n",
        "print(\"For csiro year and sea level rise\")\n",
        "print(csiro_year.std())\n",
        "print(csiro_searise.std())\n"
      ],
      "metadata": {
        "colab": {
          "base_uri": "https://localhost:8080/"
        },
        "id": "p_dcgkGxtyJ7",
        "outputId": "098dea8c-010d-42be-b49c-de921880aa20"
      },
      "execution_count": null,
      "outputs": [
        {
          "output_type": "stream",
          "name": "stdout",
          "text": [
            "The means for our 2 dataframes and their features are:\n",
            "\n",
            "\n",
            "For NOAA year and sea level rise\n",
            "2007.976353081664\n",
            "23.60557781201849\n",
            "\n",
            "\n",
            "For csiro year and sea level rise\n",
            "1947.0\n",
            "-83.3455077780252\n",
            "\n",
            "\n",
            "The standard deviations for our 2 dataframes and their values are:\n",
            "\n",
            "\n",
            "For NOAA year and sea level rise\n",
            "7.633439885750236\n",
            "23.500152014337058\n",
            "\n",
            "\n",
            "For csiro year and sea level rise\n",
            "38.97007398846795\n",
            "61.434390832880126\n"
          ]
        }
      ]
    },
    {
      "cell_type": "markdown",
      "metadata": {
        "id": "FCpQJiI6CWiQ"
      },
      "source": [
        "<b>Create columns in your NOAA dataframe called `\"year_st\"` and `\"max_level_st\"` that are standardized versions of `\"year\"` and `\"max_level\"`.</b>"
      ]
    },
    {
      "cell_type": "code",
      "metadata": {
        "id": "tVOah4-nSqEM",
        "colab": {
          "base_uri": "https://localhost:8080/",
          "height": 644
        },
        "outputId": "7c60a7a8-2a42-4a5c-82df-e80dc01d6fad"
      },
      "source": [
        "sea['year_st'] = (sea['year'] - sea['year'].mean()) / sea['year'].std()\n",
        "sea['max_level_st'] = (sea['max_level'] - sea['max_level'].mean()) / sea['max_level'].std()\n",
        "sea"
      ],
      "execution_count": null,
      "outputs": [
        {
          "output_type": "stream",
          "name": "stderr",
          "text": [
            "/usr/local/lib/python3.7/dist-packages/ipykernel_launcher.py:1: SettingWithCopyWarning: \n",
            "A value is trying to be set on a copy of a slice from a DataFrame.\n",
            "Try using .loc[row_indexer,col_indexer] = value instead\n",
            "\n",
            "See the caveats in the documentation: https://pandas.pydata.org/pandas-docs/stable/user_guide/indexing.html#returning-a-view-versus-a-copy\n",
            "  \"\"\"Entry point for launching an IPython kernel.\n",
            "/usr/local/lib/python3.7/dist-packages/ipykernel_launcher.py:2: SettingWithCopyWarning: \n",
            "A value is trying to be set on a copy of a slice from a DataFrame.\n",
            "Try using .loc[row_indexer,col_indexer] = value instead\n",
            "\n",
            "See the caveats in the documentation: https://pandas.pydata.org/pandas-docs/stable/user_guide/indexing.html#returning-a-view-versus-a-copy\n",
            "  \n"
          ]
        },
        {
          "output_type": "execute_result",
          "data": {
            "text/html": [
              "\n",
              "  <div id=\"df-bfd9ab8b-4390-4be4-b7fa-a30790fa28ac\">\n",
              "    <div class=\"colab-df-container\">\n",
              "      <div>\n",
              "<style scoped>\n",
              "    .dataframe tbody tr th:only-of-type {\n",
              "        vertical-align: middle;\n",
              "    }\n",
              "\n",
              "    .dataframe tbody tr th {\n",
              "        vertical-align: top;\n",
              "    }\n",
              "\n",
              "    .dataframe thead th {\n",
              "        text-align: right;\n",
              "    }\n",
              "</style>\n",
              "<table border=\"1\" class=\"dataframe\">\n",
              "  <thead>\n",
              "    <tr style=\"text-align: right;\">\n",
              "      <th></th>\n",
              "      <th>year</th>\n",
              "      <th>max_level</th>\n",
              "      <th>year_st</th>\n",
              "      <th>max_level_st</th>\n",
              "    </tr>\n",
              "  </thead>\n",
              "  <tbody>\n",
              "    <tr>\n",
              "      <th>0</th>\n",
              "      <td>1992.9614</td>\n",
              "      <td>-19.32</td>\n",
              "      <td>-1.966239</td>\n",
              "      <td>-1.825905</td>\n",
              "    </tr>\n",
              "    <tr>\n",
              "      <th>1</th>\n",
              "      <td>1992.9865</td>\n",
              "      <td>-19.74</td>\n",
              "      <td>-1.962952</td>\n",
              "      <td>-1.843770</td>\n",
              "    </tr>\n",
              "    <tr>\n",
              "      <th>2</th>\n",
              "      <td>1993.0123</td>\n",
              "      <td>-15.40</td>\n",
              "      <td>-1.959574</td>\n",
              "      <td>-1.659162</td>\n",
              "    </tr>\n",
              "    <tr>\n",
              "      <th>3</th>\n",
              "      <td>1993.0407</td>\n",
              "      <td>-19.20</td>\n",
              "      <td>-1.955855</td>\n",
              "      <td>-1.820800</td>\n",
              "    </tr>\n",
              "    <tr>\n",
              "      <th>4</th>\n",
              "      <td>1993.0660</td>\n",
              "      <td>-23.73</td>\n",
              "      <td>-1.952542</td>\n",
              "      <td>-2.013491</td>\n",
              "    </tr>\n",
              "    <tr>\n",
              "      <th>...</th>\n",
              "      <td>...</td>\n",
              "      <td>...</td>\n",
              "      <td>...</td>\n",
              "      <td>...</td>\n",
              "    </tr>\n",
              "    <tr>\n",
              "      <th>1293</th>\n",
              "      <td>2021.8450</td>\n",
              "      <td>71.48</td>\n",
              "      <td>1.816128</td>\n",
              "      <td>2.036411</td>\n",
              "    </tr>\n",
              "    <tr>\n",
              "      <th>1294</th>\n",
              "      <td>2021.8721</td>\n",
              "      <td>71.32</td>\n",
              "      <td>1.819677</td>\n",
              "      <td>2.029606</td>\n",
              "    </tr>\n",
              "    <tr>\n",
              "      <th>1295</th>\n",
              "      <td>2021.8992</td>\n",
              "      <td>72.41</td>\n",
              "      <td>1.823226</td>\n",
              "      <td>2.075970</td>\n",
              "    </tr>\n",
              "    <tr>\n",
              "      <th>1296</th>\n",
              "      <td>2021.9264</td>\n",
              "      <td>74.69</td>\n",
              "      <td>1.826787</td>\n",
              "      <td>2.172954</td>\n",
              "    </tr>\n",
              "    <tr>\n",
              "      <th>1297</th>\n",
              "      <td>2021.9445</td>\n",
              "      <td>71.99</td>\n",
              "      <td>1.829158</td>\n",
              "      <td>2.058105</td>\n",
              "    </tr>\n",
              "  </tbody>\n",
              "</table>\n",
              "<p>1298 rows × 4 columns</p>\n",
              "</div>\n",
              "      <button class=\"colab-df-convert\" onclick=\"convertToInteractive('df-bfd9ab8b-4390-4be4-b7fa-a30790fa28ac')\"\n",
              "              title=\"Convert this dataframe to an interactive table.\"\n",
              "              style=\"display:none;\">\n",
              "        \n",
              "  <svg xmlns=\"http://www.w3.org/2000/svg\" height=\"24px\"viewBox=\"0 0 24 24\"\n",
              "       width=\"24px\">\n",
              "    <path d=\"M0 0h24v24H0V0z\" fill=\"none\"/>\n",
              "    <path d=\"M18.56 5.44l.94 2.06.94-2.06 2.06-.94-2.06-.94-.94-2.06-.94 2.06-2.06.94zm-11 1L8.5 8.5l.94-2.06 2.06-.94-2.06-.94L8.5 2.5l-.94 2.06-2.06.94zm10 10l.94 2.06.94-2.06 2.06-.94-2.06-.94-.94-2.06-.94 2.06-2.06.94z\"/><path d=\"M17.41 7.96l-1.37-1.37c-.4-.4-.92-.59-1.43-.59-.52 0-1.04.2-1.43.59L10.3 9.45l-7.72 7.72c-.78.78-.78 2.05 0 2.83L4 21.41c.39.39.9.59 1.41.59.51 0 1.02-.2 1.41-.59l7.78-7.78 2.81-2.81c.8-.78.8-2.07 0-2.86zM5.41 20L4 18.59l7.72-7.72 1.47 1.35L5.41 20z\"/>\n",
              "  </svg>\n",
              "      </button>\n",
              "      \n",
              "  <style>\n",
              "    .colab-df-container {\n",
              "      display:flex;\n",
              "      flex-wrap:wrap;\n",
              "      gap: 12px;\n",
              "    }\n",
              "\n",
              "    .colab-df-convert {\n",
              "      background-color: #E8F0FE;\n",
              "      border: none;\n",
              "      border-radius: 50%;\n",
              "      cursor: pointer;\n",
              "      display: none;\n",
              "      fill: #1967D2;\n",
              "      height: 32px;\n",
              "      padding: 0 0 0 0;\n",
              "      width: 32px;\n",
              "    }\n",
              "\n",
              "    .colab-df-convert:hover {\n",
              "      background-color: #E2EBFA;\n",
              "      box-shadow: 0px 1px 2px rgba(60, 64, 67, 0.3), 0px 1px 3px 1px rgba(60, 64, 67, 0.15);\n",
              "      fill: #174EA6;\n",
              "    }\n",
              "\n",
              "    [theme=dark] .colab-df-convert {\n",
              "      background-color: #3B4455;\n",
              "      fill: #D2E3FC;\n",
              "    }\n",
              "\n",
              "    [theme=dark] .colab-df-convert:hover {\n",
              "      background-color: #434B5C;\n",
              "      box-shadow: 0px 1px 3px 1px rgba(0, 0, 0, 0.15);\n",
              "      filter: drop-shadow(0px 1px 2px rgba(0, 0, 0, 0.3));\n",
              "      fill: #FFFFFF;\n",
              "    }\n",
              "  </style>\n",
              "\n",
              "      <script>\n",
              "        const buttonEl =\n",
              "          document.querySelector('#df-bfd9ab8b-4390-4be4-b7fa-a30790fa28ac button.colab-df-convert');\n",
              "        buttonEl.style.display =\n",
              "          google.colab.kernel.accessAllowed ? 'block' : 'none';\n",
              "\n",
              "        async function convertToInteractive(key) {\n",
              "          const element = document.querySelector('#df-bfd9ab8b-4390-4be4-b7fa-a30790fa28ac');\n",
              "          const dataTable =\n",
              "            await google.colab.kernel.invokeFunction('convertToInteractive',\n",
              "                                                     [key], {});\n",
              "          if (!dataTable) return;\n",
              "\n",
              "          const docLinkHtml = 'Like what you see? Visit the ' +\n",
              "            '<a target=\"_blank\" href=https://colab.research.google.com/notebooks/data_table.ipynb>data table notebook</a>'\n",
              "            + ' to learn more about interactive tables.';\n",
              "          element.innerHTML = '';\n",
              "          dataTable['output_type'] = 'display_data';\n",
              "          await google.colab.output.renderOutput(dataTable, element);\n",
              "          const docLink = document.createElement('div');\n",
              "          docLink.innerHTML = docLinkHtml;\n",
              "          element.appendChild(docLink);\n",
              "        }\n",
              "      </script>\n",
              "    </div>\n",
              "  </div>\n",
              "  "
            ],
            "text/plain": [
              "           year  max_level   year_st  max_level_st\n",
              "0     1992.9614     -19.32 -1.966239     -1.825905\n",
              "1     1992.9865     -19.74 -1.962952     -1.843770\n",
              "2     1993.0123     -15.40 -1.959574     -1.659162\n",
              "3     1993.0407     -19.20 -1.955855     -1.820800\n",
              "4     1993.0660     -23.73 -1.952542     -2.013491\n",
              "...         ...        ...       ...           ...\n",
              "1293  2021.8450      71.48  1.816128      2.036411\n",
              "1294  2021.8721      71.32  1.819677      2.029606\n",
              "1295  2021.8992      72.41  1.823226      2.075970\n",
              "1296  2021.9264      74.69  1.826787      2.172954\n",
              "1297  2021.9445      71.99  1.829158      2.058105\n",
              "\n",
              "[1298 rows x 4 columns]"
            ]
          },
          "metadata": {},
          "execution_count": 20
        }
      ]
    },
    {
      "cell_type": "code",
      "source": [
        "print(sea['year_st'].mean())\n",
        "print(sea['year_st'].std())\n",
        "print(sea['max_level_st'].mean())\n",
        "print(sea['max_level_st'].std())"
      ],
      "metadata": {
        "colab": {
          "base_uri": "https://localhost:8080/"
        },
        "id": "0Ns91h5JRliY",
        "outputId": "37981315-c04a-464d-a687-9456f70efffb"
      },
      "execution_count": null,
      "outputs": [
        {
          "output_type": "stream",
          "name": "stdout",
          "text": [
            "-1.6613332863143168e-13\n",
            "1.0000000000000007\n",
            "4.30403872104298e-16\n",
            "0.9999999999999994\n"
          ]
        }
      ]
    },
    {
      "cell_type": "markdown",
      "metadata": {
        "id": "00Q7KoaESpuu"
      },
      "source": [
        " <b>Create columns in your CSIRO dataframe called `\"year_int_st\"` and `\"adjusted_min_level_st\"` that are standardized versions of `\"year_int\"` and `\"adjusted_min_level\"`.</b>"
      ]
    },
    {
      "cell_type": "code",
      "metadata": {
        "id": "DFgLtoixAwmk",
        "colab": {
          "base_uri": "https://localhost:8080/",
          "height": 644
        },
        "outputId": "8e522556-859d-436b-c354-f29a1ceb940d"
      },
      "source": [
        "csiro['year_int_st'] = (csiro['year_int'] - csiro['year_int'].mean()) / csiro['year_int'].std()\n",
        "csiro['adjusted_min_level_st'] = (csiro['adjusted_min_level'] - csiro['adjusted_min_level'].mean()) / csiro['adjusted_min_level'].std()\n",
        "csiro"
      ],
      "execution_count": null,
      "outputs": [
        {
          "output_type": "stream",
          "name": "stderr",
          "text": [
            "/usr/local/lib/python3.7/dist-packages/ipykernel_launcher.py:1: SettingWithCopyWarning: \n",
            "A value is trying to be set on a copy of a slice from a DataFrame.\n",
            "Try using .loc[row_indexer,col_indexer] = value instead\n",
            "\n",
            "See the caveats in the documentation: https://pandas.pydata.org/pandas-docs/stable/user_guide/indexing.html#returning-a-view-versus-a-copy\n",
            "  \"\"\"Entry point for launching an IPython kernel.\n",
            "/usr/local/lib/python3.7/dist-packages/ipykernel_launcher.py:2: SettingWithCopyWarning: \n",
            "A value is trying to be set on a copy of a slice from a DataFrame.\n",
            "Try using .loc[row_indexer,col_indexer] = value instead\n",
            "\n",
            "See the caveats in the documentation: https://pandas.pydata.org/pandas-docs/stable/user_guide/indexing.html#returning-a-view-versus-a-copy\n",
            "  \n"
          ]
        },
        {
          "output_type": "execute_result",
          "data": {
            "text/html": [
              "\n",
              "  <div id=\"df-679757cb-996d-45e2-a36e-0ede6d662e33\">\n",
              "    <div class=\"colab-df-container\">\n",
              "      <div>\n",
              "<style scoped>\n",
              "    .dataframe tbody tr th:only-of-type {\n",
              "        vertical-align: middle;\n",
              "    }\n",
              "\n",
              "    .dataframe tbody tr th {\n",
              "        vertical-align: top;\n",
              "    }\n",
              "\n",
              "    .dataframe thead th {\n",
              "        text-align: right;\n",
              "    }\n",
              "</style>\n",
              "<table border=\"1\" class=\"dataframe\">\n",
              "  <thead>\n",
              "    <tr style=\"text-align: right;\">\n",
              "      <th></th>\n",
              "      <th>year_int</th>\n",
              "      <th>adjusted_min_level</th>\n",
              "      <th>year_int_st</th>\n",
              "      <th>adjusted_min_level_st</th>\n",
              "    </tr>\n",
              "  </thead>\n",
              "  <tbody>\n",
              "    <tr>\n",
              "      <th>0</th>\n",
              "      <td>1880</td>\n",
              "      <td>-175.782783</td>\n",
              "      <td>-1.712888</td>\n",
              "      <td>-1.499067</td>\n",
              "    </tr>\n",
              "    <tr>\n",
              "      <th>1</th>\n",
              "      <td>1881</td>\n",
              "      <td>-170.182783</td>\n",
              "      <td>-1.687323</td>\n",
              "      <td>-1.408251</td>\n",
              "    </tr>\n",
              "    <tr>\n",
              "      <th>2</th>\n",
              "      <td>1882</td>\n",
              "      <td>-186.982783</td>\n",
              "      <td>-1.661757</td>\n",
              "      <td>-1.680699</td>\n",
              "    </tr>\n",
              "    <tr>\n",
              "      <th>3</th>\n",
              "      <td>1883</td>\n",
              "      <td>-181.682783</td>\n",
              "      <td>-1.636192</td>\n",
              "      <td>-1.594748</td>\n",
              "    </tr>\n",
              "    <tr>\n",
              "      <th>4</th>\n",
              "      <td>1884</td>\n",
              "      <td>-160.782783</td>\n",
              "      <td>-1.610626</td>\n",
              "      <td>-1.255810</td>\n",
              "    </tr>\n",
              "    <tr>\n",
              "      <th>...</th>\n",
              "      <td>...</td>\n",
              "      <td>...</td>\n",
              "      <td>...</td>\n",
              "      <td>...</td>\n",
              "    </tr>\n",
              "    <tr>\n",
              "      <th>130</th>\n",
              "      <td>2010</td>\n",
              "      <td>30.540720</td>\n",
              "      <td>1.610626</td>\n",
              "      <td>1.846908</td>\n",
              "    </tr>\n",
              "    <tr>\n",
              "      <th>131</th>\n",
              "      <td>2011</td>\n",
              "      <td>28.765068</td>\n",
              "      <td>1.636192</td>\n",
              "      <td>1.818112</td>\n",
              "    </tr>\n",
              "    <tr>\n",
              "      <th>132</th>\n",
              "      <td>2012</td>\n",
              "      <td>39.026481</td>\n",
              "      <td>1.661757</td>\n",
              "      <td>1.984522</td>\n",
              "    </tr>\n",
              "    <tr>\n",
              "      <th>133</th>\n",
              "      <td>2013</td>\n",
              "      <td>41.302082</td>\n",
              "      <td>1.687323</td>\n",
              "      <td>2.021426</td>\n",
              "    </tr>\n",
              "    <tr>\n",
              "      <th>134</th>\n",
              "      <td>2014</td>\n",
              "      <td>44.275207</td>\n",
              "      <td>1.712888</td>\n",
              "      <td>2.069642</td>\n",
              "    </tr>\n",
              "  </tbody>\n",
              "</table>\n",
              "<p>135 rows × 4 columns</p>\n",
              "</div>\n",
              "      <button class=\"colab-df-convert\" onclick=\"convertToInteractive('df-679757cb-996d-45e2-a36e-0ede6d662e33')\"\n",
              "              title=\"Convert this dataframe to an interactive table.\"\n",
              "              style=\"display:none;\">\n",
              "        \n",
              "  <svg xmlns=\"http://www.w3.org/2000/svg\" height=\"24px\"viewBox=\"0 0 24 24\"\n",
              "       width=\"24px\">\n",
              "    <path d=\"M0 0h24v24H0V0z\" fill=\"none\"/>\n",
              "    <path d=\"M18.56 5.44l.94 2.06.94-2.06 2.06-.94-2.06-.94-.94-2.06-.94 2.06-2.06.94zm-11 1L8.5 8.5l.94-2.06 2.06-.94-2.06-.94L8.5 2.5l-.94 2.06-2.06.94zm10 10l.94 2.06.94-2.06 2.06-.94-2.06-.94-.94-2.06-.94 2.06-2.06.94z\"/><path d=\"M17.41 7.96l-1.37-1.37c-.4-.4-.92-.59-1.43-.59-.52 0-1.04.2-1.43.59L10.3 9.45l-7.72 7.72c-.78.78-.78 2.05 0 2.83L4 21.41c.39.39.9.59 1.41.59.51 0 1.02-.2 1.41-.59l7.78-7.78 2.81-2.81c.8-.78.8-2.07 0-2.86zM5.41 20L4 18.59l7.72-7.72 1.47 1.35L5.41 20z\"/>\n",
              "  </svg>\n",
              "      </button>\n",
              "      \n",
              "  <style>\n",
              "    .colab-df-container {\n",
              "      display:flex;\n",
              "      flex-wrap:wrap;\n",
              "      gap: 12px;\n",
              "    }\n",
              "\n",
              "    .colab-df-convert {\n",
              "      background-color: #E8F0FE;\n",
              "      border: none;\n",
              "      border-radius: 50%;\n",
              "      cursor: pointer;\n",
              "      display: none;\n",
              "      fill: #1967D2;\n",
              "      height: 32px;\n",
              "      padding: 0 0 0 0;\n",
              "      width: 32px;\n",
              "    }\n",
              "\n",
              "    .colab-df-convert:hover {\n",
              "      background-color: #E2EBFA;\n",
              "      box-shadow: 0px 1px 2px rgba(60, 64, 67, 0.3), 0px 1px 3px 1px rgba(60, 64, 67, 0.15);\n",
              "      fill: #174EA6;\n",
              "    }\n",
              "\n",
              "    [theme=dark] .colab-df-convert {\n",
              "      background-color: #3B4455;\n",
              "      fill: #D2E3FC;\n",
              "    }\n",
              "\n",
              "    [theme=dark] .colab-df-convert:hover {\n",
              "      background-color: #434B5C;\n",
              "      box-shadow: 0px 1px 3px 1px rgba(0, 0, 0, 0.15);\n",
              "      filter: drop-shadow(0px 1px 2px rgba(0, 0, 0, 0.3));\n",
              "      fill: #FFFFFF;\n",
              "    }\n",
              "  </style>\n",
              "\n",
              "      <script>\n",
              "        const buttonEl =\n",
              "          document.querySelector('#df-679757cb-996d-45e2-a36e-0ede6d662e33 button.colab-df-convert');\n",
              "        buttonEl.style.display =\n",
              "          google.colab.kernel.accessAllowed ? 'block' : 'none';\n",
              "\n",
              "        async function convertToInteractive(key) {\n",
              "          const element = document.querySelector('#df-679757cb-996d-45e2-a36e-0ede6d662e33');\n",
              "          const dataTable =\n",
              "            await google.colab.kernel.invokeFunction('convertToInteractive',\n",
              "                                                     [key], {});\n",
              "          if (!dataTable) return;\n",
              "\n",
              "          const docLinkHtml = 'Like what you see? Visit the ' +\n",
              "            '<a target=\"_blank\" href=https://colab.research.google.com/notebooks/data_table.ipynb>data table notebook</a>'\n",
              "            + ' to learn more about interactive tables.';\n",
              "          element.innerHTML = '';\n",
              "          dataTable['output_type'] = 'display_data';\n",
              "          await google.colab.output.renderOutput(dataTable, element);\n",
              "          const docLink = document.createElement('div');\n",
              "          docLink.innerHTML = docLinkHtml;\n",
              "          element.appendChild(docLink);\n",
              "        }\n",
              "      </script>\n",
              "    </div>\n",
              "  </div>\n",
              "  "
            ],
            "text/plain": [
              "     year_int  adjusted_min_level  year_int_st  adjusted_min_level_st\n",
              "0        1880         -175.782783    -1.712888              -1.499067\n",
              "1        1881         -170.182783    -1.687323              -1.408251\n",
              "2        1882         -186.982783    -1.661757              -1.680699\n",
              "3        1883         -181.682783    -1.636192              -1.594748\n",
              "4        1884         -160.782783    -1.610626              -1.255810\n",
              "..        ...                 ...          ...                    ...\n",
              "130      2010           30.540720     1.610626               1.846908\n",
              "131      2011           28.765068     1.636192               1.818112\n",
              "132      2012           39.026481     1.661757               1.984522\n",
              "133      2013           41.302082     1.687323               2.021426\n",
              "134      2014           44.275207     1.712888               2.069642\n",
              "\n",
              "[135 rows x 4 columns]"
            ]
          },
          "metadata": {},
          "execution_count": 22
        }
      ]
    },
    {
      "cell_type": "code",
      "source": [
        "print(csiro['year_int_st'].mean())\n",
        "print(csiro['year_int_st'].std())\n",
        "print(csiro['adjusted_min_level_st'].mean())\n",
        "print(csiro['adjusted_min_level_st'].std())"
      ],
      "metadata": {
        "colab": {
          "base_uri": "https://localhost:8080/"
        },
        "id": "qs51NeRGOBI7",
        "outputId": "1f14044b-4242-462a-88a7-ecb99674558a"
      },
      "execution_count": null,
      "outputs": [
        {
          "output_type": "stream",
          "name": "stdout",
          "text": [
            "-2.7961172472040977e-17\n",
            "1.0\n",
            "1.1250259982868252e-15\n",
            "0.9999999999999999\n"
          ]
        }
      ]
    },
    {
      "cell_type": "markdown",
      "metadata": {
        "id": "eScY6F7Lrwea"
      },
      "source": [
        "<b>Make a plot of the standardized NOAA global data.</b>"
      ]
    },
    {
      "cell_type": "code",
      "metadata": {
        "id": "e4TeJ38RrwMa",
        "colab": {
          "base_uri": "https://localhost:8080/",
          "height": 367
        },
        "outputId": "7c6b88a6-5c4a-45f1-9112-1b385f85f847"
      },
      "source": [
        "fig, ax = plt.subplots(figsize=(10, 5))\n",
        "sea.plot('year_st', 'max_level_st', ax=ax)\n",
        "ax.set_xlabel('Year Standardized NOAA Data')\n",
        "ax.set_ylabel(\"Maximum Global Average Sea Level Rise [mm] Standardized\")\n",
        "ax.legend(\"\")"
      ],
      "execution_count": null,
      "outputs": [
        {
          "output_type": "execute_result",
          "data": {
            "text/plain": [
              "<matplotlib.legend.Legend at 0x7fdb1e407510>"
            ]
          },
          "metadata": {},
          "execution_count": 24
        },
        {
          "output_type": "display_data",
          "data": {
            "image/png": "[encoded data removed]",
            "text/plain": [
              "<Figure size 720x360 with 1 Axes>"
            ]
          },
          "metadata": {
            "needs_background": "light"
          }
        }
      ]
    },
    {
      "cell_type": "markdown",
      "source": [
        "**Figure 4** plots the standardized NOAA global average sea level rise data as a function of year. A clear linear relationship is present."
      ],
      "metadata": {
        "id": "NSrX1jw_7Gpw"
      }
    },
    {
      "cell_type": "markdown",
      "metadata": {
        "id": "4C34ZrtLERYG"
      },
      "source": [
        "<b>Make a plot of the standardized CSIRO data.</b>"
      ]
    },
    {
      "cell_type": "code",
      "metadata": {
        "id": "oJ5zxjiUEYH5",
        "colab": {
          "base_uri": "https://localhost:8080/",
          "height": 367
        },
        "outputId": "afb0cbb5-6ff0-4f55-ef2e-48613a0d5a0f"
      },
      "source": [
        "fig, ax = plt.subplots(figsize=(10, 5))\n",
        "csiro.plot('year_int_st', 'adjusted_min_level_st', ax=ax)\n",
        "ax.set_xlabel('Year Standardized csiro Data')\n",
        "ax.set_ylabel(\"Maximum Global Average Sea Level Rise [mm] Standardized\")\n",
        "ax.legend(\"\")"
      ],
      "execution_count": null,
      "outputs": [
        {
          "output_type": "execute_result",
          "data": {
            "text/plain": [
              "<matplotlib.legend.Legend at 0x7fdb1e3b0350>"
            ]
          },
          "metadata": {},
          "execution_count": 25
        },
        {
          "output_type": "display_data",
          "data": {
            "image/png": "[encoded data removed]",
            "text/plain": [
              "<Figure size 720x360 with 1 Axes>"
            ]
          },
          "metadata": {
            "needs_background": "light"
          }
        }
      ]
    },
    {
      "cell_type": "markdown",
      "source": [
        "**Figure 5** Plots the standardized CSIRO global mininum average sea level rise data as a function of year. A clear linear relationship is present. "
      ],
      "metadata": {
        "id": "VQqqzE2j7hN7"
      }
    },
    {
      "cell_type": "markdown",
      "metadata": {
        "id": "h0FudZHVEYQ2"
      },
      "source": [
        "### **PART 5 - Fit and compare models between NOAA and CSIRO**"
      ]
    },
    {
      "cell_type": "markdown",
      "metadata": {
        "id": "Wz7btZQ9FBf6"
      },
      "source": [
        "<b>Import `SGDRegressor` from `sklearn` and run a regression model using the default parameters.</b>"
      ]
    },
    {
      "cell_type": "code",
      "source": [
        "### Making Arrays for the unstandardized data and standardized NOAA DATA\n",
        "\n",
        "year = sea['year'].values.reshape(-1, 1)\n",
        "max_level = sea['max_level'].values\n",
        "year_st = sea['year_st'].values.reshape(-1, 1)\n",
        "max_level_st = sea['max_level_st'].values\n",
        "\n",
        "### Making Arrays for the unstandardized data and  standardized CSIRO DATA\n",
        "year_int = csiro['year_int'].values.reshape(-1, 1)\n",
        "adjusted_min_level = csiro['adjusted_min_level'].values\n",
        "year_int_st = csiro['year_int_st'].values.reshape(-1, 1)\n",
        "adjusted_min_level_st = csiro['adjusted_min_level_st'].values\n",
        "\n",
        "\n",
        "\n"
      ],
      "metadata": {
        "id": "OJrDiHDj8-_y"
      },
      "execution_count": null,
      "outputs": []
    },
    {
      "cell_type": "code",
      "metadata": {
        "id": "0qjT7U7IEYaQ"
      },
      "source": [
        "#FOR NOAA DATA runnig the regression\n",
        "\n",
        "# -- import scikit-learn's Stochastic Gradient Descent regressor\n",
        "from sklearn.linear_model import SGDRegressor\n",
        "\n",
        "# -- redefine the the SGD regression model to use with the standardized data\n",
        "lm_st = SGDRegressor()\n",
        "\n",
        "# -- fit the standardized data\n",
        "fitNOAA = lm_st.fit(year_st, max_level_st)\n",
        "\n",
        "# -- predict the standardized data\n",
        "model_st = fitNOAA.predict(year_st)\n",
        "\n",
        "\n",
        "# -- plot it\n",
        "#fig, ax = plt.subplots()\n",
        "#ax.plot(year_st, max_level_st, \"o\", label=\"data\")\n",
        "#ax.plot(year_st, model_st, label=\"model\")\n",
        "#ax.set_xlabel(\"year [standardized]\")\n",
        "#ax.set_ylabel(\"Average Global Sea Level Rise [standardized]\")\n",
        "#ax.legend()\n",
        "#fig.show()"
      ],
      "execution_count": null,
      "outputs": []
    },
    {
      "cell_type": "markdown",
      "metadata": {
        "id": "HBo0mE33uGyK"
      },
      "source": [
        "<b>\"Unstandardize\" the model as we did in class by multiplying by the standard deviation and adding the average of the unstandardized data set.</b>"
      ]
    },
    {
      "cell_type": "code",
      "metadata": {
        "id": "gfBIUggDFylY"
      },
      "source": [
        "# -- \"un-standardize\" the model\n",
        "modelNOAA = model_st * max_level.std() + max_level.mean()\n",
        "\n"
      ],
      "execution_count": null,
      "outputs": []
    },
    {
      "cell_type": "markdown",
      "metadata": {
        "id": "ZYb4SYtNHpVj"
      },
      "source": [
        "<b>Assume that the error in each measurement is 2.5 mm, calculate the $\\chi^2$ per degree of freedom for this model.</b>"
      ]
    },
    {
      "cell_type": "code",
      "metadata": {
        "id": "ouu0yL1EFyuw",
        "colab": {
          "base_uri": "https://localhost:8080/"
        },
        "outputId": "05e7865f-5bb2-4b34-ebc5-8c1e2c05ab1d"
      },
      "source": [
        "# -- calculate chi^2\n",
        "err = 2.5\n",
        "chisq = ((max_level - modelNOAA)**2 / err**2).sum()\n",
        "print(\"chi^2 = {0}\".format(chisq))\n",
        "\n",
        "# -- calculate chi^2 per dof\n",
        "nparams = 2\n",
        "chisq_dof = chisq / (len(max_level) - nparams)\n",
        "print(\"chi^2 per degree of freedom = {0}\".format(chisq_dof))\n",
        "print(\"We have a chi^2 degree of freedom of roughly 3.49 which is relatively close to 1 suggesting to us that our model did a good job at fitting the data\")"
      ],
      "execution_count": null,
      "outputs": [
        {
          "output_type": "stream",
          "name": "stdout",
          "text": [
            "chi^2 = 4530.047754414726\n",
            "chi^2 per degree of freedom = 3.4954072179125975\n",
            "We have a chi^2 degree of freedom of roughly 3.49 which is relatively close to 1 suggesting to us that our model did a good job at fitting the data\n"
          ]
        }
      ]
    },
    {
      "cell_type": "markdown",
      "source": [
        "**Calculating R^2**"
      ],
      "metadata": {
        "id": "mr6t1wRrq6yb"
      }
    },
    {
      "cell_type": "code",
      "source": [
        "# -- calculate R^2\n",
        "r2 = 1.0 - (max_level - modelNOAA).var() / max_level.var()\n",
        "r2"
      ],
      "metadata": {
        "colab": {
          "base_uri": "https://localhost:8080/"
        },
        "id": "tA_UFGwKq-Yy",
        "outputId": "481f4390-4492-406e-ff3a-dd3ba583f244"
      },
      "execution_count": null,
      "outputs": [
        {
          "output_type": "execute_result",
          "data": {
            "text/plain": [
              "0.9605147100716541"
            ]
          },
          "metadata": {},
          "execution_count": 30
        }
      ]
    },
    {
      "cell_type": "markdown",
      "metadata": {
        "id": "-TWdrc2-Fy4Z"
      },
      "source": [
        "<b>Overplot this model on the global data.</b>"
      ]
    },
    {
      "cell_type": "code",
      "metadata": {
        "id": "2V4JTpShMTqm",
        "colab": {
          "base_uri": "https://localhost:8080/",
          "height": 279
        },
        "outputId": "3f20b154-580a-4d3a-e356-8238ede8f372"
      },
      "source": [
        "\n",
        "# -- plot it\n",
        "fig, ax = plt.subplots()\n",
        "ax.plot(year, max_level, \"o\", label=\"data\")\n",
        "ax.plot(year, modelNOAA, label=\"model\")\n",
        "ax.set_xlabel(\"year\")\n",
        "ax.set_ylabel(\"Global NOAA Average Sea Level Rise [mm]\")\n",
        "ax.legend()\n",
        "fig.show()"
      ],
      "execution_count": null,
      "outputs": [
        {
          "output_type": "display_data",
          "data": {
            "image/png": "[encoded data removed]",
            "text/plain": [
              "<Figure size 432x288 with 1 Axes>"
            ]
          },
          "metadata": {
            "needs_background": "light"
          }
        }
      ]
    },
    {
      "cell_type": "markdown",
      "source": [
        "**Figure 6** above plots the raw data for our global minimum sea level rise (average) as a function of year in blue while our predicted values are plotted in orange to showcase our linear fit. Overall, the model appears to fit the data relatively good. "
      ],
      "metadata": {
        "id": "teqIgl1OXCUl"
      }
    },
    {
      "cell_type": "markdown",
      "metadata": {
        "id": "0CUHVR3WMTfw"
      },
      "source": [
        "<b>Fit an SGDRegressor model to the standardized CSIRO data, \"un-standardize\" the model, and calculate the $\\chi^2$ per degree of freedom for this model assuming the errors are 3.9 mm.</b>"
      ]
    },
    {
      "cell_type": "code",
      "metadata": {
        "id": "1cYdcWmfMTVK"
      },
      "source": [
        "#FOR CSIRO DATA runnig the regression\n",
        "\n",
        "# -- import scikit-learn's Stochastic Gradient Descent regressor\n",
        "from sklearn.linear_model import SGDRegressor\n",
        "\n",
        "# -- redefine the the SGD regression model to use with the standardized data\n",
        "lm_st_CSIRO = SGDRegressor()\n",
        "\n",
        "# -- fit the standardized data\n",
        "lm_st_CSIRO.fit(year_int_st, adjusted_min_level_st)\n",
        "\n",
        "# -- predict the standardized data\n",
        "model_st_CSIRO = lm_st_CSIRO.predict(year_int_st)\n",
        "\n",
        "\n",
        "# -- \"un-standardize\" the model\n",
        "modelCSIRO = model_st_CSIRO * adjusted_min_level.std() + adjusted_min_level.mean()\n",
        "\n",
        "\n",
        "\n",
        "\n",
        "\n",
        "\n"
      ],
      "execution_count": null,
      "outputs": []
    },
    {
      "cell_type": "markdown",
      "source": [
        "**Calculating Chi^2**"
      ],
      "metadata": {
        "id": "B-gjepWAV2h4"
      }
    },
    {
      "cell_type": "code",
      "source": [
        "# -- calculate chi^2\n",
        "err = 3.9\n",
        "chisq = ((adjusted_min_level - modelCSIRO)**2 / err**2).sum()\n",
        "print(\"chi^2 = {0}\".format(chisq))\n",
        "\n",
        "# -- calculate chi^2 per dof\n",
        "nparams = 2\n",
        "chisq_dof = chisq / (len(adjusted_min_level) - nparams)\n",
        "print(\"chi^2 per degree of freedom = {0}\".format(chisq_dof))\n",
        "print(\"We have a chi^2 degree of freedom of roughly 5.6 which is relatively close but not super clsoe to 1 suggesting to us that our model did a decent job at fitting the data\")"
      ],
      "metadata": {
        "colab": {
          "base_uri": "https://localhost:8080/"
        },
        "id": "4dgSwoeXWP29",
        "outputId": "ae25a913-6a9a-4432-e3bf-85b0d6ac460c"
      },
      "execution_count": null,
      "outputs": [
        {
          "output_type": "stream",
          "name": "stdout",
          "text": [
            "chi^2 = 745.9847223795205\n",
            "chi^2 per degree of freedom = 5.608907687064064\n",
            "We have a chi^2 degree of freedom of roughly 5.6 which is relatively close but not super clsoe to 1 suggesting to us that our model did a decent job at fitting the data\n"
          ]
        }
      ]
    },
    {
      "cell_type": "markdown",
      "source": [
        "**Calculating R^2**\n",
        "\n"
      ],
      "metadata": {
        "id": "XgJ7BS57qAHL"
      }
    },
    {
      "cell_type": "code",
      "source": [
        "# -- calculate R^2\n",
        "r2 = 1.0 - (adjusted_min_level - modelCSIRO).var() / adjusted_min_level.var()\n",
        "r2"
      ],
      "metadata": {
        "colab": {
          "base_uri": "https://localhost:8080/"
        },
        "id": "FMlVbTvVqFUS",
        "outputId": "10c16e00-6916-4286-cea8-1e23b64c229c"
      },
      "execution_count": null,
      "outputs": [
        {
          "output_type": "execute_result",
          "data": {
            "text/plain": [
              "0.9777314824622063"
            ]
          },
          "metadata": {},
          "execution_count": 34
        }
      ]
    },
    {
      "cell_type": "markdown",
      "metadata": {
        "id": "wbzcFFRLQTRI"
      },
      "source": [
        "<b>Overplot this model on the CSIRO data.</b>"
      ]
    },
    {
      "cell_type": "code",
      "metadata": {
        "id": "SPEiVA3UQS1v",
        "colab": {
          "base_uri": "https://localhost:8080/",
          "height": 279
        },
        "outputId": "530c4a2e-5ae2-4f39-e9e3-d1d151a5bc72"
      },
      "source": [
        "# -- plot it\n",
        "fig, ax = plt.subplots()\n",
        "ax.plot(year_int, adjusted_min_level, \"o\", label=\"data\")\n",
        "ax.plot(year_int, modelCSIRO, label=\"model\")\n",
        "ax.set_xlabel(\"year\")\n",
        "ax.set_ylabel(\"Average Global Sea Level Rise [mm]\")\n",
        "ax.legend()\n",
        "fig.show()"
      ],
      "execution_count": null,
      "outputs": [
        {
          "output_type": "display_data",
          "data": {
            "image/png": "[encoded data removed]",
            "text/plain": [
              "<Figure size 432x288 with 1 Axes>"
            ]
          },
          "metadata": {
            "needs_background": "light"
          }
        }
      ]
    },
    {
      "cell_type": "markdown",
      "source": [
        "**Figure 7** plots the CSIRO data average global minimum sea level rise in blue as a function of year. The linear fit is overlaid in orange. Overall, the model appears to fit the data relatively good -- and there is a clear linear relationship occurring. "
      ],
      "metadata": {
        "id": "ka_yRzDgXk0W"
      }
    },
    {
      "cell_type": "markdown",
      "metadata": {
        "id": "EXAX7y0tN874"
      },
      "source": [
        " **Which data is better fit by a linear model?  Why do you think that is?**\n",
        "\n",
        "\n"
      ]
    },
    {
      "cell_type": "markdown",
      "source": [
        "Overall -- figure 6 plotted the NOAA data while figure 7 plotted the CSIRO data. The time period under study for the CSIRO data was about 4 times as large as that of the NOAA data. The overall R^2 for the CSIRO data was slightly higher suggesting that time explained more of variation in CSIRO sea level rise data than it did in NOAA sea level rise data. A good reason for this is the fact that the CSIRO data had a larger time variation and was thus more accurately able to explain the variation in the outcome because it had more temporality in terms of years to guide it -- although both datasets had a lot of n. However, the chi^2 degrees of freedom was slighly smaller and closer to 1 for the NOAA data in figure 6 relative to the CSIRO data in figure 7 -- suggesting that the NOAA data may be perhaps betetr fit by a linear model. Ovearll -- from the metrics I've provided for both models -- it is hard to definitevly say at the end of the day that one model fit is better than the other. Although choosing for a choice for a decision maker -- I would have to derive my estimates from the CSIRO linear model due to the larger temporal variation it has thereby allowing us to make greater inferences and predictions with confidence. \n",
        "\n"
      ],
      "metadata": {
        "id": "GlXN8ajjZqEQ"
      }
    },
    {
      "cell_type": "markdown",
      "source": [
        "**What are the rates of sea level rise for every year that goes by?**"
      ],
      "metadata": {
        "id": "q6D714gII97g"
      }
    },
    {
      "cell_type": "markdown",
      "source": [
        "For NOAA data:"
      ],
      "metadata": {
        "id": "FR6JTrlyT_LM"
      }
    },
    {
      "cell_type": "code",
      "source": [
        "# rise \n",
        "#getting the 2 values at the bottom next to eachother of sea level rise and subtracting them\n",
        "\n",
        "#print(modelNOAA[0:2])\n",
        "riseNOAA = -21.66220216 - -21.58648608\n",
        "print(\"The rise for NOAA data is {0}\".format(riseNOAA))\n",
        "\n",
        "#run\n",
        "# getting the 2 values of year and subtracting them from eachotehr \n",
        "#print(sea['year'][0:2])\n",
        "runNOAA = 1992.9614 - 1992.9865\n",
        "print(\"the run for NOAA data is {0}\".format(runNOAA))\n",
        "\n",
        "print(\"The rate of change in sea level for each year that goes by for the NOAA data is {0:.2f} mm/yr\".format(riseNOAA/runNOAA))\n"
      ],
      "metadata": {
        "colab": {
          "base_uri": "https://localhost:8080/"
        },
        "id": "O_JiZJVcUAcy",
        "outputId": "c62f80dd-448c-4aea-9f32-22da6ffb8a47"
      },
      "execution_count": null,
      "outputs": [
        {
          "output_type": "stream",
          "name": "stdout",
          "text": [
            "The rise for NOAA data is -0.07571607999999941\n",
            "the run for NOAA data is -0.025100000000065847\n",
            "The rate of change in sea level for each year that goes by for the NOAA data is 3.02 mm/yr\n"
          ]
        }
      ]
    },
    {
      "cell_type": "markdown",
      "source": [
        "For CSIRO data:\n"
      ],
      "metadata": {
        "id": "FLLpivXITaTK"
      }
    },
    {
      "cell_type": "code",
      "source": [
        "# rise \n",
        "#getting the 2 values at the bottom next to eachother of sea level rise and subtracting them\n",
        "\n",
        "#print(modelCSIRO[0:2])\n",
        "riseCSIRO = -185.06140095 - -183.54268174\n",
        "riseCSIRO\n",
        "\n",
        "#run\n",
        "# getting the 2 values of year and subtracting them from eachotehr \n",
        "#print(csiro['year_int'][0:2])\n",
        "runCSIRO = 1880 - 1881\n",
        "runCSIRO\n",
        "\n",
        "print(\"The rate of change in sea level for each year that goes by for the CSIRO data is {0:.2f} mm/yr\".format(riseCSIRO/runCSIRO))\n"
      ],
      "metadata": {
        "colab": {
          "base_uri": "https://localhost:8080/"
        },
        "id": "oM9iIM6JTezC",
        "outputId": "b5b7d816-feec-4bd0-c8ab-0c8076022ad5"
      },
      "execution_count": null,
      "outputs": [
        {
          "output_type": "stream",
          "name": "stdout",
          "text": [
            "The rate of change in sea level for each year that goes by for the CSIRO data is 1.52 mm/yr\n"
          ]
        }
      ]
    },
    {
      "cell_type": "markdown",
      "source": [
        "**What are the predictions for each model for sea level in 2100?**"
      ],
      "metadata": {
        "id": "dxeWerbNJBRB"
      }
    },
    {
      "cell_type": "markdown",
      "source": [
        "For the NOAA Data:"
      ],
      "metadata": {
        "id": "spJs9xzsJS_y"
      }
    },
    {
      "cell_type": "code",
      "source": [
        "# standardizing the NOAA data for the predicton of year 2100 -- standardizing 2100 as \n",
        "#derived from subtracting the mean and dividing std of the series for year\n",
        "\n",
        "year2100standardized = (2100 - 2007.976353081664) / 7.633439885750236\n",
        "print(\"The standardized value for the year 2100 is {0}:\".format(year2100standardized))\n",
        "\n",
        "# reofrmatting the data to feed it into the predict function feed in the standardized year 2100\n",
        "yearNOAApredict = np.array(12.055331317945088)\n",
        "yearNOAApredict = yearNOAApredict.reshape(-1, 1)\n",
        "\n",
        "print(\"the prediction for year 2100 in standardized form is {0} mm/yr\".format(fitNOAA.predict(yearNOAApredict)))\n",
        "print(\"the prediction for average sea level rise for the NOAA data for the year 2100 in standard normal form is {0} mm/yr\".format(11.713583 * max_level.std() + max_level.mean()))\n"
      ],
      "metadata": {
        "colab": {
          "base_uri": "https://localhost:8080/"
        },
        "id": "QMsq3H08JSDZ",
        "outputId": "ff4f1d5c-1a98-4b2c-c393-d96401fe4d91"
      },
      "execution_count": null,
      "outputs": [
        {
          "output_type": "stream",
          "name": "stdout",
          "text": [
            "The standardized value for the year 2100 is 12.055331317945088:\n",
            "the prediction for year 2100 in standardized form is [11.79556746] mm/yr\n",
            "the prediction for average sea level rise for the NOAA data for the year 2100 in standard normal form is 298.8765589445728 mm/yr\n"
          ]
        }
      ]
    },
    {
      "cell_type": "markdown",
      "source": [
        "For CSIRO Data"
      ],
      "metadata": {
        "id": "MJSwc0UEMx9b"
      }
    },
    {
      "cell_type": "code",
      "source": [
        "# standardizing the CSIRO data for the predicton of year 2100 -- standardizing 2100 as \n",
        "#derived from subtracting the mean and dividing std of the series for year\n",
        "\n",
        "year2100standardizedCSIRO = (2100 - 1947.0) / 38.97007398846795    \n",
        "print(\"The standardized value for the year 2100 is {0}:\".format(year2100standardizedCSIRO))\n",
        "\n",
        "# reofrmatting the data to feed it into the predict function feed in the standardized year 2100\n",
        "yearCSIROpredict = np.array(3.9260895436143093)\n",
        "yearCSIROpredict = yearCSIROpredict.reshape(-1, 1)\n",
        "\n",
        "print(\"the prediction for year 2100 in standardized form is {0} mm/yr\".format(lm_st_CSIRO.predict(yearCSIROpredict)))\n",
        "print(\"the prediction for average sea level rise for the CSIRO data for the year 2100 in standard normal form is {0} mm/yr\".format(3.79716122 * adjusted_min_level.std() + adjusted_min_level.mean()))\n"
      ],
      "metadata": {
        "colab": {
          "base_uri": "https://localhost:8080/"
        },
        "id": "0rRHFoUJM2D6",
        "outputId": "be9c297d-4525-4b52-a2fb-33e5353c005a"
      },
      "execution_count": null,
      "outputs": [
        {
          "output_type": "stream",
          "name": "stdout",
          "text": [
            "The standardized value for the year 2100 is 3.9260895436143093:\n",
            "the prediction for year 2100 in standardized form is [3.79285764] mm/yr\n",
            "the prediction for average sea level rise for the CSIRO data for the year 2100 in standard normal form is 149.93077866691073 mm/yr\n"
          ]
        }
      ]
    },
    {
      "cell_type": "markdown",
      "source": [
        "**What approximations have we made that may or may not be accurate?**"
      ],
      "metadata": {
        "id": "WkeEFiK3JMWT"
      }
    },
    {
      "cell_type": "markdown",
      "source": [
        "The approximations that we have made that have been accurate is determining the linear fit from the CSIRO data including the rate of change which is nearly 50% smaller than the rate of change for the NOAA data for sea level rise [mm/yr] whereas the rate of change for the NOAA data which has a temporal variation of only 30 years under study has a much greater rate of change. I claim that the rate of change and estimating this approximation for the CSIRO data is more accurate and reliable in its estimates due to the larger temporal variation understudy which has allowed the model to greater learn the parameters and make a more accurate prediction of roughly 1.52 mm/yr sea level rise over time (although both datasets have a farily high n). On the other hand, the rate of change for the NOAA data for sea level rise is roughly 3.02 mm/yr and this approximation/estimate may not be entirely accurate given that the model is learning the parameters from such a short period (30 years) understudy although still a lot of n. With that said -- our predictions for average sea level rise mm/yr is drastically different when forecasting out to year 2100. For instance, the NOAA data predicts sea level rise of roughly 298 mm/yr while the CSIRO data predicts sea level rise of roughly 149 mm/yr -- which again makes intuitive sense given that we know the rate of change for CSIRO is half that for NOAA -- so it makes intutive sense that the average sea level rise mm/yr for CSIRO is also nearly half that of NOAA data. Thus, both of these approximations are accurate in terms of sea-level rise data with what the model learned from its parameters -- but overall, I argue that the CSIRO data is a better and more accurate measure given that it is pulling from a larger time period under study. This is also a good thing for the climate and sea level rise as it suggests sea level rise when taking in data that spans back hundreds of years -- may not be rising all that rapidly -- still quick -- but not as a rapid of a rate when we only have the 30 most recent years under study. "
      ],
      "metadata": {
        "id": "fkFszO6IjG4V"
      }
    },
    {
      "cell_type": "markdown",
      "metadata": {
        "id": "84bGnQmV5GCy"
      },
      "source": [
        "### **PART 6 - EXTRA CREDIT**\n",
        "\n",
        "<b>Perform a linear regression on each 30 year interval in the CSIRO data starting from 1880 (i.e, 1880-1910, 1881-1911, 1882-1912, etc).  Make a plot of the slope that is fit for each interval as a function of time.  What are the implications of this plot?</b>\n"
      ]
    },
    {
      "cell_type": "markdown",
      "metadata": {
        "id": "_2wFa1XP12fh"
      },
      "source": [
        "TEXT FOR ANSWER HERE"
      ]
    }
  ]
}